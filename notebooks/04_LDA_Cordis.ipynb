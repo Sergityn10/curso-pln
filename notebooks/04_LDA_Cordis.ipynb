{
  "nbformat": 4,
  "nbformat_minor": 0,
  "metadata": {
    "colab": {
      "provenance": [],
      "authorship_tag": "ABX9TyM2DmNWHOBim1ckpaXEXy7Y",
      "include_colab_link": true
    },
    "kernelspec": {
      "name": "python3",
      "display_name": "Python 3"
    },
    "language_info": {
      "name": "python"
    }
  },
  "cells": [
    {
      "cell_type": "markdown",
      "metadata": {
        "id": "view-in-github",
        "colab_type": "text"
      },
      "source": [
        "<a href=\"https://colab.research.google.com/github/cbadenes/curso-pln/blob/main/notebooks/04_LDA_Cordis.ipynb\" target=\"_parent\"><img src=\"https://colab.research.google.com/assets/colab-badge.svg\" alt=\"Open In Colab\"/></a>"
      ]
    },
    {
      "cell_type": "markdown",
      "source": [
        "# Modelado de Tópicos con LDA (Latent Dirichlet Allocation)\n",
        "\n",
        "## ¿Qué es LDA?\n",
        "LDA es una técnica de modelado probabilístico que nos permite descubrir \"temas\" o \"tópicos\" ocultos en una colección de documentos.\n",
        "Cada documento se considera una mezcla de varios tópicos, y cada tópico es una distribución sobre palabras.\n",
        "\n",
        "## ¿Para qué sirve?\n",
        "- Descubrir temas subyacentes en grandes colecciones de textos\n",
        "- Clasificar documentos automáticamente\n",
        "- Recomendar contenidos similares\n",
        "- Analizar tendencias en documentos\n",
        "\n",
        "## En este notebook aprenderemos:\n",
        "1. Preparar y cargar datos textuales\n",
        "2. Preprocesar texto para LDA\n",
        "3. Entrenar un modelo LDA\n",
        "4. Interpretar y evaluar los resultados\n",
        "\n",
        "## Dataset:\n",
        "Usaremos una [colección de resúmenes de proyectos europeos](https://docs.google.com/spreadsheets/d/1up1Q9RcWhqQYkeM7b0SiToDJaMYzoSQeG-vfA3wY57s/edit?gid=0#gid=0) extraídos de [CORDIS](https://cordis.europa.eu/projects/en) como ejemplo.\n",
        "\"\"\""
      ],
      "metadata": {
        "id": "1NMom7R_IDJ3"
      }
    },
    {
      "cell_type": "markdown",
      "source": [
        "# 1) Importaciones y configuración inicial"
      ],
      "metadata": {
        "id": "kcBEMXY7HOCG"
      }
    },
    {
      "cell_type": "code",
      "execution_count": 1,
      "metadata": {
        "colab": {
          "base_uri": "https://localhost:8080/"
        },
        "id": "GcNFwFk3HIZe",
        "outputId": "b34dee07-ad08-45eb-cfd1-69d44d3759e3"
      },
      "outputs": [
        {
          "output_type": "stream",
          "name": "stdout",
          "text": [
            "Requirement already satisfied: pyLDAvis==2.1.2 in /usr/local/lib/python3.10/dist-packages (2.1.2)\n",
            "Requirement already satisfied: wheel>=0.23.0 in /usr/local/lib/python3.10/dist-packages (from pyLDAvis==2.1.2) (0.45.1)\n",
            "Requirement already satisfied: numpy>=1.9.2 in /usr/local/lib/python3.10/dist-packages (from pyLDAvis==2.1.2) (1.26.4)\n",
            "Requirement already satisfied: scipy>=0.18.0 in /usr/local/lib/python3.10/dist-packages (from pyLDAvis==2.1.2) (1.13.1)\n",
            "Requirement already satisfied: pandas>=0.17.0 in /usr/local/lib/python3.10/dist-packages (from pyLDAvis==2.1.2) (2.2.2)\n",
            "Requirement already satisfied: joblib>=0.8.4 in /usr/local/lib/python3.10/dist-packages (from pyLDAvis==2.1.2) (1.4.2)\n",
            "Requirement already satisfied: jinja2>=2.7.2 in /usr/local/lib/python3.10/dist-packages (from pyLDAvis==2.1.2) (3.1.4)\n",
            "Requirement already satisfied: numexpr in /usr/local/lib/python3.10/dist-packages (from pyLDAvis==2.1.2) (2.10.2)\n",
            "Requirement already satisfied: pytest in /usr/local/lib/python3.10/dist-packages (from pyLDAvis==2.1.2) (8.3.4)\n",
            "Requirement already satisfied: future in /usr/local/lib/python3.10/dist-packages (from pyLDAvis==2.1.2) (1.0.0)\n",
            "Requirement already satisfied: funcy in /usr/local/lib/python3.10/dist-packages (from pyLDAvis==2.1.2) (2.0)\n",
            "Requirement already satisfied: MarkupSafe>=2.0 in /usr/local/lib/python3.10/dist-packages (from jinja2>=2.7.2->pyLDAvis==2.1.2) (3.0.2)\n",
            "Requirement already satisfied: python-dateutil>=2.8.2 in /usr/local/lib/python3.10/dist-packages (from pandas>=0.17.0->pyLDAvis==2.1.2) (2.8.2)\n",
            "Requirement already satisfied: pytz>=2020.1 in /usr/local/lib/python3.10/dist-packages (from pandas>=0.17.0->pyLDAvis==2.1.2) (2024.2)\n",
            "Requirement already satisfied: tzdata>=2022.7 in /usr/local/lib/python3.10/dist-packages (from pandas>=0.17.0->pyLDAvis==2.1.2) (2024.2)\n",
            "Requirement already satisfied: exceptiongroup>=1.0.0rc8 in /usr/local/lib/python3.10/dist-packages (from pytest->pyLDAvis==2.1.2) (1.2.2)\n",
            "Requirement already satisfied: iniconfig in /usr/local/lib/python3.10/dist-packages (from pytest->pyLDAvis==2.1.2) (2.0.0)\n",
            "Requirement already satisfied: packaging in /usr/local/lib/python3.10/dist-packages (from pytest->pyLDAvis==2.1.2) (24.2)\n",
            "Requirement already satisfied: pluggy<2,>=1.5 in /usr/local/lib/python3.10/dist-packages (from pytest->pyLDAvis==2.1.2) (1.5.0)\n",
            "Requirement already satisfied: tomli>=1 in /usr/local/lib/python3.10/dist-packages (from pytest->pyLDAvis==2.1.2) (2.2.1)\n",
            "Requirement already satisfied: six>=1.5 in /usr/local/lib/python3.10/dist-packages (from python-dateutil>=2.8.2->pandas>=0.17.0->pyLDAvis==2.1.2) (1.17.0)\n"
          ]
        }
      ],
      "source": [
        "# Instalamos las bibliotecas necesarias\n",
        "!pip install --upgrade -q gspread\n",
        "!pip install --upgrade -q google-auth-oauthlib\n",
        "\n",
        "# Instalamos las versiones específicas necesarias\n",
        "!pip install pyLDAvis==2.1.2\n",
        "\n",
        "# Reiniciamos el runtime de Colab para asegurar que los cambios surtan efecto\n",
        "#import IPython\n",
        "#IPython.Application.instance().kernel.do_shutdown(True)"
      ]
    },
    {
      "cell_type": "code",
      "source": [
        "# Importamos las bibliotecas que usaremos\n",
        "from sklearn.feature_extraction.text import CountVectorizer  # Para crear bag-of-words\n",
        "from sklearn.decomposition import LatentDirichletAllocation  # Para el modelo LDA\n",
        "import numpy as np  # Para operaciones numéricas\n",
        "import pandas as pd  # Para manipular datos tabulares\n",
        "import warnings\n",
        "warnings.filterwarnings('ignore')  # Suprimimos warnings para mayor claridad\n",
        "\n",
        "# Configuramos la visualización de DataFrames en Colab\n",
        "from google.colab import data_table\n",
        "data_table.enable_dataframe_formatter()\n",
        "\n",
        "print(\"Bibliotecas cargadas correctamente\")"
      ],
      "metadata": {
        "colab": {
          "base_uri": "https://localhost:8080/"
        },
        "id": "WcUa1IklNFF3",
        "outputId": "76111929-ba44-477b-f637-4435daa4d4cc"
      },
      "execution_count": 2,
      "outputs": [
        {
          "output_type": "stream",
          "name": "stdout",
          "text": [
            "Bibliotecas cargadas correctamente\n"
          ]
        }
      ]
    },
    {
      "cell_type": "markdown",
      "source": [
        "# 2) Autenticación y carga de datos\n",
        "\n",
        "Para acceder a los datos, seguiremos estos pasos:\n",
        "\n",
        "1. Crear una hoja de cálculo en Google Drive:\n",
        "   - Nombre: 'texts'\n",
        "   - Columnas: ID, TITLE, DESCRIPTION\n",
        "   - Primera fila: encabezados\n",
        "   - Filas siguientes: datos de ejemplo\n",
        "   \n",
        "2. Compartir la hoja:\n",
        "   - Clic en 'Compartir' en Google Sheets\n",
        "   - Configurar como \"Cualquier persona con el enlace puede editar\"\n",
        "   \n",
        "3. Autenticarnos con Google:"
      ],
      "metadata": {
        "id": "ppp1n6zmHSON"
      }
    },
    {
      "cell_type": "code",
      "source": [
        "from google.colab import auth\n",
        "auth.authenticate_user()\n",
        "\n",
        "import gspread\n",
        "from google.auth import default\n",
        "creds, _ = default()\n",
        "\n",
        "gc = gspread.authorize(creds)\n",
        "\n",
        "# Nombre de la hoja de cálculo (crear en Drive con texto de ejemplo)\n",
        "corpus = 'texts' # texts_nlp\n",
        "worksheet = gc.open(corpus).sheet1\n",
        "\n",
        "# Cargar datos a DataFrame\n",
        "rows = worksheet.get_all_values()\n",
        "dataset_df = pd.DataFrame.from_records(rows[1:], columns=[\"ID\",\"TITLE\",\"DESCRIPTION\"])\n",
        "\n",
        "print(f\"Datos cargados exitosamente:\")\n",
        "print(f\"- Número de documentos: {len(dataset_df)}\")\n",
        "print(f\"- Columnas disponibles: {', '.join(dataset_df.columns)}\")\n",
        "\n",
        "# Mostrar los primeros documentos\n",
        "print(\"\\nPrimeros documentos:\")\n",
        "data_table.DataTable(dataset_df.head(), include_index=False, num_rows_per_page=5)\n"
      ],
      "metadata": {
        "colab": {
          "base_uri": "https://localhost:8080/",
          "height": 920
        },
        "id": "gBB603b0HUzt",
        "outputId": "6719553e-8da6-43b9-df9a-284757e4e848"
      },
      "execution_count": 14,
      "outputs": [
        {
          "output_type": "stream",
          "name": "stderr",
          "text": [
            "/usr/local/lib/python3.10/dist-packages/ipykernel/ipkernel.py:283: DeprecationWarning: `should_run_async` will not call `transform_cell` automatically in the future. Please pass the result to `transformed_cell` argument and any exception that happen during thetransform in `preprocessing_exc_tuple` in IPython 7.17 and above.\n",
            "  and should_run_async(code)\n"
          ]
        },
        {
          "output_type": "stream",
          "name": "stdout",
          "text": [
            "Datos cargados exitosamente:\n",
            "- Número de documentos: 100\n",
            "- Columnas disponibles: ID, TITLE, DESCRIPTION\n",
            "\n",
            "Primeros documentos:\n"
          ]
        },
        {
          "output_type": "execute_result",
          "data": {
            "text/html": [
              "<div>\n",
              "<style scoped>\n",
              "    .dataframe tbody tr th:only-of-type {\n",
              "        vertical-align: middle;\n",
              "    }\n",
              "\n",
              "    .dataframe tbody tr th {\n",
              "        vertical-align: top;\n",
              "    }\n",
              "\n",
              "    .dataframe thead th {\n",
              "        text-align: right;\n",
              "    }\n",
              "</style>\n",
              "<table border=\"1\" class=\"dataframe\">\n",
              "  <thead>\n",
              "    <tr style=\"text-align: right;\">\n",
              "      <th></th>\n",
              "      <th>ID</th>\n",
              "      <th>TITLE</th>\n",
              "      <th>DESCRIPTION</th>\n",
              "    </tr>\n",
              "  </thead>\n",
              "  <tbody>\n",
              "    <tr>\n",
              "      <th>0</th>\n",
              "      <td>EU100000</td>\n",
              "      <td>Visual object population codes  relating human...</td>\n",
              "      <td>Two major challenges facing systems neuroscien...</td>\n",
              "    </tr>\n",
              "    <tr>\n",
              "      <th>1</th>\n",
              "      <td>EU100001</td>\n",
              "      <td>New Opportunities for Research Funding Agency ...</td>\n",
              "      <td>NORFACE is a co-ordinated common action of fif...</td>\n",
              "    </tr>\n",
              "    <tr>\n",
              "      <th>2</th>\n",
              "      <td>EU100002</td>\n",
              "      <td>USA and Europe Cooperation in Mini UAVs</td>\n",
              "      <td>Unmanned Aerial Systems have been an active ar...</td>\n",
              "    </tr>\n",
              "    <tr>\n",
              "      <th>3</th>\n",
              "      <td>EU100003</td>\n",
              "      <td>Sustainable Infrastructure for Resilient Urban...</td>\n",
              "      <td>This fellowship aim is to identify how the use...</td>\n",
              "    </tr>\n",
              "    <tr>\n",
              "      <th>4</th>\n",
              "      <td>EU100004</td>\n",
              "      <td>Modelling star formation in the local universe</td>\n",
              "      <td>The goal of this proposal is to revolutionize ...</td>\n",
              "    </tr>\n",
              "  </tbody>\n",
              "</table>\n",
              "</div>"
            ],
            "application/vnd.google.colaboratory.module+javascript": "\n      import \"https://ssl.gstatic.com/colaboratory/data_table/e523c247d1e24a05/data_table.js\";\n\n      const table = window.createDataTable({\n        data: [[\"EU100000\",\n\"Visual object population codes  relating human brains to nonhuman and computational models with representational similarity analysis\",\n\"Two major challenges facing systems neuroscience today are (1) to relate computational brain theory with its notions of parallel computation and population-code representation to massively multivariate spatiotemporal brain-activity data as acquired with functional magnetic resonance imaging (fMRI) and cell recording and (2) to relate brain representations in animal models (e.g. nonhuman primates) to human brain representations. This project tackles these challenges with a focus on visual object recognition in human and nonhuman primates. Object recognition is a still poorly understood key problem of computational neuroscience with implications for cortical computation in general. We will test computational models and relate representational content of population codes between human and nonhuman primates by means of a novel multivariate technique called representational similarity analysis (RSA). The core idea of RSA is to characterize a given brain representation by a dissimilarity matrix of stimulus-evoked activity patterns and to visualize and statistically compare such dissimilarity matrices. In contrast to existing approaches, computational models here form an integral component of the analysis of brain-activity data. We will match up representationally homologous regions between human and nonhuman primate and determine which computational models best explain the empirical data (from human and nonhuman primate fMRI) for each brain region. Moreover this project will further develop the technique of RSA and provide an easy-to-use and freely available Matlab toolbox to the community. By richly relating brain theory to data and human to nonhuman primate studies, this project bridges major divides and will contribute to a more integrated systems neuroscience.\"],\n [\"EU100001\",\n\"New Opportunities for Research Funding Agency Co-operation in Europe II\",\n\"NORFACE is a co-ordinated common action of fifteen national research funding agencies. NORFACE stands for New Opportunities for Research Funding Agency Co-operation in Europe. The ERA-NET NORFACE Co-ordination Action started in January 2004 and has developed a close partnership and network of European national agencies responsible for funding research in the social sciences. The NORFACE Co-ordination Action formally ended in September 2009. The NORFACE-SA Partners together provide the capacity for significant levels of co-operation and exchange. They are committed to an ambitious programme of communication, enquiry, sharing of experience and action.The central Work package of the current proposal, Work package 1, is on Joint Research and Related Activities and Initiatives. This will involve the scoping and identifying of the multidisciplinary research needs with a view to developing joint research and related initiatives.Work package 2, Exploiting Data  Infrastructure in the Social Sciences, forms an important part of the proposal. In many European countries initiatives are taken to improve the infrastructure for research in the social sciences. By discussing national and international strategic initiatives, developing mechanisms to exploit data, and by co-ordinating a joint approach, NORFACE can have a contribution to the development of a European data infrastructure for the social sciences.The proposed ERA-NET NORFACE-II Support Action aims at further deepening and strengthening the established trans-national co-operation based on the experience gained and the existing co-operation structures, but also broadening the network activities and the EU impact, in order to successfully prepare a new ERA-NET Co-ordination Action and/or ERA-NET Plus.\"],\n [\"EU100002\",\n\"USA and Europe Cooperation in Mini UAVs\",\n\"Unmanned Aerial Systems have been an active area of research in recent years all around the world. Top research centres in the word are working on new applications, improving previous ones, solving specific problems in the different areas. Each centre has taken a special area of the whole field into focus and they are taking specialization on it. It makes a huge scattered network of knowledge.The project that we present here is an attempt to connect some relevant nodes of this network putting in contact 4 leading research centres whit experience in different fields connected and complementary, but not superposed. Thus, the opportunities and strength of each partner will be increased.The members of the consortium are:\\u2022 The ASU (Arizona State University)  Robotics Laboratory (http://robotics.asu.edu ) has significant experience in designing, building and deploying aerial and aquatic mobile robot systems. The present inventory of robots includes multiple fixed wing, rotary aerial vehicles and autonomous underwater vehicles with varied capabilities in sensing and actuation.\\u2022 The Link\\u00f6ping University, Artificial Intelligence & Integrated Computer Systems Division (http://www.ida.liu.se/~patdo/aiicssite1 ), contributes with his experience in quadrotor systems for indoor and outdoor, visual navigation and with Software Architectures for micro-uavs.\\u2022 The Universidad Polit\\u00e9cnica Madrid, Computer Vision Group (www.disam.upm.es/colibri ), contributes with his experience in visual guidance and visual control for rotatory UAVs.All the above makes a great opportunity to share knowledge, expertise, work-styles, etc. different operative test beds, laboratories and R&D leading technology facilities and no less importance, cultural aspects.\"],\n [\"EU100003\",\n\"Sustainable Infrastructure for Resilient Urban Environments\",\n\"This fellowship aim is to identify how the use of underground space and its physical infrastructure (PI) influence, interact with and impact on sustainability, vulnerability and resilience of urban areas, both now and in the future. Three case study cities (Berlin, London, Saint Petersburg) will serve as a basis for analysis of present and future interaction of Urban Underground Infrastructure (UUI) with the urban environment.Analysis of the present UUI role in the city is based on previous research results of Dr. Bobylev, including environmental assessment of underground structures and comparative analysis of UUI using urban sustainability indicators. The team at the University of Birmingham provides background for analysis of development scenarios (partly as a result of the current involvement in the Urban Futures project).Research methodology will employ Multiple Criteria Decision Analysis and Geographical Information Systems tools. Main work packages include collection of data on UUI (and other PI where needed), presenting this data in the form of quantitative indicators (e.g. volume, energy loss in network); analysis of UUI against sustainability and land use indicators; modeling indicator performance in future scenarios, developing policy recommendations for UUI planning and adaptation. It is important that feedback (in the form of expert interviews) of the case study cities relevant authorities will be integrated into policy recommendations developed during the fellowship.Dr. Bobylev is a pioneering researcher in the area of PI sustainability quantitative analysis and this fellowship will allow him to develop this idea further in a team of world leading experts on UUI.'\"],\n [\"EU100004\",\n\"Modelling star formation in the local universe\",\n\"The goal of this proposal is to revolutionize our understanding of star formation in nearby galaxies, using numerical simulations. Traditionally, research in star formation has considered the contraction of a giant molecular cloud (GMC), or more commonly a star forming core, under gravity. However there has been relatively little research on molecular clouds themselves, even though they provide the initial conditions for star formation, and thus determine the main assumptions for theories of star formation. The proposed research will focus on the scales of giant molecular clouds, the clouds of molecular hydrogen (H2) where most star formation takes place in nearby galaxies. These objects link galactic scale physics with the small scale physics of star formation. Only now are the computational resources becoming available to study the interstellar medium (ISM) numerically on galactic scales, and model the complex processes involved in GMC and star formation. Simultaneously observational programs (e.g. ALMA, Herschel, CARMA) are starting to resolve GMCs in nearby galaxies. Our research will involve performing calculations on scales from individual GMCs to interacting galaxies, and comparing to forthcoming observations to answer some of the most fundamental questions in star formation, such as why star formation is inefficient, how do GMCs form and what are their lifetimes.\"]],\n        columns: [[\"string\", \"ID\"], [\"string\", \"TITLE\"], [\"string\", \"DESCRIPTION\"]],\n        columnOptions: [],\n        rowsPerPage: 5,\n        helpUrl: \"https://colab.research.google.com/notebooks/data_table.ipynb\",\n        suppressOutputScrolling: true,\n        minimumWidth: undefined,\n      });\n\n      function appendQuickchartButton(parentElement) {\n        let quickchartButtonContainerElement = document.createElement('div');\n        quickchartButtonContainerElement.innerHTML = `\n<div id=\"df-e8c1ce40-39fb-4f7c-a341-de0b715fa521\">\n  <button class=\"colab-df-quickchart\" onclick=\"quickchart('df-e8c1ce40-39fb-4f7c-a341-de0b715fa521')\"\n            title=\"Suggest charts\"\n            style=\"display:none;\">\n    \n<svg xmlns=\"http://www.w3.org/2000/svg\" height=\"24px\"viewBox=\"0 0 24 24\"\n     width=\"24px\">\n    <g>\n        <path d=\"M19 3H5c-1.1 0-2 .9-2 2v14c0 1.1.9 2 2 2h14c1.1 0 2-.9 2-2V5c0-1.1-.9-2-2-2zM9 17H7v-7h2v7zm4 0h-2V7h2v10zm4 0h-2v-4h2v4z\"/>\n    </g>\n</svg>\n  </button>\n  \n<style>\n  .colab-df-quickchart {\n      --bg-color: #E8F0FE;\n      --fill-color: #1967D2;\n      --hover-bg-color: #E2EBFA;\n      --hover-fill-color: #174EA6;\n      --disabled-fill-color: #AAA;\n      --disabled-bg-color: #DDD;\n  }\n\n  [theme=dark] .colab-df-quickchart {\n      --bg-color: #3B4455;\n      --fill-color: #D2E3FC;\n      --hover-bg-color: #434B5C;\n      --hover-fill-color: #FFFFFF;\n      --disabled-bg-color: #3B4455;\n      --disabled-fill-color: #666;\n  }\n\n  .colab-df-quickchart {\n    background-color: var(--bg-color);\n    border: none;\n    border-radius: 50%;\n    cursor: pointer;\n    display: none;\n    fill: var(--fill-color);\n    height: 32px;\n    padding: 0;\n    width: 32px;\n  }\n\n  .colab-df-quickchart:hover {\n    background-color: var(--hover-bg-color);\n    box-shadow: 0 1px 2px rgba(60, 64, 67, 0.3), 0 1px 3px 1px rgba(60, 64, 67, 0.15);\n    fill: var(--button-hover-fill-color);\n  }\n\n  .colab-df-quickchart-complete:disabled,\n  .colab-df-quickchart-complete:disabled:hover {\n    background-color: var(--disabled-bg-color);\n    fill: var(--disabled-fill-color);\n    box-shadow: none;\n  }\n\n  .colab-df-spinner {\n    border: 2px solid var(--fill-color);\n    border-color: transparent;\n    border-bottom-color: var(--fill-color);\n    animation:\n      spin 1s steps(1) infinite;\n  }\n\n  @keyframes spin {\n    0% {\n      border-color: transparent;\n      border-bottom-color: var(--fill-color);\n      border-left-color: var(--fill-color);\n    }\n    20% {\n      border-color: transparent;\n      border-left-color: var(--fill-color);\n      border-top-color: var(--fill-color);\n    }\n    30% {\n      border-color: transparent;\n      border-left-color: var(--fill-color);\n      border-top-color: var(--fill-color);\n      border-right-color: var(--fill-color);\n    }\n    40% {\n      border-color: transparent;\n      border-right-color: var(--fill-color);\n      border-top-color: var(--fill-color);\n    }\n    60% {\n      border-color: transparent;\n      border-right-color: var(--fill-color);\n    }\n    80% {\n      border-color: transparent;\n      border-right-color: var(--fill-color);\n      border-bottom-color: var(--fill-color);\n    }\n    90% {\n      border-color: transparent;\n      border-bottom-color: var(--fill-color);\n    }\n  }\n</style>\n\n  <script>\n    async function quickchart(key) {\n      const quickchartButtonEl =\n        document.querySelector('#' + key + ' button');\n      quickchartButtonEl.disabled = true;  // To prevent multiple clicks.\n      quickchartButtonEl.classList.add('colab-df-spinner');\n      try {\n        const charts = await google.colab.kernel.invokeFunction(\n            'suggestCharts', [key], {});\n      } catch (error) {\n        console.error('Error during call to suggestCharts:', error);\n      }\n      quickchartButtonEl.classList.remove('colab-df-spinner');\n      quickchartButtonEl.classList.add('colab-df-quickchart-complete');\n    }\n    (() => {\n      let quickchartButtonEl =\n        document.querySelector('#df-e8c1ce40-39fb-4f7c-a341-de0b715fa521 button');\n      quickchartButtonEl.style.display =\n        google.colab.kernel.accessAllowed ? 'block' : 'none';\n    })();\n  </script>\n</div>`;\n        parentElement.appendChild(quickchartButtonContainerElement);\n      }\n\n      appendQuickchartButton(table);\n    ",
            "text/plain": [
              "<google.colab.data_table.DataTable object>"
            ]
          },
          "metadata": {},
          "execution_count": 14
        }
      ]
    },
    {
      "cell_type": "markdown",
      "source": [
        "# 3) Procesamiento inicial\n",
        "\n",
        "Para aplicar LDA, necesitamos convertir nuestros textos en una representación numérica.\n",
        "Usaremos Bag of Words (BoW), que:\n",
        "1. Crea un vocabulario con todas las palabras únicas\n",
        "2. Representa cada documento como un vector de frecuencias de palabras\n",
        "\n",
        "Parámetros importantes del vectorizador:\n",
        "- stop_words: palabras comunes a ignorar\n",
        "- min_df: frecuencia mínima de documento para incluir una palabra\n",
        "- max_df: frecuencia máxima de documento para incluir una palabra\n",
        "- lowercase: convertir todo a minúsculas\n",
        "- token_pattern: patrón para identificar palabras válidas"
      ],
      "metadata": {
        "id": "pMRVp7j_HfUF"
      }
    },
    {
      "cell_type": "code",
      "source": [
        "# Lista de textos a procesar\n",
        "documents = dataset_df['DESCRIPTION'].tolist()\n",
        "\n",
        "# Configurar y crear el vectorizador\n",
        "tf_vectorizer = CountVectorizer(\n",
        "    stop_words=[],  # No eliminamos stopwords por ahora []\n",
        "    min_df=1,      # Incluir palabras que aparecen al menos 1 vez\n",
        "    max_df=1.0,    # Sin límite superior de frecuencia\n",
        "    lowercase=True, # Convertir todo a minúsculas\n",
        "    max_features=50000,  # Máximo número de palabras a considerar\n",
        "    token_pattern='[a-zA-Z0-9]{3,}',  # Palabras de 3+ caracteres\n",
        "    analyzer = 'word'\n",
        ")\n",
        "\n",
        "# Crear la matriz de documentos-términos\n",
        "bag_of_words = tf_vectorizer.fit_transform(documents)\n",
        "\n",
        "# Obtener el vocabulario\n",
        "dictionary = tf_vectorizer.get_feature_names_out()\n",
        "vocabulary = tf_vectorizer.vocabulary_\n",
        "\n",
        "print(\"Estadísticas del preprocesamiento:\")\n",
        "print(f\"- Tamaño del vocabulario: {len(dictionary)} palabras únicas\")\n",
        "print(f\"- Dimensiones de la matriz: {bag_of_words.shape}\")\n",
        "\n",
        "# Mostrar las palabras más frecuentes\n",
        "word_freq = bag_of_words.sum(axis=0).A1\n",
        "top_words_idx = word_freq.argsort()[-10:][::-1]\n",
        "print(\"\\nPalabras más frecuentes:\")\n",
        "for idx in top_words_idx:\n",
        "    print(f\"- {dictionary[idx]}: {word_freq[idx]} apariciones\")"
      ],
      "metadata": {
        "colab": {
          "base_uri": "https://localhost:8080/"
        },
        "id": "tu0V2j03HgRH",
        "outputId": "7dbd320d-f2e1-48f8-d6c6-0a7999464935"
      },
      "execution_count": 15,
      "outputs": [
        {
          "output_type": "stream",
          "name": "stdout",
          "text": [
            "Estadísticas del preprocesamiento:\n",
            "- Tamaño del vocabulario: 4530 palabras únicas\n",
            "- Dimensiones de la matriz: (100, 4530)\n",
            "\n",
            "Palabras más frecuentes:\n",
            "- the: 1663 apariciones\n",
            "- and: 1204 apariciones\n",
            "- will: 379 apariciones\n",
            "- for: 332 apariciones\n",
            "- this: 191 apariciones\n",
            "- that: 169 apariciones\n",
            "- with: 166 apariciones\n",
            "- research: 149 apariciones\n",
            "- are: 149 apariciones\n",
            "- project: 115 apariciones\n"
          ]
        },
        {
          "output_type": "stream",
          "name": "stderr",
          "text": [
            "/usr/local/lib/python3.10/dist-packages/ipykernel/ipkernel.py:283: DeprecationWarning: `should_run_async` will not call `transform_cell` automatically in the future. Please pass the result to `transformed_cell` argument and any exception that happen during thetransform in `preprocessing_exc_tuple` in IPython 7.17 and above.\n",
            "  and should_run_async(code)\n"
          ]
        }
      ]
    },
    {
      "cell_type": "markdown",
      "source": [
        "# 4) Entrenamiento LDA\n",
        "\n",
        "El algoritmo LDA tiene varios hiperparámetros importantes:\n",
        "\n",
        "1. n_topics: Número de tópicos a encontrar\n",
        "   - Debe elegirse según el conocimiento del dominio\n",
        "   - Se puede optimizar usando métricas como coherencia o perplejidad\n",
        "\n",
        "2. alpha: Prior de la distribución documentos-tópicos\n",
        "   - alpha < 1: documentos se concentran en pocos tópicos\n",
        "   - alpha > 1: documentos mezclan varios tópicos\n",
        "   - alpha = 1: distribución uniforme\n",
        "\n",
        "3. beta: Prior de la distribución tópicos-palabras\n",
        "   - beta < 1: tópicos más específicos (pocas palabras)\n",
        "   - beta > 1: tópicos más generales (muchas palabras)\n",
        "   - beta = 1: distribución uniforme\n",
        "\n",
        "Probaremos primero con valores conservadores:"
      ],
      "metadata": {
        "id": "d4gEw9q1Hjox"
      }
    },
    {
      "cell_type": "code",
      "source": [
        "# Parámetros del modelo\n",
        "n_topics = 2    # Número moderado de tópicos para empezar\n",
        "alpha = 1.0     # Documentos algo especializados\n",
        "beta = 0.1     # Tópicos bastante específicos\n",
        "\n",
        "# Crear y entrenar el modelo\n",
        "print(\"Configuración del modelo LDA:\")\n",
        "print(f\"- Número de tópicos: {n_topics}\")\n",
        "print(f\"- Alpha: {alpha}\")\n",
        "print(f\"- Beta: {beta}\")\n",
        "print(\"\\nIniciando entrenamiento...\\n\")\n",
        "\n",
        "lda = LatentDirichletAllocation(\n",
        "    n_components=n_topics,      # Número de tópicos\n",
        "    doc_topic_prior=alpha,      # Prior documentos-tópicos\n",
        "    topic_word_prior=beta,      # Prior tópicos-palabras\n",
        "    max_iter=25,               # Máximo de iteraciones\n",
        "    learning_method='online',   # Método de aprendizaje\n",
        "    evaluate_every=1,          # Evaluar en cada iteración\n",
        "    n_jobs=-1,                # Usar todos los cores\n",
        "    random_state=0,           # Semilla para reproducibilidad\n",
        "    verbose=1                 # Mostrar progreso\n",
        ")\n",
        "\n",
        "# Entrenar el modelo\n",
        "lda.fit(bag_of_words)"
      ],
      "metadata": {
        "colab": {
          "base_uri": "https://localhost:8080/",
          "height": 754
        },
        "id": "FD5kN6f6Hkrv",
        "outputId": "4fd49ca6-e6b4-4b2d-f795-5d2cb676fe21"
      },
      "execution_count": 16,
      "outputs": [
        {
          "output_type": "stream",
          "name": "stdout",
          "text": [
            "Configuración del modelo LDA:\n",
            "- Número de tópicos: 2\n",
            "- Alpha: 1.0\n",
            "- Beta: 0.1\n",
            "\n",
            "Iniciando entrenamiento...\n",
            "\n"
          ]
        },
        {
          "output_type": "stream",
          "name": "stderr",
          "text": [
            "/usr/local/lib/python3.10/dist-packages/ipykernel/ipkernel.py:283: DeprecationWarning: `should_run_async` will not call `transform_cell` automatically in the future. Please pass the result to `transformed_cell` argument and any exception that happen during thetransform in `preprocessing_exc_tuple` in IPython 7.17 and above.\n",
            "  and should_run_async(code)\n"
          ]
        },
        {
          "output_type": "stream",
          "name": "stdout",
          "text": [
            "iteration: 1 of max_iter: 25, perplexity: 2936.7239\n",
            "iteration: 2 of max_iter: 25, perplexity: 2410.5933\n",
            "iteration: 3 of max_iter: 25, perplexity: 2238.5408\n",
            "iteration: 4 of max_iter: 25, perplexity: 2145.6998\n",
            "iteration: 5 of max_iter: 25, perplexity: 2082.7478\n",
            "iteration: 6 of max_iter: 25, perplexity: 2034.8295\n",
            "iteration: 7 of max_iter: 25, perplexity: 1995.9868\n",
            "iteration: 8 of max_iter: 25, perplexity: 1963.3391\n",
            "iteration: 9 of max_iter: 25, perplexity: 1935.2936\n",
            "iteration: 10 of max_iter: 25, perplexity: 1910.8903\n",
            "iteration: 11 of max_iter: 25, perplexity: 1889.5094\n",
            "iteration: 12 of max_iter: 25, perplexity: 1870.7148\n",
            "iteration: 13 of max_iter: 25, perplexity: 1854.1698\n",
            "iteration: 14 of max_iter: 25, perplexity: 1839.5954\n",
            "iteration: 15 of max_iter: 25, perplexity: 1826.7522\n",
            "iteration: 16 of max_iter: 25, perplexity: 1815.4317\n",
            "iteration: 17 of max_iter: 25, perplexity: 1805.4510\n",
            "iteration: 18 of max_iter: 25, perplexity: 1796.6497\n",
            "iteration: 19 of max_iter: 25, perplexity: 1788.8871\n",
            "iteration: 20 of max_iter: 25, perplexity: 1782.0395\n",
            "iteration: 21 of max_iter: 25, perplexity: 1775.9981\n",
            "iteration: 22 of max_iter: 25, perplexity: 1770.6666\n",
            "iteration: 23 of max_iter: 25, perplexity: 1765.9601\n",
            "iteration: 24 of max_iter: 25, perplexity: 1761.8038\n",
            "iteration: 25 of max_iter: 25, perplexity: 1758.1320\n"
          ]
        },
        {
          "output_type": "execute_result",
          "data": {
            "text/plain": [
              "LatentDirichletAllocation(doc_topic_prior=1.0, evaluate_every=1,\n",
              "                          learning_method='online', max_iter=25, n_components=2,\n",
              "                          n_jobs=-1, random_state=0, topic_word_prior=0.1,\n",
              "                          verbose=1)"
            ],
            "text/html": [
              "<style>#sk-container-id-2 {color: black;background-color: white;}#sk-container-id-2 pre{padding: 0;}#sk-container-id-2 div.sk-toggleable {background-color: white;}#sk-container-id-2 label.sk-toggleable__label {cursor: pointer;display: block;width: 100%;margin-bottom: 0;padding: 0.3em;box-sizing: border-box;text-align: center;}#sk-container-id-2 label.sk-toggleable__label-arrow:before {content: \"▸\";float: left;margin-right: 0.25em;color: #696969;}#sk-container-id-2 label.sk-toggleable__label-arrow:hover:before {color: black;}#sk-container-id-2 div.sk-estimator:hover label.sk-toggleable__label-arrow:before {color: black;}#sk-container-id-2 div.sk-toggleable__content {max-height: 0;max-width: 0;overflow: hidden;text-align: left;background-color: #f0f8ff;}#sk-container-id-2 div.sk-toggleable__content pre {margin: 0.2em;color: black;border-radius: 0.25em;background-color: #f0f8ff;}#sk-container-id-2 input.sk-toggleable__control:checked~div.sk-toggleable__content {max-height: 200px;max-width: 100%;overflow: auto;}#sk-container-id-2 input.sk-toggleable__control:checked~label.sk-toggleable__label-arrow:before {content: \"▾\";}#sk-container-id-2 div.sk-estimator input.sk-toggleable__control:checked~label.sk-toggleable__label {background-color: #d4ebff;}#sk-container-id-2 div.sk-label input.sk-toggleable__control:checked~label.sk-toggleable__label {background-color: #d4ebff;}#sk-container-id-2 input.sk-hidden--visually {border: 0;clip: rect(1px 1px 1px 1px);clip: rect(1px, 1px, 1px, 1px);height: 1px;margin: -1px;overflow: hidden;padding: 0;position: absolute;width: 1px;}#sk-container-id-2 div.sk-estimator {font-family: monospace;background-color: #f0f8ff;border: 1px dotted black;border-radius: 0.25em;box-sizing: border-box;margin-bottom: 0.5em;}#sk-container-id-2 div.sk-estimator:hover {background-color: #d4ebff;}#sk-container-id-2 div.sk-parallel-item::after {content: \"\";width: 100%;border-bottom: 1px solid gray;flex-grow: 1;}#sk-container-id-2 div.sk-label:hover label.sk-toggleable__label {background-color: #d4ebff;}#sk-container-id-2 div.sk-serial::before {content: \"\";position: absolute;border-left: 1px solid gray;box-sizing: border-box;top: 0;bottom: 0;left: 50%;z-index: 0;}#sk-container-id-2 div.sk-serial {display: flex;flex-direction: column;align-items: center;background-color: white;padding-right: 0.2em;padding-left: 0.2em;position: relative;}#sk-container-id-2 div.sk-item {position: relative;z-index: 1;}#sk-container-id-2 div.sk-parallel {display: flex;align-items: stretch;justify-content: center;background-color: white;position: relative;}#sk-container-id-2 div.sk-item::before, #sk-container-id-2 div.sk-parallel-item::before {content: \"\";position: absolute;border-left: 1px solid gray;box-sizing: border-box;top: 0;bottom: 0;left: 50%;z-index: -1;}#sk-container-id-2 div.sk-parallel-item {display: flex;flex-direction: column;z-index: 1;position: relative;background-color: white;}#sk-container-id-2 div.sk-parallel-item:first-child::after {align-self: flex-end;width: 50%;}#sk-container-id-2 div.sk-parallel-item:last-child::after {align-self: flex-start;width: 50%;}#sk-container-id-2 div.sk-parallel-item:only-child::after {width: 0;}#sk-container-id-2 div.sk-dashed-wrapped {border: 1px dashed gray;margin: 0 0.4em 0.5em 0.4em;box-sizing: border-box;padding-bottom: 0.4em;background-color: white;}#sk-container-id-2 div.sk-label label {font-family: monospace;font-weight: bold;display: inline-block;line-height: 1.2em;}#sk-container-id-2 div.sk-label-container {text-align: center;}#sk-container-id-2 div.sk-container {/* jupyter's `normalize.less` sets `[hidden] { display: none; }` but bootstrap.min.css set `[hidden] { display: none !important; }` so we also need the `!important` here to be able to override the default hidden behavior on the sphinx rendered scikit-learn.org. See: https://github.com/scikit-learn/scikit-learn/issues/21755 */display: inline-block !important;position: relative;}#sk-container-id-2 div.sk-text-repr-fallback {display: none;}</style><div id=\"sk-container-id-2\" class=\"sk-top-container\"><div class=\"sk-text-repr-fallback\"><pre>LatentDirichletAllocation(doc_topic_prior=1.0, evaluate_every=1,\n",
              "                          learning_method=&#x27;online&#x27;, max_iter=25, n_components=2,\n",
              "                          n_jobs=-1, random_state=0, topic_word_prior=0.1,\n",
              "                          verbose=1)</pre><b>In a Jupyter environment, please rerun this cell to show the HTML representation or trust the notebook. <br />On GitHub, the HTML representation is unable to render, please try loading this page with nbviewer.org.</b></div><div class=\"sk-container\" hidden><div class=\"sk-item\"><div class=\"sk-estimator sk-toggleable\"><input class=\"sk-toggleable__control sk-hidden--visually\" id=\"sk-estimator-id-2\" type=\"checkbox\" checked><label for=\"sk-estimator-id-2\" class=\"sk-toggleable__label sk-toggleable__label-arrow\">LatentDirichletAllocation</label><div class=\"sk-toggleable__content\"><pre>LatentDirichletAllocation(doc_topic_prior=1.0, evaluate_every=1,\n",
              "                          learning_method=&#x27;online&#x27;, max_iter=25, n_components=2,\n",
              "                          n_jobs=-1, random_state=0, topic_word_prior=0.1,\n",
              "                          verbose=1)</pre></div></div></div></div></div>"
            ]
          },
          "metadata": {},
          "execution_count": 16
        }
      ]
    },
    {
      "cell_type": "markdown",
      "source": [
        "# 5) Análisis de Resultados\n",
        "\n",
        "Analizaremos los resultados desde tres perspectivas:\n",
        "\n",
        "1. Palabras más relevantes por tópico\n",
        "2. Documentos más representativos de cada tópico\n",
        "3. Distribución de tópicos en documentos específicos"
      ],
      "metadata": {
        "id": "ooBo6edWHo6-"
      }
    },
    {
      "cell_type": "code",
      "source": [
        "# Configuración de visualización\n",
        "no_top_words = 10      # Número de palabras top por tópico\n",
        "no_top_documents = 2   # Número de documentos top por tópico\n",
        "\n",
        "# Obtener las distribuciones\n",
        "doc_topics = lda.transform(bag_of_words)  # Distribución de tópicos por documento\n",
        "topics = lda.components_                  # Distribución de palabras por tópico\n",
        "\n",
        "# 1. Detallar tópicos encontrados\n",
        "print(\"TÓPICOS DESCUBIERTOS\")\n",
        "print(\"Cada tópico se representa por sus palabras más probables\\n\")\n",
        "\n",
        "for topic_idx, topic in enumerate(topics):\n",
        "    print(f\" Tópico {topic_idx + 1}:\")\n",
        "    # Obtener índices de las palabras más probables\n",
        "    top_words_idx = topic.argsort()[:-no_top_words-1:-1]\n",
        "    top_words = [dictionary[i] for i in top_words_idx]\n",
        "    top_probs = [topic[i] for i in top_words_idx]\n",
        "\n",
        "    # Mostrar palabras y sus probabilidades\n",
        "    for word, prob in zip(top_words, top_probs):\n",
        "        print(f\"   {word}: {prob:.4f}\")\n",
        "    print()"
      ],
      "metadata": {
        "colab": {
          "base_uri": "https://localhost:8080/"
        },
        "id": "HBhhzxwIHppc",
        "outputId": "323c4e25-b4bb-4f55-9afc-0686afa5d2f9"
      },
      "execution_count": 17,
      "outputs": [
        {
          "output_type": "stream",
          "name": "stdout",
          "text": [
            "TÓPICOS DESCUBIERTOS\n",
            "Cada tópico se representa por sus palabras más probables\n",
            "\n",
            " Tópico 1:\n",
            "   the: 1527.7418\n",
            "   and: 1116.5891\n",
            "   will: 341.5355\n",
            "   for: 301.1397\n",
            "   this: 171.0859\n",
            "   that: 158.0021\n",
            "   with: 149.6321\n",
            "   research: 136.1724\n",
            "   are: 132.5021\n",
            "   project: 109.2254\n",
            "\n",
            " Tópico 2:\n",
            "   the: 66.6449\n",
            "   and: 37.8148\n",
            "   will: 22.0437\n",
            "   quantum: 19.6762\n",
            "   for: 17.3809\n",
            "   matter: 15.3585\n",
            "   this: 12.2753\n",
            "   placebo: 10.6347\n",
            "   are: 10.6001\n",
            "   star: 10.3644\n",
            "\n"
          ]
        },
        {
          "output_type": "stream",
          "name": "stderr",
          "text": [
            "/usr/local/lib/python3.10/dist-packages/ipykernel/ipkernel.py:283: DeprecationWarning: `should_run_async` will not call `transform_cell` automatically in the future. Please pass the result to `transformed_cell` argument and any exception that happen during thetransform in `preprocessing_exc_tuple` in IPython 7.17 and above.\n",
            "  and should_run_async(code)\n"
          ]
        }
      ]
    },
    {
      "cell_type": "markdown",
      "source": [
        "## Documentos más representativos por tópico"
      ],
      "metadata": {
        "id": "5DmCe4wKPFlc"
      }
    },
    {
      "cell_type": "code",
      "source": [
        "# 2. Documentos más representativos por tópico\n",
        "print(\"\\n DOCUMENTOS MÁS REPRESENTATIVOS POR TÓPICO\")\n",
        "print(\"Se muestran los documentos que más peso tienen en cada tópico\\n\")\n",
        "\n",
        "for topic_idx in range(n_topics):\n",
        "    print(f\" Tópico {topic_idx + 1}:\")\n",
        "    # Obtener los documentos más representativos\n",
        "    top_doc_indices = np.argsort(doc_topics[:,topic_idx])[::-1][:no_top_documents]\n",
        "\n",
        "    for doc_idx in top_doc_indices:\n",
        "        title = dataset_df.iloc[doc_idx]['TITLE']\n",
        "        weight = doc_topics[doc_idx, topic_idx]\n",
        "        print(f\"   '{title}'\")\n",
        "        print(f\"      Peso: {weight:.4f}\")\n",
        "    print()"
      ],
      "metadata": {
        "colab": {
          "base_uri": "https://localhost:8080/"
        },
        "id": "aU3obujAJ5rD",
        "outputId": "2b634e4f-75c6-4aa6-c54d-3f3b92fa27f8"
      },
      "execution_count": 18,
      "outputs": [
        {
          "output_type": "stream",
          "name": "stdout",
          "text": [
            "\n",
            " DOCUMENTOS MÁS REPRESENTATIVOS POR TÓPICO\n",
            "Se muestran los documentos que más peso tienen en cada tópico\n",
            "\n",
            " Tópico 1:\n",
            "   'A network for supporting the coordination of Supercomputing research between Europe and Latin America'\n",
            "      Peso: 0.9967\n",
            "   'Models for Optimising Dynamic Urban Mobility'\n",
            "      Peso: 0.9965\n",
            "\n",
            " Tópico 2:\n",
            "   'Fundamental Physics at the Low Background Frontier'\n",
            "      Peso: 0.9844\n",
            "   'Tailoring Mixed-Metal Chemistry for Frontier Synthetic and Catalytic Applications'\n",
            "      Peso: 0.9728\n",
            "\n"
          ]
        },
        {
          "output_type": "stream",
          "name": "stderr",
          "text": [
            "/usr/local/lib/python3.10/dist-packages/ipykernel/ipkernel.py:283: DeprecationWarning: `should_run_async` will not call `transform_cell` automatically in the future. Please pass the result to `transformed_cell` argument and any exception that happen during thetransform in `preprocessing_exc_tuple` in IPython 7.17 and above.\n",
            "  and should_run_async(code)\n"
          ]
        }
      ]
    },
    {
      "cell_type": "markdown",
      "source": [
        "## Matriz Documento-Topico"
      ],
      "metadata": {
        "id": "pBPEB6m0PK5e"
      }
    },
    {
      "cell_type": "code",
      "source": [
        "from IPython.display import display, HTML\n",
        "import pandas as pd\n",
        "#pd.set_option('display.max_columns', None)\n",
        "\n",
        "topicnames = [\"topic\"+ str(x) for x in range(0, lda.n_components)]\n",
        "norm_doc_topics = []\n",
        "for i in doc_topics:\n",
        "  norm_doc_topics.append([ \"{0:.3f}\".format(weight) for weight in i])\n",
        "\n",
        "df = pd.DataFrame(norm_doc_topics,\n",
        "                  columns=topicnames,\n",
        "                  index=dataset_df['TITLE'].tolist())\n",
        "\n",
        "data_table.DataTable(df, num_rows_per_page=10)"
      ],
      "metadata": {
        "colab": {
          "base_uri": "https://localhost:8080/",
          "height": 402
        },
        "id": "HjdcTB1SPNn_",
        "outputId": "c6642266-fe01-42df-e4a3-269df49a731c"
      },
      "execution_count": 19,
      "outputs": [
        {
          "output_type": "stream",
          "name": "stderr",
          "text": [
            "/usr/local/lib/python3.10/dist-packages/ipykernel/ipkernel.py:283: DeprecationWarning: `should_run_async` will not call `transform_cell` automatically in the future. Please pass the result to `transformed_cell` argument and any exception that happen during thetransform in `preprocessing_exc_tuple` in IPython 7.17 and above.\n",
            "  and should_run_async(code)\n"
          ]
        },
        {
          "output_type": "execute_result",
          "data": {
            "text/html": [
              "<div>\n",
              "<style scoped>\n",
              "    .dataframe tbody tr th:only-of-type {\n",
              "        vertical-align: middle;\n",
              "    }\n",
              "\n",
              "    .dataframe tbody tr th {\n",
              "        vertical-align: top;\n",
              "    }\n",
              "\n",
              "    .dataframe thead th {\n",
              "        text-align: right;\n",
              "    }\n",
              "</style>\n",
              "<table border=\"1\" class=\"dataframe\">\n",
              "  <thead>\n",
              "    <tr style=\"text-align: right;\">\n",
              "      <th></th>\n",
              "      <th>topic0</th>\n",
              "      <th>topic1</th>\n",
              "    </tr>\n",
              "  </thead>\n",
              "  <tbody>\n",
              "    <tr>\n",
              "      <th>Visual object population codes  relating human brains to nonhuman and computational models with representational similarity analysis</th>\n",
              "      <td>0.994</td>\n",
              "      <td>0.006</td>\n",
              "    </tr>\n",
              "    <tr>\n",
              "      <th>New Opportunities for Research Funding Agency Co-operation in Europe II</th>\n",
              "      <td>0.993</td>\n",
              "      <td>0.007</td>\n",
              "    </tr>\n",
              "    <tr>\n",
              "      <th>USA and Europe Cooperation in Mini UAVs</th>\n",
              "      <td>0.995</td>\n",
              "      <td>0.005</td>\n",
              "    </tr>\n",
              "    <tr>\n",
              "      <th>Sustainable Infrastructure for Resilient Urban Environments</th>\n",
              "      <td>0.993</td>\n",
              "      <td>0.007</td>\n",
              "    </tr>\n",
              "    <tr>\n",
              "      <th>Modelling star formation in the local universe</th>\n",
              "      <td>0.042</td>\n",
              "      <td>0.958</td>\n",
              "    </tr>\n",
              "    <tr>\n",
              "      <th>...</th>\n",
              "      <td>...</td>\n",
              "      <td>...</td>\n",
              "    </tr>\n",
              "    <tr>\n",
              "      <th>The Environmental Observation Web and its Service Applications within the Future Internet</th>\n",
              "      <td>0.993</td>\n",
              "      <td>0.007</td>\n",
              "    </tr>\n",
              "    <tr>\n",
              "      <th>Future INternet for Smart ENergY</th>\n",
              "      <td>0.995</td>\n",
              "      <td>0.005</td>\n",
              "    </tr>\n",
              "    <tr>\n",
              "      <th>Smart Food and Agribusiness: Future Internet for Safe and Healthy Food from Farm to Fork</th>\n",
              "      <td>0.994</td>\n",
              "      <td>0.006</td>\n",
              "    </tr>\n",
              "    <tr>\n",
              "      <th>Instant Mobility for Passengers and Goods</th>\n",
              "      <td>0.992</td>\n",
              "      <td>0.008</td>\n",
              "    </tr>\n",
              "    <tr>\n",
              "      <th>Provisioning of urban/regional smart services and business models enabled by the Future Internet</th>\n",
              "      <td>0.995</td>\n",
              "      <td>0.005</td>\n",
              "    </tr>\n",
              "  </tbody>\n",
              "</table>\n",
              "<p>100 rows × 2 columns</p>\n",
              "</div>"
            ],
            "application/vnd.google.colaboratory.module+javascript": "\n      import \"https://ssl.gstatic.com/colaboratory/data_table/e523c247d1e24a05/data_table.js\";\n\n      const table = window.createDataTable({\n        data: [[\"Visual object population codes  relating human brains to nonhuman and computational models with representational similarity analysis\",\n\"0.994\",\n\"0.006\"],\n [\"New Opportunities for Research Funding Agency Co-operation in Europe II\",\n\"0.993\",\n\"0.007\"],\n [\"USA and Europe Cooperation in Mini UAVs\",\n\"0.995\",\n\"0.005\"],\n [\"Sustainable Infrastructure for Resilient Urban Environments\",\n\"0.993\",\n\"0.007\"],\n [\"Modelling star formation in the local universe\",\n\"0.042\",\n\"0.958\"],\n [\"Coherent spin manipulation in hybrid nanostructures\",\n\"0.957\",\n\"0.043\"],\n [\"Stochastic Modeling of Spatially Extended Ecosystems and Ecological and Climate Data Analysis\",\n\"0.991\",\n\"0.009\"],\n [\"Secure Multiparty Computation in the von Neumann Architecture\",\n\"0.995\",\n\"0.005\"],\n [\"Infrastructures for Community-Based Data Management\",\n\"0.994\",\n\"0.006\"],\n [\"Reducing Environmental Footprint based on Multi-Modal Fleet management System for Eco-Routing and Driver Behaviour Adaptation\",\n\"0.993\",\n\"0.007\"],\n [\"Action to Support Photonic Innovation Clusters in Europe\",\n\"0.995\",\n\"0.005\"],\n [\"Improving therapy and intervention through imaging\",\n\"0.994\",\n\"0.006\"],\n [\"Design and manufacturing of smart composite panelsfor wing applications and development of structuralhealth monitoring techniques\",\n\"0.991\",\n\"0.009\"],\n [\"Numerical and EXperimental shock conTrol on laminar Wing\",\n\"0.995\",\n\"0.005\"],\n [\"NUtrition and microVAScular dynamics in COGnitive health\",\n\"0.994\",\n\"0.006\"],\n [\"Seismology of Stellar Coronal Oscillations\",\n\"0.989\",\n\"0.011\"],\n [\"Nice but incompetent? The eldery stereotype in Europe\",\n\"0.995\",\n\"0.005\"],\n [\"Discovery and Insight with Advanced Models Of  Nanoscale Dimensions\",\n\"0.994\",\n\"0.006\"],\n [\"Geometry, instability and activity in complex and biological fluids\",\n\"0.991\",\n\"0.009\"],\n [\"The Researchers\\u2019 Night 2011 in the Czech Republic: Science Opens Spaces\",\n\"0.994\",\n\"0.006\"],\n [\"The importance of submarine groundwater discharge for the southwestern Baltic Sea\",\n\"0.943\",\n\"0.057\"],\n [\"DEVELOPMENT AND ENHANCEMENT OF A STEERING FEEL MODEL FOR SUPER LIGHTWEIGHT STEER-BY-WIRE VEHICLES\",\n\"0.991\",\n\"0.009\"],\n [\"International Partnership for Advanced Coatings by Thermal Spraying\",\n\"0.978\",\n\"0.022\"],\n [\"Phosphorus dynamics in low-oxygen marine systems: quantifying the nutrient-climate connection in Earth\\u2019s past, present and future\",\n\"0.043\",\n\"0.957\"],\n [\"Diamond Lasers: Revolutionising Laser Engineering\",\n\"0.994\",\n\"0.006\"],\n [\"Electrochemistry in fluidic nanodevices: From fundamentals to integrated sensor platforms\",\n\"0.988\",\n\"0.012\"],\n [\"Quantitative Graph Games: Theory and Applications\",\n\"0.995\",\n\"0.005\"],\n [\"The Gamma Ray Burst \\u2013 Supernova Connectionand Shock Breakout Physics\",\n\"0.982\",\n\"0.018\"],\n [\"Integrated Ground and on-Board system for Support of the Aircraft Safe Take-off and Landing\",\n\"0.996\",\n\"0.004\"],\n [\"METABOLIC CONTROL OF IMMATURE STROMAL CELL BIOLOGY\",\n\"0.994\",\n\"0.006\"],\n [\"Remote Laser Welding System Navigator for Eco & Resilient Automotive Factories\",\n\"0.995\",\n\"0.005\"],\n [\"EUropean DATa\",\n\"0.994\",\n\"0.006\"],\n [\"Multi-Core Execution of Parallelised Hard Real-Time Applications Supporting Analysability\",\n\"0.994\",\n\"0.006\"],\n [\"EU-INdia Fostering COOPeration in Computing Systems\",\n\"0.994\",\n\"0.006\"],\n [\"Trans-Atlantic Research and Education Agenda in System of Systems\",\n\"0.995\",\n\"0.005\"],\n [\"GLObal Robotic telescopes Intelligent Array for e-Science\",\n\"0.995\",\n\"0.005\"],\n [\"A network for supporting the coordination of Supercomputing research between Europe and Latin America\",\n\"0.997\",\n\"0.003\"],\n [\"Models for Optimising Dynamic Urban Mobility\",\n\"0.996\",\n\"0.004\"],\n [\"The placebo effect \\u2013 a window into the relationship between mind and body\",\n\"0.423\",\n\"0.577\"],\n [\"CloudIX: Cloud-based Indexing and Query Processing\",\n\"0.994\",\n\"0.006\"],\n [\"The genomic basis of emerging fungal pathogenicity\",\n\"0.988\",\n\"0.012\"],\n [\"New Tools for Real-Time Cellular Imaging and Protein Labelling\",\n\"0.971\",\n\"0.029\"],\n [\"The interplay between quantum coherence and environment in the photosynthetic electronic energy transfer and light-harvesting: a quantum chemical picture\",\n\"0.983\",\n\"0.017\"],\n [\"Basic Research in Cryptographic Protocol Theory\",\n\"0.995\",\n\"0.005\"],\n [\"Investigating Functional Dynamics in Proteins by Novel Multidimensional Optical Spectroscopies in the Ultraviolet\",\n\"0.988\",\n\"0.012\"],\n [\"Towards compressive information processing systems\",\n\"0.992\",\n\"0.008\"],\n [\"Ensemble based advanced quantum light matter interfaces\",\n\"0.066\",\n\"0.934\"],\n [\"Smart Intelligent Aircraft Structures\",\n\"0.995\",\n\"0.005\"],\n [\"The innovative use of virtual and mixed reality to increase human comfort by changing the perception of self and space\",\n\"0.993\",\n\"0.007\"],\n [\"VIRTUAL HEART MODELS: MULTI-PHYSICS APPROACHES TO COMPUTATIONAL CARDIOLOGY\",\n\"0.994\",\n\"0.006\"],\n [\"Virtual Centre of Excellence for Ethically-guided and Privacy-respecting Video Analytics\",\n\"0.993\",\n\"0.007\"],\n [\"PLANT AND FOOD BIOSECURITY\",\n\"0.995\",\n\"0.005\"],\n [\"Creation of a distributed European Magnetic Field Laboratory\",\n\"0.993\",\n\"0.007\"],\n [\"TOWARDS A JOINT EUROPEAN RESEARCH INFRASTRUCTURE NETWORK FOR COASTAL OBSERVATORIES\",\n\"0.994\",\n\"0.006\"],\n [\"Data without Boundaries\",\n\"0.996\",\n\"0.004\"],\n [\"The association between type 2 diabetes diagnosis and diabetes medications with risk of cancer\",\n\"0.393\",\n\"0.607\"],\n [\"Oxysterols and IL-27-induced Type 1 regulatory T cells in Experimental Autoimmune Encephalomyelitis\",\n\"0.995\",\n\"0.005\"],\n [\"Mechanisms of Inflammation Resolution: Role of miRNAs\",\n\"0.994\",\n\"0.006\"],\n [\"Common assessment and analysis of risk in global supply chains\",\n\"0.995\",\n\"0.005\"],\n [\"Socialism and leftist Catholicism in France and Italy (1956-1972)\",\n\"0.995\",\n\"0.005\"],\n [\"Multi-scale biomechanical modelling and simulation of the intervertebral disc\",\n\"0.993\",\n\"0.007\"],\n [\"STRUCTURE AND DYNAMICS OF PORPHYRIN-BASED MATERIALS IN SOLUTION vs. INTERFACES\",\n\"0.993\",\n\"0.007\"],\n [\"Tailoring Mixed-Metal Chemistry for Frontier Synthetic and Catalytic Applications\",\n\"0.027\",\n\"0.973\"],\n [\"Make it simple: towards a new era for organic synthesis\",\n\"0.979\",\n\"0.021\"],\n [\"Fundamental Physics at the Low Background Frontier\",\n\"0.016\",\n\"0.984\"],\n [\"Advanced Immunization Technologies\",\n\"0.994\",\n\"0.006\"],\n [\"A Treatment-Oriented Research Project of NCL Disorders as a Major Cause of Dementia in Childhood\",\n\"0.994\",\n\"0.006\"],\n [\"Resistance in Gram-Negative Organisms: Studying Intervention Strategies\",\n\"0.994\",\n\"0.006\"],\n [\"Discovery Festival\",\n\"0.988\",\n\"0.012\"],\n [\"Monolithic Integrated Antennas\",\n\"0.995\",\n\"0.005\"],\n [\"The effect of a sedentary lifestyle on type 2 diabetes and its complications\",\n\"0.991\",\n\"0.009\"],\n [\"Embodied Cognitive Models for Fluent Human-Robot Interaction\",\n\"0.995\",\n\"0.005\"],\n [\"Heuristics and Biases in Debt Managment\",\n\"0.993\",\n\"0.007\"],\n [\"Neural Circuits Underlying Visually Guided Behaviour\",\n\"0.993\",\n\"0.007\"],\n [\"Mont-Blanc, European scalable and power efficient HPC platform based on low-power embedded technology\",\n\"0.995\",\n\"0.005\"],\n [\"Collaborative Research into Exascale Systemware, Tools and Applications\",\n\"0.995\",\n\"0.005\"],\n [\"Virtual Enterprises by Networked Interoperability Services\",\n\"0.995\",\n\"0.005\"],\n [\"2nd-Generation Open Access Infrastructure for Research in Europe\",\n\"0.995\",\n\"0.005\"],\n [\"Manufacturing SErvice Ecosystem\",\n\"0.994\",\n\"0.006\"],\n [\"Comprehensive European Approach to the Protection of Civil Aviation\",\n\"0.994\",\n\"0.006\"],\n [\"Development of Rad Hard non volatile Flash memories for space applications\",\n\"0.993\",\n\"0.007\"],\n [\"Supporting decentralised management to improve health workforce performance in Ghana, Uganda and Tanzania\",\n\"0.984\",\n\"0.016\"],\n [\"WORDS: Asymmetry, change and processing in phonological mental representation\",\n\"0.989\",\n\"0.011\"],\n [\"Thyroid hormone and development of cardiomyocytes derived from human embryonic and induced pluripotent stem cells\",\n\"0.994\",\n\"0.006\"],\n [\"Predicting Properties of Large Heterogeneous Systems with Optimally-Tuned Range-Separated Hybrid Functionals\",\n\"0.993\",\n\"0.007\"],\n [\"REsearch into POlicy to enhance Physical Activity\",\n\"0.994\",\n\"0.006\"],\n [\"Evolution and Transfer of Antibiotic Resistance\",\n\"0.993\",\n\"0.007\"],\n [\"The 2050+ Airport\",\n\"0.995\",\n\"0.005\"],\n [\"DEMONSTRATION INSTALLATION OF A LEGIONELLA PREVENTIVE BACTERICIDE WATER FILTRATION FOR LARGE PUBLIC AND INDUSTRIAL FACILITIES\",\n\"0.990\",\n\"0.010\"],\n [\"Fruitful Instability: The Cultural Logic of Creative Practice in Israeli High-Technology Start-Ups\",\n\"0.995\",\n\"0.005\"],\n [\"Nanoparticle - Cell Interactions, a Pathway for Understanding Nanotoxicity:  from a Model System to in-vitro System\",\n\"0.988\",\n\"0.012\"],\n [\"Protecting biodiversity in the face of climate change\",\n\"0.994\",\n\"0.006\"],\n [\"NUCLEOLAR-DEPENDENT SECRETION OF MICRORNA IN A MODEL OF DOXORUBICIN AND TRASTUZUMAB CARDIOMYOPATHY\",\n\"0.994\",\n\"0.006\"],\n [\"Technology & Design Kits for Printed-Electronics\",\n\"0.995\",\n\"0.005\"],\n [\"Comprehensive Modelling for Advanced Systems of Systems\",\n\"0.994\",\n\"0.006\"],\n [\"The Environmental Observation Web and its Service Applications within the Future Internet\",\n\"0.993\",\n\"0.007\"],\n [\"Future INternet for Smart ENergY\",\n\"0.995\",\n\"0.005\"],\n [\"Smart Food and Agribusiness: Future Internet for Safe and Healthy Food from Farm to Fork\",\n\"0.994\",\n\"0.006\"],\n [\"Instant Mobility for Passengers and Goods\",\n\"0.992\",\n\"0.008\"],\n [\"Provisioning of urban/regional smart services and business models enabled by the Future Internet\",\n\"0.995\",\n\"0.005\"]],\n        columns: [[\"string\", \"index\"], [\"string\", \"topic0\"], [\"string\", \"topic1\"]],\n        columnOptions: [{\"width\": \"1px\", \"className\": \"index_column\"}],\n        rowsPerPage: 10,\n        helpUrl: \"https://colab.research.google.com/notebooks/data_table.ipynb\",\n        suppressOutputScrolling: true,\n        minimumWidth: undefined,\n      });\n\n      function appendQuickchartButton(parentElement) {\n        let quickchartButtonContainerElement = document.createElement('div');\n        quickchartButtonContainerElement.innerHTML = `\n<div id=\"df-1f82e1e5-4e03-4291-85b3-32ef480fd62d\">\n  <button class=\"colab-df-quickchart\" onclick=\"quickchart('df-1f82e1e5-4e03-4291-85b3-32ef480fd62d')\"\n            title=\"Suggest charts\"\n            style=\"display:none;\">\n    \n<svg xmlns=\"http://www.w3.org/2000/svg\" height=\"24px\"viewBox=\"0 0 24 24\"\n     width=\"24px\">\n    <g>\n        <path d=\"M19 3H5c-1.1 0-2 .9-2 2v14c0 1.1.9 2 2 2h14c1.1 0 2-.9 2-2V5c0-1.1-.9-2-2-2zM9 17H7v-7h2v7zm4 0h-2V7h2v10zm4 0h-2v-4h2v4z\"/>\n    </g>\n</svg>\n  </button>\n  \n<style>\n  .colab-df-quickchart {\n      --bg-color: #E8F0FE;\n      --fill-color: #1967D2;\n      --hover-bg-color: #E2EBFA;\n      --hover-fill-color: #174EA6;\n      --disabled-fill-color: #AAA;\n      --disabled-bg-color: #DDD;\n  }\n\n  [theme=dark] .colab-df-quickchart {\n      --bg-color: #3B4455;\n      --fill-color: #D2E3FC;\n      --hover-bg-color: #434B5C;\n      --hover-fill-color: #FFFFFF;\n      --disabled-bg-color: #3B4455;\n      --disabled-fill-color: #666;\n  }\n\n  .colab-df-quickchart {\n    background-color: var(--bg-color);\n    border: none;\n    border-radius: 50%;\n    cursor: pointer;\n    display: none;\n    fill: var(--fill-color);\n    height: 32px;\n    padding: 0;\n    width: 32px;\n  }\n\n  .colab-df-quickchart:hover {\n    background-color: var(--hover-bg-color);\n    box-shadow: 0 1px 2px rgba(60, 64, 67, 0.3), 0 1px 3px 1px rgba(60, 64, 67, 0.15);\n    fill: var(--button-hover-fill-color);\n  }\n\n  .colab-df-quickchart-complete:disabled,\n  .colab-df-quickchart-complete:disabled:hover {\n    background-color: var(--disabled-bg-color);\n    fill: var(--disabled-fill-color);\n    box-shadow: none;\n  }\n\n  .colab-df-spinner {\n    border: 2px solid var(--fill-color);\n    border-color: transparent;\n    border-bottom-color: var(--fill-color);\n    animation:\n      spin 1s steps(1) infinite;\n  }\n\n  @keyframes spin {\n    0% {\n      border-color: transparent;\n      border-bottom-color: var(--fill-color);\n      border-left-color: var(--fill-color);\n    }\n    20% {\n      border-color: transparent;\n      border-left-color: var(--fill-color);\n      border-top-color: var(--fill-color);\n    }\n    30% {\n      border-color: transparent;\n      border-left-color: var(--fill-color);\n      border-top-color: var(--fill-color);\n      border-right-color: var(--fill-color);\n    }\n    40% {\n      border-color: transparent;\n      border-right-color: var(--fill-color);\n      border-top-color: var(--fill-color);\n    }\n    60% {\n      border-color: transparent;\n      border-right-color: var(--fill-color);\n    }\n    80% {\n      border-color: transparent;\n      border-right-color: var(--fill-color);\n      border-bottom-color: var(--fill-color);\n    }\n    90% {\n      border-color: transparent;\n      border-bottom-color: var(--fill-color);\n    }\n  }\n</style>\n\n  <script>\n    async function quickchart(key) {\n      const quickchartButtonEl =\n        document.querySelector('#' + key + ' button');\n      quickchartButtonEl.disabled = true;  // To prevent multiple clicks.\n      quickchartButtonEl.classList.add('colab-df-spinner');\n      try {\n        const charts = await google.colab.kernel.invokeFunction(\n            'suggestCharts', [key], {});\n      } catch (error) {\n        console.error('Error during call to suggestCharts:', error);\n      }\n      quickchartButtonEl.classList.remove('colab-df-spinner');\n      quickchartButtonEl.classList.add('colab-df-quickchart-complete');\n    }\n    (() => {\n      let quickchartButtonEl =\n        document.querySelector('#df-1f82e1e5-4e03-4291-85b3-32ef480fd62d button');\n      quickchartButtonEl.style.display =\n        google.colab.kernel.accessAllowed ? 'block' : 'none';\n    })();\n  </script>\n</div>`;\n        parentElement.appendChild(quickchartButtonContainerElement);\n      }\n\n      appendQuickchartButton(table);\n    ",
            "text/plain": [
              "<google.colab.data_table.DataTable object>"
            ]
          },
          "metadata": {},
          "execution_count": 19
        }
      ]
    },
    {
      "cell_type": "markdown",
      "source": [
        "## Matriz Tópico-Palabra"
      ],
      "metadata": {
        "id": "AL4lKUnHPTOO"
      }
    },
    {
      "cell_type": "code",
      "source": [
        "# Topic-Keyword Matrix\n",
        "df_topic_keywords = pd.DataFrame(lda.components_ / lda.components_.sum(axis=1)[:, np.newaxis])\n",
        "\n",
        "# Assign Column and Index\n",
        "df_topic_keywords.columns = dictionary\n",
        "df_topic_keywords.index = topicnames\n",
        "\n",
        "# View\n",
        "data_table.DataTable(df_topic_keywords, num_rows_per_page=10)\n",
        "#df_topic_keywords.head()"
      ],
      "metadata": {
        "colab": {
          "base_uri": "https://localhost:8080/",
          "height": 238
        },
        "id": "bOHH9_iQPWcF",
        "outputId": "40f24705-b93d-4e73-f19f-f93465d94381"
      },
      "execution_count": 20,
      "outputs": [
        {
          "output_type": "stream",
          "name": "stdout",
          "text": [
            "Warning: Total number of columns (4530) exceeds max_columns (20) limiting to first (20) columns.\n"
          ]
        },
        {
          "output_type": "stream",
          "name": "stderr",
          "text": [
            "/usr/local/lib/python3.10/dist-packages/ipykernel/ipkernel.py:283: DeprecationWarning: `should_run_async` will not call `transform_cell` automatically in the future. Please pass the result to `transformed_cell` argument and any exception that happen during thetransform in `preprocessing_exc_tuple` in IPython 7.17 and above.\n",
            "  and should_run_async(code)\n"
          ]
        },
        {
          "output_type": "execute_result",
          "data": {
            "text/html": [
              "<div>\n",
              "<style scoped>\n",
              "    .dataframe tbody tr th:only-of-type {\n",
              "        vertical-align: middle;\n",
              "    }\n",
              "\n",
              "    .dataframe tbody tr th {\n",
              "        vertical-align: top;\n",
              "    }\n",
              "\n",
              "    .dataframe thead th {\n",
              "        text-align: right;\n",
              "    }\n",
              "</style>\n",
              "<table border=\"1\" class=\"dataframe\">\n",
              "  <thead>\n",
              "    <tr style=\"text-align: right;\">\n",
              "      <th></th>\n",
              "      <th>000</th>\n",
              "      <th>100</th>\n",
              "      <th>146a</th>\n",
              "      <th>1500</th>\n",
              "      <th>1844</th>\n",
              "      <th>192</th>\n",
              "      <th>1993</th>\n",
              "      <th>1mbit</th>\n",
              "      <th>200</th>\n",
              "      <th>2000</th>\n",
              "      <th>...</th>\n",
              "      <th>yes</th>\n",
              "      <th>yet</th>\n",
              "      <th>yield</th>\n",
              "      <th>young</th>\n",
              "      <th>younger</th>\n",
              "      <th>youngest</th>\n",
              "      <th>zebrafish</th>\n",
              "      <th>zone</th>\n",
              "      <th>zones</th>\n",
              "      <th>zoo</th>\n",
              "    </tr>\n",
              "  </thead>\n",
              "  <tbody>\n",
              "    <tr>\n",
              "      <th>topic0</th>\n",
              "      <td>0.000053</td>\n",
              "      <td>0.000091</td>\n",
              "      <td>0.000053</td>\n",
              "      <td>0.000053</td>\n",
              "      <td>0.000053</td>\n",
              "      <td>0.000053</td>\n",
              "      <td>0.000053</td>\n",
              "      <td>0.000053</td>\n",
              "      <td>0.000053</td>\n",
              "      <td>0.000053</td>\n",
              "      <td>...</td>\n",
              "      <td>0.000053</td>\n",
              "      <td>0.000165</td>\n",
              "      <td>0.000099</td>\n",
              "      <td>0.000331</td>\n",
              "      <td>0.000053</td>\n",
              "      <td>0.000053</td>\n",
              "      <td>0.000191</td>\n",
              "      <td>0.000145</td>\n",
              "      <td>0.000007</td>\n",
              "      <td>0.000052</td>\n",
              "    </tr>\n",
              "    <tr>\n",
              "      <th>topic1</th>\n",
              "      <td>0.000070</td>\n",
              "      <td>0.001679</td>\n",
              "      <td>0.000073</td>\n",
              "      <td>0.000072</td>\n",
              "      <td>0.000074</td>\n",
              "      <td>0.000074</td>\n",
              "      <td>0.000076</td>\n",
              "      <td>0.000073</td>\n",
              "      <td>0.000075</td>\n",
              "      <td>0.000072</td>\n",
              "      <td>...</td>\n",
              "      <td>0.000070</td>\n",
              "      <td>0.000874</td>\n",
              "      <td>0.000078</td>\n",
              "      <td>0.000081</td>\n",
              "      <td>0.000074</td>\n",
              "      <td>0.000078</td>\n",
              "      <td>0.000073</td>\n",
              "      <td>0.000084</td>\n",
              "      <td>0.000572</td>\n",
              "      <td>0.000077</td>\n",
              "    </tr>\n",
              "  </tbody>\n",
              "</table>\n",
              "<p>2 rows × 4530 columns</p>\n",
              "</div>"
            ],
            "application/vnd.google.colaboratory.module+javascript": "\n      import \"https://ssl.gstatic.com/colaboratory/data_table/e523c247d1e24a05/data_table.js\";\n\n      const table = window.createDataTable({\n        data: [[\"topic0\",\n{\n            'v': 5.317732870353919e-05,\n            'f': \"5.317732870353919e-05\",\n        },\n{\n            'v': 9.108997690869311e-05,\n            'f': \"9.108997690869311e-05\",\n        },\n{\n            'v': 5.320045374587534e-05,\n            'f': \"5.320045374587534e-05\",\n        },\n{\n            'v': 5.2566890017268345e-05,\n            'f': \"5.2566890017268345e-05\",\n        },\n{\n            'v': 5.265522052544563e-05,\n            'f': \"5.265522052544563e-05\",\n        },\n{\n            'v': 5.2541395894658186e-05,\n            'f': \"5.2541395894658186e-05\",\n        },\n{\n            'v': 5.277861242487228e-05,\n            'f': \"5.277861242487228e-05\",\n        },\n{\n            'v': 5.272329787016522e-05,\n            'f': \"5.272329787016522e-05\",\n        },\n{\n            'v': 5.2748777147596036e-05,\n            'f': \"5.2748777147596036e-05\",\n        },\n{\n            'v': 5.284252423546188e-05,\n            'f': \"5.284252423546188e-05\",\n        },\n{\n            'v': 5.300458458824111e-05,\n            'f': \"5.300458458824111e-05\",\n        },\n{\n            'v': 5.2703589070082284e-05,\n            'f': \"5.2703589070082284e-05\",\n        },\n{\n            'v': 0.00014423646458601674,\n            'f': \"0.00014423646458601674\",\n        },\n{\n            'v': 5.27638878964797e-05,\n            'f': \"5.27638878964797e-05\",\n        },\n{\n            'v': 1.0194564871298871e-05,\n            'f': \"1.0194564871298871e-05\",\n        },\n{\n            'v': 0.000190972301998598,\n            'f': \"0.000190972301998598\",\n        },\n{\n            'v': 5.308820299025444e-05,\n            'f': \"5.308820299025444e-05\",\n        },\n{\n            'v': 0.00014541981309006805,\n            'f': \"0.00014541981309006805\",\n        },\n{\n            'v': 0.00023757326524793092,\n            'f': \"0.00023757326524793092\",\n        },\n{\n            'v': 5.231844393752026e-05,\n            'f': \"5.231844393752026e-05\",\n        }],\n [\"topic1\",\n{\n            'v': 6.952444034921916e-05,\n            'f': \"6.952444034921916e-05\",\n        },\n{\n            'v': 0.0016792678251089908,\n            'f': \"0.0016792678251089908\",\n        },\n{\n            'v': 7.342162682763952e-05,\n            'f': \"7.342162682763952e-05\",\n        },\n{\n            'v': 7.237233997091536e-05,\n            'f': \"7.237233997091536e-05\",\n        },\n{\n            'v': 7.375646553804387e-05,\n            'f': \"7.375646553804387e-05\",\n        },\n{\n            'v': 7.440929841010637e-05,\n            'f': \"7.440929841010637e-05\",\n        },\n{\n            'v': 7.614693318483783e-05,\n            'f': \"7.614693318483783e-05\",\n        },\n{\n            'v': 7.291034082056626e-05,\n            'f': \"7.291034082056626e-05\",\n        },\n{\n            'v': 7.548793927634934e-05,\n            'f': \"7.548793927634934e-05\",\n        },\n{\n            'v': 7.213846410185395e-05,\n            'f': \"7.213846410185395e-05\",\n        },\n{\n            'v': 7.343703872351354e-05,\n            'f': \"7.343703872351354e-05\",\n        },\n{\n            'v': 7.864371220609706e-05,\n            'f': \"7.864371220609706e-05\",\n        },\n{\n            'v': 8.09184280684094e-05,\n            'f': \"8.09184280684094e-05\",\n        },\n{\n            'v': 7.718714736404418e-05,\n            'f': \"7.718714736404418e-05\",\n        },\n{\n            'v': 0.001047013617311106,\n            'f': \"0.001047013617311106\",\n        },\n{\n            'v': 7.615808268070993e-05,\n            'f': \"7.615808268070993e-05\",\n        },\n{\n            'v': 7.768834104377668e-05,\n            'f': \"7.768834104377668e-05\",\n        },\n{\n            'v': 7.477452546475363e-05,\n            'f': \"7.477452546475363e-05\",\n        },\n{\n            'v': 7.591081085145272e-05,\n            'f': \"7.591081085145272e-05\",\n        },\n{\n            'v': 7.87621383220794e-05,\n            'f': \"7.87621383220794e-05\",\n        }]],\n        columns: [[\"string\", \"index\"], [\"number\", \"000\"], [\"number\", \"100\"], [\"number\", \"146a\"], [\"number\", \"1500\"], [\"number\", \"1844\"], [\"number\", \"192\"], [\"number\", \"1993\"], [\"number\", \"1mbit\"], [\"number\", \"200\"], [\"number\", \"2000\"], [\"number\", \"2004\"], [\"number\", \"2005\"], [\"number\", \"2008\"], [\"number\", \"2009\"], [\"number\", \"2010\"], [\"number\", \"2011\"], [\"number\", \"2015\"], [\"number\", \"2020\"], [\"number\", \"2050\"], [\"number\", \"20th\"]],\n        columnOptions: [{\"width\": \"1px\", \"className\": \"index_column\"}],\n        rowsPerPage: 10,\n        helpUrl: \"https://colab.research.google.com/notebooks/data_table.ipynb\",\n        suppressOutputScrolling: true,\n        minimumWidth: undefined,\n      });\n\n      function appendQuickchartButton(parentElement) {\n        let quickchartButtonContainerElement = document.createElement('div');\n        quickchartButtonContainerElement.innerHTML = `\n<div id=\"df-7e7046bc-484b-4fd9-8684-e4348d6c1fe8\">\n  <button class=\"colab-df-quickchart\" onclick=\"quickchart('df-7e7046bc-484b-4fd9-8684-e4348d6c1fe8')\"\n            title=\"Suggest charts\"\n            style=\"display:none;\">\n    \n<svg xmlns=\"http://www.w3.org/2000/svg\" height=\"24px\"viewBox=\"0 0 24 24\"\n     width=\"24px\">\n    <g>\n        <path d=\"M19 3H5c-1.1 0-2 .9-2 2v14c0 1.1.9 2 2 2h14c1.1 0 2-.9 2-2V5c0-1.1-.9-2-2-2zM9 17H7v-7h2v7zm4 0h-2V7h2v10zm4 0h-2v-4h2v4z\"/>\n    </g>\n</svg>\n  </button>\n  \n<style>\n  .colab-df-quickchart {\n      --bg-color: #E8F0FE;\n      --fill-color: #1967D2;\n      --hover-bg-color: #E2EBFA;\n      --hover-fill-color: #174EA6;\n      --disabled-fill-color: #AAA;\n      --disabled-bg-color: #DDD;\n  }\n\n  [theme=dark] .colab-df-quickchart {\n      --bg-color: #3B4455;\n      --fill-color: #D2E3FC;\n      --hover-bg-color: #434B5C;\n      --hover-fill-color: #FFFFFF;\n      --disabled-bg-color: #3B4455;\n      --disabled-fill-color: #666;\n  }\n\n  .colab-df-quickchart {\n    background-color: var(--bg-color);\n    border: none;\n    border-radius: 50%;\n    cursor: pointer;\n    display: none;\n    fill: var(--fill-color);\n    height: 32px;\n    padding: 0;\n    width: 32px;\n  }\n\n  .colab-df-quickchart:hover {\n    background-color: var(--hover-bg-color);\n    box-shadow: 0 1px 2px rgba(60, 64, 67, 0.3), 0 1px 3px 1px rgba(60, 64, 67, 0.15);\n    fill: var(--button-hover-fill-color);\n  }\n\n  .colab-df-quickchart-complete:disabled,\n  .colab-df-quickchart-complete:disabled:hover {\n    background-color: var(--disabled-bg-color);\n    fill: var(--disabled-fill-color);\n    box-shadow: none;\n  }\n\n  .colab-df-spinner {\n    border: 2px solid var(--fill-color);\n    border-color: transparent;\n    border-bottom-color: var(--fill-color);\n    animation:\n      spin 1s steps(1) infinite;\n  }\n\n  @keyframes spin {\n    0% {\n      border-color: transparent;\n      border-bottom-color: var(--fill-color);\n      border-left-color: var(--fill-color);\n    }\n    20% {\n      border-color: transparent;\n      border-left-color: var(--fill-color);\n      border-top-color: var(--fill-color);\n    }\n    30% {\n      border-color: transparent;\n      border-left-color: var(--fill-color);\n      border-top-color: var(--fill-color);\n      border-right-color: var(--fill-color);\n    }\n    40% {\n      border-color: transparent;\n      border-right-color: var(--fill-color);\n      border-top-color: var(--fill-color);\n    }\n    60% {\n      border-color: transparent;\n      border-right-color: var(--fill-color);\n    }\n    80% {\n      border-color: transparent;\n      border-right-color: var(--fill-color);\n      border-bottom-color: var(--fill-color);\n    }\n    90% {\n      border-color: transparent;\n      border-bottom-color: var(--fill-color);\n    }\n  }\n</style>\n\n  <script>\n    async function quickchart(key) {\n      const quickchartButtonEl =\n        document.querySelector('#' + key + ' button');\n      quickchartButtonEl.disabled = true;  // To prevent multiple clicks.\n      quickchartButtonEl.classList.add('colab-df-spinner');\n      try {\n        const charts = await google.colab.kernel.invokeFunction(\n            'suggestCharts', [key], {});\n      } catch (error) {\n        console.error('Error during call to suggestCharts:', error);\n      }\n      quickchartButtonEl.classList.remove('colab-df-spinner');\n      quickchartButtonEl.classList.add('colab-df-quickchart-complete');\n    }\n    (() => {\n      let quickchartButtonEl =\n        document.querySelector('#df-7e7046bc-484b-4fd9-8684-e4348d6c1fe8 button');\n      quickchartButtonEl.style.display =\n        google.colab.kernel.accessAllowed ? 'block' : 'none';\n    })();\n  </script>\n</div>`;\n        parentElement.appendChild(quickchartButtonContainerElement);\n      }\n\n      appendQuickchartButton(table);\n    ",
            "text/plain": [
              "<google.colab.data_table.DataTable object>"
            ]
          },
          "metadata": {},
          "execution_count": 20
        }
      ]
    },
    {
      "cell_type": "markdown",
      "source": [
        "# 6)  Evaluación del modelo\n",
        "\n",
        "Usaremos dos métricas principales:\n",
        "\n",
        "1. Log Likelihood (mayor es mejor):\n",
        "   - Indica qué tan bien el modelo explica los datos\n",
        "   - Valores más altos indican mejor ajuste\n",
        "\n",
        "2. Perplejidad (menor es mejor):\n",
        "   - Mide qué tan \"sorprendido\" está el modelo por los datos\n",
        "   - Valores más bajos indican mejor generalización\n"
      ],
      "metadata": {
        "id": "CjtYRqbcHtSO"
      }
    },
    {
      "cell_type": "code",
      "source": [
        "# Calcular métricas\n",
        "log_likelihood = lda.score(bag_of_words)\n",
        "perplexity = lda.perplexity(bag_of_words)\n",
        "\n",
        "print(\"MÉTRICAS DE EVALUACIÓN\")\n",
        "print(f\"- Log Likelihood: {log_likelihood:.2f}\")\n",
        "print(f\"- Perplejidad: {perplexity:.2f}\")\n",
        "\n",
        "# Comparar con diferentes valores de hiperparámetros\n",
        "print(\"\\nCOMPARACIÓN DE HIPERPARÁMETROS\")\n",
        "print(\"Probando diferentes configuraciones para encontrar el mejor modelo...\")\n",
        "\n",
        "# Probar diferentes números de tópicos\n",
        "n_topics_range = [3, 5, 7, 10]\n",
        "results = []\n",
        "\n",
        "for n_top in n_topics_range:\n",
        "    model = LatentDirichletAllocation(\n",
        "        n_components=n_top,\n",
        "        doc_topic_prior=alpha,\n",
        "        topic_word_prior=beta,\n",
        "        max_iter=25,\n",
        "        random_state=0\n",
        "    )\n",
        "    model.fit(bag_of_words)\n",
        "\n",
        "    results.append({\n",
        "        'n_topics': n_top,\n",
        "        'perplexity': model.perplexity(bag_of_words),\n",
        "        'log_likelihood': model.score(bag_of_words)\n",
        "    })\n",
        "\n",
        "# Mostrar resultados\n",
        "results_df = pd.DataFrame(results)\n",
        "print(\"\\nResultados con diferentes números de tópicos:\")\n",
        "print(results_df)"
      ],
      "metadata": {
        "colab": {
          "base_uri": "https://localhost:8080/"
        },
        "id": "7tr-YyRoHt9g",
        "outputId": "a073da73-53ab-4d93-c958-49cb09e1b133"
      },
      "execution_count": 21,
      "outputs": [
        {
          "output_type": "stream",
          "name": "stderr",
          "text": [
            "/usr/local/lib/python3.10/dist-packages/ipykernel/ipkernel.py:283: DeprecationWarning: `should_run_async` will not call `transform_cell` automatically in the future. Please pass the result to `transformed_cell` argument and any exception that happen during thetransform in `preprocessing_exc_tuple` in IPython 7.17 and above.\n",
            "  and should_run_async(code)\n"
          ]
        },
        {
          "output_type": "stream",
          "name": "stdout",
          "text": [
            "MÉTRICAS DE EVALUACIÓN\n",
            "- Log Likelihood: -166551.04\n",
            "- Perplejidad: 1758.13\n",
            "\n",
            "COMPARACIÓN DE HIPERPARÁMETROS\n",
            "Probando diferentes configuraciones para encontrar el mejor modelo...\n",
            "\n",
            "Resultados con diferentes números de tópicos:\n",
            "   n_topics   perplexity  log_likelihood\n",
            "0         3  1669.760396  -165401.505510\n",
            "1         5  1705.509520  -165873.691607\n",
            "2         7  1752.325459  -166477.301128\n",
            "3        10  1778.008588  -166801.625695\n"
          ]
        }
      ]
    },
    {
      "cell_type": "markdown",
      "source": [
        "# 7) Análisis de Similitud\n",
        "\n",
        "Podemos usar las distribuciones de tópicos para:\n",
        "1. Encontrar documentos similares\n",
        "2. Clasificar nuevos documentos\n",
        "3. Recomendar contenido relacionado"
      ],
      "metadata": {
        "id": "GulTv1KoKd7o"
      }
    },
    {
      "cell_type": "code",
      "source": [
        "from scipy.spatial.distance import jensenshannon\n",
        "\n",
        "def get_similar_documents(doc_idx, n=3):\n",
        "    \"\"\"Encuentra los documentos más similares a uno dado.\"\"\"\n",
        "    # Obtener distribución de tópicos del documento\n",
        "    doc_topic_dist = doc_topics[doc_idx]\n",
        "\n",
        "    # Calcular similitud con todos los documentos\n",
        "    similarities = []\n",
        "    for i in range(len(doc_topics)):\n",
        "        if i != doc_idx:\n",
        "            # Usar distancia Jensen-Shannon\n",
        "            dist = jensenshannon(doc_topic_dist, doc_topics[i])\n",
        "            sim = 1 - dist\n",
        "            similarities.append((i, sim))\n",
        "\n",
        "    # Ordenar por similitud\n",
        "    similarities.sort(key=lambda x: x[1], reverse=True)\n",
        "    return similarities[:n]\n",
        "\n",
        "# Ejemplo con un documento aleatorio\n",
        "example_doc = np.random.randint(0, len(dataset_df))\n",
        "print(f\" Documento de ejemplo: '{dataset_df.iloc[example_doc]['TITLE']}'\")\n",
        "print(\"\\n Documentos más similares:\")\n",
        "\n",
        "similar_docs = get_similar_documents(example_doc)\n",
        "for idx, sim in similar_docs:\n",
        "    print(f\"- '{dataset_df.iloc[idx]['TITLE']}'\")\n",
        "    print(f\"  Similitud: {sim:.4f}\")"
      ],
      "metadata": {
        "colab": {
          "base_uri": "https://localhost:8080/"
        },
        "id": "DRyEd13BKi6f",
        "outputId": "d850259d-b4d9-43e5-cc64-801a015d8de4"
      },
      "execution_count": 22,
      "outputs": [
        {
          "output_type": "stream",
          "name": "stdout",
          "text": [
            " Documento de ejemplo: 'Sustainable Infrastructure for Resilient Urban Environments'\n",
            "\n",
            " Documentos más similares:\n",
            "- 'Multi-scale biomechanical modelling and simulation of the intervertebral disc'\n",
            "  Similitud: 0.9998\n",
            "- 'Towards compressive information processing systems'\n",
            "  Similitud: 0.9997\n",
            "- 'Neural Circuits Underlying Visually Guided Behaviour'\n",
            "  Similitud: 0.9996\n"
          ]
        },
        {
          "output_type": "stream",
          "name": "stderr",
          "text": [
            "/usr/local/lib/python3.10/dist-packages/ipykernel/ipkernel.py:283: DeprecationWarning: `should_run_async` will not call `transform_cell` automatically in the future. Please pass the result to `transformed_cell` argument and any exception that happen during thetransform in `preprocessing_exc_tuple` in IPython 7.17 and above.\n",
            "  and should_run_async(code)\n"
          ]
        }
      ]
    },
    {
      "cell_type": "markdown",
      "source": [
        "# 8) Inferencia de Tópicos"
      ],
      "metadata": {
        "id": "dmDpdy3QQkwe"
      }
    },
    {
      "cell_type": "code",
      "source": [
        "text = \"Build airplanes in a large-scale\" #@param {type:\"string\"}\n",
        "vector = tf_vectorizer.transform([text])\n",
        "topic_dist = lda.transform(vector)[0]\n",
        "\n",
        "print(f\"Texto analizado: '{text}'\")\n",
        "print(\"Distribución de tópicos:\")\n",
        "\n",
        "# Mostrar cada tópico con su probabilidad\n",
        "for idx, prob in enumerate(topic_dist, 1):\n",
        "    bar = \"▓\" * int(prob * 50)  # Barra visual simple\n",
        "    print(f\"Tópico {idx}: {prob:.2%} {bar}\")\n",
        "\n"
      ],
      "metadata": {
        "colab": {
          "base_uri": "https://localhost:8080/"
        },
        "id": "-JUHHJ9SQnjs",
        "outputId": "27bec52c-fd43-4cfd-faf5-3a6989d1cc28"
      },
      "execution_count": 23,
      "outputs": [
        {
          "output_type": "stream",
          "name": "stdout",
          "text": [
            "Texto analizado: 'Build airplanes in a large-scale'\n",
            "Distribución de tópicos:\n",
            "Tópico 1: 61.10% ▓▓▓▓▓▓▓▓▓▓▓▓▓▓▓▓▓▓▓▓▓▓▓▓▓▓▓▓▓▓\n",
            "Tópico 2: 38.90% ▓▓▓▓▓▓▓▓▓▓▓▓▓▓▓▓▓▓▓\n"
          ]
        },
        {
          "output_type": "stream",
          "name": "stderr",
          "text": [
            "/usr/local/lib/python3.10/dist-packages/ipykernel/ipkernel.py:283: DeprecationWarning: `should_run_async` will not call `transform_cell` automatically in the future. Please pass the result to `transformed_cell` argument and any exception that happen during thetransform in `preprocessing_exc_tuple` in IPython 7.17 and above.\n",
            "  and should_run_async(code)\n"
          ]
        }
      ]
    }
  ]
}