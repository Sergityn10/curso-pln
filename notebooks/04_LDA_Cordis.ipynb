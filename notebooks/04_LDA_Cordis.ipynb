{
  "nbformat": 4,
  "nbformat_minor": 0,
  "metadata": {
    "colab": {
      "provenance": [],
      "authorship_tag": "ABX9TyM4eZLVYBbGJ9W4ymkIlVA7",
      "include_colab_link": true
    },
    "kernelspec": {
      "name": "python3",
      "display_name": "Python 3"
    },
    "language_info": {
      "name": "python"
    }
  },
  "cells": [
    {
      "cell_type": "markdown",
      "metadata": {
        "id": "view-in-github",
        "colab_type": "text"
      },
      "source": [
        "<a href=\"https://colab.research.google.com/github/cbadenes/curso-pln/blob/main/notebooks/04_LDA_Cordis.ipynb\" target=\"_parent\"><img src=\"https://colab.research.google.com/assets/colab-badge.svg\" alt=\"Open In Colab\"/></a>"
      ]
    },
    {
      "cell_type": "markdown",
      "source": [
        "# Modelado de Tópicos con LDA (Latent Dirichlet Allocation)\n",
        "\n",
        "## ¿Qué es LDA?\n",
        "LDA es una técnica de modelado probabilístico que nos permite descubrir \"temas\" o \"tópicos\" ocultos en una colección de documentos.\n",
        "Cada documento se considera una mezcla de varios tópicos, y cada tópico es una distribución sobre palabras.\n",
        "\n",
        "## ¿Para qué sirve?\n",
        "- Descubrir temas subyacentes en grandes colecciones de textos\n",
        "- Clasificar documentos automáticamente\n",
        "- Recomendar contenidos similares\n",
        "- Analizar tendencias en documentos\n",
        "\n",
        "## En este notebook aprenderemos:\n",
        "1. Preparar y cargar datos textuales\n",
        "2. Preprocesar texto para LDA\n",
        "3. Entrenar un modelo LDA\n",
        "4. Interpretar y evaluar los resultados\n",
        "\n",
        "## Dataset:\n",
        "Usaremos una [colección de resúmenes de proyectos europeos](https://docs.google.com/spreadsheets/d/1up1Q9RcWhqQYkeM7b0SiToDJaMYzoSQeG-vfA3wY57s/edit?gid=0#gid=0) extraídos de [CORDIS](https://cordis.europa.eu/projects/en) como ejemplo.\n",
        "\"\"\""
      ],
      "metadata": {
        "id": "1NMom7R_IDJ3"
      }
    },
    {
      "cell_type": "markdown",
      "source": [
        "# 1) Importaciones y configuración inicial"
      ],
      "metadata": {
        "id": "kcBEMXY7HOCG"
      }
    },
    {
      "cell_type": "code",
      "execution_count": 1,
      "metadata": {
        "colab": {
          "base_uri": "https://localhost:8080/"
        },
        "id": "GcNFwFk3HIZe",
        "outputId": "df912a5a-11df-44e8-cea4-94e3a9596376"
      },
      "outputs": [
        {
          "output_type": "stream",
          "name": "stdout",
          "text": [
            "Requirement already satisfied: pyLDAvis==2.1.2 in /usr/local/lib/python3.10/dist-packages (2.1.2)\n",
            "Requirement already satisfied: wheel>=0.23.0 in /usr/local/lib/python3.10/dist-packages (from pyLDAvis==2.1.2) (0.45.1)\n",
            "Requirement already satisfied: numpy>=1.9.2 in /usr/local/lib/python3.10/dist-packages (from pyLDAvis==2.1.2) (1.26.4)\n",
            "Requirement already satisfied: scipy>=0.18.0 in /usr/local/lib/python3.10/dist-packages (from pyLDAvis==2.1.2) (1.13.1)\n",
            "Requirement already satisfied: pandas>=0.17.0 in /usr/local/lib/python3.10/dist-packages (from pyLDAvis==2.1.2) (1.3.5)\n",
            "Requirement already satisfied: joblib>=0.8.4 in /usr/local/lib/python3.10/dist-packages (from pyLDAvis==2.1.2) (1.4.2)\n",
            "Requirement already satisfied: jinja2>=2.7.2 in /usr/local/lib/python3.10/dist-packages (from pyLDAvis==2.1.2) (3.1.4)\n",
            "Requirement already satisfied: numexpr in /usr/local/lib/python3.10/dist-packages (from pyLDAvis==2.1.2) (2.10.2)\n",
            "Requirement already satisfied: pytest in /usr/local/lib/python3.10/dist-packages (from pyLDAvis==2.1.2) (8.3.4)\n",
            "Requirement already satisfied: future in /usr/local/lib/python3.10/dist-packages (from pyLDAvis==2.1.2) (1.0.0)\n",
            "Requirement already satisfied: funcy in /usr/local/lib/python3.10/dist-packages (from pyLDAvis==2.1.2) (2.0)\n",
            "Requirement already satisfied: MarkupSafe>=2.0 in /usr/local/lib/python3.10/dist-packages (from jinja2>=2.7.2->pyLDAvis==2.1.2) (3.0.2)\n",
            "Requirement already satisfied: python-dateutil>=2.7.3 in /usr/local/lib/python3.10/dist-packages (from pandas>=0.17.0->pyLDAvis==2.1.2) (2.8.2)\n",
            "Requirement already satisfied: pytz>=2017.3 in /usr/local/lib/python3.10/dist-packages (from pandas>=0.17.0->pyLDAvis==2.1.2) (2024.2)\n",
            "Requirement already satisfied: exceptiongroup>=1.0.0rc8 in /usr/local/lib/python3.10/dist-packages (from pytest->pyLDAvis==2.1.2) (1.2.2)\n",
            "Requirement already satisfied: iniconfig in /usr/local/lib/python3.10/dist-packages (from pytest->pyLDAvis==2.1.2) (2.0.0)\n",
            "Requirement already satisfied: packaging in /usr/local/lib/python3.10/dist-packages (from pytest->pyLDAvis==2.1.2) (24.2)\n",
            "Requirement already satisfied: pluggy<2,>=1.5 in /usr/local/lib/python3.10/dist-packages (from pytest->pyLDAvis==2.1.2) (1.5.0)\n",
            "Requirement already satisfied: tomli>=1 in /usr/local/lib/python3.10/dist-packages (from pytest->pyLDAvis==2.1.2) (2.2.1)\n",
            "Requirement already satisfied: six>=1.5 in /usr/local/lib/python3.10/dist-packages (from python-dateutil>=2.7.3->pandas>=0.17.0->pyLDAvis==2.1.2) (1.17.0)\n"
          ]
        }
      ],
      "source": [
        "# Instalamos las bibliotecas necesarias\n",
        "!pip install --upgrade -q gspread\n",
        "!pip install --upgrade -q google-auth-oauthlib\n",
        "\n",
        "# Instalamos las versiones específicas necesarias\n",
        "!pip install pyLDAvis==2.1.2\n",
        "\n",
        "# Reiniciamos el runtime de Colab para asegurar que los cambios surtan efecto\n",
        "#import IPython\n",
        "#IPython.Application.instance().kernel.do_shutdown(True)"
      ]
    },
    {
      "cell_type": "code",
      "source": [
        "# Importamos las bibliotecas que usaremos\n",
        "from sklearn.feature_extraction.text import CountVectorizer  # Para crear bag-of-words\n",
        "from sklearn.decomposition import LatentDirichletAllocation  # Para el modelo LDA\n",
        "import numpy as np  # Para operaciones numéricas\n",
        "import pandas as pd  # Para manipular datos tabulares\n",
        "import warnings\n",
        "warnings.filterwarnings('ignore')  # Suprimimos warnings para mayor claridad\n",
        "\n",
        "# Configuramos la visualización de DataFrames en Colab\n",
        "from google.colab import data_table\n",
        "data_table.enable_dataframe_formatter()\n",
        "\n",
        "print(\"Bibliotecas cargadas correctamente\")"
      ],
      "metadata": {
        "colab": {
          "base_uri": "https://localhost:8080/"
        },
        "id": "WcUa1IklNFF3",
        "outputId": "752942cf-0602-41e0-bd3a-6b740f2e920a"
      },
      "execution_count": 2,
      "outputs": [
        {
          "output_type": "stream",
          "name": "stdout",
          "text": [
            "Bibliotecas cargadas correctamente\n"
          ]
        }
      ]
    },
    {
      "cell_type": "markdown",
      "source": [
        "# 2) Autenticación y carga de datos\n",
        "\n",
        "Para acceder a los datos, seguiremos estos pasos:\n",
        "\n",
        "1. Crear una hoja de cálculo en Google Drive:\n",
        "   - Nombre: 'texts'\n",
        "   - Columnas: ID, TITLE, DESCRIPTION\n",
        "   - Primera fila: encabezados\n",
        "   - Filas siguientes: datos de ejemplo\n",
        "   \n",
        "2. Compartir la hoja:\n",
        "   - Clic en 'Compartir' en Google Sheets\n",
        "   - Configurar como \"Cualquier persona con el enlace puede editar\"\n",
        "   \n",
        "3. Autenticarnos con Google:"
      ],
      "metadata": {
        "id": "ppp1n6zmHSON"
      }
    },
    {
      "cell_type": "code",
      "source": [
        "from google.colab import auth\n",
        "auth.authenticate_user()\n",
        "\n",
        "import gspread\n",
        "from google.auth import default\n",
        "creds, _ = default()\n",
        "\n",
        "gc = gspread.authorize(creds)\n",
        "\n",
        "# Nombre de la hoja de cálculo (crear en Drive con texto de ejemplo)\n",
        "corpus = 'texts'\n",
        "worksheet = gc.open(corpus).sheet1\n",
        "\n",
        "# Cargar datos a DataFrame\n",
        "rows = worksheet.get_all_values()\n",
        "dataset_df = pd.DataFrame.from_records(rows[1:], columns=[\"ID\",\"TITLE\",\"DESCRIPTION\"])\n",
        "\n",
        "print(f\"Datos cargados exitosamente:\")\n",
        "print(f\"- Número de documentos: {len(dataset_df)}\")\n",
        "print(f\"- Columnas disponibles: {', '.join(dataset_df.columns)}\")\n",
        "\n",
        "# Mostrar los primeros documentos\n",
        "print(\"\\nPrimeros documentos:\")\n",
        "data_table.DataTable(dataset_df.head(), include_index=False, num_rows_per_page=5)\n"
      ],
      "metadata": {
        "colab": {
          "base_uri": "https://localhost:8080/",
          "height": 944
        },
        "id": "gBB603b0HUzt",
        "outputId": "488b7c8a-f8aa-4604-cd43-b6117c653ea2"
      },
      "execution_count": 3,
      "outputs": [
        {
          "output_type": "stream",
          "name": "stdout",
          "text": [
            "Datos cargados exitosamente:\n",
            "- Número de documentos: 100\n",
            "- Columnas disponibles: ID, TITLE, DESCRIPTION\n",
            "\n",
            "Primeros documentos:\n"
          ]
        },
        {
          "output_type": "execute_result",
          "data": {
            "text/html": [
              "<div>\n",
              "<style scoped>\n",
              "    .dataframe tbody tr th:only-of-type {\n",
              "        vertical-align: middle;\n",
              "    }\n",
              "\n",
              "    .dataframe tbody tr th {\n",
              "        vertical-align: top;\n",
              "    }\n",
              "\n",
              "    .dataframe thead th {\n",
              "        text-align: right;\n",
              "    }\n",
              "</style>\n",
              "<table border=\"1\" class=\"dataframe\">\n",
              "  <thead>\n",
              "    <tr style=\"text-align: right;\">\n",
              "      <th></th>\n",
              "      <th>ID</th>\n",
              "      <th>TITLE</th>\n",
              "      <th>DESCRIPTION</th>\n",
              "    </tr>\n",
              "  </thead>\n",
              "  <tbody>\n",
              "    <tr>\n",
              "      <th>0</th>\n",
              "      <td>EU100000</td>\n",
              "      <td>Visual object population codes  relating human...</td>\n",
              "      <td>Two major challenges facing systems neuroscien...</td>\n",
              "    </tr>\n",
              "    <tr>\n",
              "      <th>1</th>\n",
              "      <td>EU100001</td>\n",
              "      <td>New Opportunities for Research Funding Agency ...</td>\n",
              "      <td>NORFACE is a co-ordinated common action of fif...</td>\n",
              "    </tr>\n",
              "    <tr>\n",
              "      <th>2</th>\n",
              "      <td>EU100002</td>\n",
              "      <td>USA and Europe Cooperation in Mini UAVs</td>\n",
              "      <td>Unmanned Aerial Systems have been an active ar...</td>\n",
              "    </tr>\n",
              "    <tr>\n",
              "      <th>3</th>\n",
              "      <td>EU100003</td>\n",
              "      <td>Sustainable Infrastructure for Resilient Urban...</td>\n",
              "      <td>This fellowship aim is to identify how the use...</td>\n",
              "    </tr>\n",
              "    <tr>\n",
              "      <th>4</th>\n",
              "      <td>EU100004</td>\n",
              "      <td>Modelling star formation in the local universe</td>\n",
              "      <td>The goal of this proposal is to revolutionize ...</td>\n",
              "    </tr>\n",
              "  </tbody>\n",
              "</table>\n",
              "</div>"
            ],
            "application/vnd.google.colaboratory.module+javascript": "\n      import \"https://ssl.gstatic.com/colaboratory/data_table/e523c247d1e24a05/data_table.js\";\n\n      const table = window.createDataTable({\n        data: [[\"EU100000\",\n\"Visual object population codes  relating human brains to nonhuman and computational models with representational similarity analysis\",\n\"Two major challenges facing systems neuroscience today are (1) to relate computational brain theory with its notions of parallel computation and population-code representation to massively multivariate spatiotemporal brain-activity data as acquired with functional magnetic resonance imaging (fMRI) and cell recording and (2) to relate brain representations in animal models (e.g. nonhuman primates) to human brain representations. This project tackles these challenges with a focus on visual object recognition in human and nonhuman primates. Object recognition is a still poorly understood key problem of computational neuroscience with implications for cortical computation in general. We will test computational models and relate representational content of population codes between human and nonhuman primates by means of a novel multivariate technique called representational similarity analysis (RSA). The core idea of RSA is to characterize a given brain representation by a dissimilarity matrix of stimulus-evoked activity patterns and to visualize and statistically compare such dissimilarity matrices. In contrast to existing approaches, computational models here form an integral component of the analysis of brain-activity data. We will match up representationally homologous regions between human and nonhuman primate and determine which computational models best explain the empirical data (from human and nonhuman primate fMRI) for each brain region. Moreover this project will further develop the technique of RSA and provide an easy-to-use and freely available Matlab toolbox to the community. By richly relating brain theory to data and human to nonhuman primate studies, this project bridges major divides and will contribute to a more integrated systems neuroscience.\"],\n [\"EU100001\",\n\"New Opportunities for Research Funding Agency Co-operation in Europe II\",\n\"NORFACE is a co-ordinated common action of fifteen national research funding agencies. NORFACE stands for New Opportunities for Research Funding Agency Co-operation in Europe. The ERA-NET NORFACE Co-ordination Action started in January 2004 and has developed a close partnership and network of European national agencies responsible for funding research in the social sciences. The NORFACE Co-ordination Action formally ended in September 2009. The NORFACE-SA Partners together provide the capacity for significant levels of co-operation and exchange. They are committed to an ambitious programme of communication, enquiry, sharing of experience and action.The central Work package of the current proposal, Work package 1, is on Joint Research and Related Activities and Initiatives. This will involve the scoping and identifying of the multidisciplinary research needs with a view to developing joint research and related initiatives.Work package 2, Exploiting Data  Infrastructure in the Social Sciences, forms an important part of the proposal. In many European countries initiatives are taken to improve the infrastructure for research in the social sciences. By discussing national and international strategic initiatives, developing mechanisms to exploit data, and by co-ordinating a joint approach, NORFACE can have a contribution to the development of a European data infrastructure for the social sciences.The proposed ERA-NET NORFACE-II Support Action aims at further deepening and strengthening the established trans-national co-operation based on the experience gained and the existing co-operation structures, but also broadening the network activities and the EU impact, in order to successfully prepare a new ERA-NET Co-ordination Action and/or ERA-NET Plus.\"],\n [\"EU100002\",\n\"USA and Europe Cooperation in Mini UAVs\",\n\"Unmanned Aerial Systems have been an active area of research in recent years all around the world. Top research centres in the word are working on new applications, improving previous ones, solving specific problems in the different areas. Each centre has taken a special area of the whole field into focus and they are taking specialization on it. It makes a huge scattered network of knowledge.The project that we present here is an attempt to connect some relevant nodes of this network putting in contact 4 leading research centres whit experience in different fields connected and complementary, but not superposed. Thus, the opportunities and strength of each partner will be increased.The members of the consortium are:\\u2022 The ASU (Arizona State University)  Robotics Laboratory (http://robotics.asu.edu ) has significant experience in designing, building and deploying aerial and aquatic mobile robot systems. The present inventory of robots includes multiple fixed wing, rotary aerial vehicles and autonomous underwater vehicles with varied capabilities in sensing and actuation.\\u2022 The Link\\u00f6ping University, Artificial Intelligence & Integrated Computer Systems Division (http://www.ida.liu.se/~patdo/aiicssite1 ), contributes with his experience in quadrotor systems for indoor and outdoor, visual navigation and with Software Architectures for micro-uavs.\\u2022 The Universidad Polit\\u00e9cnica Madrid, Computer Vision Group (www.disam.upm.es/colibri ), contributes with his experience in visual guidance and visual control for rotatory UAVs.All the above makes a great opportunity to share knowledge, expertise, work-styles, etc. different operative test beds, laboratories and R&D leading technology facilities and no less importance, cultural aspects.\"],\n [\"EU100003\",\n\"Sustainable Infrastructure for Resilient Urban Environments\",\n\"This fellowship aim is to identify how the use of underground space and its physical infrastructure (PI) influence, interact with and impact on sustainability, vulnerability and resilience of urban areas, both now and in the future. Three case study cities (Berlin, London, Saint Petersburg) will serve as a basis for analysis of present and future interaction of Urban Underground Infrastructure (UUI) with the urban environment.Analysis of the present UUI role in the city is based on previous research results of Dr. Bobylev, including environmental assessment of underground structures and comparative analysis of UUI using urban sustainability indicators. The team at the University of Birmingham provides background for analysis of development scenarios (partly as a result of the current involvement in the Urban Futures project).Research methodology will employ Multiple Criteria Decision Analysis and Geographical Information Systems tools. Main work packages include collection of data on UUI (and other PI where needed), presenting this data in the form of quantitative indicators (e.g. volume, energy loss in network); analysis of UUI against sustainability and land use indicators; modeling indicator performance in future scenarios, developing policy recommendations for UUI planning and adaptation. It is important that feedback (in the form of expert interviews) of the case study cities relevant authorities will be integrated into policy recommendations developed during the fellowship.Dr. Bobylev is a pioneering researcher in the area of PI sustainability quantitative analysis and this fellowship will allow him to develop this idea further in a team of world leading experts on UUI.'\"],\n [\"EU100004\",\n\"Modelling star formation in the local universe\",\n\"The goal of this proposal is to revolutionize our understanding of star formation in nearby galaxies, using numerical simulations. Traditionally, research in star formation has considered the contraction of a giant molecular cloud (GMC), or more commonly a star forming core, under gravity. However there has been relatively little research on molecular clouds themselves, even though they provide the initial conditions for star formation, and thus determine the main assumptions for theories of star formation. The proposed research will focus on the scales of giant molecular clouds, the clouds of molecular hydrogen (H2) where most star formation takes place in nearby galaxies. These objects link galactic scale physics with the small scale physics of star formation. Only now are the computational resources becoming available to study the interstellar medium (ISM) numerically on galactic scales, and model the complex processes involved in GMC and star formation. Simultaneously observational programs (e.g. ALMA, Herschel, CARMA) are starting to resolve GMCs in nearby galaxies. Our research will involve performing calculations on scales from individual GMCs to interacting galaxies, and comparing to forthcoming observations to answer some of the most fundamental questions in star formation, such as why star formation is inefficient, how do GMCs form and what are their lifetimes.\"]],\n        columns: [[\"string\", \"ID\"], [\"string\", \"TITLE\"], [\"string\", \"DESCRIPTION\"]],\n        columnOptions: [],\n        rowsPerPage: 5,\n        helpUrl: \"https://colab.research.google.com/notebooks/data_table.ipynb\",\n        suppressOutputScrolling: true,\n        minimumWidth: undefined,\n      });\n\n      function appendQuickchartButton(parentElement) {\n        let quickchartButtonContainerElement = document.createElement('div');\n        quickchartButtonContainerElement.innerHTML = `\n<div id=\"df-d1ecffc7-766d-4036-bbcb-4d814330aacf\">\n  <button class=\"colab-df-quickchart\" onclick=\"quickchart('df-d1ecffc7-766d-4036-bbcb-4d814330aacf')\"\n            title=\"Suggest charts\"\n            style=\"display:none;\">\n    \n<svg xmlns=\"http://www.w3.org/2000/svg\" height=\"24px\"viewBox=\"0 0 24 24\"\n     width=\"24px\">\n    <g>\n        <path d=\"M19 3H5c-1.1 0-2 .9-2 2v14c0 1.1.9 2 2 2h14c1.1 0 2-.9 2-2V5c0-1.1-.9-2-2-2zM9 17H7v-7h2v7zm4 0h-2V7h2v10zm4 0h-2v-4h2v4z\"/>\n    </g>\n</svg>\n  </button>\n  \n<style>\n  .colab-df-quickchart {\n      --bg-color: #E8F0FE;\n      --fill-color: #1967D2;\n      --hover-bg-color: #E2EBFA;\n      --hover-fill-color: #174EA6;\n      --disabled-fill-color: #AAA;\n      --disabled-bg-color: #DDD;\n  }\n\n  [theme=dark] .colab-df-quickchart {\n      --bg-color: #3B4455;\n      --fill-color: #D2E3FC;\n      --hover-bg-color: #434B5C;\n      --hover-fill-color: #FFFFFF;\n      --disabled-bg-color: #3B4455;\n      --disabled-fill-color: #666;\n  }\n\n  .colab-df-quickchart {\n    background-color: var(--bg-color);\n    border: none;\n    border-radius: 50%;\n    cursor: pointer;\n    display: none;\n    fill: var(--fill-color);\n    height: 32px;\n    padding: 0;\n    width: 32px;\n  }\n\n  .colab-df-quickchart:hover {\n    background-color: var(--hover-bg-color);\n    box-shadow: 0 1px 2px rgba(60, 64, 67, 0.3), 0 1px 3px 1px rgba(60, 64, 67, 0.15);\n    fill: var(--button-hover-fill-color);\n  }\n\n  .colab-df-quickchart-complete:disabled,\n  .colab-df-quickchart-complete:disabled:hover {\n    background-color: var(--disabled-bg-color);\n    fill: var(--disabled-fill-color);\n    box-shadow: none;\n  }\n\n  .colab-df-spinner {\n    border: 2px solid var(--fill-color);\n    border-color: transparent;\n    border-bottom-color: var(--fill-color);\n    animation:\n      spin 1s steps(1) infinite;\n  }\n\n  @keyframes spin {\n    0% {\n      border-color: transparent;\n      border-bottom-color: var(--fill-color);\n      border-left-color: var(--fill-color);\n    }\n    20% {\n      border-color: transparent;\n      border-left-color: var(--fill-color);\n      border-top-color: var(--fill-color);\n    }\n    30% {\n      border-color: transparent;\n      border-left-color: var(--fill-color);\n      border-top-color: var(--fill-color);\n      border-right-color: var(--fill-color);\n    }\n    40% {\n      border-color: transparent;\n      border-right-color: var(--fill-color);\n      border-top-color: var(--fill-color);\n    }\n    60% {\n      border-color: transparent;\n      border-right-color: var(--fill-color);\n    }\n    80% {\n      border-color: transparent;\n      border-right-color: var(--fill-color);\n      border-bottom-color: var(--fill-color);\n    }\n    90% {\n      border-color: transparent;\n      border-bottom-color: var(--fill-color);\n    }\n  }\n</style>\n\n  <script>\n    async function quickchart(key) {\n      const quickchartButtonEl =\n        document.querySelector('#' + key + ' button');\n      quickchartButtonEl.disabled = true;  // To prevent multiple clicks.\n      quickchartButtonEl.classList.add('colab-df-spinner');\n      try {\n        const charts = await google.colab.kernel.invokeFunction(\n            'suggestCharts', [key], {});\n      } catch (error) {\n        console.error('Error during call to suggestCharts:', error);\n      }\n      quickchartButtonEl.classList.remove('colab-df-spinner');\n      quickchartButtonEl.classList.add('colab-df-quickchart-complete');\n    }\n    (() => {\n      let quickchartButtonEl =\n        document.querySelector('#df-d1ecffc7-766d-4036-bbcb-4d814330aacf button');\n      quickchartButtonEl.style.display =\n        google.colab.kernel.accessAllowed ? 'block' : 'none';\n    })();\n  </script>\n</div>`;\n        parentElement.appendChild(quickchartButtonContainerElement);\n      }\n\n      appendQuickchartButton(table);\n    ",
            "text/plain": [
              "<google.colab.data_table.DataTable object>"
            ]
          },
          "metadata": {},
          "execution_count": 3
        }
      ]
    },
    {
      "cell_type": "markdown",
      "source": [
        "# 3) Procesamiento inicial\n",
        "\n",
        "Para aplicar LDA, necesitamos convertir nuestros textos en una representación numérica.\n",
        "Usaremos Bag of Words (BoW), que:\n",
        "1. Crea un vocabulario con todas las palabras únicas\n",
        "2. Representa cada documento como un vector de frecuencias de palabras\n",
        "\n",
        "Parámetros importantes del vectorizador:\n",
        "- stop_words: palabras comunes a ignorar\n",
        "- min_df: frecuencia mínima de documento para incluir una palabra\n",
        "- max_df: frecuencia máxima de documento para incluir una palabra\n",
        "- lowercase: convertir todo a minúsculas\n",
        "- token_pattern: patrón para identificar palabras válidas"
      ],
      "metadata": {
        "id": "pMRVp7j_HfUF"
      }
    },
    {
      "cell_type": "code",
      "source": [
        "# Lista de textos a procesar\n",
        "documents = dataset_df['DESCRIPTION'].tolist()\n",
        "\n",
        "# Configurar y crear el vectorizador\n",
        "tf_vectorizer = CountVectorizer(\n",
        "    stop_words=[],  # No eliminamos stopwords por ahora\n",
        "    min_df=1,      # Incluir palabras que aparecen al menos 1 vez\n",
        "    max_df=1.0,    # Sin límite superior de frecuencia\n",
        "    lowercase=True, # Convertir todo a minúsculas\n",
        "    max_features=50000,  # Máximo número de palabras a considerar\n",
        "    token_pattern='[a-zA-Z0-9]{3,}',  # Palabras de 3+ caracteres\n",
        "    analyzer = 'word'\n",
        ")\n",
        "\n",
        "# Crear la matriz de documentos-términos\n",
        "bag_of_words = tf_vectorizer.fit_transform(documents)\n",
        "\n",
        "# Obtener el vocabulario\n",
        "dictionary = tf_vectorizer.get_feature_names_out()\n",
        "vocabulary = tf_vectorizer.vocabulary_\n",
        "\n",
        "print(\"Estadísticas del preprocesamiento:\")\n",
        "print(f\"- Tamaño del vocabulario: {len(dictionary)} palabras únicas\")\n",
        "print(f\"- Dimensiones de la matriz: {bag_of_words.shape}\")\n",
        "\n",
        "# Mostrar las palabras más frecuentes\n",
        "word_freq = bag_of_words.sum(axis=0).A1\n",
        "top_words_idx = word_freq.argsort()[-10:][::-1]\n",
        "print(\"\\nPalabras más frecuentes:\")\n",
        "for idx in top_words_idx:\n",
        "    print(f\"- {dictionary[idx]}: {word_freq[idx]} apariciones\")"
      ],
      "metadata": {
        "colab": {
          "base_uri": "https://localhost:8080/"
        },
        "id": "tu0V2j03HgRH",
        "outputId": "9aa3af32-6a23-40e7-aea6-795e51c7a3ed"
      },
      "execution_count": 4,
      "outputs": [
        {
          "output_type": "stream",
          "name": "stdout",
          "text": [
            "Estadísticas del preprocesamiento:\n",
            "- Tamaño del vocabulario: 4530 palabras únicas\n",
            "- Dimensiones de la matriz: (100, 4530)\n",
            "\n",
            "Palabras más frecuentes:\n",
            "- the: 1663 apariciones\n",
            "- and: 1204 apariciones\n",
            "- will: 379 apariciones\n",
            "- for: 332 apariciones\n",
            "- this: 191 apariciones\n",
            "- that: 169 apariciones\n",
            "- with: 166 apariciones\n",
            "- research: 149 apariciones\n",
            "- are: 149 apariciones\n",
            "- project: 115 apariciones\n"
          ]
        }
      ]
    },
    {
      "cell_type": "markdown",
      "source": [
        "# 4) Entrenamiento LDA\n",
        "\n",
        "El algoritmo LDA tiene varios hiperparámetros importantes:\n",
        "\n",
        "1. n_topics: Número de tópicos a encontrar\n",
        "   - Debe elegirse según el conocimiento del dominio\n",
        "   - Se puede optimizar usando métricas como coherencia o perplejidad\n",
        "\n",
        "2. alpha: Prior de la distribución documentos-tópicos\n",
        "   - alpha < 1: documentos se concentran en pocos tópicos\n",
        "   - alpha > 1: documentos mezclan varios tópicos\n",
        "   - alpha = 1: distribución uniforme\n",
        "\n",
        "3. beta: Prior de la distribución tópicos-palabras\n",
        "   - beta < 1: tópicos más específicos (pocas palabras)\n",
        "   - beta > 1: tópicos más generales (muchas palabras)\n",
        "   - beta = 1: distribución uniforme\n",
        "\n",
        "Probaremos primero con valores conservadores:"
      ],
      "metadata": {
        "id": "d4gEw9q1Hjox"
      }
    },
    {
      "cell_type": "code",
      "source": [
        "# Parámetros del modelo\n",
        "n_topics = 5    # Número moderado de tópicos para empezar\n",
        "alpha = 0.1     # Documentos algo especializados\n",
        "beta = 0.01     # Tópicos bastante específicos\n",
        "\n",
        "# Crear y entrenar el modelo\n",
        "print(\"Configuración del modelo LDA:\")\n",
        "print(f\"- Número de tópicos: {n_topics}\")\n",
        "print(f\"- Alpha: {alpha}\")\n",
        "print(f\"- Beta: {beta}\")\n",
        "print(\"\\nIniciando entrenamiento...\\n\")\n",
        "\n",
        "lda = LatentDirichletAllocation(\n",
        "    n_components=n_topics,      # Número de tópicos\n",
        "    doc_topic_prior=alpha,      # Prior documentos-tópicos\n",
        "    topic_word_prior=beta,      # Prior tópicos-palabras\n",
        "    max_iter=25,               # Máximo de iteraciones\n",
        "    learning_method='online',   # Método de aprendizaje\n",
        "    evaluate_every=1,          # Evaluar en cada iteración\n",
        "    n_jobs=-1,                # Usar todos los cores\n",
        "    random_state=0,           # Semilla para reproducibilidad\n",
        "    verbose=1                 # Mostrar progreso\n",
        ")\n",
        "\n",
        "# Entrenar el modelo\n",
        "lda.fit(bag_of_words)"
      ],
      "metadata": {
        "colab": {
          "base_uri": "https://localhost:8080/"
        },
        "id": "FD5kN6f6Hkrv",
        "outputId": "2e6e3c37-0339-47db-cede-f9cfb6b7dd6b"
      },
      "execution_count": 5,
      "outputs": [
        {
          "output_type": "stream",
          "name": "stdout",
          "text": [
            "Configuración del modelo LDA:\n",
            "- Número de tópicos: 5\n",
            "- Alpha: 0.1\n",
            "- Beta: 0.01\n",
            "\n",
            "Iniciando entrenamiento...\n",
            "\n",
            "iteration: 1 of max_iter: 25, perplexity: 46300.0638\n",
            "iteration: 2 of max_iter: 25, perplexity: 32375.6845\n",
            "iteration: 3 of max_iter: 25, perplexity: 26515.7889\n",
            "iteration: 4 of max_iter: 25, perplexity: 22904.6664\n",
            "iteration: 5 of max_iter: 25, perplexity: 20267.5881\n",
            "iteration: 6 of max_iter: 25, perplexity: 18180.6967\n",
            "iteration: 7 of max_iter: 25, perplexity: 16458.8900\n",
            "iteration: 8 of max_iter: 25, perplexity: 15001.4921\n",
            "iteration: 9 of max_iter: 25, perplexity: 13746.1066\n",
            "iteration: 10 of max_iter: 25, perplexity: 12651.8809\n",
            "iteration: 11 of max_iter: 25, perplexity: 11690.0460\n",
            "iteration: 12 of max_iter: 25, perplexity: 10839.2152\n",
            "iteration: 13 of max_iter: 25, perplexity: 10082.8422\n",
            "iteration: 14 of max_iter: 25, perplexity: 9407.7400\n",
            "iteration: 15 of max_iter: 25, perplexity: 8803.1630\n",
            "iteration: 16 of max_iter: 25, perplexity: 8260.2043\n",
            "iteration: 17 of max_iter: 25, perplexity: 7771.3822\n",
            "iteration: 18 of max_iter: 25, perplexity: 7330.3450\n",
            "iteration: 19 of max_iter: 25, perplexity: 6931.6537\n",
            "iteration: 20 of max_iter: 25, perplexity: 6570.6174\n",
            "iteration: 21 of max_iter: 25, perplexity: 6243.1666\n",
            "iteration: 22 of max_iter: 25, perplexity: 5945.7529\n",
            "iteration: 23 of max_iter: 25, perplexity: 5675.2690\n",
            "iteration: 24 of max_iter: 25, perplexity: 5429.0064\n",
            "iteration: 25 of max_iter: 25, perplexity: 5204.7577\n"
          ]
        },
        {
          "output_type": "execute_result",
          "data": {
            "text/plain": [
              "LatentDirichletAllocation(doc_topic_prior=0.1, evaluate_every=1,\n",
              "                          learning_method='online', max_iter=25, n_components=5,\n",
              "                          n_jobs=-1, random_state=0, topic_word_prior=0.01,\n",
              "                          verbose=1)"
            ]
          },
          "metadata": {},
          "execution_count": 5
        }
      ]
    },
    {
      "cell_type": "markdown",
      "source": [
        "# 5) Análisis de Resultados\n",
        "\n",
        "Analizaremos los resultados desde tres perspectivas:\n",
        "\n",
        "1. Palabras más relevantes por tópico\n",
        "2. Documentos más representativos de cada tópico\n",
        "3. Distribución de tópicos en documentos específicos"
      ],
      "metadata": {
        "id": "ooBo6edWHo6-"
      }
    },
    {
      "cell_type": "code",
      "source": [
        "# Configuración de visualización\n",
        "no_top_words = 10      # Número de palabras top por tópico\n",
        "no_top_documents = 2   # Número de documentos top por tópico\n",
        "\n",
        "# Obtener las distribuciones\n",
        "doc_topics = lda.transform(bag_of_words)  # Distribución de tópicos por documento\n",
        "topics = lda.components_                  # Distribución de palabras por tópico\n",
        "\n",
        "# 1. Detallar tópicos encontrados\n",
        "print(\"TÓPICOS DESCUBIERTOS\")\n",
        "print(\"Cada tópico se representa por sus palabras más probables\\n\")\n",
        "\n",
        "for topic_idx, topic in enumerate(topics):\n",
        "    print(f\" Tópico {topic_idx + 1}:\")\n",
        "    # Obtener índices de las palabras más probables\n",
        "    top_words_idx = topic.argsort()[:-no_top_words-1:-1]\n",
        "    top_words = [dictionary[i] for i in top_words_idx]\n",
        "    top_probs = [topic[i] for i in top_words_idx]\n",
        "\n",
        "    # Mostrar palabras y sus probabilidades\n",
        "    for word, prob in zip(top_words, top_probs):\n",
        "        print(f\"   {word}: {prob:.4f}\")\n",
        "    print()"
      ],
      "metadata": {
        "colab": {
          "base_uri": "https://localhost:8080/"
        },
        "id": "HBhhzxwIHppc",
        "outputId": "2105f1d6-50fd-42d6-9dec-dfa72203a5d0"
      },
      "execution_count": 6,
      "outputs": [
        {
          "output_type": "stream",
          "name": "stdout",
          "text": [
            "TÓPICOS DESCUBIERTOS\n",
            "Cada tópico se representa por sus palabras más probables\n",
            "\n",
            " Tópico 1:\n",
            "   the: 529.9311\n",
            "   and: 445.2790\n",
            "   for: 118.9823\n",
            "   will: 109.9895\n",
            "   research: 56.3189\n",
            "   data: 54.5386\n",
            "   with: 53.0728\n",
            "   are: 50.2753\n",
            "   this: 48.8662\n",
            "   new: 41.1116\n",
            "\n",
            " Tópico 2:\n",
            "   quantum: 17.0245\n",
            "   placebo: 10.3181\n",
            "   memories: 5.6173\n",
            "   the: 4.9842\n",
            "   mechanisms: 4.8479\n",
            "   nocebo: 4.6492\n",
            "   responses: 4.3280\n",
            "   sediments: 3.8541\n",
            "   ocean: 3.8343\n",
            "   entanglement: 3.7397\n",
            "\n",
            " Tópico 3:\n",
            "   the: 1055.8902\n",
            "   and: 703.8277\n",
            "   will: 251.5600\n",
            "   for: 197.2489\n",
            "   this: 133.7157\n",
            "   that: 124.4376\n",
            "   with: 105.6128\n",
            "   are: 91.1066\n",
            "   research: 84.5731\n",
            "   project: 71.7300\n",
            "\n",
            " Tópico 4:\n",
            "   the: 0.4286\n",
            "   and: 0.4281\n",
            "   for: 0.2527\n",
            "   will: 0.2292\n",
            "   are: 0.1622\n",
            "   that: 0.1581\n",
            "   protocol: 0.1329\n",
            "   this: 0.1255\n",
            "   secure: 0.1242\n",
            "   practice: 0.1120\n",
            "\n",
            " Tópico 5:\n",
            "   star: 9.5687\n",
            "   formation: 8.6666\n",
            "   galaxies: 3.8771\n",
            "   molecular: 3.6362\n",
            "   the: 3.1308\n",
            "   gmcs: 2.9180\n",
            "   nearby: 2.9158\n",
            "   clouds: 2.9150\n",
            "   scales: 2.7884\n",
            "   gmc: 1.9606\n",
            "\n"
          ]
        }
      ]
    },
    {
      "cell_type": "markdown",
      "source": [
        "## Visualización de Tópicos\n"
      ],
      "metadata": {
        "id": "VVbo4ReLLJ6-"
      }
    },
    {
      "cell_type": "code",
      "source": [
        "# Importamos las bibliotecas necesarias\n",
        "import pyLDAvis\n",
        "import pyLDAvis.sklearn\n",
        "\n",
        "# Convertimos sparse matrix a dense ya que pyLDAvis no maneja sparse matrices\n",
        "import scipy.sparse\n",
        "dense_bag_of_words = scipy.sparse.csr_matrix.todense(bag_of_words)\n",
        "\n",
        "# Preparamos la visualización\n",
        "prepared_data = pyLDAvis.sklearn.prepare(\n",
        "    lda,                # El modelo LDA entrenado\n",
        "    dense_bag_of_words, # La matriz documento-término (en formato denso)\n",
        "    tf_vectorizer,      # El vectorizador usado\n",
        "    mds='mmds'         # Método de escalamiento multidimensional\n",
        ")\n",
        "\n",
        "# Mostrar la visualización en el notebook\n",
        "pyLDAvis.enable_notebook()\n",
        "pyLDAvis.display(prepared_data)"
      ],
      "metadata": {
        "colab": {
          "base_uri": "https://localhost:8080/",
          "height": 1000
        },
        "id": "zGqBl9kULMBr",
        "outputId": "11dc036e-edd8-40e3-8e33-248c2bf857e5"
      },
      "execution_count": 8,
      "outputs": [
        {
          "output_type": "stream",
          "name": "stderr",
          "text": [
            "/usr/local/lib/python3.10/dist-packages/ipykernel/ipkernel.py:283: DeprecationWarning: `should_run_async` will not call `transform_cell` automatically in the future. Please pass the result to `transformed_cell` argument and any exception that happen during thetransform in `preprocessing_exc_tuple` in IPython 7.17 and above.\n",
            "  and should_run_async(code)\n",
            "/usr/local/lib/python3.10/dist-packages/pandas/core/dtypes/cast.py:1846: DeprecationWarning: np.find_common_type is deprecated.  Please use `np.result_type` or `np.promote_types`.\n",
            "See https://numpy.org/devdocs/release/1.25.0-notes.html and the docs for more information.  (Deprecated NumPy 1.25)\n",
            "  return np.find_common_type(types, [])  # type: ignore[arg-type]\n",
            "/usr/local/lib/python3.10/dist-packages/pandas/core/dtypes/cast.py:1846: DeprecationWarning: np.find_common_type is deprecated.  Please use `np.result_type` or `np.promote_types`.\n",
            "See https://numpy.org/devdocs/release/1.25.0-notes.html and the docs for more information.  (Deprecated NumPy 1.25)\n",
            "  return np.find_common_type(types, [])  # type: ignore[arg-type]\n"
          ]
        },
        {
          "output_type": "execute_result",
          "data": {
            "text/plain": [
              "<IPython.core.display.HTML object>"
            ],
            "text/html": [
              "\n",
              "<link rel=\"stylesheet\" type=\"text/css\" href=\"https://cdn.rawgit.com/bmabey/pyLDAvis/files/ldavis.v1.0.0.css\">\n",
              "\n",
              "\n",
              "<div id=\"ldavis_el101801367232312796969585254372\"></div>\n",
              "<script type=\"text/javascript\">\n",
              "\n",
              "var ldavis_el101801367232312796969585254372_data = {\"mdsDat\": {\"x\": [0.15448746233589714, 0.11002955401950515, -0.18521409236515562, -0.03551604843336288, -0.04378687555688376], \"y\": [0.017029180092813026, -0.14165086636126764, -0.035989936216817946, 0.12388382750005872, 0.036727794985213884], \"topics\": [1, 2, 3, 4, 5], \"cluster\": [1, 1, 1, 1, 1], \"Freq\": [63.22035772846479, 34.663776367086854, 1.4941537470718338, 0.5769563019410552, 0.04475585543546933]}, \"tinfo\": {\"Term\": [\"the\", \"and\", \"research\", \"are\", \"for\", \"between\", \"information\", \"quantum\", \"scale\", \"will\", \"most\", \"mechanisms\", \"our\", \"has\", \"state\", \"effects\", \"physics\", \"matter\", \"data\", \"molecular\", \"these\", \"light\", \"low\", \"what\", \"main\", \"proposed\", \"some\", \"under\", \"processes\", \"where\", \"energy\", \"airport\", \"sos\", \"processing\", \"hpc\", \"laser\", \"microvascular\", \"dynamic\", \"fundamental\", \"circuits\", \"chip\", \"biological\", \"urban\", \"dynamics\", \"diamond\", \"plasticity\", \"dark\", \"interactions\", \"steering\", \"diabetes\", \"background\", \"understanding\", \"games\", \"evolution\", \"power\", \"rlw\", \"variation\", \"spin\", \"gloria\", \"fields\", \"actors\", \"material\", \"exascale\", \"structural\", \"range\", \"domain\", \"the\", \"policy\", \"that\", \"will\", \"study\", \"and\", \"this\", \"physical\", \"using\", \"environment\", \"for\", \"such\", \"high\", \"with\", \"these\", \"are\", \"systems\", \"analysis\", \"project\", \"research\", \"different\", \"based\", \"how\", \"can\", \"from\", \"two\", \"which\", \"system\", \"their\", \"have\", \"between\", \"new\", \"has\", \"develop\", \"mirnas\", \"enterprises\", \"dox\", \"therapy\", \"tr1\", \"scb\", \"inflammation\", \"logistics\", \"linked\", \"government\", \"norface\", \"trz\", \"laminar\", \"strengthening\", \"nonhuman\", \"copra\", \"differentiation\", \"fleets\", \"care\", \"chains\", \"workforce\", \"mirna\", \"sgd\", \"structured\", \"situation\", \"ncls\", \"vaccines\", \"after\", \"cassandra\", \"psiup\", \"psu\", \"security\", \"coastal\", \"communities\", \"data\", \"action\", \"and\", \"the\", \"access\", \"business\", \"european\", \"for\", \"cells\", \"will\", \"research\", \"joint\", \"protocol\", \"secure\", \"new\", \"europe\", \"are\", \"human\", \"with\", \"from\", \"project\", \"their\", \"this\", \"models\", \"design\", \"systems\", \"that\", \"these\", \"between\", \"which\", \"have\", \"future\", \"approach\", \"large\", \"based\", \"sediments\", \"placebo\", \"anoxia\", \"burial\", \"cold\", \"earth\", \"nocebo\", \"realization\", \"entanglement\", \"spectrometry\", \"sediment\", \"oceans\", \"ensemble\", \"expectation\", \"limiting\", \"nanosims\", \"phytoplankton\", \"anthropogenically\", \"inductively\", \"biogeochemical\", \"pain\", \"dead\", \"decreases\", \"interpret\", \"records\", \"harnessing\", \"synchotron\", \"cycling\", \"mineral\", \"icp\", \"quantum\", \"ancient\", \"ocean\", \"responses\", \"memories\", \"atomic\", \"responsible\", \"quantify\", \"networks\", \"demonstration\", \"mechanisms\", \"marine\", \"avenues\", \"oxygen\", \"production\", \"minimize\", \"effects\", \"matter\", \"information\", \"light\", \"the\", \"state\", \"and\", \"between\", \"galaxies\", \"clouds\", \"gmcs\", \"nearby\", \"giant\", \"gmc\", \"galactic\", \"assumptions\", \"ism\", \"forthcoming\", \"comparing\", \"revolutionize\", \"carma\", \"forming\", \"alma\", \"resolve\", \"interstellar\", \"hydrogen\", \"gravity\", \"herschel\", \"lifetimes\", \"star\", \"formation\", \"objects\", \"contraction\", \"inefficient\", \"theories\", \"though\", \"relatively\", \"numerically\", \"scales\", \"molecular\", \"physics\", \"the\", \"research\", \"scale\", \"and\", \"most\", \"are\", \"answer\", \"medium\", \"assumptions\", \"revolutionize\", \"forthcoming\", \"alma\", \"forming\", \"ism\", \"carma\", \"interstellar\", \"hydrogen\", \"herschel\", \"resolve\", \"comparing\", \"gravity\", \"lifetimes\", \"doped\", \"extreme\", \"icp\", \"harnessing\", \"reported\", \"qubits\", \"ancient\", \"decreases\", \"principle\", \"limiting\", \"phytoplankton\", \"ignores\", \"zones\", \"hold\", \"repeaters\", \"geochemical\", \"something\", \"lanthanides\", \"winner\", \"bids\", \"entity\", \"ruled\", \"instance\", \"representationally\", \"helping\", \"again\", \"integrationat\", \"protocols\", \"protocol\", \"want\", \"crystal\", \"and\", \"nuclear\", \"equal\", \"the\", \"secure\", \"for\", \"practice\", \"will\", \"are\", \"that\", \"problem\", \"prove\", \"protect\", \"lxa4\", \"entities\", \"they\", \"this\", \"data\", \"which\", \"systems\", \"project\", \"models\", \"security\", \"some\", \"number\", \"these\", \"rlw\", \"from\", \"resolution\", \"theory\", \"with\", \"based\", \"research\", \"develop\", \"transport\"], \"Freq\": [1622.0, 1174.0, 144.0, 144.0, 323.0, 67.0, 33.0, 16.0, 27.0, 370.0, 27.0, 18.0, 27.0, 50.0, 20.0, 18.0, 13.0, 15.0, 81.0, 10.0, 89.0, 12.0, 15.0, 15.0, 17.0, 22.0, 14.0, 13.0, 26.0, 18.0, 42.13909886597552, 12.832173600080793, 15.723354143608324, 16.670544370334145, 24.47058694397868, 13.766887798009298, 9.883949337087808, 10.85043218012047, 19.47724875668603, 12.778250929579887, 10.844427380416786, 12.787459095268803, 11.820853033894997, 16.648093150659054, 9.865752775948694, 7.920654750699826, 9.822736543724526, 8.882276730416663, 8.883410494426615, 16.607056404837078, 7.884603604219879, 16.5440799998598, 8.87205924175381, 7.8932198756175875, 9.838033469966135, 8.874169452786768, 8.85831659381349, 11.791402803445056, 7.897476445209405, 14.650356048356247, 10.796067985309474, 11.690909247535721, 10.763004860994775, 12.61945616492467, 19.645918027342518, 9.750202997416794, 1083.259227858379, 16.722456837905977, 127.66306190165528, 258.0805124442959, 36.28405007030604, 722.0711328379333, 137.1816688522015, 20.581843896153647, 45.904594505047804, 19.685509976070914, 202.3616308975675, 46.35738176460985, 30.456592122349576, 108.35032214192064, 63.77977224573797, 93.46811605438624, 63.63916963615675, 28.283478985570483, 73.58923462210446, 86.76522600333239, 30.54101628318694, 43.655263663975376, 25.42283280467592, 37.5532995816798, 58.8819375790088, 33.9418519801542, 43.17427820775459, 35.49389245752689, 50.00635293811157, 41.54458204839213, 43.60414952614914, 54.808569623288385, 34.03028207394516, 31.35406534412942, 11.629281113336228, 10.680458318519115, 7.772985199964191, 8.72708903171682, 7.76316002118244, 6.819839518953146, 7.74693763812508, 6.816823281799112, 6.8094874950035145, 6.784615960606155, 6.766363034893946, 6.8159555743005535, 5.851975948122261, 5.83622258973069, 5.8391742330133125, 4.8839257616882845, 5.832528034648468, 5.83153019783917, 5.837315143151071, 4.8790377001754095, 5.840171316808445, 4.880934117608533, 4.894793261693009, 4.88373810680349, 4.8813525384068805, 5.824205814788645, 4.870004218188053, 4.876980681538306, 4.879815969012921, 5.819546727825893, 5.805437104381618, 20.326967176366054, 11.577739978248012, 12.570739545430381, 55.04424466422258, 10.630707313745802, 449.4075824110138, 534.8445593329177, 18.085954242837307, 14.58330640324205, 32.52923530494755, 120.08552353515059, 18.37738729526702, 111.00928245107698, 56.84104589122173, 11.638767220896272, 7.705778024946647, 11.593669629778965, 41.49281286173236, 24.280847866034204, 50.74141468490819, 18.432733233739835, 53.56493215724689, 36.76050553290055, 38.774780273581754, 30.019265843533773, 49.31927943704885, 20.35418751657546, 20.362247636234546, 29.15456541118351, 37.67878838266484, 25.32914754366112, 22.31281273721641, 21.26943108739705, 20.995696185282533, 17.270448244568996, 16.385605434737904, 16.551639173088805, 17.50274616183699, 2.4125618169557335, 6.458866754296653, 1.8161144972471994, 1.8044660081810022, 1.7893508347032412, 1.791678235099431, 2.9102939879215466, 1.7805867182921802, 2.340985085799194, 1.219141343108658, 1.2107218269635405, 1.2085986801881397, 1.1833272411135924, 1.7196221694491542, 0.6249018652432566, 0.6246184099441866, 0.6259675479430205, 0.6224314201201416, 0.6237327194565448, 0.623722839992501, 1.149453262500531, 0.6236926710716288, 0.6199844862154869, 0.6291912503674263, 0.6245797747441193, 0.6241706345556413, 0.613648011160689, 0.6181762823143734, 0.6210015739048469, 0.6205578307275751, 10.656898429387999, 0.6207104734362394, 2.400171015887025, 2.709243715668298, 3.516307768428971, 2.0509534858601097, 1.201529339476846, 1.145578383131066, 2.090136770996538, 2.0223997137847167, 3.034695651256687, 1.8035876085480602, 1.055146073200871, 1.510746158338919, 1.5572401459013072, 0.9889829835833397, 2.086761645347304, 1.7648357060194069, 2.0331490895846303, 1.6557270598680214, 3.1199913571482933, 1.624918519665412, 2.1301450839208163, 1.6160052193218122, 1.391749479686307, 1.0463860108104324, 1.0474621599182863, 1.0466856515156617, 0.7029428630007367, 0.703793861100796, 0.6995018105239629, 0.3629351137138442, 0.3623954404306537, 0.3615161058227751, 0.36214599870178227, 0.35813825643380537, 0.3621050883051949, 0.3586582040502989, 0.35905500467790985, 0.3603291748800888, 0.3615399787876968, 0.35763195883521054, 0.3570216260933853, 0.35590155474888996, 0.358388469104581, 3.4348316736549616, 3.1110131260650644, 0.352423963177298, 0.36088721990384126, 0.3620932408458061, 0.35604401878708086, 0.3527813763435382, 0.35172072177052294, 0.3498985833580115, 1.0009505502822706, 1.30528046107058, 0.5560467995495509, 1.1238376561055203, 0.6975275122597456, 0.4727529527270857, 0.5187409446288536, 0.4159947291907241, 0.4350051779078825, 0.36171341757607156, 0.3586872728402347, 0.0023463983882512926, 0.0023045313230341817, 0.00229086375618912, 0.0022997615526306795, 0.0022644104041414977, 0.0021088575344134592, 0.0021172107067148906, 0.0021215340757889637, 0.0020722636294431694, 0.002061586787198558, 0.001944967927368869, 0.0018990754637352974, 0.001919860359570778, 0.0019480853808551495, 0.0025903425275982613, 0.002562602002331118, 0.002440559495829224, 0.002438407591878533, 0.0024418305048234377, 0.0024414617934190815, 0.002370651901854674, 0.0023453316214189592, 0.0023450189066122084, 0.0022667297424052084, 0.0022867872072850318, 0.0023068253642758354, 0.0022890261364642804, 0.002305357723085664, 0.0022914273607010493, 0.0022572575378081703, 0.003040616389196169, 0.002825654212794161, 0.0027852853133179247, 0.0027800927118971216, 0.0027253165696621176, 0.002755647708053425, 0.002724485740972563, 0.0026973926723710493, 0.0026891549453454643, 0.002661210582609947, 0.0026720198683150803, 0.004574420329832372, 0.005511109215180358, 0.004363582590757104, 0.002653579481475993, 0.01775464875238576, 0.002638884666901777, 0.0026346979517533416, 0.017774996576480167, 0.005152267217873433, 0.010479813009217484, 0.004644394712299091, 0.009504584297896364, 0.0067272930816891455, 0.006555995029814981, 0.004024680716297843, 0.00309009959218522, 0.002906127569240451, 0.003081682785003471, 0.0028876251780205055, 0.004134912650978825, 0.0052059202928253214, 0.004631683693809372, 0.004394008104264569, 0.004482014058193904, 0.004508882951497768, 0.0040551526226812505, 0.003626339943088865, 0.0034885695847459114, 0.003483862257249489, 0.00401758584406448, 0.003294988127796639, 0.003885719199101961, 0.0033710255027646603, 0.0033975842907451384, 0.003871028136580193, 0.00361335735574127, 0.0036680832502522707, 0.003483576177001783, 0.003386461498820232], \"Total\": [1622.0, 1174.0, 144.0, 144.0, 323.0, 67.0, 33.0, 16.0, 27.0, 370.0, 27.0, 18.0, 27.0, 50.0, 20.0, 18.0, 13.0, 15.0, 81.0, 10.0, 89.0, 12.0, 15.0, 15.0, 17.0, 22.0, 14.0, 13.0, 26.0, 18.0, 42.399617319128225, 12.934112296370422, 15.85307269160912, 16.828428415093683, 24.70424338580078, 13.906723330444802, 9.985243412576475, 10.963306869232907, 19.68408413154826, 12.91399461699851, 10.962793124697246, 12.928521356539376, 11.952915018638853, 16.855368341924446, 9.988852810267174, 8.020992733541314, 9.948459477304235, 8.997132461992603, 9.00045261596968, 16.83042937638283, 7.990981079660464, 16.769816677589468, 8.994025034229606, 8.002309230150203, 9.976042000870073, 8.998749007853013, 8.983009074670678, 11.958012023854865, 8.01492188044058, 14.872060766667518, 10.967021547792848, 11.902451279621449, 10.961942082001201, 12.930118280159434, 20.760661997176374, 9.944714428375505, 1622.365391201127, 17.8351005182352, 165.5048483193359, 370.10736940651265, 42.27765704932448, 1174.145355926249, 186.8233583044318, 22.710875465401465, 56.79196729886798, 21.76400234656362, 323.50227190050964, 58.84380939848021, 36.41149747875109, 162.23861003980812, 89.74320057583677, 144.86045675812298, 92.9436732143104, 34.346566278430686, 112.4787518490772, 144.40145901328043, 38.3396467848405, 61.55740724453916, 30.462064833538886, 50.99709694553885, 95.77487871448646, 45.11172220959772, 64.58750404527406, 49.06548255091811, 80.17311115250767, 62.656822607831245, 67.57074481164587, 96.60529598908113, 50.52947965289913, 44.10885858273596, 11.752513277032053, 10.810669992224812, 7.8875760964030865, 8.858070279128535, 7.887881812339886, 6.929779661666373, 7.874049222573421, 6.929382155147269, 6.925604997464553, 6.901579824386482, 6.8889073648597074, 6.940301687206648, 5.961079977482486, 5.947382992510019, 5.952968836947409, 4.98159965361281, 5.94917972718266, 5.948262334815167, 5.954560519326336, 4.977990624536016, 5.963400050825095, 4.986781079324429, 5.002763969539845, 4.991871366858852, 4.989473509377266, 5.955416029972737, 4.982742328921996, 4.990197995851233, 4.99539530703974, 5.959500390490681, 5.9549717002707885, 21.42240602325534, 12.336089428225785, 14.680754138008352, 81.6998084032024, 12.72126163647357, 1174.145355926249, 1622.365391201127, 25.409049816819575, 19.56450426564858, 56.584230174071116, 323.50227190050964, 29.32802100821819, 370.10736940651265, 144.40145901328043, 15.685575180042633, 8.784547280021267, 15.635108622523482, 96.60529598908113, 44.9398111980901, 144.86045675812298, 31.28686407854037, 162.23861003980812, 95.77487871448646, 112.4787518490772, 80.17311115250767, 186.8233583044318, 43.90265625388769, 44.94136064846343, 92.9436732143104, 165.5048483193359, 89.74320057583677, 67.57074481164587, 64.58750404527406, 62.656822607831245, 46.03103566974508, 41.12048858297441, 43.094659930167325, 61.55740724453916, 2.5571505325701316, 6.870567236747656, 1.9757640430894272, 1.9808543568558419, 1.9858627595760407, 1.9896872342624061, 3.238516845373721, 1.983445157346402, 2.615951828370403, 1.3677910792441936, 1.3720437354576718, 1.3797223886276098, 1.3723988925854305, 2.0374582696681847, 0.7510461432186993, 0.7549062547200606, 0.7587104695275114, 0.7558018667284119, 0.7581879640201319, 0.7591517558627704, 1.4013586070218338, 0.762324115018099, 0.7595279572135394, 0.7718238058403408, 0.766458670694502, 0.7666006199533736, 0.7539818218588851, 0.759918377535233, 0.764427336073273, 0.7646860616459327, 16.970967000284364, 0.764917318318367, 4.50232725094347, 5.299624695850544, 8.663195976146, 5.740134658503297, 2.3469366835336083, 2.3954332761711283, 7.655018149602971, 7.6876584137754085, 18.753124909029722, 6.811903814688573, 2.4443944687090804, 6.091470607604991, 7.02653562339291, 2.4942216643298405, 18.415532363958985, 15.728601050141513, 33.018176283313565, 12.836995898360419, 1622.365391201127, 20.69459929550822, 1174.145355926249, 67.57074481164587, 1.5308362476294939, 1.1825595160066407, 1.1944287766568762, 1.202569969509101, 0.8365950636643309, 0.8393675774540938, 0.8515197999326901, 0.4961838876100387, 0.4972794593511295, 0.49940850251454405, 0.5018373165139695, 0.49691370633965526, 0.5045718777226913, 0.5010394228967504, 0.5033874102350201, 0.5084646567169431, 0.5111639897771915, 0.5095433699171918, 0.5104383236067602, 0.5149337893653859, 0.5244680949242488, 5.609338737850831, 6.153976930907537, 1.139882462699475, 1.4652202440404547, 1.4794835745491672, 1.5117040156019186, 1.5102432087947102, 1.5155231609847604, 1.5150594647208437, 5.195847071013275, 10.47973039599559, 13.892361930139389, 1622.365391201127, 144.40145901328043, 27.46705286585342, 1174.145355926249, 27.821668200761568, 144.86045675812298, 3.3973433087771476, 2.4363318308367417, 0.4961838876100387, 0.49691370633965526, 0.49940850251454405, 0.5033874102350201, 0.5010394228967504, 0.4972794593511295, 0.5045718777226913, 0.5111639897771915, 0.5095433699171918, 0.5149337893653859, 0.5084646567169431, 0.5018373165139695, 0.5104383236067602, 0.5244680949242488, 0.7690369539017125, 0.7716495500826278, 0.7646860616459327, 0.7666006199533736, 0.775062838621639, 0.7810662542412711, 0.764917318318367, 0.7595279572135394, 0.7758655855232687, 0.7510461432186993, 0.7587104695275114, 0.7687595838354664, 0.7648146222417885, 0.7705420550409596, 0.7700290663843475, 0.7660158929583268, 1.117792607323919, 1.136515793878583, 1.1175156150873706, 1.1248631325469185, 1.1074124397066964, 1.1360685752010113, 1.1108429235799178, 1.120669876009361, 1.1446323100759581, 1.1190406311992405, 1.1387482484426248, 4.954142504785872, 8.784547280021267, 5.906543161644827, 1.1486177401952777, 1174.145355926249, 1.1357455099378446, 1.13175908614449, 1622.365391201127, 15.635108622523482, 323.50227190050964, 12.795015210174624, 370.10736940651265, 144.86045675812298, 165.5048483193359, 12.766460218677395, 3.0530119394696213, 2.0812724054043334, 3.036458689707233, 2.067780456132503, 28.28042300902427, 186.8233583044318, 81.6998084032024, 64.58750404527406, 92.9436732143104, 112.4787518490772, 43.90265625388769, 21.42240602325534, 14.311422435854825, 14.770078602240988, 89.74320057583677, 8.998749007853013, 95.77487871448646, 12.82198772347531, 15.777949135687386, 162.23861003980812, 61.55740724453916, 144.40145901328043, 44.10885858273596, 28.501337141204658], \"Category\": [\"Default\", \"Default\", \"Default\", \"Default\", \"Default\", \"Default\", \"Default\", \"Default\", \"Default\", \"Default\", \"Default\", \"Default\", \"Default\", \"Default\", \"Default\", \"Default\", \"Default\", \"Default\", \"Default\", \"Default\", \"Default\", \"Default\", \"Default\", \"Default\", \"Default\", \"Default\", \"Default\", \"Default\", \"Default\", \"Default\", \"Topic1\", \"Topic1\", \"Topic1\", \"Topic1\", \"Topic1\", \"Topic1\", \"Topic1\", \"Topic1\", \"Topic1\", \"Topic1\", \"Topic1\", \"Topic1\", \"Topic1\", \"Topic1\", \"Topic1\", \"Topic1\", \"Topic1\", \"Topic1\", \"Topic1\", \"Topic1\", \"Topic1\", \"Topic1\", \"Topic1\", \"Topic1\", \"Topic1\", \"Topic1\", \"Topic1\", \"Topic1\", \"Topic1\", \"Topic1\", \"Topic1\", \"Topic1\", \"Topic1\", \"Topic1\", \"Topic1\", \"Topic1\", \"Topic1\", \"Topic1\", \"Topic1\", \"Topic1\", \"Topic1\", \"Topic1\", \"Topic1\", \"Topic1\", \"Topic1\", \"Topic1\", \"Topic1\", \"Topic1\", \"Topic1\", \"Topic1\", \"Topic1\", \"Topic1\", \"Topic1\", \"Topic1\", \"Topic1\", \"Topic1\", \"Topic1\", \"Topic1\", \"Topic1\", \"Topic1\", \"Topic1\", \"Topic1\", \"Topic1\", \"Topic1\", \"Topic1\", \"Topic1\", \"Topic1\", \"Topic1\", \"Topic1\", \"Topic1\", \"Topic2\", \"Topic2\", \"Topic2\", \"Topic2\", \"Topic2\", \"Topic2\", \"Topic2\", \"Topic2\", \"Topic2\", \"Topic2\", \"Topic2\", \"Topic2\", \"Topic2\", \"Topic2\", \"Topic2\", \"Topic2\", \"Topic2\", \"Topic2\", \"Topic2\", \"Topic2\", \"Topic2\", \"Topic2\", \"Topic2\", \"Topic2\", \"Topic2\", \"Topic2\", \"Topic2\", \"Topic2\", \"Topic2\", \"Topic2\", \"Topic2\", \"Topic2\", \"Topic2\", \"Topic2\", \"Topic2\", \"Topic2\", \"Topic2\", \"Topic2\", \"Topic2\", \"Topic2\", \"Topic2\", \"Topic2\", \"Topic2\", \"Topic2\", \"Topic2\", \"Topic2\", \"Topic2\", \"Topic2\", \"Topic2\", \"Topic2\", \"Topic2\", \"Topic2\", \"Topic2\", \"Topic2\", \"Topic2\", \"Topic2\", \"Topic2\", \"Topic2\", \"Topic2\", \"Topic2\", \"Topic2\", \"Topic2\", \"Topic2\", \"Topic2\", \"Topic2\", \"Topic2\", \"Topic2\", \"Topic2\", \"Topic2\", \"Topic3\", \"Topic3\", \"Topic3\", \"Topic3\", \"Topic3\", \"Topic3\", \"Topic3\", \"Topic3\", \"Topic3\", \"Topic3\", \"Topic3\", \"Topic3\", \"Topic3\", \"Topic3\", \"Topic3\", \"Topic3\", \"Topic3\", \"Topic3\", \"Topic3\", \"Topic3\", \"Topic3\", \"Topic3\", \"Topic3\", \"Topic3\", \"Topic3\", \"Topic3\", \"Topic3\", \"Topic3\", \"Topic3\", \"Topic3\", \"Topic3\", \"Topic3\", \"Topic3\", \"Topic3\", \"Topic3\", \"Topic3\", \"Topic3\", \"Topic3\", \"Topic3\", \"Topic3\", \"Topic3\", \"Topic3\", \"Topic3\", \"Topic3\", \"Topic3\", \"Topic3\", \"Topic3\", \"Topic3\", \"Topic3\", \"Topic3\", \"Topic3\", \"Topic3\", \"Topic3\", \"Topic3\", \"Topic4\", \"Topic4\", \"Topic4\", \"Topic4\", \"Topic4\", \"Topic4\", \"Topic4\", \"Topic4\", \"Topic4\", \"Topic4\", \"Topic4\", \"Topic4\", \"Topic4\", \"Topic4\", \"Topic4\", \"Topic4\", \"Topic4\", \"Topic4\", \"Topic4\", \"Topic4\", \"Topic4\", \"Topic4\", \"Topic4\", \"Topic4\", \"Topic4\", \"Topic4\", \"Topic4\", \"Topic4\", \"Topic4\", \"Topic4\", \"Topic4\", \"Topic4\", \"Topic4\", \"Topic4\", \"Topic4\", \"Topic4\", \"Topic4\", \"Topic4\", \"Topic4\", \"Topic4\", \"Topic4\", \"Topic5\", \"Topic5\", \"Topic5\", \"Topic5\", \"Topic5\", \"Topic5\", \"Topic5\", \"Topic5\", \"Topic5\", \"Topic5\", \"Topic5\", \"Topic5\", \"Topic5\", \"Topic5\", \"Topic5\", \"Topic5\", \"Topic5\", \"Topic5\", \"Topic5\", \"Topic5\", \"Topic5\", \"Topic5\", \"Topic5\", \"Topic5\", \"Topic5\", \"Topic5\", \"Topic5\", \"Topic5\", \"Topic5\", \"Topic5\", \"Topic5\", \"Topic5\", \"Topic5\", \"Topic5\", \"Topic5\", \"Topic5\", \"Topic5\", \"Topic5\", \"Topic5\", \"Topic5\", \"Topic5\", \"Topic5\", \"Topic5\", \"Topic5\", \"Topic5\", \"Topic5\", \"Topic5\", \"Topic5\", \"Topic5\", \"Topic5\", \"Topic5\", \"Topic5\", \"Topic5\", \"Topic5\", \"Topic5\", \"Topic5\", \"Topic5\", \"Topic5\", \"Topic5\", \"Topic5\", \"Topic5\", \"Topic5\", \"Topic5\", \"Topic5\", \"Topic5\", \"Topic5\", \"Topic5\", \"Topic5\", \"Topic5\", \"Topic5\", \"Topic5\", \"Topic5\", \"Topic5\", \"Topic5\", \"Topic5\", \"Topic5\", \"Topic5\", \"Topic5\", \"Topic5\", \"Topic5\"], \"logprob\": [30.0, 29.0, 28.0, 27.0, 26.0, 25.0, 24.0, 23.0, 22.0, 21.0, 20.0, 19.0, 18.0, 17.0, 16.0, 15.0, 14.0, 13.0, 12.0, 11.0, 10.0, 9.0, 8.0, 7.0, 6.0, 5.0, 4.0, 3.0, 2.0, 1.0, -5.8124, -7.0014, -6.7982, -6.7397, -6.3559, -6.9311, -7.2624, -7.1691, -6.5841, -7.0056, -7.1697, -7.0049, -7.0835, -6.7411, -7.2643, -7.4839, -7.2686, -7.3693, -7.3692, -6.7435, -7.4884, -6.7473, -7.3704, -7.4873, -7.2671, -7.3702, -7.372, -7.086, -7.4868, -6.8689, -7.1742, -7.0945, -7.1772, -7.0181, -6.5755, -7.2761, -2.5656, -6.7366, -4.704, -4.0001, -5.962, -2.9712, -4.632, -6.5289, -5.7268, -6.5735, -4.2433, -5.717, -6.137, -4.868, -5.3979, -5.0157, -5.4001, -6.2111, -5.2549, -5.0901, -6.1343, -5.777, -6.3177, -5.9276, -5.4778, -6.0287, -5.7881, -5.984, -5.6412, -5.8266, -5.7782, -5.5495, -6.0261, -6.108, -6.4989, -6.584, -6.9018, -6.786, -6.903, -7.0326, -6.9051, -7.033, -7.0341, -7.0378, -7.0405, -7.0332, -7.1856, -7.1883, -7.1878, -7.3665, -7.189, -7.1891, -7.1881, -7.3675, -7.1877, -7.3671, -7.3642, -7.3665, -7.367, -7.1904, -7.3693, -7.3679, -7.3673, -7.1912, -7.1936, -5.9405, -6.5033, -6.421, -4.9443, -6.5887, -2.8445, -2.6704, -6.0573, -6.2725, -5.4703, -4.1642, -6.0413, -4.2428, -4.9122, -6.4981, -6.9104, -6.502, -5.2269, -5.7627, -5.0257, -6.0383, -4.9715, -5.348, -5.2946, -5.5506, -5.0541, -5.9391, -5.9387, -5.5798, -5.3233, -5.7205, -5.8473, -5.8951, -5.9081, -6.1034, -6.156, -6.1459, -6.0901, -4.9276, -3.9428, -5.2116, -5.218, -5.2264, -5.2251, -4.74, -5.2313, -4.9577, -5.6101, -5.6171, -5.6188, -5.64, -5.2662, -6.2784, -6.2789, -6.2767, -6.2824, -6.2803, -6.2803, -5.669, -6.2804, -6.2863, -6.2716, -6.279, -6.2796, -6.2966, -6.2893, -6.2847, -6.2854, -3.4421, -6.2852, -4.9327, -4.8116, -4.5509, -5.09, -5.6247, -5.6724, -5.0711, -5.104, -4.6982, -5.2185, -5.7546, -5.3957, -5.3654, -5.8194, -5.0727, -5.2402, -5.0987, -5.304, -4.6705, -5.3228, -5.0521, -5.3283, -4.5262, -4.8114, -4.8104, -4.8111, -5.2092, -5.208, -5.2141, -5.8703, -5.8718, -5.8742, -5.8724, -5.8836, -5.8726, -5.8821, -5.881, -5.8775, -5.8741, -5.885, -5.8867, -5.8898, -5.8829, -3.6228, -3.7218, -5.8997, -5.8759, -5.8726, -5.8894, -5.8986, -5.9017, -5.9068, -4.8558, -4.5903, -5.4436, -4.74, -5.2169, -5.6059, -5.5131, -5.7338, -5.6891, -5.8736, -5.882, -8.3551, -8.3731, -8.379, -8.3751, -8.3906, -8.4618, -8.4578, -8.4558, -8.4793, -8.4845, -8.5427, -8.5666, -8.5557, -8.5411, -8.2562, -8.2669, -8.3157, -8.3166, -8.3152, -8.3153, -8.3448, -8.3555, -8.3557, -8.3896, -8.3808, -8.3721, -8.3798, -8.3727, -8.3788, -8.3938, -8.0959, -8.1692, -8.1836, -8.1855, -8.2054, -8.1943, -8.2057, -8.2157, -8.2187, -8.2292, -8.2251, -7.6875, -7.5012, -7.7347, -8.232, -6.3313, -8.2376, -8.2392, -6.3302, -7.5685, -6.8585, -7.6723, -6.9562, -7.3018, -7.3276, -7.8155, -8.0797, -8.1411, -8.0825, -8.1475, -7.7885, -7.5581, -7.675, -7.7277, -7.7079, -7.7019, -7.808, -7.9197, -7.9585, -7.9598, -7.8173, -8.0155, -7.8506, -7.9927, -7.9849, -7.8544, -7.9233, -7.9083, -7.9599, -7.9882], \"loglift\": [30.0, 29.0, 28.0, 27.0, 26.0, 25.0, 24.0, 23.0, 22.0, 21.0, 20.0, 19.0, 18.0, 17.0, 16.0, 15.0, 14.0, 13.0, 12.0, 11.0, 10.0, 9.0, 8.0, 7.0, 6.0, 5.0, 4.0, 3.0, 2.0, 1.0, 0.4524, 0.4506, 0.4503, 0.4491, 0.449, 0.4484, 0.4483, 0.4482, 0.448, 0.448, 0.4477, 0.4476, 0.4474, 0.4462, 0.4461, 0.446, 0.4458, 0.4457, 0.4455, 0.4452, 0.4451, 0.445, 0.4449, 0.4448, 0.4446, 0.4446, 0.4446, 0.4445, 0.4438, 0.4435, 0.4428, 0.4406, 0.4402, 0.4342, 0.4034, 0.4388, 0.0546, 0.3941, 0.1989, 0.098, 0.3057, -0.0276, 0.1497, 0.3601, 0.2457, 0.3582, -0.0106, 0.22, 0.28, 0.0548, 0.117, 0.0204, 0.0798, 0.2643, 0.0343, -0.0508, 0.2311, 0.1149, 0.2777, 0.1525, -0.0279, 0.1741, 0.0558, 0.1347, -0.0135, 0.0476, 0.0205, -0.1082, 0.0632, 0.1172, 1.0489, 1.0474, 1.0448, 1.0446, 1.0435, 1.0435, 1.0432, 1.0431, 1.0426, 1.0424, 1.0415, 1.0414, 1.041, 1.0406, 1.0402, 1.0397, 1.0397, 1.0397, 1.0396, 1.0394, 1.0386, 1.038, 1.0377, 1.0376, 1.0376, 1.0372, 1.0366, 1.0365, 1.0361, 1.0357, 1.034, 1.007, 0.996, 0.9043, 0.6646, 0.8799, 0.0991, -0.0502, 0.7195, 0.7656, 0.5059, 0.0685, 0.5921, -0.1447, 0.1271, 0.7611, 0.9285, 0.7604, 0.2144, 0.4438, 0.0104, 0.5304, -0.0487, 0.1019, -0.0055, 0.0771, -0.2724, 0.2908, 0.2678, -0.0999, -0.4204, -0.2055, -0.0485, -0.0513, -0.0339, 0.0792, 0.1394, 0.1026, -0.1981, 4.1454, 4.1418, 4.1194, 4.1103, 4.0994, 4.0988, 4.0967, 4.0957, 4.0926, 4.0886, 4.0785, 4.0712, 4.0554, 4.034, 4.0197, 4.0142, 4.0113, 4.0095, 4.0084, 4.0071, 4.0055, 4.0029, 4.0006, 3.9993, 3.9989, 3.9981, 3.9977, 3.9972, 3.9958, 3.9948, 3.7383, 3.9947, 3.5746, 3.5326, 3.3019, 3.1744, 3.5341, 3.466, 2.9055, 2.8683, 2.3824, 2.8747, 3.3635, 2.8093, 2.6968, 3.2786, 2.026, 2.0162, 1.4161, 2.1555, -2.0502, 1.6592, -2.1085, 0.4704, 5.0599, 5.0328, 5.0239, 5.0163, 4.9811, 4.979, 4.9585, 4.8424, 4.8387, 4.832, 4.8289, 4.8277, 4.8234, 4.8208, 4.8173, 4.8108, 4.8088, 4.8011, 4.7977, 4.7858, 4.7744, 4.6647, 4.473, 3.9813, 3.754, 3.7476, 3.7092, 3.701, 3.6945, 3.6896, 3.5082, 3.0721, 1.9369, -2.1197, -0.1777, 1.093, -2.5695, 0.9523, -0.653, 2.9153, 3.2394, 2.3576, 2.3382, 2.3272, 2.3231, 2.3123, 2.2487, 2.2381, 2.2272, 2.2068, 2.1911, 2.1456, 2.1348, 2.1287, 2.1162, 2.0184, 2.0042, 1.9645, 1.9611, 1.9515, 1.9436, 1.9351, 1.9314, 1.91, 1.9086, 1.9072, 1.9028, 1.9002, 1.8998, 1.8944, 1.8847, 1.8047, 1.7147, 1.7172, 1.7088, 1.7045, 1.69, 1.7011, 1.6823, 1.6581, 1.6703, 1.6569, 0.7242, 0.3377, 0.5012, 1.6413, -3.3877, 1.647, 1.6489, -3.7099, -0.3061, -2.6258, -0.2094, -2.8581, -2.2657, -2.4247, -0.3504, 0.816, 1.1378, 0.8187, 1.1379, -1.1188, -2.7764, -2.0662, -1.8838, -2.228, -2.4128, -1.578, -0.9723, -0.6076, -0.6405, -2.3023, -0.2007, -2.4007, -0.532, -0.7316, -2.9316, -2.0314, -2.869, -1.7347, -1.3262]}, \"token.table\": {\"Topic\": [1, 2, 1, 2, 1, 2, 2, 1, 1, 2, 3, 1, 2, 3, 4, 3, 2, 3, 1, 2, 1, 2, 1, 3, 1, 3, 1, 1, 2, 1, 2, 3, 2, 3, 1, 3, 1, 2, 1, 2, 2, 2, 1, 2, 2, 1, 1, 4, 2, 3, 3, 1, 2, 2, 2, 1, 3, 1, 1, 2, 3, 3, 1, 2, 3, 1, 2, 1, 2, 1, 1, 1, 2, 2, 1, 3, 2, 1, 1, 3, 1, 2, 3, 1, 3, 3, 2, 2, 2, 1, 2, 1, 1, 2, 1, 2, 1, 1, 3, 3, 1, 2, 1, 2, 3, 2, 4, 1, 2, 1, 1, 2, 4, 4, 1, 3, 4, 1, 4, 4, 2, 3, 1, 2, 1, 2, 1, 1, 2, 3, 1, 2, 1, 1, 2, 3, 3, 3, 2, 2, 1, 2, 3, 2, 1, 1, 3, 1, 2, 2, 1, 1, 2, 1, 1, 2, 3, 3, 2, 2, 1, 2, 3, 2, 1, 2, 2, 3, 1, 1, 2, 3, 1, 2, 3, 2, 2, 3, 1, 3, 1, 3, 2, 2, 1, 2, 1, 2, 4, 1, 2, 3, 2, 4, 1, 2, 3, 1, 2, 3, 2, 2, 1, 1, 2, 1, 3, 2, 3, 3, 1, 2, 1, 3, 3, 1, 2, 1, 2, 4, 3, 3, 1, 1, 2, 1, 1, 2, 3, 1, 2, 1, 2, 1, 1, 2, 3, 1, 2, 1, 2, 2, 1, 2, 2, 1, 2, 2, 2, 1, 3, 1, 3, 3, 1, 2, 3, 3, 1, 3, 3, 2, 1, 2, 4, 1, 2, 1, 2, 3, 2, 3, 1, 1, 1, 2, 1, 2, 4, 2, 1, 2, 1, 2, 3, 3, 2, 2, 1, 2, 2, 1, 3, 1, 1, 4, 1, 2, 3, 1, 2, 1, 2, 1, 2, 1, 2, 3, 1, 2, 1, 2, 1, 2, 1, 2, 3, 4, 1, 2, 1, 1, 2, 2, 1, 2, 3, 1, 2, 1, 2, 1, 2, 1, 2, 2, 1, 2, 1, 2, 1, 1, 1, 2, 2, 1, 1, 2, 1, 2, 1, 2, 1, 2, 1, 2, 3, 2, 1, 2, 2, 3], \"Freq\": [0.2754923954443324, 0.7084090168568548, 0.15721711078292194, 0.8646941093060707, 1.0030070563884128, 1.0019642515501221, 0.893622601467412, 1.005094103261193, 0.8152197740239242, 0.1746899515765552, 1.3073308396238834, 0.6149153478790838, 0.3824058049829759, 0.0017033666146235005, 0.0008516833073117503, 1.0122666251546293, 0.8830429330616667, 1.323098081681952, 0.6079694298756713, 0.3891004351204296, 0.6419971473325143, 0.35206295176299174, 0.6968477636799856, 0.3484238818399928, 0.4090992729696833, 0.4090992729696833, 1.0011286374288249, 0.7147799423261658, 0.29240997640615873, 0.6511693799239663, 0.32558468996198314, 0.029598608178362105, 0.8889970442322143, 1.3172596813182726, 1.005528756266042, 1.0096653462067486, 0.25556487054870164, 0.7666946116461049, 0.7451404545749184, 0.2549164713019458, 1.0076310385168115, 1.000921787501736, 0.37506792554866286, 0.6137475145341755, 1.0044213372671902, 1.0033939229610138, 1.0066598589787457, 0.8456234011602884, 0.972755594049376, 0.08106296617078133, 1.0071189413043715, 0.13623278349318693, 0.8855130927057151, 0.6824912528115398, 1.0036936622102592, 0.8706116621792633, 1.3159308019941074, 1.0051807541472473, 0.3182382004090584, 0.6731961931730082, 1.311777996129977, 1.3166072301915972, 0.5203144813032348, 0.2601572406516174, 0.2601572406516174, 0.5340292250546396, 0.44502435421219966, 0.7028066695911573, 0.29472537757048534, 1.0100752404959505, 1.0011159629583657, 0.8085624829558264, 0.20866128592408426, 1.008542399985856, 1.005559292026199, 1.300327630455852, 1.0142532892517109, 1.00334690355791, 1.0085807473999728, 1.0051831089630612, 0.5973218575819229, 0.2715099352645104, 0.10860397410580416, 0.9905749781626463, 0.7286511271632719, 0.7645400723016724, 1.0175132538419318, 0.9672206708736977, 0.9030059299901443, 0.918948623581538, 0.09189486235815379, 0.8835802709626592, 0.4672916828117979, 0.5340476374991976, 0.42414644373827043, 0.5832013601401219, 0.9997114295281788, 1.0034718225761554, 0.9816151966271756, 1.2959250736204286, 1.0086026567090978, 1.0086979461013366, 0.624416016658218, 0.3709402079157731, 0.003091168399298109, 0.48748964022482694, 0.48748964022482694, 0.6160279270714016, 0.3863225983329129, 0.9652468396814126, 0.6300097223113512, 0.3693160441135507, 1.1743708133140847, 0.6532377330027976, 1.0006643261218036, 1.305455943137204, 1.1953214206404073, 0.9981382375694771, 1.1913731562435663, 0.8372202843261455, 1.014260528475778, 1.304460202576959, 0.6728745325215169, 0.316646838833655, 0.6703180635711102, 0.3351590317855551, 0.8736429953944247, 0.823915578245781, 0.1647831156491562, 1.297787698228675, 0.8206928892251215, 0.1641385778450243, 0.9714930194459809, 0.4155098435997198, 0.5753213219073043, 1.3077262031526646, 1.300796791385465, 1.3189341528157619, 0.6759115256177974, 1.0159956807312687, 0.4845815790282136, 0.45429523033895025, 0.0605726973785267, 0.9002172843459236, 0.8781572233964973, 1.0003187168822412, 1.2956324907745325, 0.2550113689862872, 0.7650341069588615, 1.0065290220336804, 0.8798821849956909, 0.6033230112995823, 0.39448043046511155, 1.0067073074899675, 0.6231987657658896, 0.2336995371622086, 0.1557996914414724, 1.3314761137236903, 1.0107420221861747, 1.0101910737886313, 0.5977037469939002, 0.26564610977506675, 0.06641152744376669, 0.9879930229807445, 0.4056675868096512, 0.5795251240137874, 0.734009189797785, 0.293603675919114, 1.0081956832325427, 0.8265197876503477, 0.0635784452038729, 0.1271568904077458, 0.4799200156591745, 0.3732711232904691, 0.15997333855305818, 0.8209062389145544, 0.5771542065731211, 0.4617233652584969, 1.0014778395291735, 1.3081688118805666, 0.40092667556421246, 0.40092667556421246, 1.0026507922576304, 1.0210581955649956, 0.5238862966967583, 0.45555330147544204, 0.47711151060818796, 0.38168920848655036, 0.09542230212163759, 0.7907505704276133, 0.21565924648025817, 1.3246677898712427, 1.0074862897575716, 0.8315524463064783, 0.5225330524144428, 0.2612665262072214, 0.2612665262072214, 0.5693269653272053, 0.4244073741530076, 0.9263499753862802, 1.0079004551074902, 1.0161263070116133, 0.880478937622854, 0.6093400206167133, 0.40622668041114224, 0.6600400996037831, 0.8772834329179828, 0.444214711309778, 0.444214711309778, 0.7247834841577702, 0.7162915899391655, 0.25070205647870797, 0.8208198515737188, 0.32832794062948756, 0.7135932194580795, 0.924667128398116, 0.08806353603791582, 0.8637840030618608, 0.07198200025515507, 0.07198200025515507, 1.318025834838884, 0.8732903402660304, 0.9973827761427174, 0.9531765735000278, 0.05606921020588399, 1.0024015535547903, 0.6252434927657126, 0.3907771829785704, 1.2888830470880699, 0.39165124195389533, 0.6266419871262325, 0.42001864104908126, 0.5727526923396563, 1.010195342112424, 0.5692705786167375, 0.14231764465418437, 0.28463528930836873, 0.6579020373491734, 0.346732154819159, 0.5835977238935014, 0.4040291934647317, 0.9609506159821763, 0.11383625907214413, 0.9106900725771531, 1.0092563940520136, 0.3275453944584714, 0.6550907889169428, 1.0067958061675677, 1.0075614632605498, 0.4174610121465811, 0.4174610121465811, 0.3535449688812349, 0.648165776282264, 1.2803011198728609, 0.9633604170579999, 0.04816802085289999, 1.0083465088975518, 1.3047017905008262, 0.659838150774428, 1.2986522764594788, 1.2902179670726905, 0.8923234410127456, 0.602486987281747, 0.394732853736317, 0.0069251377848476665, 0.5459371940579818, 0.4679461663354129, 0.37738521400693587, 0.18869260700346793, 0.5660778210104038, 0.42608733632062634, 0.42608733632062634, 1.0001390184508865, 0.880228554709441, 0.7645523566930199, 0.21844353048371998, 0.577384199149447, 0.19246139971648235, 0.19246139971648235, 1.0101331271356384, 0.25583448740725195, 0.7675034622217558, 0.04668009741363498, 0.9336019482726995, 0.7288397404230198, 0.7821205574432285, 0.9994475115043057, 1.0021097397556977, 0.4192455380932663, 0.5589940507910217, 0.8946203378407346, 1.009268065014844, 0.7311058064164115, 1.0035112839877878, 0.35654826593094685, 0.5348223988964202, 0.7731485771494409, 0.14496535821552015, 0.0966435721436801, 0.9999497118657259, 1.0088470857781053, 1.0054045692642886, 1.0016283739190706, 0.8515136010966627, 0.14191893351611046, 0.7817304907725444, 0.2039296932450116, 1.326291922442607, 0.7133324320957908, 0.2853329728383163, 0.6885890968869737, 0.31201693452690993, 0.7733912407993535, 0.2296005246123081, 0.6675438257458112, 0.32976541715051616, 0.0018491518718720531, 0.0006163839572906844, 0.6236504893129133, 0.374190293587748, 0.6615051555590581, 0.6971755267685347, 0.3168979667129703, 1.016022645610058, 0.7131459496579612, 0.2785726365851411, 0.011142905463405644, 0.6011225502028491, 0.38896165013125533, 0.7333130141936332, 0.26227983719334325, 0.6621450069608832, 1.0142139791553058, 0.7368075362906429, 0.28068858525357826, 1.0086016884400568, 0.7536843714817508, 0.2438390613617429, 0.37550761723587106, 0.6008121875773937, 1.0137260488194926, 1.0039392048958538, 0.8099737020541091, 0.19368936353467825, 1.0034634885648879, 1.0018914514265862, 0.16930376577854797, 0.8465188288927398, 0.32801307503526567, 0.6560261500705313, 0.5439489167072253, 0.48955402503650286, 0.6657634574306849, 0.3251402931638228, 0.6970950089800078, 0.2999129689797708, 0.002701918639457395, 0.8948420822932457, 0.665686176511869, 0.3328430882559345, 1.006137429798935, 1.307506382486317], \"Term\": [\"access\", \"access\", \"action\", \"action\", \"actors\", \"after\", \"again\", \"airport\", \"analysis\", \"analysis\", \"ancient\", \"and\", \"and\", \"and\", \"and\", \"anoxia\", \"answer\", \"anthropogenically\", \"approach\", \"approach\", \"are\", \"are\", \"atomic\", \"atomic\", \"avenues\", \"avenues\", \"background\", \"based\", \"based\", \"between\", \"between\", \"between\", \"bids\", \"biogeochemical\", \"biological\", \"burial\", \"business\", \"business\", \"can\", \"can\", \"care\", \"cassandra\", \"cells\", \"cells\", \"chains\", \"chip\", \"circuits\", \"clouds\", \"coastal\", \"coastal\", \"cold\", \"communities\", \"communities\", \"contraction\", \"copra\", \"crystal\", \"cycling\", \"dark\", \"data\", \"data\", \"dead\", \"decreases\", \"demonstration\", \"demonstration\", \"demonstration\", \"design\", \"design\", \"develop\", \"develop\", \"diabetes\", \"diamond\", \"different\", \"different\", \"differentiation\", \"domain\", \"doped\", \"dox\", \"dynamic\", \"dynamics\", \"earth\", \"effects\", \"effects\", \"effects\", \"energy\", \"ensemble\", \"entanglement\", \"enterprises\", \"entities\", \"entity\", \"environment\", \"environment\", \"equal\", \"europe\", \"europe\", \"european\", \"european\", \"evolution\", \"exascale\", \"expectation\", \"extreme\", \"fields\", \"fleets\", \"for\", \"for\", \"for\", \"formation\", \"formation\", \"from\", \"from\", \"fundamental\", \"future\", \"future\", \"galactic\", \"galaxies\", \"games\", \"geochemical\", \"giant\", \"gloria\", \"gmc\", \"gmcs\", \"government\", \"harnessing\", \"has\", \"has\", \"have\", \"have\", \"helping\", \"high\", \"high\", \"hold\", \"how\", \"how\", \"hpc\", \"human\", \"human\", \"icp\", \"ignores\", \"inductively\", \"inefficient\", \"inflammation\", \"information\", \"information\", \"information\", \"instance\", \"integrationat\", \"interactions\", \"interpret\", \"joint\", \"joint\", \"laminar\", \"lanthanides\", \"large\", \"large\", \"laser\", \"light\", \"light\", \"light\", \"limiting\", \"linked\", \"logistics\", \"low\", \"low\", \"low\", \"lxa4\", \"main\", \"main\", \"marine\", \"marine\", \"material\", \"matter\", \"matter\", \"matter\", \"mechanisms\", \"mechanisms\", \"mechanisms\", \"medium\", \"memories\", \"memories\", \"microvascular\", \"mineral\", \"minimize\", \"minimize\", \"mirna\", \"mirnas\", \"models\", \"models\", \"molecular\", \"molecular\", \"molecular\", \"most\", \"most\", \"nanosims\", \"ncls\", \"nearby\", \"networks\", \"networks\", \"networks\", \"new\", \"new\", \"nocebo\", \"nonhuman\", \"norface\", \"nuclear\", \"number\", \"number\", \"numerically\", \"objects\", \"ocean\", \"ocean\", \"oceans\", \"our\", \"our\", \"oxygen\", \"oxygen\", \"pain\", \"physical\", \"physical\", \"physics\", \"physics\", \"physics\", \"phytoplankton\", \"placebo\", \"plasticity\", \"policy\", \"policy\", \"power\", \"practice\", \"practice\", \"principle\", \"problem\", \"problem\", \"processes\", \"processes\", \"processing\", \"production\", \"production\", \"production\", \"project\", \"project\", \"proposed\", \"proposed\", \"protect\", \"protocol\", \"protocol\", \"protocols\", \"prove\", \"prove\", \"psiup\", \"psu\", \"quantify\", \"quantify\", \"quantum\", \"quantum\", \"qubits\", \"range\", \"range\", \"realization\", \"records\", \"relatively\", \"repeaters\", \"reported\", \"representationally\", \"research\", \"research\", \"research\", \"resolution\", \"resolution\", \"responses\", \"responses\", \"responses\", \"responsible\", \"responsible\", \"rlw\", \"ruled\", \"scale\", \"scale\", \"scales\", \"scales\", \"scales\", \"scb\", \"secure\", \"secure\", \"security\", \"security\", \"sediment\", \"sediments\", \"sgd\", \"situation\", \"some\", \"some\", \"something\", \"sos\", \"spectrometry\", \"spin\", \"star\", \"star\", \"state\", \"state\", \"state\", \"steering\", \"strengthening\", \"structural\", \"structured\", \"study\", \"study\", \"such\", \"such\", \"synchotron\", \"system\", \"system\", \"systems\", \"systems\", \"that\", \"that\", \"the\", \"the\", \"the\", \"the\", \"their\", \"their\", \"theories\", \"theory\", \"theory\", \"therapy\", \"these\", \"these\", \"these\", \"they\", \"they\", \"this\", \"this\", \"though\", \"tr1\", \"transport\", \"transport\", \"trz\", \"two\", \"two\", \"under\", \"under\", \"understanding\", \"urban\", \"using\", \"using\", \"vaccines\", \"variation\", \"want\", \"want\", \"what\", \"what\", \"where\", \"where\", \"which\", \"which\", \"will\", \"will\", \"will\", \"winner\", \"with\", \"with\", \"workforce\", \"zones\"]}, \"R\": 30, \"lambda.step\": 0.01, \"plot.opts\": {\"xlab\": \"PC1\", \"ylab\": \"PC2\"}, \"topic.order\": [3, 1, 2, 5, 4]};\n",
              "\n",
              "function LDAvis_load_lib(url, callback){\n",
              "  var s = document.createElement('script');\n",
              "  s.src = url;\n",
              "  s.async = true;\n",
              "  s.onreadystatechange = s.onload = callback;\n",
              "  s.onerror = function(){console.warn(\"failed to load library \" + url);};\n",
              "  document.getElementsByTagName(\"head\")[0].appendChild(s);\n",
              "}\n",
              "\n",
              "if(typeof(LDAvis) !== \"undefined\"){\n",
              "   // already loaded: just create the visualization\n",
              "   !function(LDAvis){\n",
              "       new LDAvis(\"#\" + \"ldavis_el101801367232312796969585254372\", ldavis_el101801367232312796969585254372_data);\n",
              "   }(LDAvis);\n",
              "}else if(typeof define === \"function\" && define.amd){\n",
              "   // require.js is available: use it to load d3/LDAvis\n",
              "   require.config({paths: {d3: \"https://cdnjs.cloudflare.com/ajax/libs/d3/3.5.5/d3.min\"}});\n",
              "   require([\"d3\"], function(d3){\n",
              "      window.d3 = d3;\n",
              "      LDAvis_load_lib(\"https://cdn.rawgit.com/bmabey/pyLDAvis/files/ldavis.v1.0.0.js\", function(){\n",
              "        new LDAvis(\"#\" + \"ldavis_el101801367232312796969585254372\", ldavis_el101801367232312796969585254372_data);\n",
              "      });\n",
              "    });\n",
              "}else{\n",
              "    // require.js not available: dynamically load d3 & LDAvis\n",
              "    LDAvis_load_lib(\"https://cdnjs.cloudflare.com/ajax/libs/d3/3.5.5/d3.min.js\", function(){\n",
              "         LDAvis_load_lib(\"https://cdn.rawgit.com/bmabey/pyLDAvis/files/ldavis.v1.0.0.js\", function(){\n",
              "                 new LDAvis(\"#\" + \"ldavis_el101801367232312796969585254372\", ldavis_el101801367232312796969585254372_data);\n",
              "            })\n",
              "         });\n",
              "}\n",
              "</script>"
            ]
          },
          "metadata": {},
          "execution_count": 8
        }
      ]
    },
    {
      "cell_type": "markdown",
      "source": [
        "## Documentos más representativos por tópico"
      ],
      "metadata": {
        "id": "5DmCe4wKPFlc"
      }
    },
    {
      "cell_type": "code",
      "source": [
        "# 2. Documentos más representativos por tópico\n",
        "print(\"\\n DOCUMENTOS MÁS REPRESENTATIVOS POR TÓPICO\")\n",
        "print(\"Se muestran los documentos que más peso tienen en cada tópico\\n\")\n",
        "\n",
        "for topic_idx in range(n_topics):\n",
        "    print(f\" Tópico {topic_idx + 1}:\")\n",
        "    # Obtener los documentos más representativos\n",
        "    top_doc_indices = np.argsort(doc_topics[:,topic_idx])[::-1][:no_top_documents]\n",
        "\n",
        "    for doc_idx in top_doc_indices:\n",
        "        title = dataset_df.iloc[doc_idx]['TITLE']\n",
        "        weight = doc_topics[doc_idx, topic_idx]\n",
        "        print(f\"   '{title}'\")\n",
        "        print(f\"      Peso: {weight:.4f}\")\n",
        "    print()"
      ],
      "metadata": {
        "colab": {
          "base_uri": "https://localhost:8080/"
        },
        "id": "aU3obujAJ5rD",
        "outputId": "ce33b824-1748-4630-eb41-bc447f18c11b"
      },
      "execution_count": 9,
      "outputs": [
        {
          "output_type": "stream",
          "name": "stdout",
          "text": [
            "\n",
            " DOCUMENTOS MÁS REPRESENTATIVOS POR TÓPICO\n",
            "Se muestran los documentos que más peso tienen en cada tópico\n",
            "\n",
            " Tópico 1:\n",
            "   'TOWARDS A JOINT EUROPEAN RESEARCH INFRASTRUCTURE NETWORK FOR COASTAL OBSERVATORIES'\n",
            "      Peso: 0.9987\n",
            "   'Virtual Enterprises by Networked Interoperability Services'\n",
            "      Peso: 0.9985\n",
            "\n",
            " Tópico 2:\n",
            "   'Phosphorus dynamics in low-oxygen marine systems: quantifying the nutrient-climate connection in Earth’s past, present and future'\n",
            "      Peso: 0.5322\n",
            "   'Ensemble based advanced quantum light matter interfaces'\n",
            "      Peso: 0.4716\n",
            "\n",
            " Tópico 3:\n",
            "   'A network for supporting the coordination of Supercomputing research between Europe and Latin America'\n",
            "      Peso: 0.9989\n",
            "   'Models for Optimising Dynamic Urban Mobility'\n",
            "      Peso: 0.9989\n",
            "\n",
            " Tópico 4:\n",
            "   'International Partnership for Advanced Coatings by Thermal Spraying'\n",
            "      Peso: 0.0015\n",
            "   'Supporting decentralised management to improve health workforce performance in Ghana, Uganda and Tanzania'\n",
            "      Peso: 0.0013\n",
            "\n",
            " Tópico 5:\n",
            "   'Modelling star formation in the local universe'\n",
            "      Peso: 0.6863\n",
            "   'International Partnership for Advanced Coatings by Thermal Spraying'\n",
            "      Peso: 0.0015\n",
            "\n"
          ]
        },
        {
          "output_type": "stream",
          "name": "stderr",
          "text": [
            "/usr/local/lib/python3.10/dist-packages/ipykernel/ipkernel.py:283: DeprecationWarning: `should_run_async` will not call `transform_cell` automatically in the future. Please pass the result to `transformed_cell` argument and any exception that happen during thetransform in `preprocessing_exc_tuple` in IPython 7.17 and above.\n",
            "  and should_run_async(code)\n"
          ]
        }
      ]
    },
    {
      "cell_type": "markdown",
      "source": [
        "## Matriz Documento-Topico"
      ],
      "metadata": {
        "id": "pBPEB6m0PK5e"
      }
    },
    {
      "cell_type": "code",
      "source": [
        "from IPython.display import display, HTML\n",
        "import pandas as pd\n",
        "#pd.set_option('display.max_columns', None)\n",
        "\n",
        "topicnames = [\"topic\"+ str(x) for x in range(0, lda.n_components)]\n",
        "norm_doc_topics = []\n",
        "for i in doc_topics:\n",
        "  norm_doc_topics.append([ \"{0:.3f}\".format(weight) for weight in i])\n",
        "\n",
        "df = pd.DataFrame(norm_doc_topics,\n",
        "                  columns=topicnames,\n",
        "                  index=dataset_df['TITLE'].tolist())\n",
        "\n",
        "data_table.DataTable(df, num_rows_per_page=10)"
      ],
      "metadata": {
        "colab": {
          "base_uri": "https://localhost:8080/",
          "height": 401
        },
        "id": "HjdcTB1SPNn_",
        "outputId": "7b6ddaed-f81f-44e9-904b-ed473621099d"
      },
      "execution_count": 14,
      "outputs": [
        {
          "output_type": "stream",
          "name": "stderr",
          "text": [
            "/usr/local/lib/python3.10/dist-packages/ipykernel/ipkernel.py:283: DeprecationWarning: `should_run_async` will not call `transform_cell` automatically in the future. Please pass the result to `transformed_cell` argument and any exception that happen during thetransform in `preprocessing_exc_tuple` in IPython 7.17 and above.\n",
            "  and should_run_async(code)\n"
          ]
        },
        {
          "output_type": "execute_result",
          "data": {
            "text/html": [
              "<div>\n",
              "<style scoped>\n",
              "    .dataframe tbody tr th:only-of-type {\n",
              "        vertical-align: middle;\n",
              "    }\n",
              "\n",
              "    .dataframe tbody tr th {\n",
              "        vertical-align: top;\n",
              "    }\n",
              "\n",
              "    .dataframe thead th {\n",
              "        text-align: right;\n",
              "    }\n",
              "</style>\n",
              "<table border=\"1\" class=\"dataframe\">\n",
              "  <thead>\n",
              "    <tr style=\"text-align: right;\">\n",
              "      <th></th>\n",
              "      <th>topic0</th>\n",
              "      <th>topic1</th>\n",
              "      <th>topic2</th>\n",
              "      <th>topic3</th>\n",
              "      <th>topic4</th>\n",
              "    </tr>\n",
              "  </thead>\n",
              "  <tbody>\n",
              "    <tr>\n",
              "      <th>Visual object population codes  relating human brains to nonhuman and computational models with representational similarity analysis</th>\n",
              "      <td>0.998</td>\n",
              "      <td>0.000</td>\n",
              "      <td>0.000</td>\n",
              "      <td>0.000</td>\n",
              "      <td>0.000</td>\n",
              "    </tr>\n",
              "    <tr>\n",
              "      <th>New Opportunities for Research Funding Agency Co-operation in Europe II</th>\n",
              "      <td>0.998</td>\n",
              "      <td>0.000</td>\n",
              "      <td>0.000</td>\n",
              "      <td>0.000</td>\n",
              "      <td>0.000</td>\n",
              "    </tr>\n",
              "    <tr>\n",
              "      <th>USA and Europe Cooperation in Mini UAVs</th>\n",
              "      <td>0.000</td>\n",
              "      <td>0.000</td>\n",
              "      <td>0.998</td>\n",
              "      <td>0.000</td>\n",
              "      <td>0.000</td>\n",
              "    </tr>\n",
              "    <tr>\n",
              "      <th>Sustainable Infrastructure for Resilient Urban Environments</th>\n",
              "      <td>0.000</td>\n",
              "      <td>0.000</td>\n",
              "      <td>0.998</td>\n",
              "      <td>0.000</td>\n",
              "      <td>0.000</td>\n",
              "    </tr>\n",
              "    <tr>\n",
              "      <th>Modelling star formation in the local universe</th>\n",
              "      <td>0.001</td>\n",
              "      <td>0.001</td>\n",
              "      <td>0.312</td>\n",
              "      <td>0.001</td>\n",
              "      <td>0.686</td>\n",
              "    </tr>\n",
              "    <tr>\n",
              "      <th>...</th>\n",
              "      <td>...</td>\n",
              "      <td>...</td>\n",
              "      <td>...</td>\n",
              "      <td>...</td>\n",
              "      <td>...</td>\n",
              "    </tr>\n",
              "    <tr>\n",
              "      <th>The Environmental Observation Web and its Service Applications within the Future Internet</th>\n",
              "      <td>0.998</td>\n",
              "      <td>0.000</td>\n",
              "      <td>0.000</td>\n",
              "      <td>0.000</td>\n",
              "      <td>0.000</td>\n",
              "    </tr>\n",
              "    <tr>\n",
              "      <th>Future INternet for Smart ENergY</th>\n",
              "      <td>0.004</td>\n",
              "      <td>0.000</td>\n",
              "      <td>0.995</td>\n",
              "      <td>0.000</td>\n",
              "      <td>0.000</td>\n",
              "    </tr>\n",
              "    <tr>\n",
              "      <th>Smart Food and Agribusiness: Future Internet for Safe and Healthy Food from Farm to Fork</th>\n",
              "      <td>0.998</td>\n",
              "      <td>0.000</td>\n",
              "      <td>0.000</td>\n",
              "      <td>0.000</td>\n",
              "      <td>0.000</td>\n",
              "    </tr>\n",
              "    <tr>\n",
              "      <th>Instant Mobility for Passengers and Goods</th>\n",
              "      <td>0.001</td>\n",
              "      <td>0.001</td>\n",
              "      <td>0.998</td>\n",
              "      <td>0.001</td>\n",
              "      <td>0.001</td>\n",
              "    </tr>\n",
              "    <tr>\n",
              "      <th>Provisioning of urban/regional smart services and business models enabled by the Future Internet</th>\n",
              "      <td>0.000</td>\n",
              "      <td>0.000</td>\n",
              "      <td>0.998</td>\n",
              "      <td>0.000</td>\n",
              "      <td>0.000</td>\n",
              "    </tr>\n",
              "  </tbody>\n",
              "</table>\n",
              "<p>100 rows × 5 columns</p>\n",
              "</div>"
            ],
            "application/vnd.google.colaboratory.module+javascript": "\n      import \"https://ssl.gstatic.com/colaboratory/data_table/e523c247d1e24a05/data_table.js\";\n\n      const table = window.createDataTable({\n        data: [[\"Visual object population codes  relating human brains to nonhuman and computational models with representational similarity analysis\",\n\"0.998\",\n\"0.000\",\n\"0.000\",\n\"0.000\",\n\"0.000\"],\n [\"New Opportunities for Research Funding Agency Co-operation in Europe II\",\n\"0.998\",\n\"0.000\",\n\"0.000\",\n\"0.000\",\n\"0.000\"],\n [\"USA and Europe Cooperation in Mini UAVs\",\n\"0.000\",\n\"0.000\",\n\"0.998\",\n\"0.000\",\n\"0.000\"],\n [\"Sustainable Infrastructure for Resilient Urban Environments\",\n\"0.000\",\n\"0.000\",\n\"0.998\",\n\"0.000\",\n\"0.000\"],\n [\"Modelling star formation in the local universe\",\n\"0.001\",\n\"0.001\",\n\"0.312\",\n\"0.001\",\n\"0.686\"],\n [\"Coherent spin manipulation in hybrid nanostructures\",\n\"0.000\",\n\"0.000\",\n\"0.998\",\n\"0.000\",\n\"0.000\"],\n [\"Stochastic Modeling of Spatially Extended Ecosystems and Ecological and Climate Data Analysis\",\n\"0.000\",\n\"0.000\",\n\"0.998\",\n\"0.000\",\n\"0.000\"],\n [\"Secure Multiparty Computation in the von Neumann Architecture\",\n\"0.000\",\n\"0.000\",\n\"0.998\",\n\"0.000\",\n\"0.000\"],\n [\"Infrastructures for Community-Based Data Management\",\n\"0.998\",\n\"0.000\",\n\"0.000\",\n\"0.000\",\n\"0.000\"],\n [\"Reducing Environmental Footprint based on Multi-Modal Fleet management System for Eco-Routing and Driver Behaviour Adaptation\",\n\"0.998\",\n\"0.000\",\n\"0.000\",\n\"0.000\",\n\"0.000\"],\n [\"Action to Support Photonic Innovation Clusters in Europe\",\n\"0.998\",\n\"0.000\",\n\"0.000\",\n\"0.000\",\n\"0.000\"],\n [\"Improving therapy and intervention through imaging\",\n\"0.998\",\n\"0.000\",\n\"0.000\",\n\"0.000\",\n\"0.000\"],\n [\"Design and manufacturing of smart composite panelsfor wing applications and development of structuralhealth monitoring techniques\",\n\"0.001\",\n\"0.001\",\n\"0.997\",\n\"0.001\",\n\"0.001\"],\n [\"Numerical and EXperimental shock conTrol on laminar Wing\",\n\"0.998\",\n\"0.000\",\n\"0.000\",\n\"0.000\",\n\"0.000\"],\n [\"NUtrition and microVAScular dynamics in COGnitive health\",\n\"0.000\",\n\"0.000\",\n\"0.998\",\n\"0.000\",\n\"0.000\"],\n [\"Seismology of Stellar Coronal Oscillations\",\n\"0.001\",\n\"0.001\",\n\"0.997\",\n\"0.001\",\n\"0.001\"],\n [\"Nice but incompetent? The eldery stereotype in Europe\",\n\"0.000\",\n\"0.000\",\n\"0.998\",\n\"0.000\",\n\"0.000\"],\n [\"Discovery and Insight with Advanced Models Of  Nanoscale Dimensions\",\n\"0.000\",\n\"0.000\",\n\"0.998\",\n\"0.000\",\n\"0.000\"],\n [\"Geometry, instability and activity in complex and biological fluids\",\n\"0.000\",\n\"0.000\",\n\"0.998\",\n\"0.000\",\n\"0.000\"],\n [\"The Researchers\\u2019 Night 2011 in the Czech Republic: Science Opens Spaces\",\n\"0.000\",\n\"0.000\",\n\"0.998\",\n\"0.000\",\n\"0.000\"],\n [\"The importance of submarine groundwater discharge for the southwestern Baltic Sea\",\n\"0.997\",\n\"0.001\",\n\"0.001\",\n\"0.001\",\n\"0.001\"],\n [\"DEVELOPMENT AND ENHANCEMENT OF A STEERING FEEL MODEL FOR SUPER LIGHTWEIGHT STEER-BY-WIRE VEHICLES\",\n\"0.001\",\n\"0.001\",\n\"0.997\",\n\"0.001\",\n\"0.001\"],\n [\"International Partnership for Advanced Coatings by Thermal Spraying\",\n\"0.994\",\n\"0.002\",\n\"0.002\",\n\"0.002\",\n\"0.002\"],\n [\"Phosphorus dynamics in low-oxygen marine systems: quantifying the nutrient-climate connection in Earth\\u2019s past, present and future\",\n\"0.000\",\n\"0.532\",\n\"0.466\",\n\"0.000\",\n\"0.000\"],\n [\"Diamond Lasers: Revolutionising Laser Engineering\",\n\"0.000\",\n\"0.000\",\n\"0.998\",\n\"0.000\",\n\"0.000\"],\n [\"Electrochemistry in fluidic nanodevices: From fundamentals to integrated sensor platforms\",\n\"0.000\",\n\"0.000\",\n\"0.998\",\n\"0.000\",\n\"0.000\"],\n [\"Quantitative Graph Games: Theory and Applications\",\n\"0.000\",\n\"0.000\",\n\"0.998\",\n\"0.000\",\n\"0.000\"],\n [\"The Gamma Ray Burst \\u2013 Supernova Connectionand Shock Breakout Physics\",\n\"0.000\",\n\"0.000\",\n\"0.998\",\n\"0.000\",\n\"0.000\"],\n [\"Integrated Ground and on-Board system for Support of the Aircraft Safe Take-off and Landing\",\n\"0.000\",\n\"0.000\",\n\"0.999\",\n\"0.000\",\n\"0.000\"],\n [\"METABOLIC CONTROL OF IMMATURE STROMAL CELL BIOLOGY\",\n\"0.000\",\n\"0.000\",\n\"0.998\",\n\"0.000\",\n\"0.000\"],\n [\"Remote Laser Welding System Navigator for Eco & Resilient Automotive Factories\",\n\"0.000\",\n\"0.000\",\n\"0.998\",\n\"0.000\",\n\"0.000\"],\n [\"EUropean DATa\",\n\"0.998\",\n\"0.000\",\n\"0.000\",\n\"0.000\",\n\"0.000\"],\n [\"Multi-Core Execution of Parallelised Hard Real-Time Applications Supporting Analysability\",\n\"0.998\",\n\"0.000\",\n\"0.000\",\n\"0.000\",\n\"0.000\"],\n [\"EU-INdia Fostering COOPeration in Computing Systems\",\n\"0.998\",\n\"0.001\",\n\"0.001\",\n\"0.001\",\n\"0.001\"],\n [\"Trans-Atlantic Research and Education Agenda in System of Systems\",\n\"0.000\",\n\"0.000\",\n\"0.999\",\n\"0.000\",\n\"0.000\"],\n [\"GLObal Robotic telescopes Intelligent Array for e-Science\",\n\"0.000\",\n\"0.000\",\n\"0.998\",\n\"0.000\",\n\"0.000\"],\n [\"A network for supporting the coordination of Supercomputing research between Europe and Latin America\",\n\"0.000\",\n\"0.000\",\n\"0.999\",\n\"0.000\",\n\"0.000\"],\n [\"Models for Optimising Dynamic Urban Mobility\",\n\"0.000\",\n\"0.000\",\n\"0.999\",\n\"0.000\",\n\"0.000\"],\n [\"The placebo effect \\u2013 a window into the relationship between mind and body\",\n\"0.000\",\n\"0.352\",\n\"0.646\",\n\"0.000\",\n\"0.000\"],\n [\"CloudIX: Cloud-based Indexing and Query Processing\",\n\"0.000\",\n\"0.000\",\n\"0.998\",\n\"0.000\",\n\"0.000\"],\n [\"The genomic basis of emerging fungal pathogenicity\",\n\"0.001\",\n\"0.001\",\n\"0.998\",\n\"0.001\",\n\"0.001\"],\n [\"New Tools for Real-Time Cellular Imaging and Protein Labelling\",\n\"0.997\",\n\"0.001\",\n\"0.001\",\n\"0.001\",\n\"0.001\"],\n [\"The interplay between quantum coherence and environment in the photosynthetic electronic energy transfer and light-harvesting: a quantum chemical picture\",\n\"0.000\",\n\"0.000\",\n\"0.998\",\n\"0.000\",\n\"0.000\"],\n [\"Basic Research in Cryptographic Protocol Theory\",\n\"0.998\",\n\"0.000\",\n\"0.000\",\n\"0.000\",\n\"0.000\"],\n [\"Investigating Functional Dynamics in Proteins by Novel Multidimensional Optical Spectroscopies in the Ultraviolet\",\n\"0.000\",\n\"0.000\",\n\"0.998\",\n\"0.000\",\n\"0.000\"],\n [\"Towards compressive information processing systems\",\n\"0.000\",\n\"0.000\",\n\"0.998\",\n\"0.000\",\n\"0.000\"],\n [\"Ensemble based advanced quantum light matter interfaces\",\n\"0.000\",\n\"0.472\",\n\"0.527\",\n\"0.000\",\n\"0.000\"],\n [\"Smart Intelligent Aircraft Structures\",\n\"0.000\",\n\"0.000\",\n\"0.998\",\n\"0.000\",\n\"0.000\"],\n [\"The innovative use of virtual and mixed reality to increase human comfort by changing the perception of self and space\",\n\"0.000\",\n\"0.000\",\n\"0.998\",\n\"0.000\",\n\"0.000\"],\n [\"VIRTUAL HEART MODELS: MULTI-PHYSICS APPROACHES TO COMPUTATIONAL CARDIOLOGY\",\n\"0.000\",\n\"0.000\",\n\"0.998\",\n\"0.000\",\n\"0.000\"],\n [\"Virtual Centre of Excellence for Ethically-guided and Privacy-respecting Video Analytics\",\n\"0.000\",\n\"0.000\",\n\"0.998\",\n\"0.000\",\n\"0.000\"],\n [\"PLANT AND FOOD BIOSECURITY\",\n\"0.000\",\n\"0.000\",\n\"0.998\",\n\"0.000\",\n\"0.000\"],\n [\"Creation of a distributed European Magnetic Field Laboratory\",\n\"0.001\",\n\"0.001\",\n\"0.998\",\n\"0.001\",\n\"0.001\"],\n [\"TOWARDS A JOINT EUROPEAN RESEARCH INFRASTRUCTURE NETWORK FOR COASTAL OBSERVATORIES\",\n\"0.999\",\n\"0.000\",\n\"0.000\",\n\"0.000\",\n\"0.000\"],\n [\"Data without Boundaries\",\n\"0.998\",\n\"0.000\",\n\"0.000\",\n\"0.000\",\n\"0.000\"],\n [\"The association between type 2 diabetes diagnosis and diabetes medications with risk of cancer\",\n\"0.000\",\n\"0.000\",\n\"0.998\",\n\"0.000\",\n\"0.000\"],\n [\"Oxysterols and IL-27-induced Type 1 regulatory T cells in Experimental Autoimmune Encephalomyelitis\",\n\"0.998\",\n\"0.000\",\n\"0.000\",\n\"0.000\",\n\"0.000\"],\n [\"Mechanisms of Inflammation Resolution: Role of miRNAs\",\n\"0.998\",\n\"0.000\",\n\"0.000\",\n\"0.000\",\n\"0.000\"],\n [\"Common assessment and analysis of risk in global supply chains\",\n\"0.998\",\n\"0.000\",\n\"0.000\",\n\"0.000\",\n\"0.000\"],\n [\"Socialism and leftist Catholicism in France and Italy (1956-1972)\",\n\"0.998\",\n\"0.000\",\n\"0.000\",\n\"0.000\",\n\"0.000\"],\n [\"Multi-scale biomechanical modelling and simulation of the intervertebral disc\",\n\"0.001\",\n\"0.001\",\n\"0.998\",\n\"0.001\",\n\"0.001\"],\n [\"STRUCTURE AND DYNAMICS OF PORPHYRIN-BASED MATERIALS IN SOLUTION vs. INTERFACES\",\n\"0.000\",\n\"0.000\",\n\"0.998\",\n\"0.000\",\n\"0.000\"],\n [\"Tailoring Mixed-Metal Chemistry for Frontier Synthetic and Catalytic Applications\",\n\"0.000\",\n\"0.000\",\n\"0.998\",\n\"0.000\",\n\"0.000\"],\n [\"Make it simple: towards a new era for organic synthesis\",\n\"0.769\",\n\"0.000\",\n\"0.229\",\n\"0.000\",\n\"0.000\"],\n [\"Fundamental Physics at the Low Background Frontier\",\n\"0.000\",\n\"0.000\",\n\"0.998\",\n\"0.000\",\n\"0.000\"],\n [\"Advanced Immunization Technologies\",\n\"0.998\",\n\"0.000\",\n\"0.000\",\n\"0.000\",\n\"0.000\"],\n [\"A Treatment-Oriented Research Project of NCL Disorders as a Major Cause of Dementia in Childhood\",\n\"0.998\",\n\"0.000\",\n\"0.000\",\n\"0.000\",\n\"0.000\"],\n [\"Resistance in Gram-Negative Organisms: Studying Intervention Strategies\",\n\"0.998\",\n\"0.000\",\n\"0.000\",\n\"0.000\",\n\"0.000\"],\n [\"Discovery Festival\",\n\"0.996\",\n\"0.001\",\n\"0.001\",\n\"0.001\",\n\"0.001\"],\n [\"Monolithic Integrated Antennas\",\n\"0.000\",\n\"0.000\",\n\"0.998\",\n\"0.000\",\n\"0.000\"],\n [\"The effect of a sedentary lifestyle on type 2 diabetes and its complications\",\n\"0.000\",\n\"0.000\",\n\"0.998\",\n\"0.000\",\n\"0.000\"],\n [\"Embodied Cognitive Models for Fluent Human-Robot Interaction\",\n\"0.998\",\n\"0.000\",\n\"0.000\",\n\"0.000\",\n\"0.000\"],\n [\"Heuristics and Biases in Debt Managment\",\n\"0.001\",\n\"0.001\",\n\"0.998\",\n\"0.001\",\n\"0.001\"],\n [\"Neural Circuits Underlying Visually Guided Behaviour\",\n\"0.000\",\n\"0.000\",\n\"0.998\",\n\"0.000\",\n\"0.000\"],\n [\"Mont-Blanc, European scalable and power efficient HPC platform based on low-power embedded technology\",\n\"0.000\",\n\"0.000\",\n\"0.998\",\n\"0.000\",\n\"0.000\"],\n [\"Collaborative Research into Exascale Systemware, Tools and Applications\",\n\"0.000\",\n\"0.000\",\n\"0.998\",\n\"0.000\",\n\"0.000\"],\n [\"Virtual Enterprises by Networked Interoperability Services\",\n\"0.998\",\n\"0.000\",\n\"0.000\",\n\"0.000\",\n\"0.000\"],\n [\"2nd-Generation Open Access Infrastructure for Research in Europe\",\n\"0.998\",\n\"0.000\",\n\"0.000\",\n\"0.000\",\n\"0.000\"],\n [\"Manufacturing SErvice Ecosystem\",\n\"0.998\",\n\"0.000\",\n\"0.000\",\n\"0.000\",\n\"0.000\"],\n [\"Comprehensive European Approach to the Protection of Civil Aviation\",\n\"0.998\",\n\"0.000\",\n\"0.000\",\n\"0.000\",\n\"0.000\"],\n [\"Development of Rad Hard non volatile Flash memories for space applications\",\n\"0.998\",\n\"0.000\",\n\"0.000\",\n\"0.000\",\n\"0.000\"],\n [\"Supporting decentralised management to improve health workforce performance in Ghana, Uganda and Tanzania\",\n\"0.995\",\n\"0.001\",\n\"0.001\",\n\"0.001\",\n\"0.001\"],\n [\"WORDS: Asymmetry, change and processing in phonological mental representation\",\n\"0.001\",\n\"0.001\",\n\"0.997\",\n\"0.001\",\n\"0.001\"],\n [\"Thyroid hormone and development of cardiomyocytes derived from human embryonic and induced pluripotent stem cells\",\n\"0.998\",\n\"0.000\",\n\"0.000\",\n\"0.000\",\n\"0.000\"],\n [\"Predicting Properties of Large Heterogeneous Systems with Optimally-Tuned Range-Separated Hybrid Functionals\",\n\"0.000\",\n\"0.000\",\n\"0.998\",\n\"0.000\",\n\"0.000\"],\n [\"REsearch into POlicy to enhance Physical Activity\",\n\"0.000\",\n\"0.000\",\n\"0.998\",\n\"0.000\",\n\"0.000\"],\n [\"Evolution and Transfer of Antibiotic Resistance\",\n\"0.000\",\n\"0.000\",\n\"0.998\",\n\"0.000\",\n\"0.000\"],\n [\"The 2050+ Airport\",\n\"0.000\",\n\"0.000\",\n\"0.998\",\n\"0.000\",\n\"0.000\"],\n [\"DEMONSTRATION INSTALLATION OF A LEGIONELLA PREVENTIVE BACTERICIDE WATER FILTRATION FOR LARGE PUBLIC AND INDUSTRIAL FACILITIES\",\n\"0.001\",\n\"0.001\",\n\"0.998\",\n\"0.001\",\n\"0.001\"],\n [\"Fruitful Instability: The Cultural Logic of Creative Practice in Israeli High-Technology Start-Ups\",\n\"0.000\",\n\"0.000\",\n\"0.998\",\n\"0.000\",\n\"0.000\"],\n [\"Nanoparticle - Cell Interactions, a Pathway for Understanding Nanotoxicity:  from a Model System to in-vitro System\",\n\"0.000\",\n\"0.000\",\n\"0.998\",\n\"0.000\",\n\"0.000\"],\n [\"Protecting biodiversity in the face of climate change\",\n\"0.000\",\n\"0.000\",\n\"0.998\",\n\"0.000\",\n\"0.000\"],\n [\"NUCLEOLAR-DEPENDENT SECRETION OF MICRORNA IN A MODEL OF DOXORUBICIN AND TRASTUZUMAB CARDIOMYOPATHY\",\n\"0.998\",\n\"0.000\",\n\"0.000\",\n\"0.000\",\n\"0.000\"],\n [\"Technology & Design Kits for Printed-Electronics\",\n\"0.000\",\n\"0.000\",\n\"0.998\",\n\"0.000\",\n\"0.000\"],\n [\"Comprehensive Modelling for Advanced Systems of Systems\",\n\"0.000\",\n\"0.000\",\n\"0.998\",\n\"0.000\",\n\"0.000\"],\n [\"The Environmental Observation Web and its Service Applications within the Future Internet\",\n\"0.998\",\n\"0.000\",\n\"0.000\",\n\"0.000\",\n\"0.000\"],\n [\"Future INternet for Smart ENergY\",\n\"0.004\",\n\"0.000\",\n\"0.995\",\n\"0.000\",\n\"0.000\"],\n [\"Smart Food and Agribusiness: Future Internet for Safe and Healthy Food from Farm to Fork\",\n\"0.998\",\n\"0.000\",\n\"0.000\",\n\"0.000\",\n\"0.000\"],\n [\"Instant Mobility for Passengers and Goods\",\n\"0.001\",\n\"0.001\",\n\"0.998\",\n\"0.001\",\n\"0.001\"],\n [\"Provisioning of urban/regional smart services and business models enabled by the Future Internet\",\n\"0.000\",\n\"0.000\",\n\"0.998\",\n\"0.000\",\n\"0.000\"]],\n        columns: [[\"string\", \"index\"], [\"string\", \"topic0\"], [\"string\", \"topic1\"], [\"string\", \"topic2\"], [\"string\", \"topic3\"], [\"string\", \"topic4\"]],\n        columnOptions: [{\"width\": \"1px\", \"className\": \"index_column\"}],\n        rowsPerPage: 10,\n        helpUrl: \"https://colab.research.google.com/notebooks/data_table.ipynb\",\n        suppressOutputScrolling: true,\n        minimumWidth: undefined,\n      });\n\n      function appendQuickchartButton(parentElement) {\n        let quickchartButtonContainerElement = document.createElement('div');\n        quickchartButtonContainerElement.innerHTML = `\n<div id=\"df-fa77eb01-a268-4e9d-baea-f216c75a6079\">\n  <button class=\"colab-df-quickchart\" onclick=\"quickchart('df-fa77eb01-a268-4e9d-baea-f216c75a6079')\"\n            title=\"Suggest charts\"\n            style=\"display:none;\">\n    \n<svg xmlns=\"http://www.w3.org/2000/svg\" height=\"24px\"viewBox=\"0 0 24 24\"\n     width=\"24px\">\n    <g>\n        <path d=\"M19 3H5c-1.1 0-2 .9-2 2v14c0 1.1.9 2 2 2h14c1.1 0 2-.9 2-2V5c0-1.1-.9-2-2-2zM9 17H7v-7h2v7zm4 0h-2V7h2v10zm4 0h-2v-4h2v4z\"/>\n    </g>\n</svg>\n  </button>\n  \n<style>\n  .colab-df-quickchart {\n      --bg-color: #E8F0FE;\n      --fill-color: #1967D2;\n      --hover-bg-color: #E2EBFA;\n      --hover-fill-color: #174EA6;\n      --disabled-fill-color: #AAA;\n      --disabled-bg-color: #DDD;\n  }\n\n  [theme=dark] .colab-df-quickchart {\n      --bg-color: #3B4455;\n      --fill-color: #D2E3FC;\n      --hover-bg-color: #434B5C;\n      --hover-fill-color: #FFFFFF;\n      --disabled-bg-color: #3B4455;\n      --disabled-fill-color: #666;\n  }\n\n  .colab-df-quickchart {\n    background-color: var(--bg-color);\n    border: none;\n    border-radius: 50%;\n    cursor: pointer;\n    display: none;\n    fill: var(--fill-color);\n    height: 32px;\n    padding: 0;\n    width: 32px;\n  }\n\n  .colab-df-quickchart:hover {\n    background-color: var(--hover-bg-color);\n    box-shadow: 0 1px 2px rgba(60, 64, 67, 0.3), 0 1px 3px 1px rgba(60, 64, 67, 0.15);\n    fill: var(--button-hover-fill-color);\n  }\n\n  .colab-df-quickchart-complete:disabled,\n  .colab-df-quickchart-complete:disabled:hover {\n    background-color: var(--disabled-bg-color);\n    fill: var(--disabled-fill-color);\n    box-shadow: none;\n  }\n\n  .colab-df-spinner {\n    border: 2px solid var(--fill-color);\n    border-color: transparent;\n    border-bottom-color: var(--fill-color);\n    animation:\n      spin 1s steps(1) infinite;\n  }\n\n  @keyframes spin {\n    0% {\n      border-color: transparent;\n      border-bottom-color: var(--fill-color);\n      border-left-color: var(--fill-color);\n    }\n    20% {\n      border-color: transparent;\n      border-left-color: var(--fill-color);\n      border-top-color: var(--fill-color);\n    }\n    30% {\n      border-color: transparent;\n      border-left-color: var(--fill-color);\n      border-top-color: var(--fill-color);\n      border-right-color: var(--fill-color);\n    }\n    40% {\n      border-color: transparent;\n      border-right-color: var(--fill-color);\n      border-top-color: var(--fill-color);\n    }\n    60% {\n      border-color: transparent;\n      border-right-color: var(--fill-color);\n    }\n    80% {\n      border-color: transparent;\n      border-right-color: var(--fill-color);\n      border-bottom-color: var(--fill-color);\n    }\n    90% {\n      border-color: transparent;\n      border-bottom-color: var(--fill-color);\n    }\n  }\n</style>\n\n  <script>\n    async function quickchart(key) {\n      const quickchartButtonEl =\n        document.querySelector('#' + key + ' button');\n      quickchartButtonEl.disabled = true;  // To prevent multiple clicks.\n      quickchartButtonEl.classList.add('colab-df-spinner');\n      try {\n        const charts = await google.colab.kernel.invokeFunction(\n            'suggestCharts', [key], {});\n      } catch (error) {\n        console.error('Error during call to suggestCharts:', error);\n      }\n      quickchartButtonEl.classList.remove('colab-df-spinner');\n      quickchartButtonEl.classList.add('colab-df-quickchart-complete');\n    }\n    (() => {\n      let quickchartButtonEl =\n        document.querySelector('#df-fa77eb01-a268-4e9d-baea-f216c75a6079 button');\n      quickchartButtonEl.style.display =\n        google.colab.kernel.accessAllowed ? 'block' : 'none';\n    })();\n  </script>\n</div>`;\n        parentElement.appendChild(quickchartButtonContainerElement);\n      }\n\n      appendQuickchartButton(table);\n    ",
            "text/plain": [
              "<google.colab.data_table.DataTable object>"
            ]
          },
          "metadata": {},
          "execution_count": 14
        }
      ]
    },
    {
      "cell_type": "markdown",
      "source": [
        "## Matriz Tópico-Palabra"
      ],
      "metadata": {
        "id": "AL4lKUnHPTOO"
      }
    },
    {
      "cell_type": "code",
      "source": [
        "# Topic-Keyword Matrix\n",
        "df_topic_keywords = pd.DataFrame(lda.components_ / lda.components_.sum(axis=1)[:, np.newaxis])\n",
        "\n",
        "# Assign Column and Index\n",
        "df_topic_keywords.columns = dictionary\n",
        "df_topic_keywords.index = topicnames\n",
        "\n",
        "# View\n",
        "data_table.DataTable(df_topic_keywords, num_rows_per_page=10)\n",
        "#df_topic_keywords.head()"
      ],
      "metadata": {
        "colab": {
          "base_uri": "https://localhost:8080/",
          "height": 302
        },
        "id": "bOHH9_iQPWcF",
        "outputId": "e9efc807-bc29-45da-a62d-60b75c1caa1c"
      },
      "execution_count": 15,
      "outputs": [
        {
          "output_type": "stream",
          "name": "stdout",
          "text": [
            "Warning: Total number of columns (4530) exceeds max_columns (20) limiting to first (20) columns.\n"
          ]
        },
        {
          "output_type": "stream",
          "name": "stderr",
          "text": [
            "/usr/local/lib/python3.10/dist-packages/ipykernel/ipkernel.py:283: DeprecationWarning: `should_run_async` will not call `transform_cell` automatically in the future. Please pass the result to `transformed_cell` argument and any exception that happen during thetransform in `preprocessing_exc_tuple` in IPython 7.17 and above.\n",
            "  and should_run_async(code)\n"
          ]
        },
        {
          "output_type": "execute_result",
          "data": {
            "text/html": [
              "<div>\n",
              "<style scoped>\n",
              "    .dataframe tbody tr th:only-of-type {\n",
              "        vertical-align: middle;\n",
              "    }\n",
              "\n",
              "    .dataframe tbody tr th {\n",
              "        vertical-align: top;\n",
              "    }\n",
              "\n",
              "    .dataframe thead th {\n",
              "        text-align: right;\n",
              "    }\n",
              "</style>\n",
              "<table border=\"1\" class=\"dataframe\">\n",
              "  <thead>\n",
              "    <tr style=\"text-align: right;\">\n",
              "      <th></th>\n",
              "      <th>000</th>\n",
              "      <th>100</th>\n",
              "      <th>146a</th>\n",
              "      <th>1500</th>\n",
              "      <th>1844</th>\n",
              "      <th>192</th>\n",
              "      <th>1993</th>\n",
              "      <th>1mbit</th>\n",
              "      <th>200</th>\n",
              "      <th>2000</th>\n",
              "      <th>...</th>\n",
              "      <th>yes</th>\n",
              "      <th>yet</th>\n",
              "      <th>yield</th>\n",
              "      <th>young</th>\n",
              "      <th>younger</th>\n",
              "      <th>youngest</th>\n",
              "      <th>zebrafish</th>\n",
              "      <th>zone</th>\n",
              "      <th>zones</th>\n",
              "      <th>zoo</th>\n",
              "    </tr>\n",
              "  </thead>\n",
              "  <tbody>\n",
              "    <tr>\n",
              "      <th>topic0</th>\n",
              "      <td>0.000008</td>\n",
              "      <td>0.000007</td>\n",
              "      <td>0.000133</td>\n",
              "      <td>0.000131</td>\n",
              "      <td>0.000007</td>\n",
              "      <td>0.000007</td>\n",
              "      <td>0.000007</td>\n",
              "      <td>0.000131</td>\n",
              "      <td>0.000007</td>\n",
              "      <td>0.000132</td>\n",
              "      <td>...</td>\n",
              "      <td>0.000131</td>\n",
              "      <td>0.000133</td>\n",
              "      <td>0.000132</td>\n",
              "      <td>0.000758</td>\n",
              "      <td>0.000007</td>\n",
              "      <td>0.000007</td>\n",
              "      <td>0.000007</td>\n",
              "      <td>0.000380</td>\n",
              "      <td>0.000006</td>\n",
              "      <td>0.000006</td>\n",
              "    </tr>\n",
              "    <tr>\n",
              "      <th>topic1</th>\n",
              "      <td>0.000082</td>\n",
              "      <td>0.000105</td>\n",
              "      <td>0.000096</td>\n",
              "      <td>0.000090</td>\n",
              "      <td>0.000093</td>\n",
              "      <td>0.000092</td>\n",
              "      <td>0.000099</td>\n",
              "      <td>0.000091</td>\n",
              "      <td>0.000098</td>\n",
              "      <td>0.000090</td>\n",
              "      <td>...</td>\n",
              "      <td>0.000084</td>\n",
              "      <td>0.000371</td>\n",
              "      <td>0.000104</td>\n",
              "      <td>0.000106</td>\n",
              "      <td>0.000096</td>\n",
              "      <td>0.000104</td>\n",
              "      <td>0.000077</td>\n",
              "      <td>0.000119</td>\n",
              "      <td>0.001853</td>\n",
              "      <td>0.000099</td>\n",
              "    </tr>\n",
              "    <tr>\n",
              "      <th>topic2</th>\n",
              "      <td>0.000073</td>\n",
              "      <td>0.000351</td>\n",
              "      <td>0.000003</td>\n",
              "      <td>0.000004</td>\n",
              "      <td>0.000073</td>\n",
              "      <td>0.000073</td>\n",
              "      <td>0.000073</td>\n",
              "      <td>0.000004</td>\n",
              "      <td>0.000074</td>\n",
              "      <td>0.000004</td>\n",
              "      <td>...</td>\n",
              "      <td>0.000004</td>\n",
              "      <td>0.000271</td>\n",
              "      <td>0.000073</td>\n",
              "      <td>0.000075</td>\n",
              "      <td>0.000073</td>\n",
              "      <td>0.000074</td>\n",
              "      <td>0.000281</td>\n",
              "      <td>0.000004</td>\n",
              "      <td>0.000006</td>\n",
              "      <td>0.000073</td>\n",
              "    </tr>\n",
              "    <tr>\n",
              "      <th>topic3</th>\n",
              "      <td>0.000194</td>\n",
              "      <td>0.000217</td>\n",
              "      <td>0.000183</td>\n",
              "      <td>0.000209</td>\n",
              "      <td>0.000195</td>\n",
              "      <td>0.000238</td>\n",
              "      <td>0.000252</td>\n",
              "      <td>0.000191</td>\n",
              "      <td>0.000195</td>\n",
              "      <td>0.000219</td>\n",
              "      <td>...</td>\n",
              "      <td>0.000258</td>\n",
              "      <td>0.000259</td>\n",
              "      <td>0.000229</td>\n",
              "      <td>0.000199</td>\n",
              "      <td>0.000207</td>\n",
              "      <td>0.000189</td>\n",
              "      <td>0.000206</td>\n",
              "      <td>0.000217</td>\n",
              "      <td>0.000229</td>\n",
              "      <td>0.000217</td>\n",
              "    </tr>\n",
              "    <tr>\n",
              "      <th>topic4</th>\n",
              "      <td>0.000154</td>\n",
              "      <td>0.000201</td>\n",
              "      <td>0.000134</td>\n",
              "      <td>0.000130</td>\n",
              "      <td>0.000146</td>\n",
              "      <td>0.000163</td>\n",
              "      <td>0.000140</td>\n",
              "      <td>0.000164</td>\n",
              "      <td>0.000155</td>\n",
              "      <td>0.000156</td>\n",
              "      <td>...</td>\n",
              "      <td>0.000148</td>\n",
              "      <td>0.000128</td>\n",
              "      <td>0.000147</td>\n",
              "      <td>0.000129</td>\n",
              "      <td>0.000151</td>\n",
              "      <td>0.000134</td>\n",
              "      <td>0.000210</td>\n",
              "      <td>0.000167</td>\n",
              "      <td>0.000147</td>\n",
              "      <td>0.000138</td>\n",
              "    </tr>\n",
              "  </tbody>\n",
              "</table>\n",
              "<p>5 rows × 4530 columns</p>\n",
              "</div>"
            ],
            "application/vnd.google.colaboratory.module+javascript": "\n      import \"https://ssl.gstatic.com/colaboratory/data_table/e523c247d1e24a05/data_table.js\";\n\n      const table = window.createDataTable({\n        data: [[\"topic0\",\n{\n            'v': 8.153462270854457e-06,\n            'f': \"8.153462270854457e-06\",\n        },\n{\n            'v': 7.290593863668498e-06,\n            'f': \"7.290593863668498e-06\",\n        },\n{\n            'v': 0.00013277766893072293,\n            'f': \"0.00013277766893072293\",\n        },\n{\n            'v': 0.00013104252502353823,\n            'f': \"0.00013104252502353823\",\n        },\n{\n            'v': 6.814359212166514e-06,\n            'f': \"6.814359212166514e-06\",\n        },\n{\n            'v': 7.189411631106653e-06,\n            'f': \"7.189411631106653e-06\",\n        },\n{\n            'v': 7.139117652309401e-06,\n            'f': \"7.139117652309401e-06\",\n        },\n{\n            'v': 0.0001310853317567391,\n            'f': \"0.0001310853317567391\",\n        },\n{\n            'v': 6.963255661767385e-06,\n            'f': \"6.963255661767385e-06\",\n        },\n{\n            'v': 0.00013171990670098985,\n            'f': \"0.00013171990670098985\",\n        },\n{\n            'v': 0.00013188367847604828,\n            'f': \"0.00013188367847604828\",\n        },\n{\n            'v': 0.00013165740334117437,\n            'f': \"0.00013165740334117437\",\n        },\n{\n            'v': 0.00013067270935489256,\n            'f': \"0.00013067270935489256\",\n        },\n{\n            'v': 0.00013137842273633,\n            'f': \"0.00013137842273633\",\n        },\n{\n            'v': 8.212487770947134e-06,\n            'f': \"8.212487770947134e-06\",\n        },\n{\n            'v': 0.0002559033233418993,\n            'f': \"0.0002559033233418993\",\n        },\n{\n            'v': 0.00013233706304618622,\n            'f': \"0.00013233706304618622\",\n        },\n{\n            'v': 8.52472751834181e-06,\n            'f': \"8.52472751834181e-06\",\n        },\n{\n            'v': 7.138676572163829e-06,\n            'f': \"7.138676572163829e-06\",\n        },\n{\n            'v': 5.887695725334029e-06,\n            'f': \"5.887695725334029e-06\",\n        }],\n [\"topic1\",\n{\n            'v': 8.198470337522793e-05,\n            'f': \"8.198470337522793e-05\",\n        },\n{\n            'v': 0.00010484036764725897,\n            'f': \"0.00010484036764725897\",\n        },\n{\n            'v': 9.586726835175627e-05,\n            'f': \"9.586726835175627e-05\",\n        },\n{\n            'v': 9.025331542152534e-05,\n            'f': \"9.025331542152534e-05\",\n        },\n{\n            'v': 9.284764053621435e-05,\n            'f': \"9.284764053621435e-05\",\n        },\n{\n            'v': 9.238326327503422e-05,\n            'f': \"9.238326327503422e-05\",\n        },\n{\n            'v': 9.877600775261493e-05,\n            'f': \"9.877600775261493e-05\",\n        },\n{\n            'v': 9.124540117899986e-05,\n            'f': \"9.124540117899986e-05\",\n        },\n{\n            'v': 9.75850808263862e-05,\n            'f': \"9.75850808263862e-05\",\n        },\n{\n            'v': 9.017715115956163e-05,\n            'f': \"9.017715115956163e-05\",\n        },\n{\n            'v': 9.205856966167152e-05,\n            'f': \"9.205856966167152e-05\",\n        },\n{\n            'v': 0.00011317066533214854,\n            'f': \"0.00011317066533214854\",\n        },\n{\n            'v': 9.949855613254346e-05,\n            'f': \"9.949855613254346e-05\",\n        },\n{\n            'v': 0.00010325414435096103,\n            'f': \"0.00010325414435096103\",\n        },\n{\n            'v': 9.664531184985363e-05,\n            'f': \"9.664531184985363e-05\",\n        },\n{\n            'v': 9.159351194558514e-05,\n            'f': \"9.159351194558514e-05\",\n        },\n{\n            'v': 0.00010960863452012534,\n            'f': \"0.00010960863452012534\",\n        },\n{\n            'v': 9.137945928889421e-05,\n            'f': \"9.137945928889421e-05\",\n        },\n{\n            'v': 9.834006992665737e-05,\n            'f': \"9.834006992665737e-05\",\n        },\n{\n            'v': 0.00011040193951120892,\n            'f': \"0.00011040193951120892\",\n        }],\n [\"topic2\",\n{\n            'v': 7.296752536836784e-05,\n            'f': \"7.296752536836784e-05\",\n        },\n{\n            'v': 0.0003514198050639447,\n            'f': \"0.0003514198050639447\",\n        },\n{\n            'v': 3.314938842131341e-06,\n            'f': \"3.314938842131341e-06\",\n        },\n{\n            'v': 3.7757136967324593e-06,\n            'f': \"3.7757136967324593e-06\",\n        },\n{\n            'v': 7.315590763741991e-05,\n            'f': \"7.315590763741991e-05\",\n        },\n{\n            'v': 7.260120039229053e-05,\n            'f': \"7.260120039229053e-05\",\n        },\n{\n            'v': 7.337696472896975e-05,\n            'f': \"7.337696472896975e-05\",\n        },\n{\n            'v': 3.6505861244521202e-06,\n            'f': \"3.6505861244521202e-06\",\n        },\n{\n            'v': 7.379408499655433e-05,\n            'f': \"7.379408499655433e-05\",\n        },\n{\n            'v': 4.359314777889625e-06,\n            'f': \"4.359314777889625e-06\",\n        },\n{\n            'v': 4.314299308395432e-06,\n            'f': \"4.314299308395432e-06\",\n        },\n{\n            'v': 3.6504097092193944e-06,\n            'f': \"3.6504097092193944e-06\",\n        },\n{\n            'v': 0.0001426968158407867,\n            'f': \"0.0001426968158407867\",\n        },\n{\n            'v': 3.971227573368779e-06,\n            'f': \"3.971227573368779e-06\",\n        },\n{\n            'v': 0.0001425155895468439,\n            'f': \"0.0001425155895468439\",\n        },\n{\n            'v': 0.00014374850236356773,\n            'f': \"0.00014374850236356773\",\n        },\n{\n            'v': 3.6242979869044057e-06,\n            'f': \"3.6242979869044057e-06\",\n        },\n{\n            'v': 0.00021204807631095674,\n            'f': \"0.00021204807631095674\",\n        },\n{\n            'v': 0.0003520630907260261,\n            'f': \"0.0003520630907260261\",\n        },\n{\n            'v': 7.32619290662541e-05,\n            'f': \"7.32619290662541e-05\",\n        }],\n [\"topic3\",\n{\n            'v': 0.0001941229997866993,\n            'f': \"0.0001941229997866993\",\n        },\n{\n            'v': 0.00021685342772238697,\n            'f': \"0.00021685342772238697\",\n        },\n{\n            'v': 0.00018281294648019684,\n            'f': \"0.00018281294648019684\",\n        },\n{\n            'v': 0.0002085957209101428,\n            'f': \"0.0002085957209101428\",\n        },\n{\n            'v': 0.00019459610827870355,\n            'f': \"0.00019459610827870355\",\n        },\n{\n            'v': 0.00023793042151737333,\n            'f': \"0.00023793042151737333\",\n        },\n{\n            'v': 0.0002519772529369657,\n            'f': \"0.0002519772529369657\",\n        },\n{\n            'v': 0.00019139232832038314,\n            'f': \"0.00019139232832038314\",\n        },\n{\n            'v': 0.0001945626595077905,\n            'f': \"0.0001945626595077905\",\n        },\n{\n            'v': 0.00021927164738710955,\n            'f': \"0.00021927164738710955\",\n        },\n{\n            'v': 0.00019494331191365267,\n            'f': \"0.00019494331191365267\",\n        },\n{\n            'v': 0.0002136719115143919,\n            'f': \"0.0002136719115143919\",\n        },\n{\n            'v': 0.00023390538511697568,\n            'f': \"0.00023390538511697568\",\n        },\n{\n            'v': 0.00020011061229691026,\n            'f': \"0.00020011061229691026\",\n        },\n{\n            'v': 0.00021700476304438302,\n            'f': \"0.00021700476304438302\",\n        },\n{\n            'v': 0.0002227202585864244,\n            'f': \"0.0002227202585864244\",\n        },\n{\n            'v': 0.0002142761163969212,\n            'f': \"0.0002142761163969212\",\n        },\n{\n            'v': 0.00021744059239472537,\n            'f': \"0.00021744059239472537\",\n        },\n{\n            'v': 0.00022576964098636185,\n            'f': \"0.00022576964098636185\",\n        },\n{\n            'v': 0.00022664658999382517,\n            'f': \"0.00022664658999382517\",\n        }],\n [\"topic4\",\n{\n            'v': 0.0001537679349490154,\n            'f': \"0.0001537679349490154\",\n        },\n{\n            'v': 0.00020118609885104224,\n            'f': \"0.00020118609885104224\",\n        },\n{\n            'v': 0.00013357510542497166,\n            'f': \"0.00013357510542497166\",\n        },\n{\n            'v': 0.00013021548365863095,\n            'f': \"0.00013021548365863095\",\n        },\n{\n            'v': 0.00014556277751706764,\n            'f': \"0.00014556277751706764\",\n        },\n{\n            'v': 0.00016295951904127986,\n            'f': \"0.00016295951904127986\",\n        },\n{\n            'v': 0.00013978505375690476,\n            'f': \"0.00013978505375690476\",\n        },\n{\n            'v': 0.00016361260843884455,\n            'f': \"0.00016361260843884455\",\n        },\n{\n            'v': 0.00015521400057512413,\n            'f': \"0.00015521400057512413\",\n        },\n{\n            'v': 0.0001561378004093503,\n            'f': \"0.0001561378004093503\",\n        },\n{\n            'v': 0.0001702069253077972,\n            'f': \"0.0001702069253077972\",\n        },\n{\n            'v': 0.00012267062215187195,\n            'f': \"0.00012267062215187195\",\n        },\n{\n            'v': 0.0001400924294719305,\n            'f': \"0.0001400924294719305\",\n        },\n{\n            'v': 0.00016428266880637557,\n            'f': \"0.00016428266880637557\",\n        },\n{\n            'v': 0.00014337893276955205,\n            'f': \"0.00014337893276955205\",\n        },\n{\n            'v': 0.00014831539482013903,\n            'f': \"0.00014831539482013903\",\n        },\n{\n            'v': 0.00014465243026237575,\n            'f': \"0.00014465243026237575\",\n        },\n{\n            'v': 0.0001623076563540991,\n            'f': \"0.0001623076563540991\",\n        },\n{\n            'v': 0.0001520430833256339,\n            'f': \"0.0001520430833256339\",\n        },\n{\n            'v': 0.00015824888373149672,\n            'f': \"0.00015824888373149672\",\n        }]],\n        columns: [[\"string\", \"index\"], [\"number\", \"000\"], [\"number\", \"100\"], [\"number\", \"146a\"], [\"number\", \"1500\"], [\"number\", \"1844\"], [\"number\", \"192\"], [\"number\", \"1993\"], [\"number\", \"1mbit\"], [\"number\", \"200\"], [\"number\", \"2000\"], [\"number\", \"2004\"], [\"number\", \"2005\"], [\"number\", \"2008\"], [\"number\", \"2009\"], [\"number\", \"2010\"], [\"number\", \"2011\"], [\"number\", \"2015\"], [\"number\", \"2020\"], [\"number\", \"2050\"], [\"number\", \"20th\"]],\n        columnOptions: [{\"width\": \"1px\", \"className\": \"index_column\"}],\n        rowsPerPage: 10,\n        helpUrl: \"https://colab.research.google.com/notebooks/data_table.ipynb\",\n        suppressOutputScrolling: true,\n        minimumWidth: undefined,\n      });\n\n      function appendQuickchartButton(parentElement) {\n        let quickchartButtonContainerElement = document.createElement('div');\n        quickchartButtonContainerElement.innerHTML = `\n<div id=\"df-670ef447-d2ff-4207-bc09-a0f9ddfc2dec\">\n  <button class=\"colab-df-quickchart\" onclick=\"quickchart('df-670ef447-d2ff-4207-bc09-a0f9ddfc2dec')\"\n            title=\"Suggest charts\"\n            style=\"display:none;\">\n    \n<svg xmlns=\"http://www.w3.org/2000/svg\" height=\"24px\"viewBox=\"0 0 24 24\"\n     width=\"24px\">\n    <g>\n        <path d=\"M19 3H5c-1.1 0-2 .9-2 2v14c0 1.1.9 2 2 2h14c1.1 0 2-.9 2-2V5c0-1.1-.9-2-2-2zM9 17H7v-7h2v7zm4 0h-2V7h2v10zm4 0h-2v-4h2v4z\"/>\n    </g>\n</svg>\n  </button>\n  \n<style>\n  .colab-df-quickchart {\n      --bg-color: #E8F0FE;\n      --fill-color: #1967D2;\n      --hover-bg-color: #E2EBFA;\n      --hover-fill-color: #174EA6;\n      --disabled-fill-color: #AAA;\n      --disabled-bg-color: #DDD;\n  }\n\n  [theme=dark] .colab-df-quickchart {\n      --bg-color: #3B4455;\n      --fill-color: #D2E3FC;\n      --hover-bg-color: #434B5C;\n      --hover-fill-color: #FFFFFF;\n      --disabled-bg-color: #3B4455;\n      --disabled-fill-color: #666;\n  }\n\n  .colab-df-quickchart {\n    background-color: var(--bg-color);\n    border: none;\n    border-radius: 50%;\n    cursor: pointer;\n    display: none;\n    fill: var(--fill-color);\n    height: 32px;\n    padding: 0;\n    width: 32px;\n  }\n\n  .colab-df-quickchart:hover {\n    background-color: var(--hover-bg-color);\n    box-shadow: 0 1px 2px rgba(60, 64, 67, 0.3), 0 1px 3px 1px rgba(60, 64, 67, 0.15);\n    fill: var(--button-hover-fill-color);\n  }\n\n  .colab-df-quickchart-complete:disabled,\n  .colab-df-quickchart-complete:disabled:hover {\n    background-color: var(--disabled-bg-color);\n    fill: var(--disabled-fill-color);\n    box-shadow: none;\n  }\n\n  .colab-df-spinner {\n    border: 2px solid var(--fill-color);\n    border-color: transparent;\n    border-bottom-color: var(--fill-color);\n    animation:\n      spin 1s steps(1) infinite;\n  }\n\n  @keyframes spin {\n    0% {\n      border-color: transparent;\n      border-bottom-color: var(--fill-color);\n      border-left-color: var(--fill-color);\n    }\n    20% {\n      border-color: transparent;\n      border-left-color: var(--fill-color);\n      border-top-color: var(--fill-color);\n    }\n    30% {\n      border-color: transparent;\n      border-left-color: var(--fill-color);\n      border-top-color: var(--fill-color);\n      border-right-color: var(--fill-color);\n    }\n    40% {\n      border-color: transparent;\n      border-right-color: var(--fill-color);\n      border-top-color: var(--fill-color);\n    }\n    60% {\n      border-color: transparent;\n      border-right-color: var(--fill-color);\n    }\n    80% {\n      border-color: transparent;\n      border-right-color: var(--fill-color);\n      border-bottom-color: var(--fill-color);\n    }\n    90% {\n      border-color: transparent;\n      border-bottom-color: var(--fill-color);\n    }\n  }\n</style>\n\n  <script>\n    async function quickchart(key) {\n      const quickchartButtonEl =\n        document.querySelector('#' + key + ' button');\n      quickchartButtonEl.disabled = true;  // To prevent multiple clicks.\n      quickchartButtonEl.classList.add('colab-df-spinner');\n      try {\n        const charts = await google.colab.kernel.invokeFunction(\n            'suggestCharts', [key], {});\n      } catch (error) {\n        console.error('Error during call to suggestCharts:', error);\n      }\n      quickchartButtonEl.classList.remove('colab-df-spinner');\n      quickchartButtonEl.classList.add('colab-df-quickchart-complete');\n    }\n    (() => {\n      let quickchartButtonEl =\n        document.querySelector('#df-670ef447-d2ff-4207-bc09-a0f9ddfc2dec button');\n      quickchartButtonEl.style.display =\n        google.colab.kernel.accessAllowed ? 'block' : 'none';\n    })();\n  </script>\n</div>`;\n        parentElement.appendChild(quickchartButtonContainerElement);\n      }\n\n      appendQuickchartButton(table);\n    ",
            "text/plain": [
              "<google.colab.data_table.DataTable object>"
            ]
          },
          "metadata": {},
          "execution_count": 15
        }
      ]
    },
    {
      "cell_type": "markdown",
      "source": [
        "# 6)  Evaluación del modelo\n",
        "\n",
        "Usaremos dos métricas principales:\n",
        "\n",
        "1. Log Likelihood (mayor es mejor):\n",
        "   - Indica qué tan bien el modelo explica los datos\n",
        "   - Valores más altos indican mejor ajuste\n",
        "\n",
        "2. Perplejidad (menor es mejor):\n",
        "   - Mide qué tan \"sorprendido\" está el modelo por los datos\n",
        "   - Valores más bajos indican mejor generalización\n"
      ],
      "metadata": {
        "id": "CjtYRqbcHtSO"
      }
    },
    {
      "cell_type": "code",
      "source": [
        "# Calcular métricas\n",
        "log_likelihood = lda.score(bag_of_words)\n",
        "perplexity = lda.perplexity(bag_of_words)\n",
        "\n",
        "print(\"MÉTRICAS DE EVALUACIÓN\")\n",
        "print(f\"- Log Likelihood: {log_likelihood:.2f}\")\n",
        "print(f\"- Perplejidad: {perplexity:.2f}\")\n",
        "\n",
        "# Comparar con diferentes valores de hiperparámetros\n",
        "print(\"\\nCOMPARACIÓN DE HIPERPARÁMETROS\")\n",
        "print(\"Probando diferentes configuraciones para encontrar el mejor modelo...\")\n",
        "\n",
        "# Probar diferentes números de tópicos\n",
        "n_topics_range = [3, 5, 7, 10]\n",
        "results = []\n",
        "\n",
        "for n_top in n_topics_range:\n",
        "    model = LatentDirichletAllocation(\n",
        "        n_components=n_top,\n",
        "        doc_topic_prior=alpha,\n",
        "        topic_word_prior=beta,\n",
        "        max_iter=25,\n",
        "        random_state=0\n",
        "    )\n",
        "    model.fit(bag_of_words)\n",
        "\n",
        "    results.append({\n",
        "        'n_topics': n_top,\n",
        "        'perplexity': model.perplexity(bag_of_words),\n",
        "        'log_likelihood': model.score(bag_of_words)\n",
        "    })\n",
        "\n",
        "# Mostrar resultados\n",
        "results_df = pd.DataFrame(results)\n",
        "print(\"\\nResultados con diferentes números de tópicos:\")\n",
        "print(results_df)"
      ],
      "metadata": {
        "colab": {
          "base_uri": "https://localhost:8080/"
        },
        "id": "7tr-YyRoHt9g",
        "outputId": "ffcab2d1-91c1-432b-a1af-574a932bb7af"
      },
      "execution_count": 10,
      "outputs": [
        {
          "output_type": "stream",
          "name": "stderr",
          "text": [
            "/usr/local/lib/python3.10/dist-packages/ipykernel/ipkernel.py:283: DeprecationWarning: `should_run_async` will not call `transform_cell` automatically in the future. Please pass the result to `transformed_cell` argument and any exception that happen during thetransform in `preprocessing_exc_tuple` in IPython 7.17 and above.\n",
            "  and should_run_async(code)\n"
          ]
        },
        {
          "output_type": "stream",
          "name": "stdout",
          "text": [
            "MÉTRICAS DE EVALUACIÓN\n",
            "- Log Likelihood: -190742.85\n",
            "- Perplejidad: 5204.76\n",
            "\n",
            "COMPARACIÓN DE HIPERPARÁMETROS\n",
            "Probando diferentes configuraciones para encontrar el mejor modelo...\n",
            "\n",
            "Resultados con diferentes números de tópicos:\n",
            "   n_topics   perplexity  log_likelihood\n",
            "0         3  2700.793654  -176119.998280\n",
            "1         5  2735.128715  -176401.583863\n",
            "2         7  2760.976094  -176611.238643\n",
            "3        10  2697.976778  -176096.738107\n"
          ]
        }
      ]
    },
    {
      "cell_type": "markdown",
      "source": [
        "# 7) Análisis de Similitud\n",
        "\n",
        "Podemos usar las distribuciones de tópicos para:\n",
        "1. Encontrar documentos similares\n",
        "2. Clasificar nuevos documentos\n",
        "3. Recomendar contenido relacionado"
      ],
      "metadata": {
        "id": "GulTv1KoKd7o"
      }
    },
    {
      "cell_type": "code",
      "source": [
        "from scipy.spatial.distance import jensenshannon\n",
        "\n",
        "def get_similar_documents(doc_idx, n=3):\n",
        "    \"\"\"Encuentra los documentos más similares a uno dado.\"\"\"\n",
        "    # Obtener distribución de tópicos del documento\n",
        "    doc_topic_dist = doc_topics[doc_idx]\n",
        "\n",
        "    # Calcular similitud con todos los documentos\n",
        "    similarities = []\n",
        "    for i in range(len(doc_topics)):\n",
        "        if i != doc_idx:\n",
        "            # Usar distancia Jensen-Shannon\n",
        "            dist = jensenshannon(doc_topic_dist, doc_topics[i])\n",
        "            sim = 1 - dist\n",
        "            similarities.append((i, sim))\n",
        "\n",
        "    # Ordenar por similitud\n",
        "    similarities.sort(key=lambda x: x[1], reverse=True)\n",
        "    return similarities[:n]\n",
        "\n",
        "# Ejemplo con un documento aleatorio\n",
        "example_doc = np.random.randint(0, len(dataset_df))\n",
        "print(f\" Documento de ejemplo: '{dataset_df.iloc[example_doc]['TITLE']}'\")\n",
        "print(\"\\n Documentos más similares:\")\n",
        "\n",
        "similar_docs = get_similar_documents(example_doc)\n",
        "for idx, sim in similar_docs:\n",
        "    print(f\"- '{dataset_df.iloc[idx]['TITLE']}'\")\n",
        "    print(f\"  Similitud: {sim:.4f}\")"
      ],
      "metadata": {
        "colab": {
          "base_uri": "https://localhost:8080/"
        },
        "id": "DRyEd13BKi6f",
        "outputId": "5f4352b4-9b26-4be9-e10e-818bf78e63e5"
      },
      "execution_count": 13,
      "outputs": [
        {
          "output_type": "stream",
          "name": "stdout",
          "text": [
            " Documento de ejemplo: 'Make it simple: towards a new era for organic synthesis'\n",
            "\n",
            " Documentos más similares:\n",
            "- 'International Partnership for Advanced Coatings by Thermal Spraying'\n",
            "  Similitud: 0.7118\n",
            "- 'Supporting decentralised management to improve health workforce performance in Ghana, Uganda and Tanzania'\n",
            "  Similitud: 0.7111\n",
            "- 'Discovery Festival'\n",
            "  Similitud: 0.7102\n"
          ]
        },
        {
          "output_type": "stream",
          "name": "stderr",
          "text": [
            "/usr/local/lib/python3.10/dist-packages/ipykernel/ipkernel.py:283: DeprecationWarning: `should_run_async` will not call `transform_cell` automatically in the future. Please pass the result to `transformed_cell` argument and any exception that happen during thetransform in `preprocessing_exc_tuple` in IPython 7.17 and above.\n",
            "  and should_run_async(code)\n"
          ]
        }
      ]
    }
  ]
}