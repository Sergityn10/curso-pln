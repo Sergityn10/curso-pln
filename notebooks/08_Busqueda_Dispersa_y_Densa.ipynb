{
  "nbformat": 4,
  "nbformat_minor": 0,
  "metadata": {
    "colab": {
      "provenance": [],
      "authorship_tag": "ABX9TyMP2c8xfETYINpkP9JaFEPd",
      "include_colab_link": true
    },
    "kernelspec": {
      "name": "python3",
      "display_name": "Python 3"
    },
    "language_info": {
      "name": "python"
    },
    "widgets": {
      "application/vnd.jupyter.widget-state+json": {
        "c72a268a666e40a681ae277edda9e244": {
          "model_module": "@jupyter-widgets/controls",
          "model_name": "HBoxModel",
          "model_module_version": "1.5.0",
          "state": {
            "_dom_classes": [],
            "_model_module": "@jupyter-widgets/controls",
            "_model_module_version": "1.5.0",
            "_model_name": "HBoxModel",
            "_view_count": null,
            "_view_module": "@jupyter-widgets/controls",
            "_view_module_version": "1.5.0",
            "_view_name": "HBoxView",
            "box_style": "",
            "children": [
              "IPY_MODEL_6e59fe7bf78340a98c672aee92835127",
              "IPY_MODEL_4ead61f10312449c9c49290b0cde9b14",
              "IPY_MODEL_3a3909adfc9e470b91ac29125722b846"
            ],
            "layout": "IPY_MODEL_18b63fddf5064292862d4a7da6e187af"
          }
        },
        "6e59fe7bf78340a98c672aee92835127": {
          "model_module": "@jupyter-widgets/controls",
          "model_name": "HTMLModel",
          "model_module_version": "1.5.0",
          "state": {
            "_dom_classes": [],
            "_model_module": "@jupyter-widgets/controls",
            "_model_module_version": "1.5.0",
            "_model_name": "HTMLModel",
            "_view_count": null,
            "_view_module": "@jupyter-widgets/controls",
            "_view_module_version": "1.5.0",
            "_view_name": "HTMLView",
            "description": "",
            "description_tooltip": null,
            "layout": "IPY_MODEL_892b839eb3d24e48baeeb9f9f233db82",
            "placeholder": "​",
            "style": "IPY_MODEL_061b723aa05d4044916a035fa8cbc769",
            "value": "Batches: 100%"
          }
        },
        "4ead61f10312449c9c49290b0cde9b14": {
          "model_module": "@jupyter-widgets/controls",
          "model_name": "FloatProgressModel",
          "model_module_version": "1.5.0",
          "state": {
            "_dom_classes": [],
            "_model_module": "@jupyter-widgets/controls",
            "_model_module_version": "1.5.0",
            "_model_name": "FloatProgressModel",
            "_view_count": null,
            "_view_module": "@jupyter-widgets/controls",
            "_view_module_version": "1.5.0",
            "_view_name": "ProgressView",
            "bar_style": "success",
            "description": "",
            "description_tooltip": null,
            "layout": "IPY_MODEL_1c8bac092c1648b9822a1490b3b5adc6",
            "max": 1,
            "min": 0,
            "orientation": "horizontal",
            "style": "IPY_MODEL_faf5abe177ab493b96aea73f751fb60f",
            "value": 1
          }
        },
        "3a3909adfc9e470b91ac29125722b846": {
          "model_module": "@jupyter-widgets/controls",
          "model_name": "HTMLModel",
          "model_module_version": "1.5.0",
          "state": {
            "_dom_classes": [],
            "_model_module": "@jupyter-widgets/controls",
            "_model_module_version": "1.5.0",
            "_model_name": "HTMLModel",
            "_view_count": null,
            "_view_module": "@jupyter-widgets/controls",
            "_view_module_version": "1.5.0",
            "_view_name": "HTMLView",
            "description": "",
            "description_tooltip": null,
            "layout": "IPY_MODEL_a993f0effb8549c287427f64849e1af6",
            "placeholder": "​",
            "style": "IPY_MODEL_a599aa7463d041d79d575863a0385b58",
            "value": " 1/1 [00:00&lt;00:00,  1.65it/s]"
          }
        },
        "18b63fddf5064292862d4a7da6e187af": {
          "model_module": "@jupyter-widgets/base",
          "model_name": "LayoutModel",
          "model_module_version": "1.2.0",
          "state": {
            "_model_module": "@jupyter-widgets/base",
            "_model_module_version": "1.2.0",
            "_model_name": "LayoutModel",
            "_view_count": null,
            "_view_module": "@jupyter-widgets/base",
            "_view_module_version": "1.2.0",
            "_view_name": "LayoutView",
            "align_content": null,
            "align_items": null,
            "align_self": null,
            "border": null,
            "bottom": null,
            "display": null,
            "flex": null,
            "flex_flow": null,
            "grid_area": null,
            "grid_auto_columns": null,
            "grid_auto_flow": null,
            "grid_auto_rows": null,
            "grid_column": null,
            "grid_gap": null,
            "grid_row": null,
            "grid_template_areas": null,
            "grid_template_columns": null,
            "grid_template_rows": null,
            "height": null,
            "justify_content": null,
            "justify_items": null,
            "left": null,
            "margin": null,
            "max_height": null,
            "max_width": null,
            "min_height": null,
            "min_width": null,
            "object_fit": null,
            "object_position": null,
            "order": null,
            "overflow": null,
            "overflow_x": null,
            "overflow_y": null,
            "padding": null,
            "right": null,
            "top": null,
            "visibility": null,
            "width": null
          }
        },
        "892b839eb3d24e48baeeb9f9f233db82": {
          "model_module": "@jupyter-widgets/base",
          "model_name": "LayoutModel",
          "model_module_version": "1.2.0",
          "state": {
            "_model_module": "@jupyter-widgets/base",
            "_model_module_version": "1.2.0",
            "_model_name": "LayoutModel",
            "_view_count": null,
            "_view_module": "@jupyter-widgets/base",
            "_view_module_version": "1.2.0",
            "_view_name": "LayoutView",
            "align_content": null,
            "align_items": null,
            "align_self": null,
            "border": null,
            "bottom": null,
            "display": null,
            "flex": null,
            "flex_flow": null,
            "grid_area": null,
            "grid_auto_columns": null,
            "grid_auto_flow": null,
            "grid_auto_rows": null,
            "grid_column": null,
            "grid_gap": null,
            "grid_row": null,
            "grid_template_areas": null,
            "grid_template_columns": null,
            "grid_template_rows": null,
            "height": null,
            "justify_content": null,
            "justify_items": null,
            "left": null,
            "margin": null,
            "max_height": null,
            "max_width": null,
            "min_height": null,
            "min_width": null,
            "object_fit": null,
            "object_position": null,
            "order": null,
            "overflow": null,
            "overflow_x": null,
            "overflow_y": null,
            "padding": null,
            "right": null,
            "top": null,
            "visibility": null,
            "width": null
          }
        },
        "061b723aa05d4044916a035fa8cbc769": {
          "model_module": "@jupyter-widgets/controls",
          "model_name": "DescriptionStyleModel",
          "model_module_version": "1.5.0",
          "state": {
            "_model_module": "@jupyter-widgets/controls",
            "_model_module_version": "1.5.0",
            "_model_name": "DescriptionStyleModel",
            "_view_count": null,
            "_view_module": "@jupyter-widgets/base",
            "_view_module_version": "1.2.0",
            "_view_name": "StyleView",
            "description_width": ""
          }
        },
        "1c8bac092c1648b9822a1490b3b5adc6": {
          "model_module": "@jupyter-widgets/base",
          "model_name": "LayoutModel",
          "model_module_version": "1.2.0",
          "state": {
            "_model_module": "@jupyter-widgets/base",
            "_model_module_version": "1.2.0",
            "_model_name": "LayoutModel",
            "_view_count": null,
            "_view_module": "@jupyter-widgets/base",
            "_view_module_version": "1.2.0",
            "_view_name": "LayoutView",
            "align_content": null,
            "align_items": null,
            "align_self": null,
            "border": null,
            "bottom": null,
            "display": null,
            "flex": null,
            "flex_flow": null,
            "grid_area": null,
            "grid_auto_columns": null,
            "grid_auto_flow": null,
            "grid_auto_rows": null,
            "grid_column": null,
            "grid_gap": null,
            "grid_row": null,
            "grid_template_areas": null,
            "grid_template_columns": null,
            "grid_template_rows": null,
            "height": null,
            "justify_content": null,
            "justify_items": null,
            "left": null,
            "margin": null,
            "max_height": null,
            "max_width": null,
            "min_height": null,
            "min_width": null,
            "object_fit": null,
            "object_position": null,
            "order": null,
            "overflow": null,
            "overflow_x": null,
            "overflow_y": null,
            "padding": null,
            "right": null,
            "top": null,
            "visibility": null,
            "width": null
          }
        },
        "faf5abe177ab493b96aea73f751fb60f": {
          "model_module": "@jupyter-widgets/controls",
          "model_name": "ProgressStyleModel",
          "model_module_version": "1.5.0",
          "state": {
            "_model_module": "@jupyter-widgets/controls",
            "_model_module_version": "1.5.0",
            "_model_name": "ProgressStyleModel",
            "_view_count": null,
            "_view_module": "@jupyter-widgets/base",
            "_view_module_version": "1.2.0",
            "_view_name": "StyleView",
            "bar_color": null,
            "description_width": ""
          }
        },
        "a993f0effb8549c287427f64849e1af6": {
          "model_module": "@jupyter-widgets/base",
          "model_name": "LayoutModel",
          "model_module_version": "1.2.0",
          "state": {
            "_model_module": "@jupyter-widgets/base",
            "_model_module_version": "1.2.0",
            "_model_name": "LayoutModel",
            "_view_count": null,
            "_view_module": "@jupyter-widgets/base",
            "_view_module_version": "1.2.0",
            "_view_name": "LayoutView",
            "align_content": null,
            "align_items": null,
            "align_self": null,
            "border": null,
            "bottom": null,
            "display": null,
            "flex": null,
            "flex_flow": null,
            "grid_area": null,
            "grid_auto_columns": null,
            "grid_auto_flow": null,
            "grid_auto_rows": null,
            "grid_column": null,
            "grid_gap": null,
            "grid_row": null,
            "grid_template_areas": null,
            "grid_template_columns": null,
            "grid_template_rows": null,
            "height": null,
            "justify_content": null,
            "justify_items": null,
            "left": null,
            "margin": null,
            "max_height": null,
            "max_width": null,
            "min_height": null,
            "min_width": null,
            "object_fit": null,
            "object_position": null,
            "order": null,
            "overflow": null,
            "overflow_x": null,
            "overflow_y": null,
            "padding": null,
            "right": null,
            "top": null,
            "visibility": null,
            "width": null
          }
        },
        "a599aa7463d041d79d575863a0385b58": {
          "model_module": "@jupyter-widgets/controls",
          "model_name": "DescriptionStyleModel",
          "model_module_version": "1.5.0",
          "state": {
            "_model_module": "@jupyter-widgets/controls",
            "_model_module_version": "1.5.0",
            "_model_name": "DescriptionStyleModel",
            "_view_count": null,
            "_view_module": "@jupyter-widgets/base",
            "_view_module_version": "1.2.0",
            "_view_name": "StyleView",
            "description_width": ""
          }
        },
        "ed24d52fa1b940768ba887ef991b1622": {
          "model_module": "@jupyter-widgets/controls",
          "model_name": "HBoxModel",
          "model_module_version": "1.5.0",
          "state": {
            "_dom_classes": [],
            "_model_module": "@jupyter-widgets/controls",
            "_model_module_version": "1.5.0",
            "_model_name": "HBoxModel",
            "_view_count": null,
            "_view_module": "@jupyter-widgets/controls",
            "_view_module_version": "1.5.0",
            "_view_name": "HBoxView",
            "box_style": "",
            "children": [
              "IPY_MODEL_c51ff855f5d444f1a293f892b82d8700",
              "IPY_MODEL_8b311457fefd48369bc9e8fda84c2087",
              "IPY_MODEL_997f17d3e75945b881180166eb4cfe4a"
            ],
            "layout": "IPY_MODEL_fe0975f98b9847d7bdac015dd639a64c"
          }
        },
        "c51ff855f5d444f1a293f892b82d8700": {
          "model_module": "@jupyter-widgets/controls",
          "model_name": "HTMLModel",
          "model_module_version": "1.5.0",
          "state": {
            "_dom_classes": [],
            "_model_module": "@jupyter-widgets/controls",
            "_model_module_version": "1.5.0",
            "_model_name": "HTMLModel",
            "_view_count": null,
            "_view_module": "@jupyter-widgets/controls",
            "_view_module_version": "1.5.0",
            "_view_name": "HTMLView",
            "description": "",
            "description_tooltip": null,
            "layout": "IPY_MODEL_aa61f1f241ac4db7b79c58e501b45761",
            "placeholder": "​",
            "style": "IPY_MODEL_5603856febcd420295b36d127ad9c28f",
            "value": "Batches: 100%"
          }
        },
        "8b311457fefd48369bc9e8fda84c2087": {
          "model_module": "@jupyter-widgets/controls",
          "model_name": "FloatProgressModel",
          "model_module_version": "1.5.0",
          "state": {
            "_dom_classes": [],
            "_model_module": "@jupyter-widgets/controls",
            "_model_module_version": "1.5.0",
            "_model_name": "FloatProgressModel",
            "_view_count": null,
            "_view_module": "@jupyter-widgets/controls",
            "_view_module_version": "1.5.0",
            "_view_name": "ProgressView",
            "bar_style": "success",
            "description": "",
            "description_tooltip": null,
            "layout": "IPY_MODEL_92463d07e4dd46c08bcdce4d47a0d6b0",
            "max": 1,
            "min": 0,
            "orientation": "horizontal",
            "style": "IPY_MODEL_d0a0fc7f2f824e1c96abf7b79ea636e7",
            "value": 1
          }
        },
        "997f17d3e75945b881180166eb4cfe4a": {
          "model_module": "@jupyter-widgets/controls",
          "model_name": "HTMLModel",
          "model_module_version": "1.5.0",
          "state": {
            "_dom_classes": [],
            "_model_module": "@jupyter-widgets/controls",
            "_model_module_version": "1.5.0",
            "_model_name": "HTMLModel",
            "_view_count": null,
            "_view_module": "@jupyter-widgets/controls",
            "_view_module_version": "1.5.0",
            "_view_name": "HTMLView",
            "description": "",
            "description_tooltip": null,
            "layout": "IPY_MODEL_44e1db3659da4ef09aa8c006cb026aa6",
            "placeholder": "​",
            "style": "IPY_MODEL_75428c0624d64de1a8f2c9beb9c20d5e",
            "value": " 1/1 [00:00&lt;00:00,  1.75it/s]"
          }
        },
        "fe0975f98b9847d7bdac015dd639a64c": {
          "model_module": "@jupyter-widgets/base",
          "model_name": "LayoutModel",
          "model_module_version": "1.2.0",
          "state": {
            "_model_module": "@jupyter-widgets/base",
            "_model_module_version": "1.2.0",
            "_model_name": "LayoutModel",
            "_view_count": null,
            "_view_module": "@jupyter-widgets/base",
            "_view_module_version": "1.2.0",
            "_view_name": "LayoutView",
            "align_content": null,
            "align_items": null,
            "align_self": null,
            "border": null,
            "bottom": null,
            "display": null,
            "flex": null,
            "flex_flow": null,
            "grid_area": null,
            "grid_auto_columns": null,
            "grid_auto_flow": null,
            "grid_auto_rows": null,
            "grid_column": null,
            "grid_gap": null,
            "grid_row": null,
            "grid_template_areas": null,
            "grid_template_columns": null,
            "grid_template_rows": null,
            "height": null,
            "justify_content": null,
            "justify_items": null,
            "left": null,
            "margin": null,
            "max_height": null,
            "max_width": null,
            "min_height": null,
            "min_width": null,
            "object_fit": null,
            "object_position": null,
            "order": null,
            "overflow": null,
            "overflow_x": null,
            "overflow_y": null,
            "padding": null,
            "right": null,
            "top": null,
            "visibility": null,
            "width": null
          }
        },
        "aa61f1f241ac4db7b79c58e501b45761": {
          "model_module": "@jupyter-widgets/base",
          "model_name": "LayoutModel",
          "model_module_version": "1.2.0",
          "state": {
            "_model_module": "@jupyter-widgets/base",
            "_model_module_version": "1.2.0",
            "_model_name": "LayoutModel",
            "_view_count": null,
            "_view_module": "@jupyter-widgets/base",
            "_view_module_version": "1.2.0",
            "_view_name": "LayoutView",
            "align_content": null,
            "align_items": null,
            "align_self": null,
            "border": null,
            "bottom": null,
            "display": null,
            "flex": null,
            "flex_flow": null,
            "grid_area": null,
            "grid_auto_columns": null,
            "grid_auto_flow": null,
            "grid_auto_rows": null,
            "grid_column": null,
            "grid_gap": null,
            "grid_row": null,
            "grid_template_areas": null,
            "grid_template_columns": null,
            "grid_template_rows": null,
            "height": null,
            "justify_content": null,
            "justify_items": null,
            "left": null,
            "margin": null,
            "max_height": null,
            "max_width": null,
            "min_height": null,
            "min_width": null,
            "object_fit": null,
            "object_position": null,
            "order": null,
            "overflow": null,
            "overflow_x": null,
            "overflow_y": null,
            "padding": null,
            "right": null,
            "top": null,
            "visibility": null,
            "width": null
          }
        },
        "5603856febcd420295b36d127ad9c28f": {
          "model_module": "@jupyter-widgets/controls",
          "model_name": "DescriptionStyleModel",
          "model_module_version": "1.5.0",
          "state": {
            "_model_module": "@jupyter-widgets/controls",
            "_model_module_version": "1.5.0",
            "_model_name": "DescriptionStyleModel",
            "_view_count": null,
            "_view_module": "@jupyter-widgets/base",
            "_view_module_version": "1.2.0",
            "_view_name": "StyleView",
            "description_width": ""
          }
        },
        "92463d07e4dd46c08bcdce4d47a0d6b0": {
          "model_module": "@jupyter-widgets/base",
          "model_name": "LayoutModel",
          "model_module_version": "1.2.0",
          "state": {
            "_model_module": "@jupyter-widgets/base",
            "_model_module_version": "1.2.0",
            "_model_name": "LayoutModel",
            "_view_count": null,
            "_view_module": "@jupyter-widgets/base",
            "_view_module_version": "1.2.0",
            "_view_name": "LayoutView",
            "align_content": null,
            "align_items": null,
            "align_self": null,
            "border": null,
            "bottom": null,
            "display": null,
            "flex": null,
            "flex_flow": null,
            "grid_area": null,
            "grid_auto_columns": null,
            "grid_auto_flow": null,
            "grid_auto_rows": null,
            "grid_column": null,
            "grid_gap": null,
            "grid_row": null,
            "grid_template_areas": null,
            "grid_template_columns": null,
            "grid_template_rows": null,
            "height": null,
            "justify_content": null,
            "justify_items": null,
            "left": null,
            "margin": null,
            "max_height": null,
            "max_width": null,
            "min_height": null,
            "min_width": null,
            "object_fit": null,
            "object_position": null,
            "order": null,
            "overflow": null,
            "overflow_x": null,
            "overflow_y": null,
            "padding": null,
            "right": null,
            "top": null,
            "visibility": null,
            "width": null
          }
        },
        "d0a0fc7f2f824e1c96abf7b79ea636e7": {
          "model_module": "@jupyter-widgets/controls",
          "model_name": "ProgressStyleModel",
          "model_module_version": "1.5.0",
          "state": {
            "_model_module": "@jupyter-widgets/controls",
            "_model_module_version": "1.5.0",
            "_model_name": "ProgressStyleModel",
            "_view_count": null,
            "_view_module": "@jupyter-widgets/base",
            "_view_module_version": "1.2.0",
            "_view_name": "StyleView",
            "bar_color": null,
            "description_width": ""
          }
        },
        "44e1db3659da4ef09aa8c006cb026aa6": {
          "model_module": "@jupyter-widgets/base",
          "model_name": "LayoutModel",
          "model_module_version": "1.2.0",
          "state": {
            "_model_module": "@jupyter-widgets/base",
            "_model_module_version": "1.2.0",
            "_model_name": "LayoutModel",
            "_view_count": null,
            "_view_module": "@jupyter-widgets/base",
            "_view_module_version": "1.2.0",
            "_view_name": "LayoutView",
            "align_content": null,
            "align_items": null,
            "align_self": null,
            "border": null,
            "bottom": null,
            "display": null,
            "flex": null,
            "flex_flow": null,
            "grid_area": null,
            "grid_auto_columns": null,
            "grid_auto_flow": null,
            "grid_auto_rows": null,
            "grid_column": null,
            "grid_gap": null,
            "grid_row": null,
            "grid_template_areas": null,
            "grid_template_columns": null,
            "grid_template_rows": null,
            "height": null,
            "justify_content": null,
            "justify_items": null,
            "left": null,
            "margin": null,
            "max_height": null,
            "max_width": null,
            "min_height": null,
            "min_width": null,
            "object_fit": null,
            "object_position": null,
            "order": null,
            "overflow": null,
            "overflow_x": null,
            "overflow_y": null,
            "padding": null,
            "right": null,
            "top": null,
            "visibility": null,
            "width": null
          }
        },
        "75428c0624d64de1a8f2c9beb9c20d5e": {
          "model_module": "@jupyter-widgets/controls",
          "model_name": "DescriptionStyleModel",
          "model_module_version": "1.5.0",
          "state": {
            "_model_module": "@jupyter-widgets/controls",
            "_model_module_version": "1.5.0",
            "_model_name": "DescriptionStyleModel",
            "_view_count": null,
            "_view_module": "@jupyter-widgets/base",
            "_view_module_version": "1.2.0",
            "_view_name": "StyleView",
            "description_width": ""
          }
        }
      }
    }
  },
  "cells": [
    {
      "cell_type": "markdown",
      "metadata": {
        "id": "view-in-github",
        "colab_type": "text"
      },
      "source": [
        "<a href=\"https://colab.research.google.com/github/cbadenes/curso-pln/blob/main/notebooks/08_Busqueda_Dispersa_y_Densa.ipynb\" target=\"_parent\"><img src=\"https://colab.research.google.com/assets/colab-badge.svg\" alt=\"Open In Colab\"/></a>"
      ]
    },
    {
      "cell_type": "markdown",
      "source": [
        "# Tutorial: Búsqueda Dispersa y Densa de Información sobre Películas en Español\n",
        "\n",
        "Este notebook implementa un recuperador de un sistema RAG que combina:\n",
        "1. Búsqueda dispersa (sparse retrieval) usando BM25\n",
        "2. Búsqueda densa (dense retrieval) usando embeddings\n",
        "3. Fusión de resultados\n",
        "\n",
        "La búsqueda dispersa es buena para encontrar coincidencias exactas y palabras clave,\n",
        "mientras que la búsqueda densa es mejor para capturar similitud semántica."
      ],
      "metadata": {
        "id": "Qqyh9huBnuna"
      }
    },
    {
      "cell_type": "markdown",
      "source": [
        "## Importamos las bibliotecas necesarias"
      ],
      "metadata": {
        "id": "NPl7oTuPn7XM"
      }
    },
    {
      "cell_type": "code",
      "execution_count": null,
      "metadata": {
        "colab": {
          "base_uri": "https://localhost:8080/"
        },
        "id": "vGf2OQwzngoD",
        "outputId": "b8fc6a7a-30bf-45fb-c243-fef5cd4c4e27"
      },
      "outputs": [
        {
          "output_type": "stream",
          "name": "stdout",
          "text": [
            "Requirement already satisfied: rank_bm25 in /usr/local/lib/python3.10/dist-packages (0.2.2)\n",
            "Requirement already satisfied: numpy in /usr/local/lib/python3.10/dist-packages (from rank_bm25) (1.26.4)\n"
          ]
        }
      ],
      "source": [
        "!pip install rank_bm25\n",
        "import pandas as pd\n",
        "import numpy as np\n",
        "from rank_bm25 import BM25Okapi\n",
        "from sklearn.feature_extraction.text import TfidfVectorizer\n",
        "from sentence_transformers import SentenceTransformer\n",
        "from sklearn.metrics.pairwise import cosine_similarity\n",
        "import nltk\n",
        "from nltk.tokenize import word_tokenize\n",
        "from nltk.corpus import stopwords\n",
        "from nltk.corpus import stopwords\n",
        "import re\n",
        "from typing import List, Dict, Tuple"
      ]
    },
    {
      "cell_type": "code",
      "source": [
        "print(\"Descargando recursos de NLTK...\")\n",
        "import nltk\n",
        "\n",
        "# Descarga de recursos necesarios\n",
        "nltk.download('punkt', quiet=True)\n",
        "nltk.download('stopwords', quiet=True)\n",
        "print(\"Recursos NLTK descargados correctamente.\")\n"
      ],
      "metadata": {
        "colab": {
          "base_uri": "https://localhost:8080/"
        },
        "id": "uesFYJqWpbe8",
        "outputId": "32fce14c-776e-4404-e520-f1795f573f89"
      },
      "execution_count": null,
      "outputs": [
        {
          "output_type": "stream",
          "name": "stdout",
          "text": [
            "Descargando recursos de NLTK...\n",
            "Recursos NLTK descargados correctamente.\n"
          ]
        }
      ]
    },
    {
      "cell_type": "markdown",
      "source": [
        "## 1. Preparación de Datos\n",
        "\n",
        "Creamos un conjunto de datos de ejemplo con películas en español."
      ],
      "metadata": {
        "id": "fukon6mgoAAa"
      }
    },
    {
      "cell_type": "code",
      "source": [
        "peliculas_data = {\n",
        "    'titulo': [\n",
        "        'El Padrino',\n",
        "        'Pulp Fiction',\n",
        "        'El Señor de los Anillos',\n",
        "        'Matrix',\n",
        "        'Ciudad de Dios',\n",
        "        'El Laberinto del Fauno',\n",
        "        'Amores Perros',\n",
        "        'Todo Sobre Mi Madre',\n",
        "        'Cinema Paradiso',\n",
        "        'El Secreto de Sus Ojos'\n",
        "    ],\n",
        "    'descripcion': [\n",
        "        'La película sigue a la familia Corleone, una de las familias más poderosas de la mafia italiana en Nueva York.',\n",
        "        'Varias historias entrelazadas sobre criminales de Los Ángeles, incluyendo dos hitmen, un boxeador y un gángster.',\n",
        "        'Un hobbit debe destruir un anillo mágico para salvar a la Tierra Media de la oscuridad.',\n",
        "        'Un programador descubre que el mundo en el que vive es una simulación controlada por máquinas.',\n",
        "        'La historia del crecimiento del crimen organizado en los suburbios de Río de Janeiro.',\n",
        "        'En la España de 1944, una niña escapa a un mundo mágico y misterioso para huir de su padrastro y la guerra civil.',\n",
        "        'Tres historias diferentes en Ciudad de México se entrelazan en torno a un accidente de coche.',\n",
        "        'Una madre busca al padre del hijo que acaba de perder para comunicarle la muerte de su hijo.',\n",
        "        'Un famoso director de cine recuerda su infancia y su primer amor por el cine en un pequeño pueblo italiano.',\n",
        "        'Un oficial judicial se obsesiona con un caso de asesinato sin resolver durante 25 años.'\n",
        "    ],\n",
        "    'genero': [\n",
        "        'Drama, Crimen',\n",
        "        'Crimen, Drama',\n",
        "        'Fantasía, Aventura',\n",
        "        'Ciencia Ficción, Acción',\n",
        "        'Crimen, Drama',\n",
        "        'Fantasía, Drama',\n",
        "        'Drama, Thriller',\n",
        "        'Drama',\n",
        "        'Drama, Romance',\n",
        "        'Drama, Misterio'\n",
        "    ],\n",
        "    'año': [1972, 1994, 2001, 1999, 2002, 2006, 2000, 1999, 1988, 2009]\n",
        "}\n",
        "\n",
        "df = pd.DataFrame(peliculas_data)"
      ],
      "metadata": {
        "id": "JTFvxoUOoLrX"
      },
      "execution_count": null,
      "outputs": []
    },
    {
      "cell_type": "markdown",
      "source": [
        "## 2. Preprocesamiento de Texto"
      ],
      "metadata": {
        "id": "h_YbOo59oP8a"
      }
    },
    {
      "cell_type": "code",
      "source": [
        "class TextPreprocessor:\n",
        "    \"\"\"\n",
        "    Clase para preprocesar texto en español.\n",
        "    \"\"\"\n",
        "    def __init__(self):\n",
        "        self.stop_words = set(stopwords.words('spanish'))\n",
        "\n",
        "    def preprocess(self, text: str) -> str:\n",
        "        \"\"\"Preprocesa un texto en español.\"\"\"\n",
        "        # Convertir a minúsculas\n",
        "        text = text.lower()\n",
        "\n",
        "        # Tokenizar usando NLTK\n",
        "        tokens = word_tokenize(text)\n",
        "\n",
        "        # Eliminar stopwords usando NLTK\n",
        "        stop_words = set(stopwords.words('spanish'))\n",
        "        tokens = [t for t in tokens if t not in stop_words]\n",
        "\n",
        "        return ' '.join(tokens)"
      ],
      "metadata": {
        "id": "tqmL4UL9oSQp"
      },
      "execution_count": null,
      "outputs": []
    },
    {
      "cell_type": "markdown",
      "source": [
        "# 3. Búsqueda Dispersa (Sparse Retrieval)\n"
      ],
      "metadata": {
        "id": "irFrAbP4oV5X"
      }
    },
    {
      "cell_type": "code",
      "source": [
        "class SparseRetriever:\n",
        "    \"\"\"\n",
        "    Implementa búsqueda dispersa usando BM25.\n",
        "    \"\"\"\n",
        "    def __init__(self, documentos: List[str]):\n",
        "        self.preprocessor = TextPreprocessor()\n",
        "\n",
        "        # Preprocesar documentos\n",
        "        processed_docs = [self.preprocessor.preprocess(doc) for doc in documentos]\n",
        "\n",
        "        # Tokenizar para BM25\n",
        "        tokenized_docs = [doc.split() for doc in processed_docs]\n",
        "\n",
        "        # Inicializar BM25\n",
        "        self.bm25 = BM25Okapi(tokenized_docs)\n",
        "\n",
        "        # Guardar documentos originales\n",
        "        self.documentos = documentos\n",
        "\n",
        "    def buscar(self, query: str, top_k: int = 3) -> List[Tuple[int, float]]:\n",
        "        \"\"\"Realiza búsqueda BM25.\"\"\"\n",
        "        # Preprocesar query\n",
        "        processed_query = self.preprocessor.preprocess(query)\n",
        "        query_tokens = processed_query.split()\n",
        "\n",
        "        # Obtener scores BM25\n",
        "        scores = self.bm25.get_scores(query_tokens)\n",
        "\n",
        "        # Obtener top_k resultados\n",
        "        top_indices = np.argsort(scores)[::-1][:top_k]\n",
        "\n",
        "        return [(idx, scores[idx]) for idx in top_indices]"
      ],
      "metadata": {
        "id": "bY3opUMKoYDa"
      },
      "execution_count": null,
      "outputs": []
    },
    {
      "cell_type": "markdown",
      "source": [
        "# 4. Búsqueda Densa (Dense Retrieval)\n"
      ],
      "metadata": {
        "id": "SEEeQTQfoanS"
      }
    },
    {
      "cell_type": "code",
      "source": [
        "class DenseRetriever:\n",
        "    \"\"\"\n",
        "    Implementa búsqueda densa usando embeddings.\n",
        "    \"\"\"\n",
        "    def __init__(self, documentos: List[str]):\n",
        "        # Cargar modelo de embeddings multilingüe\n",
        "        self.model = SentenceTransformer('distiluse-base-multilingual-cased-v1')\n",
        "\n",
        "        # Generar y almacenar embeddings\n",
        "        self.embeddings = self.model.encode(documentos, show_progress_bar=True)\n",
        "\n",
        "        # Guardar documentos originales\n",
        "        self.documentos = documentos\n",
        "\n",
        "    def buscar(self, query: str, top_k: int = 3) -> List[Tuple[int, float]]:\n",
        "        \"\"\"Realiza búsqueda por similitud de embeddings.\"\"\"\n",
        "        # Generar embedding de la query\n",
        "        query_embedding = self.model.encode([query])\n",
        "\n",
        "        # Calcular similitud\n",
        "        similarities = cosine_similarity(query_embedding, self.embeddings)[0]\n",
        "\n",
        "        # Obtener top_k resultados\n",
        "        top_indices = np.argsort(similarities)[::-1][:top_k]\n",
        "\n",
        "        return [(idx, similarities[idx]) for idx in top_indices]"
      ],
      "metadata": {
        "id": "wFRZhqsBoc4N"
      },
      "execution_count": null,
      "outputs": []
    },
    {
      "cell_type": "markdown",
      "source": [
        "## 5. Combinación de Técnicas Dispersas y Densas"
      ],
      "metadata": {
        "id": "Ax6U3RcIohHO"
      }
    },
    {
      "cell_type": "code",
      "source": [
        "class HybridRetriever:\n",
        "    \"\"\"\n",
        "    Combina resultados de búsqueda dispersa y densa.\n",
        "    \"\"\"\n",
        "    def __init__(self, documentos: List[str],\n",
        "                 weight_sparse: float = 0.3,\n",
        "                 weight_dense: float = 0.7):\n",
        "        self.sparse_retriever = SparseRetriever(documentos)\n",
        "        self.dense_retriever = DenseRetriever(documentos)\n",
        "        self.weight_sparse = weight_sparse\n",
        "        self.weight_dense = weight_dense\n",
        "        self.documentos = documentos\n",
        "\n",
        "    def buscar(self, query: str, top_k: int = 3) -> List[Dict]:\n",
        "        \"\"\"\n",
        "        Realiza búsqueda híbrida y fusiona resultados.\n",
        "        \"\"\"\n",
        "        # Obtener resultados de ambos retrievers\n",
        "        sparse_results = self.sparse_retriever.buscar(query, top_k=top_k)\n",
        "        dense_results = self.dense_retriever.buscar(query, top_k=top_k)\n",
        "\n",
        "        # Combinar scores\n",
        "        combined_scores = {}\n",
        "        for idx, score in sparse_results:\n",
        "            combined_scores[idx] = score * self.weight_sparse\n",
        "\n",
        "        for idx, score in dense_results:\n",
        "            if idx in combined_scores:\n",
        "                combined_scores[idx] += score * self.weight_dense\n",
        "            else:\n",
        "                combined_scores[idx] = score * self.weight_dense\n",
        "\n",
        "        # Ordenar resultados finales\n",
        "        sorted_results = sorted(combined_scores.items(),\n",
        "                              key=lambda x: x[1],\n",
        "                              reverse=True)[:top_k]\n",
        "\n",
        "        # Preparar resultados\n",
        "        resultados = []\n",
        "        for idx, score in sorted_results:\n",
        "            resultados.append({\n",
        "                'titulo': df.iloc[idx]['titulo'],\n",
        "                'descripcion': df.iloc[idx]['descripcion'],\n",
        "                'genero': df.iloc[idx]['genero'],\n",
        "                'año': df.iloc[idx]['año'],\n",
        "                'score': score\n",
        "            })\n",
        "\n",
        "        return resultados"
      ],
      "metadata": {
        "id": "eOOkdjx9okT4"
      },
      "execution_count": null,
      "outputs": []
    },
    {
      "cell_type": "markdown",
      "source": [
        "# 7. Casos de Uso\n",
        "\n",
        "Veamos cómo funciona nuestro recuperador de información."
      ],
      "metadata": {
        "id": "AOFWvNvcos8_"
      }
    },
    {
      "cell_type": "code",
      "source": [
        "# Inicializamos el retriever disperso\n",
        "print(\"Inicializando sistema RAG..\")\n",
        "documentos = df['descripcion'].tolist()\n",
        "sparse_retriever = SparseRetriever(documentos)\n",
        "dense_retriever = DenseRetriever(documentos)\n",
        "hybrid_retriever = HybridRetriever(documentos)\n"
      ],
      "metadata": {
        "colab": {
          "base_uri": "https://localhost:8080/",
          "height": 98,
          "referenced_widgets": [
            "c72a268a666e40a681ae277edda9e244",
            "6e59fe7bf78340a98c672aee92835127",
            "4ead61f10312449c9c49290b0cde9b14",
            "3a3909adfc9e470b91ac29125722b846",
            "18b63fddf5064292862d4a7da6e187af",
            "892b839eb3d24e48baeeb9f9f233db82",
            "061b723aa05d4044916a035fa8cbc769",
            "1c8bac092c1648b9822a1490b3b5adc6",
            "faf5abe177ab493b96aea73f751fb60f",
            "a993f0effb8549c287427f64849e1af6",
            "a599aa7463d041d79d575863a0385b58",
            "ed24d52fa1b940768ba887ef991b1622",
            "c51ff855f5d444f1a293f892b82d8700",
            "8b311457fefd48369bc9e8fda84c2087",
            "997f17d3e75945b881180166eb4cfe4a",
            "fe0975f98b9847d7bdac015dd639a64c",
            "aa61f1f241ac4db7b79c58e501b45761",
            "5603856febcd420295b36d127ad9c28f",
            "92463d07e4dd46c08bcdce4d47a0d6b0",
            "d0a0fc7f2f824e1c96abf7b79ea636e7",
            "44e1db3659da4ef09aa8c006cb026aa6",
            "75428c0624d64de1a8f2c9beb9c20d5e"
          ]
        },
        "id": "WDFx9Ezrq5Yq",
        "outputId": "3543b927-bf89-4248-ae41-cf73cb13bf95"
      },
      "execution_count": null,
      "outputs": [
        {
          "output_type": "stream",
          "name": "stdout",
          "text": [
            "Inicializando sistema RAG disperso...\n"
          ]
        },
        {
          "output_type": "display_data",
          "data": {
            "text/plain": [
              "Batches:   0%|          | 0/1 [00:00<?, ?it/s]"
            ],
            "application/vnd.jupyter.widget-view+json": {
              "version_major": 2,
              "version_minor": 0,
              "model_id": "c72a268a666e40a681ae277edda9e244"
            }
          },
          "metadata": {}
        },
        {
          "output_type": "display_data",
          "data": {
            "text/plain": [
              "Batches:   0%|          | 0/1 [00:00<?, ?it/s]"
            ],
            "application/vnd.jupyter.widget-view+json": {
              "version_major": 2,
              "version_minor": 0,
              "model_id": "ed24d52fa1b940768ba887ef991b1622"
            }
          },
          "metadata": {}
        }
      ]
    },
    {
      "cell_type": "markdown",
      "source": [
        "## 7.1 Búsqueda Dispersa"
      ],
      "metadata": {
        "id": "rtPHSEjSqtQP"
      }
    },
    {
      "cell_type": "code",
      "source": [
        "# basada en keywords\n",
        "query = \"mafia familia italiana nueva york\"\n",
        "print(\"\\nBúsqueda:\", query)\n",
        "sparse_results = sparse_retriever.buscar(query, top_k=3)\n",
        "print(\"\\nResultados:\")\n",
        "for idx, score in sparse_results:\n",
        "    print(f\"- {df.iloc[idx]['titulo']} ({df.iloc[idx]['año']})\")\n",
        "    print(f\"  Score BM25: {score:.3f}\")\n",
        "    print(f\"  {df.iloc[idx]['descripcion']}\\n\")"
      ],
      "metadata": {
        "colab": {
          "base_uri": "https://localhost:8080/"
        },
        "id": "nyAls5OFqwfG",
        "outputId": "61a92977-97dd-49c2-f463-de84795692b3"
      },
      "execution_count": null,
      "outputs": [
        {
          "output_type": "stream",
          "name": "stdout",
          "text": [
            "\n",
            "Búsqueda: mafia familia italiana nueva york\n",
            "\n",
            "Resultados:\n",
            "- El Padrino (1972)\n",
            "  Score BM25: 8.836\n",
            "  La película sigue a la familia Corleone, una de las familias más poderosas de la mafia italiana en Nueva York.\n",
            "\n",
            "- El Secreto de Sus Ojos (2009)\n",
            "  Score BM25: 0.000\n",
            "  Un oficial judicial se obsesiona con un caso de asesinato sin resolver durante 25 años.\n",
            "\n",
            "- Cinema Paradiso (1988)\n",
            "  Score BM25: 0.000\n",
            "  Un famoso director de cine recuerda su infancia y su primer amor por el cine en un pequeño pueblo italiano.\n",
            "\n"
          ]
        }
      ]
    },
    {
      "cell_type": "markdown",
      "source": [
        "## 7.2 Búsqueda Densa"
      ],
      "metadata": {
        "id": "eHDFUhkbs6Qz"
      }
    },
    {
      "cell_type": "code",
      "source": [
        "# basada en descripciones\n",
        "query = \"películas que exploran la memoria, la nostalgia y el paso del tiempo\"\n",
        "print(\"\\nBúsqueda:\", query)\n",
        "dense_results = dense_retriever.buscar(query, top_k=3)\n",
        "print(\"\\nResultados:\")\n",
        "for idx, score in dense_results:\n",
        "    print(f\"- {df.iloc[idx]['titulo']} ({df.iloc[idx]['año']})\")\n",
        "    print(f\"  Similitud semántica: {score:.3f}\")\n",
        "    print(f\"  {df.iloc[idx]['descripcion']}\\n\")"
      ],
      "metadata": {
        "colab": {
          "base_uri": "https://localhost:8080/"
        },
        "id": "vlLjMHIrs8SS",
        "outputId": "a506cbc6-3152-4c2f-87c0-1f84d8796046"
      },
      "execution_count": null,
      "outputs": [
        {
          "output_type": "stream",
          "name": "stdout",
          "text": [
            "\n",
            "Búsqueda: películas que exploran la memoria, la nostalgia y el paso del tiempo\n",
            "\n",
            "Resultados:\n",
            "- Cinema Paradiso (1988)\n",
            "  Similitud semántica: 0.363\n",
            "  Un famoso director de cine recuerda su infancia y su primer amor por el cine en un pequeño pueblo italiano.\n",
            "\n",
            "- El Padrino (1972)\n",
            "  Similitud semántica: 0.191\n",
            "  La película sigue a la familia Corleone, una de las familias más poderosas de la mafia italiana en Nueva York.\n",
            "\n",
            "- El Laberinto del Fauno (2006)\n",
            "  Similitud semántica: 0.178\n",
            "  En la España de 1944, una niña escapa a un mundo mágico y misterioso para huir de su padrastro y la guerra civil.\n",
            "\n"
          ]
        }
      ]
    },
    {
      "cell_type": "markdown",
      "source": [
        "## 7.3 Búsqueda Híbrida"
      ],
      "metadata": {
        "id": "VldwkfQgtS1Z"
      }
    },
    {
      "cell_type": "code",
      "source": [
        "# basada en combinación de tema y palabras clave\n",
        "query = \"violencia y crimen organizado en latinoamérica\"\n",
        "print(\"\\nBúsqueda:\", query)\n",
        "hybrid_results = hybrid_retriever.buscar(query, top_k=3)\n",
        "print(\"\\nResultados:\")\n",
        "for res in hybrid_results:\n",
        "    print(f\"- {res['titulo']} ({res['año']})\")\n",
        "    print(f\"  Score combinado: {res['score']:.3f}\")\n",
        "    print(f\"  {res['descripcion']}\\n\")\n"
      ],
      "metadata": {
        "colab": {
          "base_uri": "https://localhost:8080/"
        },
        "id": "QCIpsIxCtYgk",
        "outputId": "8a19d471-0662-491d-d48b-c9f743b1b04b"
      },
      "execution_count": null,
      "outputs": [
        {
          "output_type": "stream",
          "name": "stdout",
          "text": [
            "\n",
            "Búsqueda: violencia y crimen organizado en latinoamérica\n",
            "\n",
            "Resultados:\n",
            "- Ciudad de Dios (2002)\n",
            "  Score combinado: 1.535\n",
            "  La historia del crecimiento del crimen organizado en los suburbios de Río de Janeiro.\n",
            "\n",
            "- Pulp Fiction (1994)\n",
            "  Score combinado: 0.284\n",
            "  Varias historias entrelazadas sobre criminales de Los Ángeles, incluyendo dos hitmen, un boxeador y un gángster.\n",
            "\n",
            "- El Padrino (1972)\n",
            "  Score combinado: 0.208\n",
            "  La película sigue a la familia Corleone, una de las familias más poderosas de la mafia italiana en Nueva York.\n",
            "\n"
          ]
        }
      ]
    },
    {
      "cell_type": "markdown",
      "source": [
        "# Análisis de los Casos de Uso\n",
        "\n",
        "1. Búsqueda Dispersa (BM25):\n",
        "   - Demostró excelente precisión para encontrar coincidencias exactas\n",
        "   - Encontró rápidamente la película que contenía las palabras clave específicas\n",
        "   - Ideal para cuando los usuarios saben exactamente qué están buscando\n",
        "\n",
        "2. Búsqueda Densa (Embeddings):\n",
        "   - Captó exitosamente conceptos abstractos y temas\n",
        "   - Encontró películas relevantes incluso sin coincidencias exactas de palabras\n",
        "   - Perfecta para búsquedas conceptuales y exploratorias\n",
        "\n",
        "3. Búsqueda Híbrida:\n",
        "   - Balanceó precisión y comprensión semántica\n",
        "   - Encontró resultados relevantes combinando palabras clave y contexto\n",
        "   - Óptima para consultas complejas del mundo real\n",
        "\n",
        "# Recomendaciones Prácticas:\n",
        "\n",
        "1. Usa búsqueda dispersa cuando:\n",
        "   - Los usuarios buscan por términos específicos\n",
        "   - Necesitas alta precisión en coincidencias exactas\n",
        "   - Trabajas con recursos computacionales limitados\n",
        "\n",
        "2. Usa búsqueda densa cuando:\n",
        "   - Los usuarios hacen consultas conceptuales\n",
        "   - Necesitas entender el significado más allá de las palabras\n",
        "   - Tienes recursos para computar embeddings\n",
        "\n",
        "3. Usa búsqueda híbrida cuando:\n",
        "   - Tienes casos de uso variados\n",
        "   - Necesitas robustez ante diferentes tipos de consultas\n",
        "   - Puedes permitirte el costo computacional adicional\n",
        "\n",
        "# Extensiones Sugeridas:\n",
        "\n",
        "1. Mejoras en la búsqueda dispersa:\n",
        "   - Implementar stemming/lematización\n",
        "   - Usar n-gramas\n",
        "   - Probar diferentes variantes de BM25\n",
        "\n",
        "2. Mejoras en la búsqueda densa:\n",
        "   - Probar diferentes modelos de embeddings\n",
        "   - Implementar cross-encoders para re-ranking\n",
        "   - Usar bases de datos vectoriales (FAISS)\n",
        "\n",
        "3. Mejoras en la fusión:\n",
        "   - Implementar métodos más sofisticados de fusión\n",
        "   - Ajustar pesos dinámicamente\n",
        "   - Añadir re-ranking\n",
        "\n",
        "4. Mejoras en la generación:\n",
        "   - Usar un LLM real\n",
        "   - Implementar few-shot prompting\n",
        "   - Añadir control de fuentes"
      ],
      "metadata": {
        "id": "w1WDpzhJpO4z"
      }
    }
  ]
}