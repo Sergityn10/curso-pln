{
  "nbformat": 4,
  "nbformat_minor": 0,
  "metadata": {
    "colab": {
      "provenance": [],
      "authorship_tag": "ABX9TyPj3TLCKl9kQYs926Cf5Kpz",
      "include_colab_link": true
    },
    "kernelspec": {
      "name": "python3",
      "display_name": "Python 3"
    },
    "language_info": {
      "name": "python"
    }
  },
  "cells": [
    {
      "cell_type": "markdown",
      "metadata": {
        "id": "view-in-github",
        "colab_type": "text"
      },
      "source": [
        "<a href=\"https://colab.research.google.com/github/cbadenes/curso-pln/blob/main/notebooks/02_modelos_ngramas.ipynb\" target=\"_parent\"><img src=\"https://colab.research.google.com/assets/colab-badge.svg\" alt=\"Open In Colab\"/></a>"
      ]
    },
    {
      "cell_type": "markdown",
      "source": [
        "# Modelo tri-grama del corpus Reuters\n",
        "\n",
        "El [Corpus Reuters](https://www.nltk.org/book/ch02.html) de NLTKL contiene 10.788 documentos de noticias que suman 1.7 millones de palabras. Los documentos han sido clasificados en 90 temas y agrupados en dos conjuntos llamados \"entrenamiento\" y \"prueba\"; así, el texto con fileid `test/14826` es un documento extraído del conjunto de prueba. Esta división es para entrenar y probar algoritmos que detectan automáticamente el tema de un documento."
      ],
      "metadata": {
        "id": "9SYiSAAbgNgF"
      }
    },
    {
      "cell_type": "markdown",
      "source": [
        "## 1) Carga de Datos"
      ],
      "metadata": {
        "id": "HiRU36UHgNfY"
      }
    },
    {
      "cell_type": "code",
      "execution_count": 9,
      "metadata": {
        "colab": {
          "base_uri": "https://localhost:8080/"
        },
        "id": "JFgCfUwQgJfC",
        "outputId": "66e08900-39c5-460c-9185-04749c82ff52"
      },
      "outputs": [
        {
          "output_type": "stream",
          "name": "stderr",
          "text": [
            "[nltk_data] Downloading package reuters to /root/nltk_data...\n",
            "[nltk_data]   Package reuters is already up-to-date!\n",
            "[nltk_data] Downloading package punkt to /root/nltk_data...\n",
            "[nltk_data]   Package punkt is already up-to-date!\n",
            "[nltk_data] Downloading package punkt_tab to /root/nltk_data...\n",
            "[nltk_data]   Unzipping tokenizers/punkt_tab.zip.\n"
          ]
        },
        {
          "output_type": "stream",
          "name": "stdout",
          "text": [
            "contando palabras..\n",
            "Total de Palabras: 1720901\n",
            "Top 5 palabras más comunes: [('.', 94687), (',', 72360), ('the', 58251), ('of', 35979), ('to', 34035)]\n"
          ]
        }
      ],
      "source": [
        "from collections import Counter\n",
        "import nltk\n",
        "nltk.download('reuters')\n",
        "nltk.download('punkt')\n",
        "nltk.download('punkt_tab')\n",
        "!unzip -o -q /root/nltk_data/corpora/reuters.zip -d /root/nltk_data/corpora\n",
        "from nltk.corpus import reuters\n",
        "\n",
        "print(\"contando palabras..\")\n",
        "total_count = len(reuters.words())\n",
        "print(\"Número Total de Palabras:\", total_count)\n",
        "counts = Counter(reuters.words())\n",
        "print(\"Top 5 palabras más comunes:\", counts.most_common(n=5))"
      ]
    },
    {
      "cell_type": "markdown",
      "source": [
        "## 2) N-gramas\n",
        "\n",
        "Obtener los bigramas:"
      ],
      "metadata": {
        "id": "2mlH4XPmhD2o"
      }
    },
    {
      "cell_type": "code",
      "source": [
        "from nltk import bigrams, trigrams\n",
        "\n",
        "def get_bigrams(sentence,pad=False):\n",
        "    return list(bigrams(sentence,pad_left=pad, pad_right=pad))\n",
        "\n",
        "def get_trigrams(sentence,pad=False):\n",
        "    return list(trigrams(sentence,pad_left=pad, pad_right=pad))\n",
        "\n",
        "sentence=\"Natural language processing is a subfield of linguistics, computer science, and artificial intelligence\"\n",
        "\n",
        "get_bigrams(sentence.split(\" \"))"
      ],
      "metadata": {
        "colab": {
          "base_uri": "https://localhost:8080/"
        },
        "id": "mq2WD2CehKDq",
        "outputId": "ee219621-5264-4169-f658-6a6c2116d97c"
      },
      "execution_count": 10,
      "outputs": [
        {
          "output_type": "execute_result",
          "data": {
            "text/plain": [
              "[('Natural', 'language'),\n",
              " ('language', 'processing'),\n",
              " ('processing', 'is'),\n",
              " ('is', 'a'),\n",
              " ('a', 'subfield'),\n",
              " ('subfield', 'of'),\n",
              " ('of', 'linguistics,'),\n",
              " ('linguistics,', 'computer'),\n",
              " ('computer', 'science,'),\n",
              " ('science,', 'and'),\n",
              " ('and', 'artificial'),\n",
              " ('artificial', 'intelligence')]"
            ]
          },
          "metadata": {},
          "execution_count": 10
        }
      ]
    },
    {
      "cell_type": "markdown",
      "source": [
        "Obtener los bigramas con relleno (inicio y fin de frase):"
      ],
      "metadata": {
        "id": "mcLWa-TxhwDw"
      }
    },
    {
      "cell_type": "code",
      "source": [
        "get_bigrams(sentence.split(\" \"),pad=True)"
      ],
      "metadata": {
        "colab": {
          "base_uri": "https://localhost:8080/"
        },
        "id": "xorit3kzhw7G",
        "outputId": "a8a3201a-169b-49bf-f2c8-0fbfb2b83d35"
      },
      "execution_count": 11,
      "outputs": [
        {
          "output_type": "execute_result",
          "data": {
            "text/plain": [
              "[(None, 'Natural'),\n",
              " ('Natural', 'language'),\n",
              " ('language', 'processing'),\n",
              " ('processing', 'is'),\n",
              " ('is', 'a'),\n",
              " ('a', 'subfield'),\n",
              " ('subfield', 'of'),\n",
              " ('of', 'linguistics,'),\n",
              " ('linguistics,', 'computer'),\n",
              " ('computer', 'science,'),\n",
              " ('science,', 'and'),\n",
              " ('and', 'artificial'),\n",
              " ('artificial', 'intelligence'),\n",
              " ('intelligence', None)]"
            ]
          },
          "metadata": {},
          "execution_count": 11
        }
      ]
    },
    {
      "cell_type": "markdown",
      "source": [
        "Obtener los trigramas:"
      ],
      "metadata": {
        "id": "wMfzlyIMh88X"
      }
    },
    {
      "cell_type": "code",
      "source": [
        "get_trigrams(sentence.split(\" \"))"
      ],
      "metadata": {
        "colab": {
          "base_uri": "https://localhost:8080/"
        },
        "id": "DAlEp6dah8LG",
        "outputId": "3dc92a4e-a5d4-4706-d709-931141a20c66"
      },
      "execution_count": 12,
      "outputs": [
        {
          "output_type": "execute_result",
          "data": {
            "text/plain": [
              "[('Natural', 'language', 'processing'),\n",
              " ('language', 'processing', 'is'),\n",
              " ('processing', 'is', 'a'),\n",
              " ('is', 'a', 'subfield'),\n",
              " ('a', 'subfield', 'of'),\n",
              " ('subfield', 'of', 'linguistics,'),\n",
              " ('of', 'linguistics,', 'computer'),\n",
              " ('linguistics,', 'computer', 'science,'),\n",
              " ('computer', 'science,', 'and'),\n",
              " ('science,', 'and', 'artificial'),\n",
              " ('and', 'artificial', 'intelligence')]"
            ]
          },
          "metadata": {},
          "execution_count": 12
        }
      ]
    },
    {
      "cell_type": "markdown",
      "source": [
        "Obtener los trigramas con relleno (inicio y fin de frase):"
      ],
      "metadata": {
        "id": "aQ8pXbKTh_89"
      }
    },
    {
      "cell_type": "code",
      "source": [
        "get_trigrams(sentence.split(\" \"),pad=True)"
      ],
      "metadata": {
        "colab": {
          "base_uri": "https://localhost:8080/"
        },
        "id": "vbrv_ZjkiD-B",
        "outputId": "c72fd2c8-d214-4df0-f271-06800435efe8"
      },
      "execution_count": 13,
      "outputs": [
        {
          "output_type": "execute_result",
          "data": {
            "text/plain": [
              "[(None, None, 'Natural'),\n",
              " (None, 'Natural', 'language'),\n",
              " ('Natural', 'language', 'processing'),\n",
              " ('language', 'processing', 'is'),\n",
              " ('processing', 'is', 'a'),\n",
              " ('is', 'a', 'subfield'),\n",
              " ('a', 'subfield', 'of'),\n",
              " ('subfield', 'of', 'linguistics,'),\n",
              " ('of', 'linguistics,', 'computer'),\n",
              " ('linguistics,', 'computer', 'science,'),\n",
              " ('computer', 'science,', 'and'),\n",
              " ('science,', 'and', 'artificial'),\n",
              " ('and', 'artificial', 'intelligence'),\n",
              " ('artificial', 'intelligence', None),\n",
              " ('intelligence', None, None)]"
            ]
          },
          "metadata": {},
          "execution_count": 13
        }
      ]
    },
    {
      "cell_type": "markdown",
      "source": [
        "## 3) Contar Ocurrencias"
      ],
      "metadata": {
        "id": "rIXbjxMEiHRF"
      }
    },
    {
      "cell_type": "code",
      "source": [
        "from collections import defaultdict\n",
        "model = defaultdict(lambda: defaultdict(lambda: 0))\n",
        "\n",
        "for sentence in reuters.sents():\n",
        "    for w1, w2, w3 in get_trigrams(sentence, pad=True):\n",
        "        model[(w1, w2)][w3] += 1\n",
        "print(\"Total de tri-gramas:\",len(model))"
      ],
      "metadata": {
        "colab": {
          "base_uri": "https://localhost:8080/"
        },
        "id": "X55eWK-QiLfe",
        "outputId": "440830ab-c560-4812-a87e-b06e50146c53"
      },
      "execution_count": 14,
      "outputs": [
        {
          "output_type": "stream",
          "name": "stdout",
          "text": [
            "Total de tri-gramas: 398630\n"
          ]
        }
      ]
    },
    {
      "cell_type": "markdown",
      "source": [
        "¿Cuántas veces \"economists\" sigue a \"what the\"?"
      ],
      "metadata": {
        "id": "yyRy7yj4iero"
      }
    },
    {
      "cell_type": "code",
      "source": [
        "model[\"what\", \"the\"][\"economists\"]"
      ],
      "metadata": {
        "colab": {
          "base_uri": "https://localhost:8080/"
        },
        "id": "snAUml1Uifed",
        "outputId": "d5b85fb7-83c2-4cbf-adc3-b09811497e20"
      },
      "execution_count": 15,
      "outputs": [
        {
          "output_type": "execute_result",
          "data": {
            "text/plain": [
              "2"
            ]
          },
          "metadata": {},
          "execution_count": 15
        }
      ]
    },
    {
      "cell_type": "markdown",
      "source": [
        "¿Y \"nonexistingword\"?"
      ],
      "metadata": {
        "id": "mK7pIEYLilF-"
      }
    },
    {
      "cell_type": "code",
      "source": [
        "print(model[\"what\", \"the\"][\"nonexistingword\"])"
      ],
      "metadata": {
        "colab": {
          "base_uri": "https://localhost:8080/"
        },
        "id": "A6-GaAWoim5Y",
        "outputId": "fa06a895-31c2-450d-a72a-b2702d669196"
      },
      "execution_count": 16,
      "outputs": [
        {
          "output_type": "stream",
          "name": "stdout",
          "text": [
            "0\n"
          ]
        }
      ]
    },
    {
      "cell_type": "markdown",
      "source": [
        "¿Cuántas oraciones comienzan con \"The\"?"
      ],
      "metadata": {
        "id": "pdq4OWGfirUM"
      }
    },
    {
      "cell_type": "code",
      "source": [
        "model[None, None][\"The\"]"
      ],
      "metadata": {
        "colab": {
          "base_uri": "https://localhost:8080/"
        },
        "id": "iG0i6euUitVS",
        "outputId": "30503247-c5c7-4dfe-b4e7-a9bc578e080d"
      },
      "execution_count": 17,
      "outputs": [
        {
          "output_type": "execute_result",
          "data": {
            "text/plain": [
              "8839"
            ]
          },
          "metadata": {},
          "execution_count": 17
        }
      ]
    },
    {
      "cell_type": "markdown",
      "source": [
        "Vamos a transformar los conteos en probabilidades (normalización):"
      ],
      "metadata": {
        "id": "gqKFNaL8ixgW"
      }
    },
    {
      "cell_type": "code",
      "source": [
        "for w1_w2 in model:\n",
        "    total_count = float(sum(model[w1_w2].values()))\n",
        "    for w3 in model[w1_w2]:\n",
        "        model[w1_w2][w3] /= total_count\n",
        "print(\"¡listo!\")"
      ],
      "metadata": {
        "colab": {
          "base_uri": "https://localhost:8080/"
        },
        "id": "xHk9f9-diznz",
        "outputId": "200a9238-5b6b-477e-875e-2c0a7ac0edb6"
      },
      "execution_count": 18,
      "outputs": [
        {
          "output_type": "stream",
          "name": "stdout",
          "text": [
            "¡listo!\n"
          ]
        }
      ]
    },
    {
      "cell_type": "markdown",
      "source": [
        "¿Cuál es la probabilidad de que \"economists\" siga a \"what the\"?"
      ],
      "metadata": {
        "id": "xuv3RCAZi8a3"
      }
    },
    {
      "cell_type": "code",
      "source": [
        "model[\"what\", \"the\"][\"economists\"]"
      ],
      "metadata": {
        "colab": {
          "base_uri": "https://localhost:8080/"
        },
        "id": "E8H2MYQDi9Qz",
        "outputId": "245d8659-5805-4a52-905c-41e2df62ba9b"
      },
      "execution_count": 19,
      "outputs": [
        {
          "output_type": "execute_result",
          "data": {
            "text/plain": [
              "0.043478260869565216"
            ]
          },
          "metadata": {},
          "execution_count": 19
        }
      ]
    },
    {
      "cell_type": "markdown",
      "source": [
        "¿Y de que una oración comience con \"The\"?"
      ],
      "metadata": {
        "id": "_y1V0YphjCZS"
      }
    },
    {
      "cell_type": "code",
      "source": [
        "model[None, None][\"The\"]"
      ],
      "metadata": {
        "colab": {
          "base_uri": "https://localhost:8080/"
        },
        "id": "95GKMzWvjCuI",
        "outputId": "d62ca388-b01c-4536-963a-6e480ef31717"
      },
      "execution_count": 20,
      "outputs": [
        {
          "output_type": "execute_result",
          "data": {
            "text/plain": [
              "0.16154324146501936"
            ]
          },
          "metadata": {},
          "execution_count": 20
        }
      ]
    },
    {
      "cell_type": "markdown",
      "source": [
        "## 4) Generación de Texto"
      ],
      "metadata": {
        "id": "irgB6_aajFP7"
      }
    },
    {
      "cell_type": "markdown",
      "source": [
        "¿Cuáles son las palabras más probables que siguen a \"The market\"?"
      ],
      "metadata": {
        "id": "2T5qbWtijJmb"
      }
    },
    {
      "cell_type": "code",
      "source": [
        "words = model[\"The\",\"market\"]\n",
        "for word in sorted(words, key=words.get, reverse=True)[:5]:\n",
        "    print(word, words[word])"
      ],
      "metadata": {
        "colab": {
          "base_uri": "https://localhost:8080/"
        },
        "id": "tycDW6N-jKOS",
        "outputId": "f621d108-16dd-4f1d-b14e-3a02117d418d"
      },
      "execution_count": 21,
      "outputs": [
        {
          "output_type": "stream",
          "name": "stdout",
          "text": [
            "is 0.37735849056603776\n",
            "had 0.07547169811320754\n",
            "now 0.07547169811320754\n",
            "has 0.07547169811320754\n",
            "doesn 0.03773584905660377\n"
          ]
        }
      ]
    },
    {
      "cell_type": "markdown",
      "source": [
        "Vamos a crear una oración aleatoria:"
      ],
      "metadata": {
        "id": "6ib6wHStjPV7"
      }
    },
    {
      "cell_type": "code",
      "source": [
        "import random\n",
        "\n",
        "text = [\"The\", \"market\"]\n",
        "#text = [None, None]\n",
        "\n",
        "sentence_finished = False\n",
        "\n",
        "while not sentence_finished:\n",
        "    r = random.random()\n",
        "    accumulator = .0\n",
        "\n",
        "    for word in model[tuple(text[-2:])].keys():\n",
        "        accumulator += model[tuple(text[-2:])][word]\n",
        "\n",
        "        if accumulator >= r:\n",
        "            text.append(word)\n",
        "            break\n",
        "\n",
        "    if text[-2:] == [None, None]:\n",
        "        sentence_finished = True\n",
        "\n",
        "print(' '.join([t for t in text if t]))"
      ],
      "metadata": {
        "colab": {
          "base_uri": "https://localhost:8080/"
        },
        "id": "0n7Usho2jRdQ",
        "outputId": "caddbb98-0c53-48c3-f4ad-027445e2bd08"
      },
      "execution_count": 26,
      "outputs": [
        {
          "output_type": "stream",
          "name": "stdout",
          "text": [
            "The market is still too early to predict after last year , had a difficult economic climate .\n"
          ]
        }
      ]
    }
  ]
}