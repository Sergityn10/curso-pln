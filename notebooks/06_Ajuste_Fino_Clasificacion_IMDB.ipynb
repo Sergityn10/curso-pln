{
  "nbformat": 4,
  "nbformat_minor": 0,
  "metadata": {
    "colab": {
      "provenance": [],
      "gpuType": "T4",
      "authorship_tag": "ABX9TyNnPWNOnT2jJs/C0cQU2nWg",
      "include_colab_link": true
    },
    "kernelspec": {
      "name": "python3",
      "display_name": "Python 3"
    },
    "language_info": {
      "name": "python"
    },
    "accelerator": "GPU",
    "widgets": {
      "application/vnd.jupyter.widget-state+json": {
        "3483b5b77e024fbe8044c8d76367cad0": {
          "model_module": "@jupyter-widgets/controls",
          "model_name": "HBoxModel",
          "model_module_version": "1.5.0",
          "state": {
            "_dom_classes": [],
            "_model_module": "@jupyter-widgets/controls",
            "_model_module_version": "1.5.0",
            "_model_name": "HBoxModel",
            "_view_count": null,
            "_view_module": "@jupyter-widgets/controls",
            "_view_module_version": "1.5.0",
            "_view_name": "HBoxView",
            "box_style": "",
            "children": [
              "IPY_MODEL_f49a1623e08f4940a1cb507ded2fb2d2",
              "IPY_MODEL_dff3d4f6ea3b4075b5c5684dc4de397f",
              "IPY_MODEL_ca5709fd7b154415b4eeff64b10799e6"
            ],
            "layout": "IPY_MODEL_0a092967037c4ce5971282c2a2fe47f8"
          }
        },
        "f49a1623e08f4940a1cb507ded2fb2d2": {
          "model_module": "@jupyter-widgets/controls",
          "model_name": "HTMLModel",
          "model_module_version": "1.5.0",
          "state": {
            "_dom_classes": [],
            "_model_module": "@jupyter-widgets/controls",
            "_model_module_version": "1.5.0",
            "_model_name": "HTMLModel",
            "_view_count": null,
            "_view_module": "@jupyter-widgets/controls",
            "_view_module_version": "1.5.0",
            "_view_name": "HTMLView",
            "description": "",
            "description_tooltip": null,
            "layout": "IPY_MODEL_fe007f20997342eab344814368293549",
            "placeholder": "​",
            "style": "IPY_MODEL_60a91691ad5644b4b6d809e2ebe6e1e5",
            "value": "Map: 100%"
          }
        },
        "dff3d4f6ea3b4075b5c5684dc4de397f": {
          "model_module": "@jupyter-widgets/controls",
          "model_name": "FloatProgressModel",
          "model_module_version": "1.5.0",
          "state": {
            "_dom_classes": [],
            "_model_module": "@jupyter-widgets/controls",
            "_model_module_version": "1.5.0",
            "_model_name": "FloatProgressModel",
            "_view_count": null,
            "_view_module": "@jupyter-widgets/controls",
            "_view_module_version": "1.5.0",
            "_view_name": "ProgressView",
            "bar_style": "success",
            "description": "",
            "description_tooltip": null,
            "layout": "IPY_MODEL_cf13d1a55426473ba8f2a2d5735b8071",
            "max": 160,
            "min": 0,
            "orientation": "horizontal",
            "style": "IPY_MODEL_95ca4d1597054cf28ff83e89c1bdd08d",
            "value": 160
          }
        },
        "ca5709fd7b154415b4eeff64b10799e6": {
          "model_module": "@jupyter-widgets/controls",
          "model_name": "HTMLModel",
          "model_module_version": "1.5.0",
          "state": {
            "_dom_classes": [],
            "_model_module": "@jupyter-widgets/controls",
            "_model_module_version": "1.5.0",
            "_model_name": "HTMLModel",
            "_view_count": null,
            "_view_module": "@jupyter-widgets/controls",
            "_view_module_version": "1.5.0",
            "_view_name": "HTMLView",
            "description": "",
            "description_tooltip": null,
            "layout": "IPY_MODEL_930a8559bad044d5b091415fdbb07277",
            "placeholder": "​",
            "style": "IPY_MODEL_2f7f0214ac464ecc81799e5d90f00aa2",
            "value": " 160/160 [00:00&lt;00:00, 601.68 examples/s]"
          }
        },
        "0a092967037c4ce5971282c2a2fe47f8": {
          "model_module": "@jupyter-widgets/base",
          "model_name": "LayoutModel",
          "model_module_version": "1.2.0",
          "state": {
            "_model_module": "@jupyter-widgets/base",
            "_model_module_version": "1.2.0",
            "_model_name": "LayoutModel",
            "_view_count": null,
            "_view_module": "@jupyter-widgets/base",
            "_view_module_version": "1.2.0",
            "_view_name": "LayoutView",
            "align_content": null,
            "align_items": null,
            "align_self": null,
            "border": null,
            "bottom": null,
            "display": null,
            "flex": null,
            "flex_flow": null,
            "grid_area": null,
            "grid_auto_columns": null,
            "grid_auto_flow": null,
            "grid_auto_rows": null,
            "grid_column": null,
            "grid_gap": null,
            "grid_row": null,
            "grid_template_areas": null,
            "grid_template_columns": null,
            "grid_template_rows": null,
            "height": null,
            "justify_content": null,
            "justify_items": null,
            "left": null,
            "margin": null,
            "max_height": null,
            "max_width": null,
            "min_height": null,
            "min_width": null,
            "object_fit": null,
            "object_position": null,
            "order": null,
            "overflow": null,
            "overflow_x": null,
            "overflow_y": null,
            "padding": null,
            "right": null,
            "top": null,
            "visibility": null,
            "width": null
          }
        },
        "fe007f20997342eab344814368293549": {
          "model_module": "@jupyter-widgets/base",
          "model_name": "LayoutModel",
          "model_module_version": "1.2.0",
          "state": {
            "_model_module": "@jupyter-widgets/base",
            "_model_module_version": "1.2.0",
            "_model_name": "LayoutModel",
            "_view_count": null,
            "_view_module": "@jupyter-widgets/base",
            "_view_module_version": "1.2.0",
            "_view_name": "LayoutView",
            "align_content": null,
            "align_items": null,
            "align_self": null,
            "border": null,
            "bottom": null,
            "display": null,
            "flex": null,
            "flex_flow": null,
            "grid_area": null,
            "grid_auto_columns": null,
            "grid_auto_flow": null,
            "grid_auto_rows": null,
            "grid_column": null,
            "grid_gap": null,
            "grid_row": null,
            "grid_template_areas": null,
            "grid_template_columns": null,
            "grid_template_rows": null,
            "height": null,
            "justify_content": null,
            "justify_items": null,
            "left": null,
            "margin": null,
            "max_height": null,
            "max_width": null,
            "min_height": null,
            "min_width": null,
            "object_fit": null,
            "object_position": null,
            "order": null,
            "overflow": null,
            "overflow_x": null,
            "overflow_y": null,
            "padding": null,
            "right": null,
            "top": null,
            "visibility": null,
            "width": null
          }
        },
        "60a91691ad5644b4b6d809e2ebe6e1e5": {
          "model_module": "@jupyter-widgets/controls",
          "model_name": "DescriptionStyleModel",
          "model_module_version": "1.5.0",
          "state": {
            "_model_module": "@jupyter-widgets/controls",
            "_model_module_version": "1.5.0",
            "_model_name": "DescriptionStyleModel",
            "_view_count": null,
            "_view_module": "@jupyter-widgets/base",
            "_view_module_version": "1.2.0",
            "_view_name": "StyleView",
            "description_width": ""
          }
        },
        "cf13d1a55426473ba8f2a2d5735b8071": {
          "model_module": "@jupyter-widgets/base",
          "model_name": "LayoutModel",
          "model_module_version": "1.2.0",
          "state": {
            "_model_module": "@jupyter-widgets/base",
            "_model_module_version": "1.2.0",
            "_model_name": "LayoutModel",
            "_view_count": null,
            "_view_module": "@jupyter-widgets/base",
            "_view_module_version": "1.2.0",
            "_view_name": "LayoutView",
            "align_content": null,
            "align_items": null,
            "align_self": null,
            "border": null,
            "bottom": null,
            "display": null,
            "flex": null,
            "flex_flow": null,
            "grid_area": null,
            "grid_auto_columns": null,
            "grid_auto_flow": null,
            "grid_auto_rows": null,
            "grid_column": null,
            "grid_gap": null,
            "grid_row": null,
            "grid_template_areas": null,
            "grid_template_columns": null,
            "grid_template_rows": null,
            "height": null,
            "justify_content": null,
            "justify_items": null,
            "left": null,
            "margin": null,
            "max_height": null,
            "max_width": null,
            "min_height": null,
            "min_width": null,
            "object_fit": null,
            "object_position": null,
            "order": null,
            "overflow": null,
            "overflow_x": null,
            "overflow_y": null,
            "padding": null,
            "right": null,
            "top": null,
            "visibility": null,
            "width": null
          }
        },
        "95ca4d1597054cf28ff83e89c1bdd08d": {
          "model_module": "@jupyter-widgets/controls",
          "model_name": "ProgressStyleModel",
          "model_module_version": "1.5.0",
          "state": {
            "_model_module": "@jupyter-widgets/controls",
            "_model_module_version": "1.5.0",
            "_model_name": "ProgressStyleModel",
            "_view_count": null,
            "_view_module": "@jupyter-widgets/base",
            "_view_module_version": "1.2.0",
            "_view_name": "StyleView",
            "bar_color": null,
            "description_width": ""
          }
        },
        "930a8559bad044d5b091415fdbb07277": {
          "model_module": "@jupyter-widgets/base",
          "model_name": "LayoutModel",
          "model_module_version": "1.2.0",
          "state": {
            "_model_module": "@jupyter-widgets/base",
            "_model_module_version": "1.2.0",
            "_model_name": "LayoutModel",
            "_view_count": null,
            "_view_module": "@jupyter-widgets/base",
            "_view_module_version": "1.2.0",
            "_view_name": "LayoutView",
            "align_content": null,
            "align_items": null,
            "align_self": null,
            "border": null,
            "bottom": null,
            "display": null,
            "flex": null,
            "flex_flow": null,
            "grid_area": null,
            "grid_auto_columns": null,
            "grid_auto_flow": null,
            "grid_auto_rows": null,
            "grid_column": null,
            "grid_gap": null,
            "grid_row": null,
            "grid_template_areas": null,
            "grid_template_columns": null,
            "grid_template_rows": null,
            "height": null,
            "justify_content": null,
            "justify_items": null,
            "left": null,
            "margin": null,
            "max_height": null,
            "max_width": null,
            "min_height": null,
            "min_width": null,
            "object_fit": null,
            "object_position": null,
            "order": null,
            "overflow": null,
            "overflow_x": null,
            "overflow_y": null,
            "padding": null,
            "right": null,
            "top": null,
            "visibility": null,
            "width": null
          }
        },
        "2f7f0214ac464ecc81799e5d90f00aa2": {
          "model_module": "@jupyter-widgets/controls",
          "model_name": "DescriptionStyleModel",
          "model_module_version": "1.5.0",
          "state": {
            "_model_module": "@jupyter-widgets/controls",
            "_model_module_version": "1.5.0",
            "_model_name": "DescriptionStyleModel",
            "_view_count": null,
            "_view_module": "@jupyter-widgets/base",
            "_view_module_version": "1.2.0",
            "_view_name": "StyleView",
            "description_width": ""
          }
        },
        "ecf0c51187c4412891f3b7dc5e842d71": {
          "model_module": "@jupyter-widgets/controls",
          "model_name": "HBoxModel",
          "model_module_version": "1.5.0",
          "state": {
            "_dom_classes": [],
            "_model_module": "@jupyter-widgets/controls",
            "_model_module_version": "1.5.0",
            "_model_name": "HBoxModel",
            "_view_count": null,
            "_view_module": "@jupyter-widgets/controls",
            "_view_module_version": "1.5.0",
            "_view_name": "HBoxView",
            "box_style": "",
            "children": [
              "IPY_MODEL_abb117e6253341b6a709ee5a6d582aa1",
              "IPY_MODEL_c7652520e35845e380c6d044c5c47ea9",
              "IPY_MODEL_847f990344de4e3594c11e145b111476"
            ],
            "layout": "IPY_MODEL_5e64d4d07e34484d8574781c886ff3d1"
          }
        },
        "abb117e6253341b6a709ee5a6d582aa1": {
          "model_module": "@jupyter-widgets/controls",
          "model_name": "HTMLModel",
          "model_module_version": "1.5.0",
          "state": {
            "_dom_classes": [],
            "_model_module": "@jupyter-widgets/controls",
            "_model_module_version": "1.5.0",
            "_model_name": "HTMLModel",
            "_view_count": null,
            "_view_module": "@jupyter-widgets/controls",
            "_view_module_version": "1.5.0",
            "_view_name": "HTMLView",
            "description": "",
            "description_tooltip": null,
            "layout": "IPY_MODEL_8902e2dc20ad417d9a0cdb2a7df29c16",
            "placeholder": "​",
            "style": "IPY_MODEL_2c4c4f0d67d4457ebf66398a7053e290",
            "value": "Map: 100%"
          }
        },
        "c7652520e35845e380c6d044c5c47ea9": {
          "model_module": "@jupyter-widgets/controls",
          "model_name": "FloatProgressModel",
          "model_module_version": "1.5.0",
          "state": {
            "_dom_classes": [],
            "_model_module": "@jupyter-widgets/controls",
            "_model_module_version": "1.5.0",
            "_model_name": "FloatProgressModel",
            "_view_count": null,
            "_view_module": "@jupyter-widgets/controls",
            "_view_module_version": "1.5.0",
            "_view_name": "ProgressView",
            "bar_style": "success",
            "description": "",
            "description_tooltip": null,
            "layout": "IPY_MODEL_b4089358be414eff9e820d7c3d1b6e70",
            "max": 40,
            "min": 0,
            "orientation": "horizontal",
            "style": "IPY_MODEL_cdf5b65ced734c0cb2c7536716c939cf",
            "value": 40
          }
        },
        "847f990344de4e3594c11e145b111476": {
          "model_module": "@jupyter-widgets/controls",
          "model_name": "HTMLModel",
          "model_module_version": "1.5.0",
          "state": {
            "_dom_classes": [],
            "_model_module": "@jupyter-widgets/controls",
            "_model_module_version": "1.5.0",
            "_model_name": "HTMLModel",
            "_view_count": null,
            "_view_module": "@jupyter-widgets/controls",
            "_view_module_version": "1.5.0",
            "_view_name": "HTMLView",
            "description": "",
            "description_tooltip": null,
            "layout": "IPY_MODEL_bbb61f67102147ed8a8883651665c5b5",
            "placeholder": "​",
            "style": "IPY_MODEL_3d1c10f73e5f4c97a82928c5af348b12",
            "value": " 40/40 [00:00&lt;00:00, 424.81 examples/s]"
          }
        },
        "5e64d4d07e34484d8574781c886ff3d1": {
          "model_module": "@jupyter-widgets/base",
          "model_name": "LayoutModel",
          "model_module_version": "1.2.0",
          "state": {
            "_model_module": "@jupyter-widgets/base",
            "_model_module_version": "1.2.0",
            "_model_name": "LayoutModel",
            "_view_count": null,
            "_view_module": "@jupyter-widgets/base",
            "_view_module_version": "1.2.0",
            "_view_name": "LayoutView",
            "align_content": null,
            "align_items": null,
            "align_self": null,
            "border": null,
            "bottom": null,
            "display": null,
            "flex": null,
            "flex_flow": null,
            "grid_area": null,
            "grid_auto_columns": null,
            "grid_auto_flow": null,
            "grid_auto_rows": null,
            "grid_column": null,
            "grid_gap": null,
            "grid_row": null,
            "grid_template_areas": null,
            "grid_template_columns": null,
            "grid_template_rows": null,
            "height": null,
            "justify_content": null,
            "justify_items": null,
            "left": null,
            "margin": null,
            "max_height": null,
            "max_width": null,
            "min_height": null,
            "min_width": null,
            "object_fit": null,
            "object_position": null,
            "order": null,
            "overflow": null,
            "overflow_x": null,
            "overflow_y": null,
            "padding": null,
            "right": null,
            "top": null,
            "visibility": null,
            "width": null
          }
        },
        "8902e2dc20ad417d9a0cdb2a7df29c16": {
          "model_module": "@jupyter-widgets/base",
          "model_name": "LayoutModel",
          "model_module_version": "1.2.0",
          "state": {
            "_model_module": "@jupyter-widgets/base",
            "_model_module_version": "1.2.0",
            "_model_name": "LayoutModel",
            "_view_count": null,
            "_view_module": "@jupyter-widgets/base",
            "_view_module_version": "1.2.0",
            "_view_name": "LayoutView",
            "align_content": null,
            "align_items": null,
            "align_self": null,
            "border": null,
            "bottom": null,
            "display": null,
            "flex": null,
            "flex_flow": null,
            "grid_area": null,
            "grid_auto_columns": null,
            "grid_auto_flow": null,
            "grid_auto_rows": null,
            "grid_column": null,
            "grid_gap": null,
            "grid_row": null,
            "grid_template_areas": null,
            "grid_template_columns": null,
            "grid_template_rows": null,
            "height": null,
            "justify_content": null,
            "justify_items": null,
            "left": null,
            "margin": null,
            "max_height": null,
            "max_width": null,
            "min_height": null,
            "min_width": null,
            "object_fit": null,
            "object_position": null,
            "order": null,
            "overflow": null,
            "overflow_x": null,
            "overflow_y": null,
            "padding": null,
            "right": null,
            "top": null,
            "visibility": null,
            "width": null
          }
        },
        "2c4c4f0d67d4457ebf66398a7053e290": {
          "model_module": "@jupyter-widgets/controls",
          "model_name": "DescriptionStyleModel",
          "model_module_version": "1.5.0",
          "state": {
            "_model_module": "@jupyter-widgets/controls",
            "_model_module_version": "1.5.0",
            "_model_name": "DescriptionStyleModel",
            "_view_count": null,
            "_view_module": "@jupyter-widgets/base",
            "_view_module_version": "1.2.0",
            "_view_name": "StyleView",
            "description_width": ""
          }
        },
        "b4089358be414eff9e820d7c3d1b6e70": {
          "model_module": "@jupyter-widgets/base",
          "model_name": "LayoutModel",
          "model_module_version": "1.2.0",
          "state": {
            "_model_module": "@jupyter-widgets/base",
            "_model_module_version": "1.2.0",
            "_model_name": "LayoutModel",
            "_view_count": null,
            "_view_module": "@jupyter-widgets/base",
            "_view_module_version": "1.2.0",
            "_view_name": "LayoutView",
            "align_content": null,
            "align_items": null,
            "align_self": null,
            "border": null,
            "bottom": null,
            "display": null,
            "flex": null,
            "flex_flow": null,
            "grid_area": null,
            "grid_auto_columns": null,
            "grid_auto_flow": null,
            "grid_auto_rows": null,
            "grid_column": null,
            "grid_gap": null,
            "grid_row": null,
            "grid_template_areas": null,
            "grid_template_columns": null,
            "grid_template_rows": null,
            "height": null,
            "justify_content": null,
            "justify_items": null,
            "left": null,
            "margin": null,
            "max_height": null,
            "max_width": null,
            "min_height": null,
            "min_width": null,
            "object_fit": null,
            "object_position": null,
            "order": null,
            "overflow": null,
            "overflow_x": null,
            "overflow_y": null,
            "padding": null,
            "right": null,
            "top": null,
            "visibility": null,
            "width": null
          }
        },
        "cdf5b65ced734c0cb2c7536716c939cf": {
          "model_module": "@jupyter-widgets/controls",
          "model_name": "ProgressStyleModel",
          "model_module_version": "1.5.0",
          "state": {
            "_model_module": "@jupyter-widgets/controls",
            "_model_module_version": "1.5.0",
            "_model_name": "ProgressStyleModel",
            "_view_count": null,
            "_view_module": "@jupyter-widgets/base",
            "_view_module_version": "1.2.0",
            "_view_name": "StyleView",
            "bar_color": null,
            "description_width": ""
          }
        },
        "bbb61f67102147ed8a8883651665c5b5": {
          "model_module": "@jupyter-widgets/base",
          "model_name": "LayoutModel",
          "model_module_version": "1.2.0",
          "state": {
            "_model_module": "@jupyter-widgets/base",
            "_model_module_version": "1.2.0",
            "_model_name": "LayoutModel",
            "_view_count": null,
            "_view_module": "@jupyter-widgets/base",
            "_view_module_version": "1.2.0",
            "_view_name": "LayoutView",
            "align_content": null,
            "align_items": null,
            "align_self": null,
            "border": null,
            "bottom": null,
            "display": null,
            "flex": null,
            "flex_flow": null,
            "grid_area": null,
            "grid_auto_columns": null,
            "grid_auto_flow": null,
            "grid_auto_rows": null,
            "grid_column": null,
            "grid_gap": null,
            "grid_row": null,
            "grid_template_areas": null,
            "grid_template_columns": null,
            "grid_template_rows": null,
            "height": null,
            "justify_content": null,
            "justify_items": null,
            "left": null,
            "margin": null,
            "max_height": null,
            "max_width": null,
            "min_height": null,
            "min_width": null,
            "object_fit": null,
            "object_position": null,
            "order": null,
            "overflow": null,
            "overflow_x": null,
            "overflow_y": null,
            "padding": null,
            "right": null,
            "top": null,
            "visibility": null,
            "width": null
          }
        },
        "3d1c10f73e5f4c97a82928c5af348b12": {
          "model_module": "@jupyter-widgets/controls",
          "model_name": "DescriptionStyleModel",
          "model_module_version": "1.5.0",
          "state": {
            "_model_module": "@jupyter-widgets/controls",
            "_model_module_version": "1.5.0",
            "_model_name": "DescriptionStyleModel",
            "_view_count": null,
            "_view_module": "@jupyter-widgets/base",
            "_view_module_version": "1.2.0",
            "_view_name": "StyleView",
            "description_width": ""
          }
        }
      }
    }
  },
  "cells": [
    {
      "cell_type": "markdown",
      "metadata": {
        "id": "view-in-github",
        "colab_type": "text"
      },
      "source": [
        "<a href=\"https://colab.research.google.com/github/cbadenes/curso-pln/blob/main/notebooks/06_Ajuste_Fino_Clasificacion_IMDB.ipynb\" target=\"_parent\"><img src=\"https://colab.research.google.com/assets/colab-badge.svg\" alt=\"Open In Colab\"/></a>"
      ]
    },
    {
      "cell_type": "markdown",
      "source": [
        "# Ajuste Fino (Fine-Tuning) para Clasificación de Texto\n",
        "\n",
        " Este notebook muestra cómo adaptar un modelo de lenguaje pre-entrenado para realizar clasificación de sentimientos en reseñas de películas.\n"
      ],
      "metadata": {
        "id": "HmYkAE2CObIa"
      }
    },
    {
      "cell_type": "markdown",
      "source": [
        "## 1) Instalación de Bibliotecas Necesarias\n",
        "\n",
        " Estas son las bibliotecas mínimas que necesitamos:\n",
        " - transformers: para trabajar con modelos de lenguaje\n",
        " - datasets: para cargar y manipular datos\n",
        " - torch: para el procesamiento con deep learning"
      ],
      "metadata": {
        "id": "aR41MdZkOd_F"
      }
    },
    {
      "cell_type": "code",
      "execution_count": 24,
      "metadata": {
        "colab": {
          "base_uri": "https://localhost:8080/"
        },
        "id": "osWLf9HoOYJh",
        "outputId": "85279fa0-5041-4bbf-c4b0-b9e55eea36fe"
      },
      "outputs": [
        {
          "output_type": "stream",
          "name": "stdout",
          "text": [
            "Requirement already satisfied: transformers in /usr/local/lib/python3.10/dist-packages (4.47.1)\n",
            "Requirement already satisfied: datasets in /usr/local/lib/python3.10/dist-packages (3.2.0)\n",
            "Requirement already satisfied: torch in /usr/local/lib/python3.10/dist-packages (2.5.1+cu121)\n",
            "Requirement already satisfied: filelock in /usr/local/lib/python3.10/dist-packages (from transformers) (3.16.1)\n",
            "Requirement already satisfied: huggingface-hub<1.0,>=0.24.0 in /usr/local/lib/python3.10/dist-packages (from transformers) (0.27.0)\n",
            "Requirement already satisfied: numpy>=1.17 in /usr/local/lib/python3.10/dist-packages (from transformers) (1.26.4)\n",
            "Requirement already satisfied: packaging>=20.0 in /usr/local/lib/python3.10/dist-packages (from transformers) (24.2)\n",
            "Requirement already satisfied: pyyaml>=5.1 in /usr/local/lib/python3.10/dist-packages (from transformers) (6.0.2)\n",
            "Requirement already satisfied: regex!=2019.12.17 in /usr/local/lib/python3.10/dist-packages (from transformers) (2024.11.6)\n",
            "Requirement already satisfied: requests in /usr/local/lib/python3.10/dist-packages (from transformers) (2.32.3)\n",
            "Requirement already satisfied: tokenizers<0.22,>=0.21 in /usr/local/lib/python3.10/dist-packages (from transformers) (0.21.0)\n",
            "Requirement already satisfied: safetensors>=0.4.1 in /usr/local/lib/python3.10/dist-packages (from transformers) (0.4.5)\n",
            "Requirement already satisfied: tqdm>=4.27 in /usr/local/lib/python3.10/dist-packages (from transformers) (4.67.1)\n",
            "Requirement already satisfied: pyarrow>=15.0.0 in /usr/local/lib/python3.10/dist-packages (from datasets) (17.0.0)\n",
            "Requirement already satisfied: dill<0.3.9,>=0.3.0 in /usr/local/lib/python3.10/dist-packages (from datasets) (0.3.8)\n",
            "Requirement already satisfied: pandas in /usr/local/lib/python3.10/dist-packages (from datasets) (2.2.2)\n",
            "Requirement already satisfied: xxhash in /usr/local/lib/python3.10/dist-packages (from datasets) (3.5.0)\n",
            "Requirement already satisfied: multiprocess<0.70.17 in /usr/local/lib/python3.10/dist-packages (from datasets) (0.70.16)\n",
            "Requirement already satisfied: fsspec<=2024.9.0,>=2023.1.0 in /usr/local/lib/python3.10/dist-packages (from fsspec[http]<=2024.9.0,>=2023.1.0->datasets) (2024.9.0)\n",
            "Requirement already satisfied: aiohttp in /usr/local/lib/python3.10/dist-packages (from datasets) (3.11.10)\n",
            "Requirement already satisfied: typing-extensions>=4.8.0 in /usr/local/lib/python3.10/dist-packages (from torch) (4.12.2)\n",
            "Requirement already satisfied: networkx in /usr/local/lib/python3.10/dist-packages (from torch) (3.4.2)\n",
            "Requirement already satisfied: jinja2 in /usr/local/lib/python3.10/dist-packages (from torch) (3.1.4)\n",
            "Requirement already satisfied: sympy==1.13.1 in /usr/local/lib/python3.10/dist-packages (from torch) (1.13.1)\n",
            "Requirement already satisfied: mpmath<1.4,>=1.1.0 in /usr/local/lib/python3.10/dist-packages (from sympy==1.13.1->torch) (1.3.0)\n",
            "Requirement already satisfied: aiohappyeyeballs>=2.3.0 in /usr/local/lib/python3.10/dist-packages (from aiohttp->datasets) (2.4.4)\n",
            "Requirement already satisfied: aiosignal>=1.1.2 in /usr/local/lib/python3.10/dist-packages (from aiohttp->datasets) (1.3.2)\n",
            "Requirement already satisfied: async-timeout<6.0,>=4.0 in /usr/local/lib/python3.10/dist-packages (from aiohttp->datasets) (4.0.3)\n",
            "Requirement already satisfied: attrs>=17.3.0 in /usr/local/lib/python3.10/dist-packages (from aiohttp->datasets) (24.3.0)\n",
            "Requirement already satisfied: frozenlist>=1.1.1 in /usr/local/lib/python3.10/dist-packages (from aiohttp->datasets) (1.5.0)\n",
            "Requirement already satisfied: multidict<7.0,>=4.5 in /usr/local/lib/python3.10/dist-packages (from aiohttp->datasets) (6.1.0)\n",
            "Requirement already satisfied: propcache>=0.2.0 in /usr/local/lib/python3.10/dist-packages (from aiohttp->datasets) (0.2.1)\n",
            "Requirement already satisfied: yarl<2.0,>=1.17.0 in /usr/local/lib/python3.10/dist-packages (from aiohttp->datasets) (1.18.3)\n",
            "Requirement already satisfied: charset-normalizer<4,>=2 in /usr/local/lib/python3.10/dist-packages (from requests->transformers) (3.4.0)\n",
            "Requirement already satisfied: idna<4,>=2.5 in /usr/local/lib/python3.10/dist-packages (from requests->transformers) (3.10)\n",
            "Requirement already satisfied: urllib3<3,>=1.21.1 in /usr/local/lib/python3.10/dist-packages (from requests->transformers) (2.2.3)\n",
            "Requirement already satisfied: certifi>=2017.4.17 in /usr/local/lib/python3.10/dist-packages (from requests->transformers) (2024.12.14)\n",
            "Requirement already satisfied: MarkupSafe>=2.0 in /usr/local/lib/python3.10/dist-packages (from jinja2->torch) (3.0.2)\n",
            "Requirement already satisfied: python-dateutil>=2.8.2 in /usr/local/lib/python3.10/dist-packages (from pandas->datasets) (2.8.2)\n",
            "Requirement already satisfied: pytz>=2020.1 in /usr/local/lib/python3.10/dist-packages (from pandas->datasets) (2024.2)\n",
            "Requirement already satisfied: tzdata>=2022.7 in /usr/local/lib/python3.10/dist-packages (from pandas->datasets) (2024.2)\n",
            "Requirement already satisfied: six>=1.5 in /usr/local/lib/python3.10/dist-packages (from python-dateutil>=2.8.2->pandas->datasets) (1.17.0)\n"
          ]
        }
      ],
      "source": [
        "!pip install transformers datasets torch"
      ]
    },
    {
      "cell_type": "markdown",
      "source": [
        "## 2) Importar Bibliotecas"
      ],
      "metadata": {
        "id": "6dKWl9LSOoGw"
      }
    },
    {
      "cell_type": "code",
      "source": [
        "import torch  # Biblioteca principal para deep learning\n",
        "from transformers import (\n",
        "    AutoModelForSequenceClassification,  # Para cargar el modelo pre-entrenado\n",
        "    AutoTokenizer,  # Para procesar el texto\n",
        "    Trainer,  # Para entrenar el modelo\n",
        "    TrainingArguments,  # Para configurar el entrenamiento\n",
        ")\n",
        "from datasets import load_dataset  # Para cargar los datos\n",
        "import numpy as np"
      ],
      "metadata": {
        "id": "ep7D9vBjOr9d"
      },
      "execution_count": 25,
      "outputs": []
    },
    {
      "cell_type": "markdown",
      "source": [
        "## 3) Cargar Datos de Ejemplo\n",
        "\n",
        " Usamos un pequeño conjunto de reseñas de películas"
      ],
      "metadata": {
        "id": "FadCU8GbOvB5"
      }
    },
    {
      "cell_type": "code",
      "source": [
        "print(\"Cargando datos de ejemplo...\")\n",
        "dataset = load_dataset(\"imdb\", split=\"train[:200]\")  # Solo 200 ejemplos para simplificar\n",
        "\n",
        "# Dividimos los datos en entrenamiento y prueba\n",
        "train_test = dataset.train_test_split(test_size=0.2)\n",
        "print(f\"Tamaño del conjunto de entrenamiento: {len(train_test['train'])}\")\n",
        "print(f\"Tamaño del conjunto de prueba: {len(train_test['test'])}\")\n"
      ],
      "metadata": {
        "colab": {
          "base_uri": "https://localhost:8080/"
        },
        "id": "rlS3RAAtOr96",
        "outputId": "3117fd99-3d5a-49f5-d30b-754de42ae6fa"
      },
      "execution_count": 26,
      "outputs": [
        {
          "output_type": "stream",
          "name": "stdout",
          "text": [
            "Cargando datos de ejemplo...\n",
            "Tamaño del conjunto de entrenamiento: 160\n",
            "Tamaño del conjunto de prueba: 40\n"
          ]
        }
      ]
    },
    {
      "cell_type": "markdown",
      "source": [
        "## 4) Preparar el Modelo Base\n",
        "\n",
        " Usamos un modelo BERT básico en inglés"
      ],
      "metadata": {
        "id": "R6U0A7RKQRI3"
      }
    },
    {
      "cell_type": "code",
      "source": [
        "print(\"\\nCargando modelo base...\")\n",
        "model_name = \"bert-base-uncased\"\n",
        "tokenizer = AutoTokenizer.from_pretrained(model_name)\n",
        "model = AutoModelForSequenceClassification.from_pretrained(\n",
        "    model_name,\n",
        "    num_labels=2  # 2 clases: positivo y negativo\n",
        ")"
      ],
      "metadata": {
        "colab": {
          "base_uri": "https://localhost:8080/"
        },
        "id": "x5j3eFpLQUxi",
        "outputId": "ed5ef7a3-0204-417d-f83c-94ad5e5457a0"
      },
      "execution_count": 27,
      "outputs": [
        {
          "output_type": "stream",
          "name": "stdout",
          "text": [
            "\n",
            "Cargando modelo base...\n"
          ]
        },
        {
          "output_type": "stream",
          "name": "stderr",
          "text": [
            "Some weights of BertForSequenceClassification were not initialized from the model checkpoint at bert-base-uncased and are newly initialized: ['classifier.bias', 'classifier.weight']\n",
            "You should probably TRAIN this model on a down-stream task to be able to use it for predictions and inference.\n"
          ]
        }
      ]
    },
    {
      "cell_type": "markdown",
      "source": [
        "## 5) Preparar los Datos\n",
        "\n",
        " Función para convertir texto a formato que entiende el modelo"
      ],
      "metadata": {
        "id": "Wr4W1-GnQYGp"
      }
    },
    {
      "cell_type": "code",
      "source": [
        "def preparar_texto(ejemplos):\n",
        "    return tokenizer(\n",
        "        ejemplos[\"text\"],\n",
        "        truncation=True,  # Corta textos muy largos\n",
        "        padding=True,     # Rellena textos cortos\n",
        "        max_length=128    # Longitud máxima de cada texto\n",
        "    )\n",
        "\n",
        "print(\"\\nPreparando datos...\")\n",
        "datos_procesados = train_test.map(preparar_texto, batched=True)"
      ],
      "metadata": {
        "colab": {
          "base_uri": "https://localhost:8080/",
          "height": 116,
          "referenced_widgets": [
            "3483b5b77e024fbe8044c8d76367cad0",
            "f49a1623e08f4940a1cb507ded2fb2d2",
            "dff3d4f6ea3b4075b5c5684dc4de397f",
            "ca5709fd7b154415b4eeff64b10799e6",
            "0a092967037c4ce5971282c2a2fe47f8",
            "fe007f20997342eab344814368293549",
            "60a91691ad5644b4b6d809e2ebe6e1e5",
            "cf13d1a55426473ba8f2a2d5735b8071",
            "95ca4d1597054cf28ff83e89c1bdd08d",
            "930a8559bad044d5b091415fdbb07277",
            "2f7f0214ac464ecc81799e5d90f00aa2",
            "ecf0c51187c4412891f3b7dc5e842d71",
            "abb117e6253341b6a709ee5a6d582aa1",
            "c7652520e35845e380c6d044c5c47ea9",
            "847f990344de4e3594c11e145b111476",
            "5e64d4d07e34484d8574781c886ff3d1",
            "8902e2dc20ad417d9a0cdb2a7df29c16",
            "2c4c4f0d67d4457ebf66398a7053e290",
            "b4089358be414eff9e820d7c3d1b6e70",
            "cdf5b65ced734c0cb2c7536716c939cf",
            "bbb61f67102147ed8a8883651665c5b5",
            "3d1c10f73e5f4c97a82928c5af348b12"
          ]
        },
        "id": "ViAe7vIIQc0M",
        "outputId": "170eb967-d34f-4c40-8114-6f4219cba57d"
      },
      "execution_count": 28,
      "outputs": [
        {
          "output_type": "stream",
          "name": "stdout",
          "text": [
            "\n",
            "Preparando datos...\n"
          ]
        },
        {
          "output_type": "display_data",
          "data": {
            "text/plain": [
              "Map:   0%|          | 0/160 [00:00<?, ? examples/s]"
            ],
            "application/vnd.jupyter.widget-view+json": {
              "version_major": 2,
              "version_minor": 0,
              "model_id": "3483b5b77e024fbe8044c8d76367cad0"
            }
          },
          "metadata": {}
        },
        {
          "output_type": "display_data",
          "data": {
            "text/plain": [
              "Map:   0%|          | 0/40 [00:00<?, ? examples/s]"
            ],
            "application/vnd.jupyter.widget-view+json": {
              "version_major": 2,
              "version_minor": 0,
              "model_id": "ecf0c51187c4412891f3b7dc5e842d71"
            }
          },
          "metadata": {}
        }
      ]
    },
    {
      "cell_type": "markdown",
      "source": [
        "## 6) Configurar el Entrenamiento\n",
        "\n",
        " Configuración básica para el entrenamiento"
      ],
      "metadata": {
        "id": "m3OLTiOlQhMK"
      }
    },
    {
      "cell_type": "code",
      "source": [
        "argumentos_entrenamiento = TrainingArguments(\n",
        "    output_dir=\"./resultados\",      # Donde guardar resultados\n",
        "    num_train_epochs=3,             # Número de pasadas por los datos\n",
        "    per_device_train_batch_size=8,  # Ejemplos procesados a la vez\n",
        "    per_device_eval_batch_size=8,\n",
        "    logging_steps=10,               # Cada cuánto mostrar progreso\n",
        "    report_to=\"none\",              # Desactivar wandb y otros servicios de logging\n",
        ")\n"
      ],
      "metadata": {
        "id": "vTYhFoFzQkVT"
      },
      "execution_count": 29,
      "outputs": []
    },
    {
      "cell_type": "markdown",
      "source": [
        "## 7) Entrenar el Modelo"
      ],
      "metadata": {
        "id": "GhypIDguQoLP"
      }
    },
    {
      "cell_type": "code",
      "source": [
        "print(\"\\nEntrenando el modelo...\")\n",
        "entrenador = Trainer(\n",
        "    model=model,\n",
        "    args=argumentos_entrenamiento,\n",
        "    train_dataset=datos_procesados[\"train\"],\n",
        "    eval_dataset=datos_procesados[\"test\"],\n",
        ")\n",
        "\n",
        "resultado_entrenamiento = entrenador.train()"
      ],
      "metadata": {
        "colab": {
          "base_uri": "https://localhost:8080/",
          "height": 298
        },
        "id": "ygKHXvpQQq1I",
        "outputId": "1ecd2095-ad28-4ba1-e5d5-35f807edb9cf"
      },
      "execution_count": 30,
      "outputs": [
        {
          "output_type": "stream",
          "name": "stdout",
          "text": [
            "\n",
            "Entrenando el modelo...\n"
          ]
        },
        {
          "output_type": "display_data",
          "data": {
            "text/plain": [
              "<IPython.core.display.HTML object>"
            ],
            "text/html": [
              "\n",
              "    <div>\n",
              "      \n",
              "      <progress value='60' max='60' style='width:300px; height:20px; vertical-align: middle;'></progress>\n",
              "      [60/60 00:18, Epoch 3/3]\n",
              "    </div>\n",
              "    <table border=\"1\" class=\"dataframe\">\n",
              "  <thead>\n",
              " <tr style=\"text-align: left;\">\n",
              "      <th>Step</th>\n",
              "      <th>Training Loss</th>\n",
              "    </tr>\n",
              "  </thead>\n",
              "  <tbody>\n",
              "    <tr>\n",
              "      <td>10</td>\n",
              "      <td>0.175200</td>\n",
              "    </tr>\n",
              "    <tr>\n",
              "      <td>20</td>\n",
              "      <td>0.014800</td>\n",
              "    </tr>\n",
              "    <tr>\n",
              "      <td>30</td>\n",
              "      <td>0.004800</td>\n",
              "    </tr>\n",
              "    <tr>\n",
              "      <td>40</td>\n",
              "      <td>0.002500</td>\n",
              "    </tr>\n",
              "    <tr>\n",
              "      <td>50</td>\n",
              "      <td>0.001600</td>\n",
              "    </tr>\n",
              "    <tr>\n",
              "      <td>60</td>\n",
              "      <td>0.001400</td>\n",
              "    </tr>\n",
              "  </tbody>\n",
              "</table><p>"
            ]
          },
          "metadata": {}
        }
      ]
    },
    {
      "cell_type": "markdown",
      "source": [
        "## 8) Usar el Modelo\n",
        "\n",
        " Función simple para clasificar nuevo texto"
      ],
      "metadata": {
        "id": "US84PmARQujg"
      }
    },
    {
      "cell_type": "code",
      "source": [
        "# Función simple para clasificar nuevo texto\n",
        "def clasificar_sentimiento(texto):\n",
        "    # Detectar si hay GPU disponible\n",
        "    device = \"cuda\" if torch.cuda.is_available() else \"cpu\"\n",
        "    model.to(device)  # Mover el modelo al dispositivo correcto\n",
        "\n",
        "    # Preparar el texto\n",
        "    entradas = tokenizer(texto, return_tensors=\"pt\", truncation=True, padding=True)\n",
        "    # Mover las entradas al mismo dispositivo que el modelo\n",
        "    entradas = {k: v.to(device) for k, v in entradas.items()}\n",
        "\n",
        "    # Obtener predicción\n",
        "    with torch.no_grad():\n",
        "        salida = model(**entradas)\n",
        "        prediccion = torch.nn.functional.softmax(salida.logits, dim=-1)\n",
        "\n",
        "    # Mover el resultado a CPU para procesarlo\n",
        "    prediccion = prediccion.cpu()\n",
        "\n",
        "    # Interpretar resultado\n",
        "    if prediccion[0][1] > 0.5:\n",
        "        return \"Positivo\"\n",
        "    else:\n",
        "        return \"Negativo\"\n",
        "\n",
        "# Ejemplo de uso\n",
        "print(\"\\nProbando el modelo:\")\n",
        "print(f\"Dispositivo usado: {'GPU' if torch.cuda.is_available() else 'CPU'}\")\n",
        "ejemplos = [\n",
        "    \"This movie was fantastic! I really enjoyed it.\",\n",
        "    \"What a terrible waste of time. I hated it.\"\n",
        "]\n",
        "\n",
        "try:\n",
        "    for texto in ejemplos:\n",
        "        sentimiento = clasificar_sentimiento(texto)\n",
        "        print(f\"\\nTexto: {texto}\")\n",
        "        print(f\"Sentimiento: {sentimiento}\")\n",
        "except Exception as e:\n",
        "    print(f\"\\nOcurrió un error: {str(e)}\")\n",
        "    print(\"Por favor, asegúrate de que el modelo se haya entrenado correctamente.\")"
      ],
      "metadata": {
        "colab": {
          "base_uri": "https://localhost:8080/"
        },
        "id": "wGvgdJsJRLEA",
        "outputId": "9b410f62-b484-4c2c-a603-cbba96e5e703"
      },
      "execution_count": 31,
      "outputs": [
        {
          "output_type": "stream",
          "name": "stdout",
          "text": [
            "\n",
            "Probando el modelo:\n",
            "Dispositivo usado: GPU\n",
            "\n",
            "Texto: This movie was fantastic! I really enjoyed it.\n",
            "Sentimiento: Negativo\n",
            "\n",
            "Texto: What a terrible waste of time. I hated it.\n",
            "Sentimiento: Negativo\n"
          ]
        }
      ]
    },
    {
      "cell_type": "markdown",
      "source": [
        "# Mejoras"
      ],
      "metadata": {
        "id": "fJRHwtQgUnUi"
      }
    },
    {
      "cell_type": "markdown",
      "source": [
        "## 1) Carga Balanceada de Datos de Entrenamiento\n",
        "\n",
        "Para obtener buenos resultados en tareas de clasificación, es muy importante tener un conjunto de datos balanceado (similar número de ejemplos para cada clase).\n",
        " Si no lo hacemos, el modelo podría aprender sesgos indeseados."
      ],
      "metadata": {
        "id": "30Q2qkDGU0N_"
      }
    },
    {
      "cell_type": "code",
      "source": [
        "print(\"Cargando datos de ejemplo...\")\n",
        "\n",
        "# Cargamos ejemplos negativos y positivos por separado para asegurar el balance\n",
        "negative_examples = load_dataset(\"imdb\", split=\"train[:100]\")  # 100 negativos\n",
        "positive_examples = load_dataset(\"imdb\", split=\"train[12500:12600]\")  # 100 positivos\n",
        "\n",
        "# Combinamos los ejemplos en un solo dataset\n",
        "from datasets import concatenate_datasets\n",
        "dataset = concatenate_datasets([negative_examples, positive_examples])\n",
        "\n",
        "# Dividimos los datos en entrenamiento y prueba\n",
        "train_test = dataset.train_test_split(test_size=0.2, seed=42)  # seed para reproducibilidad\n",
        "print(f\"\\nTamaño del conjunto de entrenamiento: {len(train_test['train'])}\")\n",
        "print(f\"Tamaño del conjunto de prueba: {len(train_test['test'])}\")"
      ],
      "metadata": {
        "colab": {
          "base_uri": "https://localhost:8080/"
        },
        "id": "O0b2_549VEPY",
        "outputId": "46417cf2-e295-4f0e-9ef5-1453de1d9c5a"
      },
      "execution_count": 32,
      "outputs": [
        {
          "output_type": "stream",
          "name": "stdout",
          "text": [
            "Cargando datos de ejemplo...\n",
            "\n",
            "Tamaño del conjunto de entrenamiento: 160\n",
            "Tamaño del conjunto de prueba: 40\n"
          ]
        }
      ]
    },
    {
      "cell_type": "markdown",
      "source": [
        "Verificamos la distribución de clases:"
      ],
      "metadata": {
        "id": "oNwkD4eVVQXB"
      }
    },
    {
      "cell_type": "code",
      "source": [
        "print(\"\\nDistribución de clases en el dataset:\")\n",
        "import numpy as np\n",
        "labels = dataset['label']\n",
        "unique_labels, counts = np.unique(labels, return_counts=True)\n",
        "for label, count in zip(unique_labels, counts):\n",
        "    print(f\"Clase {label} ({'Negativo' if label == 0 else 'Positivo'}): {count} ejemplos ({count/len(labels)*100:.1f}%)\")\n"
      ],
      "metadata": {
        "colab": {
          "base_uri": "https://localhost:8080/"
        },
        "id": "JVO5aVy2VRHv",
        "outputId": "99b19cc4-9bcb-4521-b96a-cae6c4833496"
      },
      "execution_count": 33,
      "outputs": [
        {
          "output_type": "stream",
          "name": "stdout",
          "text": [
            "\n",
            "Distribución de clases en el dataset:\n",
            "Clase 0 (Negativo): 100 ejemplos (50.0%)\n",
            "Clase 1 (Positivo): 100 ejemplos (50.0%)\n"
          ]
        }
      ]
    },
    {
      "cell_type": "markdown",
      "source": [
        "Ahora puedes continuar en el paso 5 - Preparar los Datos"
      ],
      "metadata": {
        "id": "lglI5MiDVswF"
      }
    }
  ]
}