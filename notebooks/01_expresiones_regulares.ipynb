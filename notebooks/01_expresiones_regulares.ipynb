{
  "nbformat": 4,
  "nbformat_minor": 0,
  "metadata": {
    "colab": {
      "provenance": [],
      "authorship_tag": "ABX9TyOWEbdq/o8U2+rt9sJ6x4rk",
      "include_colab_link": true
    },
    "kernelspec": {
      "name": "python3",
      "display_name": "Python 3"
    },
    "language_info": {
      "name": "python"
    }
  },
  "cells": [
    {
      "cell_type": "markdown",
      "metadata": {
        "id": "view-in-github",
        "colab_type": "text"
      },
      "source": [
        "<a href=\"https://colab.research.google.com/github/cbadenes/curso-pln/blob/main/notebooks/01_expresiones_regulares.ipynb\" target=\"_parent\"><img src=\"https://colab.research.google.com/assets/colab-badge.svg\" alt=\"Open In Colab\"/></a>"
      ]
    },
    {
      "cell_type": "markdown",
      "source": [
        "# Expresiones Regulares en Procesamiento de Lenguaje Natural"
      ],
      "metadata": {
        "id": "FYJ1oP97pL1l"
      }
    },
    {
      "cell_type": "markdown",
      "source": [
        "## 1. Introducción\n",
        "\n",
        "Las expresiones regulares (regex) son una herramienta fundamental para la identificación y manipulación de patrones en cadenas de texto. Son especialmente útiles en PLN para:\n",
        "\n",
        "Búsqueda y extracción de patrones en grandes textos\n",
        "Validación de entradas de usuario (emails, fechas, números de teléfono)\n",
        "Filtrado de datos específicos (precios, códigos postales, URLs)"
      ],
      "metadata": {
        "id": "SVOHE-EApOtP"
      }
    },
    {
      "cell_type": "markdown",
      "source": [
        "## 2. Configuración del Entorno"
      ],
      "metadata": {
        "id": "4BUMC7RypTYT"
      }
    },
    {
      "cell_type": "code",
      "execution_count": 1,
      "metadata": {
        "id": "5nexj4v8pI7n"
      },
      "outputs": [],
      "source": [
        "import re\n",
        "import pandas as pd"
      ]
    },
    {
      "cell_type": "markdown",
      "source": [
        "## 3. Elementos Básicos de Expresiones Regulares"
      ],
      "metadata": {
        "id": "W_Ce5fr5pYrg"
      }
    },
    {
      "cell_type": "markdown",
      "source": [
        "### 3.1 Metacaracteres Básicos"
      ],
      "metadata": {
        "id": "fBIQk1pHpcaS"
      }
    },
    {
      "cell_type": "code",
      "source": [
        "def test_pattern(pattern, test_strings):\n",
        "    \"\"\"\n",
        "    Función auxiliar para probar patrones de regex\n",
        "    \"\"\"\n",
        "    print(f\"Patrón: {pattern}\")\n",
        "    for test in test_strings:\n",
        "        match = bool(re.search(pattern, test))\n",
        "        print(f\"'{test}': {'✓' if match else '✗'}\")\n",
        "    print()\n",
        "\n",
        "# Ejemplo con punto (.)\n",
        "print(\"Metacarácter '.' - cualquier carácter excepto nueva línea:\")\n",
        "test_pattern(r'a.b', ['aab', 'acb', 'a8b', 'a-b', 'ab', 'a\\nb'])\n",
        "\n",
        "# Ejemplo con + (una o más repeticiones)\n",
        "print(\"Metacarácter '+' - una o más repeticiones:\")\n",
        "test_pattern(r'go+d', ['gd', 'god', 'good', 'goood'])\n",
        "\n",
        "# Ejemplo con * (cero o más repeticiones)\n",
        "print(\"Metacarácter '*' - cero o más repeticiones:\")\n",
        "test_pattern(r'go*d', ['gd', 'god', 'good', 'goood', 'gad'])\n",
        "\n",
        "# Ejemplo con ? (cero o una repetición)\n",
        "print(\"Metacarácter '?' - cero o una repetición:\")\n",
        "test_pattern(r'colou?r', ['color', 'colour', 'coloour', 'colr'])"
      ],
      "metadata": {
        "colab": {
          "base_uri": "https://localhost:8080/"
        },
        "id": "STxNQffapfke",
        "outputId": "a342889f-870c-467a-b8e9-ab57c0c95fdb"
      },
      "execution_count": 2,
      "outputs": [
        {
          "output_type": "stream",
          "name": "stdout",
          "text": [
            "Metacarácter '.' - cualquier carácter excepto nueva línea:\n",
            "Patrón: a.b\n",
            "'aab': ✓\n",
            "'acb': ✓\n",
            "'a8b': ✓\n",
            "'a-b': ✓\n",
            "'ab': ✗\n",
            "'a\n",
            "b': ✗\n",
            "\n",
            "Metacarácter '+' - una o más repeticiones:\n",
            "Patrón: go+d\n",
            "'gd': ✗\n",
            "'god': ✓\n",
            "'good': ✓\n",
            "'goood': ✓\n",
            "\n",
            "Metacarácter '*' - cero o más repeticiones:\n",
            "Patrón: go*d\n",
            "'gd': ✓\n",
            "'god': ✓\n",
            "'good': ✓\n",
            "'goood': ✓\n",
            "'gad': ✗\n",
            "\n",
            "Metacarácter '?' - cero o una repetición:\n",
            "Patrón: colou?r\n",
            "'color': ✓\n",
            "'colour': ✓\n",
            "'coloour': ✗\n",
            "'colr': ✗\n",
            "\n"
          ]
        }
      ]
    },
    {
      "cell_type": "markdown",
      "source": [
        "### 3.2 Coincidencia de Inicio y Fin"
      ],
      "metadata": {
        "id": "Qd6AyznJpkqj"
      }
    },
    {
      "cell_type": "code",
      "source": [
        "# Ejemplo con ^ (inicio de cadena)\n",
        "print(\"Metacarácter '^' - inicio de cadena:\")\n",
        "test_pattern(r'^start', ['start here', 'start now', 'restart', \"let's start\"])\n",
        "\n",
        "# Ejemplo con $ (fin de cadena)\n",
        "print(\"Metacarácter '$' - fin de cadena:\")\n",
        "test_pattern(r'end$', ['The story will end', 'friend', 'ending'])"
      ],
      "metadata": {
        "colab": {
          "base_uri": "https://localhost:8080/"
        },
        "id": "faq6XiLzpnbC",
        "outputId": "dacab37e-d0fe-4b9a-93ff-e932a2a732c9"
      },
      "execution_count": 3,
      "outputs": [
        {
          "output_type": "stream",
          "name": "stdout",
          "text": [
            "Metacarácter '^' - inicio de cadena:\n",
            "Patrón: ^start\n",
            "'start here': ✓\n",
            "'start now': ✓\n",
            "'restart': ✗\n",
            "'let's start': ✗\n",
            "\n",
            "Metacarácter '$' - fin de cadena:\n",
            "Patrón: end$\n",
            "'The story will end': ✓\n",
            "'friend': ✓\n",
            "'ending': ✗\n",
            "\n"
          ]
        }
      ]
    },
    {
      "cell_type": "markdown",
      "source": [
        "### 3.3 Grupos de Caracteres"
      ],
      "metadata": {
        "id": "Opg5gAz-prJl"
      }
    },
    {
      "cell_type": "code",
      "source": [
        "# Ejemplo con corchetes []\n",
        "print(\"Grupos de caracteres con []:\")\n",
        "test_pattern(r'[0-9]', ['abc123', 'def', '456', '#%&'])\n",
        "\n",
        "# Ejemplo con negación ^\n",
        "print(\"Negación de grupos con ^:\")\n",
        "test_pattern(r'[^0-9]', ['abc', '123', 'abc123', '#%&'])\n",
        "\n",
        "# Ejemplo con grupos ()\n",
        "print(\"Grupos con ():\")\n",
        "test_pattern(r'(abc)+', ['abc', 'abcabc', 'abcabcabc', 'ab', 'abcd'])\n",
        "\n",
        "# Ejemplo con alternancia |\n",
        "print(\"Alternancia con |:\")\n",
        "test_pattern(r'I (like|love) regex', ['I like regex', 'I love regex', 'I hate regex'])"
      ],
      "metadata": {
        "colab": {
          "base_uri": "https://localhost:8080/"
        },
        "id": "u6sYqN_vps7y",
        "outputId": "0ce939e9-10fb-4073-9db8-39d6d40e0039"
      },
      "execution_count": 4,
      "outputs": [
        {
          "output_type": "stream",
          "name": "stdout",
          "text": [
            "Grupos de caracteres con []:\n",
            "Patrón: [0-9]\n",
            "'abc123': ✓\n",
            "'def': ✗\n",
            "'456': ✓\n",
            "'#%&': ✗\n",
            "\n",
            "Negación de grupos con ^:\n",
            "Patrón: [^0-9]\n",
            "'abc': ✓\n",
            "'123': ✗\n",
            "'abc123': ✓\n",
            "'#%&': ✓\n",
            "\n",
            "Grupos con ():\n",
            "Patrón: (abc)+\n",
            "'abc': ✓\n",
            "'abcabc': ✓\n",
            "'abcabcabc': ✓\n",
            "'ab': ✗\n",
            "'abcd': ✓\n",
            "\n",
            "Alternancia con |:\n",
            "Patrón: I (like|love) regex\n",
            "'I like regex': ✓\n",
            "'I love regex': ✓\n",
            "'I hate regex': ✗\n",
            "\n"
          ]
        }
      ]
    },
    {
      "cell_type": "markdown",
      "source": [
        "### 3.4 Metacaracteres Especiales"
      ],
      "metadata": {
        "id": "pjb8AdospwuR"
      }
    },
    {
      "cell_type": "code",
      "source": [
        "# Ejemplo con \\d (dígitos)\n",
        "print(\"Metacarácter '\\\\d' - dígitos:\")\n",
        "test_pattern(r'\\d{3}', ['123', '456', '789', 'abc', '12ab'])\n",
        "\n",
        "# Ejemplo con \\w (caracteres de palabra)\n",
        "print(\"Metacarácter '\\\\w' - caracteres de palabra:\")\n",
        "test_pattern(r'\\w+', ['abc', 'test123', 'word_word', 'test!', '!@#$'])\n",
        "\n",
        "# Ejemplo con \\b (límites de palabra)\n",
        "print(\"Metacarácter '\\\\b' - límites de palabra:\")\n",
        "test_pattern(r'\\bword\\b', ['word', 'a word in', 'sword', 'wording'])"
      ],
      "metadata": {
        "colab": {
          "base_uri": "https://localhost:8080/"
        },
        "id": "6iHMXOtWpyGD",
        "outputId": "e3ec2d7f-190d-4443-860f-d053e0082478"
      },
      "execution_count": 5,
      "outputs": [
        {
          "output_type": "stream",
          "name": "stdout",
          "text": [
            "Metacarácter '\\d' - dígitos:\n",
            "Patrón: \\d{3}\n",
            "'123': ✓\n",
            "'456': ✓\n",
            "'789': ✓\n",
            "'abc': ✗\n",
            "'12ab': ✗\n",
            "\n",
            "Metacarácter '\\w' - caracteres de palabra:\n",
            "Patrón: \\w+\n",
            "'abc': ✓\n",
            "'test123': ✓\n",
            "'word_word': ✓\n",
            "'test!': ✓\n",
            "'!@#$': ✗\n",
            "\n",
            "Metacarácter '\\b' - límites de palabra:\n",
            "Patrón: \\bword\\b\n",
            "'word': ✓\n",
            "'a word in': ✓\n",
            "'sword': ✗\n",
            "'wording': ✗\n",
            "\n"
          ]
        }
      ]
    },
    {
      "cell_type": "markdown",
      "source": [
        "## 4. Ejercicios Prácticos"
      ],
      "metadata": {
        "id": "0B-Ljg7Fp2xJ"
      }
    },
    {
      "cell_type": "markdown",
      "source": [
        "### 4.1 Extracción de Dominio de Email"
      ],
      "metadata": {
        "id": "DnfltKjpp5Ip"
      }
    },
    {
      "cell_type": "code",
      "source": [
        "def extract_email_domain(email):\n",
        "    \"\"\"\n",
        "    Extrae el dominio de una dirección de correo electrónico\n",
        "    \"\"\"\n",
        "    pattern = r'@([A-Za-z0-9.-]+\\.[A-Za-z]{2,})'\n",
        "    match = re.search(pattern, email)\n",
        "    return match.group(1) if match else None\n",
        "\n",
        "# Pruebas\n",
        "test_emails = [\n",
        "    'carlos.badenes@upm.es',\n",
        "    'usuario@dominio.com',\n",
        "    'test@subdominio.dominio.co.uk'\n",
        "]\n",
        "\n",
        "print(\"Extracción de dominios de email:\")\n",
        "for email in test_emails:\n",
        "    domain = extract_email_domain(email)\n",
        "    print(f\"Email: {email} -> Dominio: {domain}\")"
      ],
      "metadata": {
        "colab": {
          "base_uri": "https://localhost:8080/"
        },
        "id": "p4KVrAKip8eK",
        "outputId": "a023f8e4-b7c0-4217-e0d5-d8bd68efbc1c"
      },
      "execution_count": 6,
      "outputs": [
        {
          "output_type": "stream",
          "name": "stdout",
          "text": [
            "Extracción de dominios de email:\n",
            "Email: carlos.badenes@upm.es -> Dominio: upm.es\n",
            "Email: usuario@dominio.com -> Dominio: dominio.com\n",
            "Email: test@subdominio.dominio.co.uk -> Dominio: subdominio.dominio.co.uk\n"
          ]
        }
      ]
    },
    {
      "cell_type": "markdown",
      "source": [
        "### 4.2 Identificación de Correos Electrónicos"
      ],
      "metadata": {
        "id": "7wCcCojNqCGe"
      }
    },
    {
      "cell_type": "code",
      "source": [
        "def find_emails(text):\n",
        "    \"\"\"\n",
        "    Encuentra todas las direcciones de correo electrónico en un texto\n",
        "    \"\"\"\n",
        "    pattern = r'\\b[A-Za-z0-9._%+-]+@[A-Za-z0-9.-]+\\.[A-Za-z]{2,}\\b'\n",
        "    return re.findall(pattern, text)\n",
        "\n",
        "# Texto de prueba\n",
        "test_text = \"\"\"\n",
        "El email de Carlos Badenes es carlos.badenes@upm.es\n",
        "Otros contactos son: usuario1@gmail.com, soporte@empresa.com\n",
        "\"\"\"\n",
        "\n",
        "print(\"Emails encontrados:\")\n",
        "emails = find_emails(test_text)\n",
        "for email in emails:\n",
        "    print(f\"- {email}\")"
      ],
      "metadata": {
        "colab": {
          "base_uri": "https://localhost:8080/"
        },
        "id": "EfnCm2grqFmz",
        "outputId": "6689adbc-f4b1-4123-a38f-a5bee80df4d0"
      },
      "execution_count": 7,
      "outputs": [
        {
          "output_type": "stream",
          "name": "stdout",
          "text": [
            "Emails encontrados:\n",
            "- carlos.badenes@upm.es\n",
            "- usuario1@gmail.com\n",
            "- soporte@empresa.com\n"
          ]
        }
      ]
    },
    {
      "cell_type": "markdown",
      "source": [
        "## 5. Ejercicios para practicar\n",
        "\n",
        "1. Crea una expresión regular para validar números de teléfono españoles (fijos y móviles).\n",
        "2. Desarrolla un patrón para extraer hashtags de un texto de Twitter.\n",
        "3. Implementa una función que valide códigos postales españoles."
      ],
      "metadata": {
        "id": "DzEY1VTwqKJk"
      }
    },
    {
      "cell_type": "markdown",
      "source": [
        "## 6. Referencias\n",
        "- Documentación oficial de Python sobre regex: https://docs.python.org/3/library/re.html\n",
        "- Plataforma para probar expresiones regulares: https://regex101.com"
      ],
      "metadata": {
        "id": "-WGAlja1qSD5"
      }
    }
  ]
}