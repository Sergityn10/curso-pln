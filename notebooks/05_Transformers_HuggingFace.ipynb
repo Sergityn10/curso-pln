{
  "nbformat": 4,
  "nbformat_minor": 0,
  "metadata": {
    "colab": {
      "provenance": [],
      "collapsed_sections": [
        "BGYlTIqZm6Il",
        "hPo-oh2XnCJh",
        "-0EED5NOnI9b"
      ],
      "authorship_tag": "ABX9TyNm5ZbOz6klvd/5l95hf86q",
      "include_colab_link": true
    },
    "kernelspec": {
      "name": "python3",
      "display_name": "Python 3"
    },
    "language_info": {
      "name": "python"
    },
    "widgets": {
      "application/vnd.jupyter.widget-state+json": {
        "3747c39c7f7c459ebd0bb6761658466a": {
          "model_module": "@jupyter-widgets/controls",
          "model_name": "HBoxModel",
          "model_module_version": "1.5.0",
          "state": {
            "_dom_classes": [],
            "_model_module": "@jupyter-widgets/controls",
            "_model_module_version": "1.5.0",
            "_model_name": "HBoxModel",
            "_view_count": null,
            "_view_module": "@jupyter-widgets/controls",
            "_view_module_version": "1.5.0",
            "_view_name": "HBoxView",
            "box_style": "",
            "children": [
              "IPY_MODEL_c886fbb0e57842078960cdfa3ebffaa3",
              "IPY_MODEL_433499795a19461b9782b85266d6ec6f",
              "IPY_MODEL_664d0f3764584a06aa11804d70fe26d0"
            ],
            "layout": "IPY_MODEL_c3d5c77420a04ea9ba740a42b952a2ba"
          }
        },
        "c886fbb0e57842078960cdfa3ebffaa3": {
          "model_module": "@jupyter-widgets/controls",
          "model_name": "HTMLModel",
          "model_module_version": "1.5.0",
          "state": {
            "_dom_classes": [],
            "_model_module": "@jupyter-widgets/controls",
            "_model_module_version": "1.5.0",
            "_model_name": "HTMLModel",
            "_view_count": null,
            "_view_module": "@jupyter-widgets/controls",
            "_view_module_version": "1.5.0",
            "_view_name": "HTMLView",
            "description": "",
            "description_tooltip": null,
            "layout": "IPY_MODEL_48e25f35e36a4201a046a250b65796b8",
            "placeholder": "​",
            "style": "IPY_MODEL_9475264161c34081bc9e87c5331d3fb9",
            "value": "Map: 100%"
          }
        },
        "433499795a19461b9782b85266d6ec6f": {
          "model_module": "@jupyter-widgets/controls",
          "model_name": "FloatProgressModel",
          "model_module_version": "1.5.0",
          "state": {
            "_dom_classes": [],
            "_model_module": "@jupyter-widgets/controls",
            "_model_module_version": "1.5.0",
            "_model_name": "FloatProgressModel",
            "_view_count": null,
            "_view_module": "@jupyter-widgets/controls",
            "_view_module_version": "1.5.0",
            "_view_name": "ProgressView",
            "bar_style": "success",
            "description": "",
            "description_tooltip": null,
            "layout": "IPY_MODEL_314a99058f464ca9b61b7991c897a9ba",
            "max": 12,
            "min": 0,
            "orientation": "horizontal",
            "style": "IPY_MODEL_8519c761b3f748eca8af7b5255586bef",
            "value": 12
          }
        },
        "664d0f3764584a06aa11804d70fe26d0": {
          "model_module": "@jupyter-widgets/controls",
          "model_name": "HTMLModel",
          "model_module_version": "1.5.0",
          "state": {
            "_dom_classes": [],
            "_model_module": "@jupyter-widgets/controls",
            "_model_module_version": "1.5.0",
            "_model_name": "HTMLModel",
            "_view_count": null,
            "_view_module": "@jupyter-widgets/controls",
            "_view_module_version": "1.5.0",
            "_view_name": "HTMLView",
            "description": "",
            "description_tooltip": null,
            "layout": "IPY_MODEL_0931d36ff2cc4024a91238764415971c",
            "placeholder": "​",
            "style": "IPY_MODEL_fea66b9a7e074846b28fc96039651b0c",
            "value": " 12/12 [00:00&lt;00:00, 438.32 examples/s]"
          }
        },
        "c3d5c77420a04ea9ba740a42b952a2ba": {
          "model_module": "@jupyter-widgets/base",
          "model_name": "LayoutModel",
          "model_module_version": "1.2.0",
          "state": {
            "_model_module": "@jupyter-widgets/base",
            "_model_module_version": "1.2.0",
            "_model_name": "LayoutModel",
            "_view_count": null,
            "_view_module": "@jupyter-widgets/base",
            "_view_module_version": "1.2.0",
            "_view_name": "LayoutView",
            "align_content": null,
            "align_items": null,
            "align_self": null,
            "border": null,
            "bottom": null,
            "display": null,
            "flex": null,
            "flex_flow": null,
            "grid_area": null,
            "grid_auto_columns": null,
            "grid_auto_flow": null,
            "grid_auto_rows": null,
            "grid_column": null,
            "grid_gap": null,
            "grid_row": null,
            "grid_template_areas": null,
            "grid_template_columns": null,
            "grid_template_rows": null,
            "height": null,
            "justify_content": null,
            "justify_items": null,
            "left": null,
            "margin": null,
            "max_height": null,
            "max_width": null,
            "min_height": null,
            "min_width": null,
            "object_fit": null,
            "object_position": null,
            "order": null,
            "overflow": null,
            "overflow_x": null,
            "overflow_y": null,
            "padding": null,
            "right": null,
            "top": null,
            "visibility": null,
            "width": null
          }
        },
        "48e25f35e36a4201a046a250b65796b8": {
          "model_module": "@jupyter-widgets/base",
          "model_name": "LayoutModel",
          "model_module_version": "1.2.0",
          "state": {
            "_model_module": "@jupyter-widgets/base",
            "_model_module_version": "1.2.0",
            "_model_name": "LayoutModel",
            "_view_count": null,
            "_view_module": "@jupyter-widgets/base",
            "_view_module_version": "1.2.0",
            "_view_name": "LayoutView",
            "align_content": null,
            "align_items": null,
            "align_self": null,
            "border": null,
            "bottom": null,
            "display": null,
            "flex": null,
            "flex_flow": null,
            "grid_area": null,
            "grid_auto_columns": null,
            "grid_auto_flow": null,
            "grid_auto_rows": null,
            "grid_column": null,
            "grid_gap": null,
            "grid_row": null,
            "grid_template_areas": null,
            "grid_template_columns": null,
            "grid_template_rows": null,
            "height": null,
            "justify_content": null,
            "justify_items": null,
            "left": null,
            "margin": null,
            "max_height": null,
            "max_width": null,
            "min_height": null,
            "min_width": null,
            "object_fit": null,
            "object_position": null,
            "order": null,
            "overflow": null,
            "overflow_x": null,
            "overflow_y": null,
            "padding": null,
            "right": null,
            "top": null,
            "visibility": null,
            "width": null
          }
        },
        "9475264161c34081bc9e87c5331d3fb9": {
          "model_module": "@jupyter-widgets/controls",
          "model_name": "DescriptionStyleModel",
          "model_module_version": "1.5.0",
          "state": {
            "_model_module": "@jupyter-widgets/controls",
            "_model_module_version": "1.5.0",
            "_model_name": "DescriptionStyleModel",
            "_view_count": null,
            "_view_module": "@jupyter-widgets/base",
            "_view_module_version": "1.2.0",
            "_view_name": "StyleView",
            "description_width": ""
          }
        },
        "314a99058f464ca9b61b7991c897a9ba": {
          "model_module": "@jupyter-widgets/base",
          "model_name": "LayoutModel",
          "model_module_version": "1.2.0",
          "state": {
            "_model_module": "@jupyter-widgets/base",
            "_model_module_version": "1.2.0",
            "_model_name": "LayoutModel",
            "_view_count": null,
            "_view_module": "@jupyter-widgets/base",
            "_view_module_version": "1.2.0",
            "_view_name": "LayoutView",
            "align_content": null,
            "align_items": null,
            "align_self": null,
            "border": null,
            "bottom": null,
            "display": null,
            "flex": null,
            "flex_flow": null,
            "grid_area": null,
            "grid_auto_columns": null,
            "grid_auto_flow": null,
            "grid_auto_rows": null,
            "grid_column": null,
            "grid_gap": null,
            "grid_row": null,
            "grid_template_areas": null,
            "grid_template_columns": null,
            "grid_template_rows": null,
            "height": null,
            "justify_content": null,
            "justify_items": null,
            "left": null,
            "margin": null,
            "max_height": null,
            "max_width": null,
            "min_height": null,
            "min_width": null,
            "object_fit": null,
            "object_position": null,
            "order": null,
            "overflow": null,
            "overflow_x": null,
            "overflow_y": null,
            "padding": null,
            "right": null,
            "top": null,
            "visibility": null,
            "width": null
          }
        },
        "8519c761b3f748eca8af7b5255586bef": {
          "model_module": "@jupyter-widgets/controls",
          "model_name": "ProgressStyleModel",
          "model_module_version": "1.5.0",
          "state": {
            "_model_module": "@jupyter-widgets/controls",
            "_model_module_version": "1.5.0",
            "_model_name": "ProgressStyleModel",
            "_view_count": null,
            "_view_module": "@jupyter-widgets/base",
            "_view_module_version": "1.2.0",
            "_view_name": "StyleView",
            "bar_color": null,
            "description_width": ""
          }
        },
        "0931d36ff2cc4024a91238764415971c": {
          "model_module": "@jupyter-widgets/base",
          "model_name": "LayoutModel",
          "model_module_version": "1.2.0",
          "state": {
            "_model_module": "@jupyter-widgets/base",
            "_model_module_version": "1.2.0",
            "_model_name": "LayoutModel",
            "_view_count": null,
            "_view_module": "@jupyter-widgets/base",
            "_view_module_version": "1.2.0",
            "_view_name": "LayoutView",
            "align_content": null,
            "align_items": null,
            "align_self": null,
            "border": null,
            "bottom": null,
            "display": null,
            "flex": null,
            "flex_flow": null,
            "grid_area": null,
            "grid_auto_columns": null,
            "grid_auto_flow": null,
            "grid_auto_rows": null,
            "grid_column": null,
            "grid_gap": null,
            "grid_row": null,
            "grid_template_areas": null,
            "grid_template_columns": null,
            "grid_template_rows": null,
            "height": null,
            "justify_content": null,
            "justify_items": null,
            "left": null,
            "margin": null,
            "max_height": null,
            "max_width": null,
            "min_height": null,
            "min_width": null,
            "object_fit": null,
            "object_position": null,
            "order": null,
            "overflow": null,
            "overflow_x": null,
            "overflow_y": null,
            "padding": null,
            "right": null,
            "top": null,
            "visibility": null,
            "width": null
          }
        },
        "fea66b9a7e074846b28fc96039651b0c": {
          "model_module": "@jupyter-widgets/controls",
          "model_name": "DescriptionStyleModel",
          "model_module_version": "1.5.0",
          "state": {
            "_model_module": "@jupyter-widgets/controls",
            "_model_module_version": "1.5.0",
            "_model_name": "DescriptionStyleModel",
            "_view_count": null,
            "_view_module": "@jupyter-widgets/base",
            "_view_module_version": "1.2.0",
            "_view_name": "StyleView",
            "description_width": ""
          }
        }
      }
    }
  },
  "cells": [
    {
      "cell_type": "markdown",
      "metadata": {
        "id": "view-in-github",
        "colab_type": "text"
      },
      "source": [
        "<a href=\"https://colab.research.google.com/github/cbadenes/curso-pln/blob/main/notebooks/05_Transformers_HuggingFace.ipynb\" target=\"_parent\"><img src=\"https://colab.research.google.com/assets/colab-badge.svg\" alt=\"Open In Colab\"/></a>"
      ]
    },
    {
      "cell_type": "markdown",
      "source": [
        "# Análisis de Sentimiento usando Transformers preentrenados\n",
        "\n",
        "Este notebook demuestra cómo usar modelos Transformer preentrenados para análisis de\n",
        "sentimiento en español usando la biblioteca 'transformers' de Hugging Face y el\n",
        "modelo BETO (BERT entrenado en español)."
      ],
      "metadata": {
        "id": "BWUD5ycHmz44"
      }
    },
    {
      "cell_type": "markdown",
      "source": [
        "#1) Importar librerias necesarias"
      ],
      "metadata": {
        "id": "BGYlTIqZm6Il"
      }
    },
    {
      "cell_type": "code",
      "execution_count": 1,
      "metadata": {
        "id": "caosBZBsmxA1"
      },
      "outputs": [],
      "source": [
        "import torch\n",
        "from transformers import AutoModelForSequenceClassification, AutoTokenizer\n",
        "from transformers import pipeline"
      ]
    },
    {
      "cell_type": "markdown",
      "source": [
        "#2) Descargar y cargar el modelo BETO y su tokenizador"
      ],
      "metadata": {
        "id": "hPo-oh2XnCJh"
      }
    },
    {
      "cell_type": "code",
      "source": [
        "# Crear pipeline de análisis de sentimiento usando BETO\n",
        "classifier = pipeline(\n",
        "    task=\"sentiment-analysis\",\n",
        "    model=\"finiteautomata/beto-sentiment-analysis\",\n",
        "    tokenizer=\"finiteautomata/beto-sentiment-analysis\",\n",
        "    return_all_scores=True  # Para obtener todas las probabilidades\n",
        ")"
      ],
      "metadata": {
        "colab": {
          "base_uri": "https://localhost:8080/"
        },
        "id": "yNRRnX-3onuf",
        "outputId": "ef598912-f339-4894-99d3-dbdc66c7a81d"
      },
      "execution_count": 13,
      "outputs": [
        {
          "output_type": "stream",
          "name": "stderr",
          "text": [
            "Device set to use cpu\n"
          ]
        }
      ]
    },
    {
      "cell_type": "markdown",
      "source": [
        "#3) Realizar Predicciones"
      ],
      "metadata": {
        "id": "-0EED5NOnI9b"
      }
    },
    {
      "cell_type": "code",
      "source": [
        "# Datos de ejemplo\n",
        "sentences = [\n",
        "    'Me gusta mucho este curso',\n",
        "    'Estoy aburrido de la rutina diaria',\n",
        "]\n",
        "\n",
        "# Realizar predicciones\n",
        "for sentence in sentences:\n",
        "    result = classifier(sentence)\n",
        "    scores = result[0]  # Obtenemos las probabilidades para cada clase\n",
        "\n",
        "    # Encontrar la clase con mayor probabilidad\n",
        "    max_score = max(scores, key=lambda x: x['score'])\n",
        "\n",
        "    print(f\"Frase: '{sentence}'\")\n",
        "    print(\"Probabilidades:\")\n",
        "    for score in scores:\n",
        "        print(f\"- {score['label']}: {score['score']:.4f}\")\n",
        "    print(f\"Predicción final: {max_score['label']} ({max_score['score']:.4f})\")\n",
        "    print()"
      ],
      "metadata": {
        "colab": {
          "base_uri": "https://localhost:8080/"
        },
        "id": "RBSQ7ceOnLk6",
        "outputId": "a45534c1-d9d6-4efc-f417-f0ddff0f8ab3"
      },
      "execution_count": 14,
      "outputs": [
        {
          "output_type": "stream",
          "name": "stdout",
          "text": [
            "Frase: 'Me gusta mucho este curso'\n",
            "Probabilidades:\n",
            "- NEG: 0.0012\n",
            "- NEU: 0.0004\n",
            "- POS: 0.9984\n",
            "Predicción final: POS (0.9984)\n",
            "\n",
            "Frase: 'Estoy aburrido de la rutina diaria'\n",
            "Probabilidades:\n",
            "- NEG: 0.9966\n",
            "- NEU: 0.0030\n",
            "- POS: 0.0004\n",
            "Predicción final: NEG (0.9966)\n",
            "\n"
          ]
        }
      ]
    },
    {
      "cell_type": "markdown",
      "source": [
        "#4) Probar con nuevas frases"
      ],
      "metadata": {
        "id": "gb7AqzGBnR0n"
      }
    },
    {
      "cell_type": "code",
      "source": [
        "# Probar con nuevas frases\n",
        "test_sentences = [\n",
        "    \"Este producto es excelente\",\n",
        "    \"El servicio fue terrible\"\n",
        "]\n",
        "\n",
        "for sentence in test_sentences:\n",
        "    result = classifier(sentence)\n",
        "    scores = result[0]\n",
        "\n",
        "    max_score = max(scores, key=lambda x: x['score'])\n",
        "\n",
        "    print(f\"Frase: '{sentence}'\")\n",
        "    print(\"Probabilidades:\")\n",
        "    for score in scores:\n",
        "        print(f\"- {score['label']}: {score['score']:.4f}\")\n",
        "    print(f\"Predicción final: {max_score['label']} ({max_score['score']:.4f})\")\n",
        "    print()"
      ],
      "metadata": {
        "colab": {
          "base_uri": "https://localhost:8080/"
        },
        "id": "MSoEh-RWnWAb",
        "outputId": "c6c8f530-da39-4700-ac08-60a1ed3f9785"
      },
      "execution_count": 15,
      "outputs": [
        {
          "output_type": "stream",
          "name": "stdout",
          "text": [
            "Frase: 'Este producto es excelente'\n",
            "Probabilidades:\n",
            "- NEG: 0.0012\n",
            "- NEU: 0.0004\n",
            "- POS: 0.9984\n",
            "Predicción final: POS (0.9984)\n",
            "\n",
            "Frase: 'El servicio fue terrible'\n",
            "Probabilidades:\n",
            "- NEG: 0.9992\n",
            "- NEU: 0.0004\n",
            "- POS: 0.0005\n",
            "Predicción final: NEG (0.9992)\n",
            "\n"
          ]
        }
      ]
    },
    {
      "cell_type": "markdown",
      "source": [
        "##5) Realizar un ajuste fino (fine-tuning)\n",
        "\n",
        "Vamos a mejorar el modelo BETO con nuestros propios datos\n",
        "mediante un proceso de ajuste fino (fine-tuning)."
      ],
      "metadata": {
        "id": "oYMMWhyEpCj4"
      }
    },
    {
      "cell_type": "code",
      "source": [
        "!pip install datasets\n",
        "from transformers import AutoModelForSequenceClassification, AutoTokenizer\n",
        "from transformers import TrainingArguments, Trainer\n",
        "import numpy as np\n",
        "from datasets import Dataset"
      ],
      "metadata": {
        "colab": {
          "base_uri": "https://localhost:8080/"
        },
        "id": "KD71YXA-pOkB",
        "outputId": "cec4172e-cefd-4c05-e294-41304c1794d7"
      },
      "execution_count": 17,
      "outputs": [
        {
          "output_type": "stream",
          "name": "stdout",
          "text": [
            "Collecting datasets\n",
            "  Downloading datasets-3.2.0-py3-none-any.whl.metadata (20 kB)\n",
            "Requirement already satisfied: filelock in /usr/local/lib/python3.10/dist-packages (from datasets) (3.16.1)\n",
            "Requirement already satisfied: numpy>=1.17 in /usr/local/lib/python3.10/dist-packages (from datasets) (1.26.4)\n",
            "Requirement already satisfied: pyarrow>=15.0.0 in /usr/local/lib/python3.10/dist-packages (from datasets) (17.0.0)\n",
            "Collecting dill<0.3.9,>=0.3.0 (from datasets)\n",
            "  Downloading dill-0.3.8-py3-none-any.whl.metadata (10 kB)\n",
            "Requirement already satisfied: pandas in /usr/local/lib/python3.10/dist-packages (from datasets) (2.2.2)\n",
            "Requirement already satisfied: requests>=2.32.2 in /usr/local/lib/python3.10/dist-packages (from datasets) (2.32.3)\n",
            "Requirement already satisfied: tqdm>=4.66.3 in /usr/local/lib/python3.10/dist-packages (from datasets) (4.67.1)\n",
            "Collecting xxhash (from datasets)\n",
            "  Downloading xxhash-3.5.0-cp310-cp310-manylinux_2_17_x86_64.manylinux2014_x86_64.whl.metadata (12 kB)\n",
            "Collecting multiprocess<0.70.17 (from datasets)\n",
            "  Downloading multiprocess-0.70.16-py310-none-any.whl.metadata (7.2 kB)\n",
            "Collecting fsspec<=2024.9.0,>=2023.1.0 (from fsspec[http]<=2024.9.0,>=2023.1.0->datasets)\n",
            "  Downloading fsspec-2024.9.0-py3-none-any.whl.metadata (11 kB)\n",
            "Requirement already satisfied: aiohttp in /usr/local/lib/python3.10/dist-packages (from datasets) (3.11.10)\n",
            "Requirement already satisfied: huggingface-hub>=0.23.0 in /usr/local/lib/python3.10/dist-packages (from datasets) (0.27.0)\n",
            "Requirement already satisfied: packaging in /usr/local/lib/python3.10/dist-packages (from datasets) (24.2)\n",
            "Requirement already satisfied: pyyaml>=5.1 in /usr/local/lib/python3.10/dist-packages (from datasets) (6.0.2)\n",
            "Requirement already satisfied: aiohappyeyeballs>=2.3.0 in /usr/local/lib/python3.10/dist-packages (from aiohttp->datasets) (2.4.4)\n",
            "Requirement already satisfied: aiosignal>=1.1.2 in /usr/local/lib/python3.10/dist-packages (from aiohttp->datasets) (1.3.2)\n",
            "Requirement already satisfied: async-timeout<6.0,>=4.0 in /usr/local/lib/python3.10/dist-packages (from aiohttp->datasets) (4.0.3)\n",
            "Requirement already satisfied: attrs>=17.3.0 in /usr/local/lib/python3.10/dist-packages (from aiohttp->datasets) (24.3.0)\n",
            "Requirement already satisfied: frozenlist>=1.1.1 in /usr/local/lib/python3.10/dist-packages (from aiohttp->datasets) (1.5.0)\n",
            "Requirement already satisfied: multidict<7.0,>=4.5 in /usr/local/lib/python3.10/dist-packages (from aiohttp->datasets) (6.1.0)\n",
            "Requirement already satisfied: propcache>=0.2.0 in /usr/local/lib/python3.10/dist-packages (from aiohttp->datasets) (0.2.1)\n",
            "Requirement already satisfied: yarl<2.0,>=1.17.0 in /usr/local/lib/python3.10/dist-packages (from aiohttp->datasets) (1.18.3)\n",
            "Requirement already satisfied: typing-extensions>=3.7.4.3 in /usr/local/lib/python3.10/dist-packages (from huggingface-hub>=0.23.0->datasets) (4.12.2)\n",
            "Requirement already satisfied: charset-normalizer<4,>=2 in /usr/local/lib/python3.10/dist-packages (from requests>=2.32.2->datasets) (3.4.0)\n",
            "Requirement already satisfied: idna<4,>=2.5 in /usr/local/lib/python3.10/dist-packages (from requests>=2.32.2->datasets) (3.10)\n",
            "Requirement already satisfied: urllib3<3,>=1.21.1 in /usr/local/lib/python3.10/dist-packages (from requests>=2.32.2->datasets) (2.2.3)\n",
            "Requirement already satisfied: certifi>=2017.4.17 in /usr/local/lib/python3.10/dist-packages (from requests>=2.32.2->datasets) (2024.12.14)\n",
            "Requirement already satisfied: python-dateutil>=2.8.2 in /usr/local/lib/python3.10/dist-packages (from pandas->datasets) (2.8.2)\n",
            "Requirement already satisfied: pytz>=2020.1 in /usr/local/lib/python3.10/dist-packages (from pandas->datasets) (2024.2)\n",
            "Requirement already satisfied: tzdata>=2022.7 in /usr/local/lib/python3.10/dist-packages (from pandas->datasets) (2024.2)\n",
            "Requirement already satisfied: six>=1.5 in /usr/local/lib/python3.10/dist-packages (from python-dateutil>=2.8.2->pandas->datasets) (1.17.0)\n",
            "Downloading datasets-3.2.0-py3-none-any.whl (480 kB)\n",
            "\u001b[2K   \u001b[90m━━━━━━━━━━━━━━━━━━━━━━━━━━━━━━━━━━━━━━━━\u001b[0m \u001b[32m480.6/480.6 kB\u001b[0m \u001b[31m9.5 MB/s\u001b[0m eta \u001b[36m0:00:00\u001b[0m\n",
            "\u001b[?25hDownloading dill-0.3.8-py3-none-any.whl (116 kB)\n",
            "\u001b[2K   \u001b[90m━━━━━━━━━━━━━━━━━━━━━━━━━━━━━━━━━━━━━━━━\u001b[0m \u001b[32m116.3/116.3 kB\u001b[0m \u001b[31m10.3 MB/s\u001b[0m eta \u001b[36m0:00:00\u001b[0m\n",
            "\u001b[?25hDownloading fsspec-2024.9.0-py3-none-any.whl (179 kB)\n",
            "\u001b[2K   \u001b[90m━━━━━━━━━━━━━━━━━━━━━━━━━━━━━━━━━━━━━━━━\u001b[0m \u001b[32m179.3/179.3 kB\u001b[0m \u001b[31m15.8 MB/s\u001b[0m eta \u001b[36m0:00:00\u001b[0m\n",
            "\u001b[?25hDownloading multiprocess-0.70.16-py310-none-any.whl (134 kB)\n",
            "\u001b[2K   \u001b[90m━━━━━━━━━━━━━━━━━━━━━━━━━━━━━━━━━━━━━━━━\u001b[0m \u001b[32m134.8/134.8 kB\u001b[0m \u001b[31m10.9 MB/s\u001b[0m eta \u001b[36m0:00:00\u001b[0m\n",
            "\u001b[?25hDownloading xxhash-3.5.0-cp310-cp310-manylinux_2_17_x86_64.manylinux2014_x86_64.whl (194 kB)\n",
            "\u001b[2K   \u001b[90m━━━━━━━━━━━━━━━━━━━━━━━━━━━━━━━━━━━━━━━━\u001b[0m \u001b[32m194.1/194.1 kB\u001b[0m \u001b[31m15.9 MB/s\u001b[0m eta \u001b[36m0:00:00\u001b[0m\n",
            "\u001b[?25hInstalling collected packages: xxhash, fsspec, dill, multiprocess, datasets\n",
            "  Attempting uninstall: fsspec\n",
            "    Found existing installation: fsspec 2024.10.0\n",
            "    Uninstalling fsspec-2024.10.0:\n",
            "      Successfully uninstalled fsspec-2024.10.0\n",
            "\u001b[31mERROR: pip's dependency resolver does not currently take into account all the packages that are installed. This behaviour is the source of the following dependency conflicts.\n",
            "gcsfs 2024.10.0 requires fsspec==2024.10.0, but you have fsspec 2024.9.0 which is incompatible.\u001b[0m\u001b[31m\n",
            "\u001b[0mSuccessfully installed datasets-3.2.0 dill-0.3.8 fsspec-2024.9.0 multiprocess-0.70.16 xxhash-3.5.0\n"
          ]
        }
      ]
    },
    {
      "cell_type": "markdown",
      "source": [
        "Preparar nuestros datos de entrenamiento:"
      ],
      "metadata": {
        "id": "ZR-hqcLxpXYO"
      }
    },
    {
      "cell_type": "code",
      "source": [
        "train_texts = [\n",
        "    'Me gusta mucho este curso',\n",
        "    'Este producto es excelente',\n",
        "    'La calidad es increíble',\n",
        "    'El servicio fue magnífico',\n",
        "    'Me encanta la atención recibida',\n",
        "    'La experiencia fue normal',\n",
        "    'El producto cumple su función',\n",
        "    'Estoy aburrido de la rutina diaria',\n",
        "    'No estoy satisfecho con el servicio',\n",
        "    'La calidad es pésima',\n",
        "    'El servicio fue terrible',\n",
        "    'No recomiendo este producto'\n",
        "]\n",
        "\n",
        "# Etiquetas: 0 (NEG), 1 (NEU), 2 (POS)\n",
        "train_labels = [2, 2, 2, 2, 2, 1, 1, 0, 0, 0, 0, 0]\n",
        "\n",
        "# 2. Crear dataset\n",
        "dataset_dict = {\n",
        "    'text': train_texts,\n",
        "    'label': train_labels\n",
        "}\n",
        "train_dataset = Dataset.from_dict(dataset_dict)"
      ],
      "metadata": {
        "id": "7dZB6tvhpcXZ"
      },
      "execution_count": 27,
      "outputs": []
    },
    {
      "cell_type": "markdown",
      "source": [
        "Cargar modelo y tokenizador:"
      ],
      "metadata": {
        "id": "DsbhnX4yphGY"
      }
    },
    {
      "cell_type": "code",
      "source": [
        "model_name = \"finiteautomata/beto-sentiment-analysis\"\n",
        "model = AutoModelForSequenceClassification.from_pretrained(model_name)\n",
        "tokenizer = AutoTokenizer.from_pretrained(model_name)"
      ],
      "metadata": {
        "id": "wkoWS6z0phzg"
      },
      "execution_count": 28,
      "outputs": []
    },
    {
      "cell_type": "markdown",
      "source": [
        "Preparar los datos:"
      ],
      "metadata": {
        "id": "oDd1FBAQpmKe"
      }
    },
    {
      "cell_type": "code",
      "source": [
        "def tokenize_function(examples):\n",
        "    return tokenizer(examples[\"text\"], padding=True, truncation=True)\n",
        "\n",
        "tokenized_dataset = train_dataset.map(tokenize_function, batched=True)"
      ],
      "metadata": {
        "colab": {
          "base_uri": "https://localhost:8080/",
          "height": 49,
          "referenced_widgets": [
            "3747c39c7f7c459ebd0bb6761658466a",
            "c886fbb0e57842078960cdfa3ebffaa3",
            "433499795a19461b9782b85266d6ec6f",
            "664d0f3764584a06aa11804d70fe26d0",
            "c3d5c77420a04ea9ba740a42b952a2ba",
            "48e25f35e36a4201a046a250b65796b8",
            "9475264161c34081bc9e87c5331d3fb9",
            "314a99058f464ca9b61b7991c897a9ba",
            "8519c761b3f748eca8af7b5255586bef",
            "0931d36ff2cc4024a91238764415971c",
            "fea66b9a7e074846b28fc96039651b0c"
          ]
        },
        "id": "RquTUcBipo8-",
        "outputId": "f822fd8b-91a4-4ee1-94d1-309505eb7bf9"
      },
      "execution_count": 29,
      "outputs": [
        {
          "output_type": "display_data",
          "data": {
            "text/plain": [
              "Map:   0%|          | 0/12 [00:00<?, ? examples/s]"
            ],
            "application/vnd.jupyter.widget-view+json": {
              "version_major": 2,
              "version_minor": 0,
              "model_id": "3747c39c7f7c459ebd0bb6761658466a"
            }
          },
          "metadata": {}
        }
      ]
    },
    {
      "cell_type": "markdown",
      "source": [
        "Ajustar el modelo mediante entrenamiento:"
      ],
      "metadata": {
        "id": "c51J1Zouprju"
      }
    },
    {
      "cell_type": "code",
      "source": [
        "training_args = TrainingArguments(\n",
        "    output_dir=\"./results\",\n",
        "    num_train_epochs=3,\n",
        "    per_device_train_batch_size=4,\n",
        "    learning_rate=2e-5,\n",
        "    weight_decay=0.01,\n",
        "    save_strategy=\"epoch\",\n",
        "    report_to=\"none\"\n",
        ")\n",
        "\n",
        "# 6. Crear y ejecutar el entrenamiento\n",
        "trainer = Trainer(\n",
        "    model=model,\n",
        "    args=training_args,\n",
        "    train_dataset=tokenized_dataset,\n",
        ")\n",
        "\n",
        "# Entrenar el modelo\n",
        "trainer.train()\n"
      ],
      "metadata": {
        "colab": {
          "base_uri": "https://localhost:8080/",
          "height": 110
        },
        "id": "n_sIsIClptFZ",
        "outputId": "e9410f4e-1b0d-417e-d399-3a26da523d6a"
      },
      "execution_count": 30,
      "outputs": [
        {
          "output_type": "display_data",
          "data": {
            "text/plain": [
              "<IPython.core.display.HTML object>"
            ],
            "text/html": [
              "\n",
              "    <div>\n",
              "      \n",
              "      <progress value='9' max='9' style='width:300px; height:20px; vertical-align: middle;'></progress>\n",
              "      [9/9 00:57, Epoch 3/3]\n",
              "    </div>\n",
              "    <table border=\"1\" class=\"dataframe\">\n",
              "  <thead>\n",
              " <tr style=\"text-align: left;\">\n",
              "      <th>Step</th>\n",
              "      <th>Training Loss</th>\n",
              "    </tr>\n",
              "  </thead>\n",
              "  <tbody>\n",
              "  </tbody>\n",
              "</table><p>"
            ]
          },
          "metadata": {}
        },
        {
          "output_type": "execute_result",
          "data": {
            "text/plain": [
              "TrainOutput(global_step=9, training_loss=0.18142472373114693, metrics={'train_runtime': 61.1231, 'train_samples_per_second': 0.589, 'train_steps_per_second': 0.147, 'total_flos': 148001297472.0, 'train_loss': 0.18142472373114693, 'epoch': 3.0})"
            ]
          },
          "metadata": {},
          "execution_count": 30
        }
      ]
    },
    {
      "cell_type": "markdown",
      "source": [
        "Probar el modelo ajustado:"
      ],
      "metadata": {
        "id": "HMJDDerCqApH"
      }
    },
    {
      "cell_type": "code",
      "source": [
        "def predict_sentiment(text):\n",
        "    inputs = tokenizer(text, return_tensors=\"pt\", padding=True, truncation=True)\n",
        "    outputs = model(**inputs)\n",
        "    probabilities = torch.nn.functional.softmax(outputs.logits, dim=1)\n",
        "    prediction = torch.argmax(probabilities, dim=1).item()\n",
        "    confidence = torch.max(probabilities).item()\n",
        "\n",
        "    # Mapear predicción a etiqueta\n",
        "    sentiment_map = {0: \"NEG\", 1: \"NEU\", 2: \"POS\"}\n",
        "    sentiment = sentiment_map[prediction]\n",
        "\n",
        "    return sentiment, confidence\n",
        "\n",
        "# Probar con nuevas frases\n",
        "test_sentences = [\n",
        "    \"La película fue increíble\",\n",
        "    \"El servicio al cliente fue deficiente\",\n",
        "    \"No me gustó nada la experiencia\",\n",
        "    \"La comida estaba bien, normal\",\n",
        "    \"El producto cumple con lo esperado\"\n",
        "]\n",
        "\n",
        "print(\"\\n=== Probando el modelo ajustado ===\")\n",
        "for sentence in test_sentences:\n",
        "    sentiment, confidence = predict_sentiment(sentence)\n",
        "    print(f\"\\nFrase: '{sentence}'\")\n",
        "    print(f\"Sentimiento: {sentiment}\")\n",
        "    print(f\"Confianza: {confidence:.4f}\")"
      ],
      "metadata": {
        "colab": {
          "base_uri": "https://localhost:8080/"
        },
        "id": "-19xzqmSqEy8",
        "outputId": "15a6b8b1-f972-48ac-9bc0-684fa8d758cf"
      },
      "execution_count": 31,
      "outputs": [
        {
          "output_type": "stream",
          "name": "stdout",
          "text": [
            "\n",
            "=== Probando el modelo ajustado ===\n",
            "\n",
            "Frase: 'La película fue increíble'\n",
            "Sentimiento: POS\n",
            "Confianza: 0.9984\n",
            "\n",
            "Frase: 'El servicio al cliente fue deficiente'\n",
            "Sentimiento: NEG\n",
            "Confianza: 0.9990\n",
            "\n",
            "Frase: 'No me gustó nada la experiencia'\n",
            "Sentimiento: NEG\n",
            "Confianza: 0.9993\n",
            "\n",
            "Frase: 'La comida estaba bien, normal'\n",
            "Sentimiento: NEU\n",
            "Confianza: 0.9929\n",
            "\n",
            "Frase: 'El producto cumple con lo esperado'\n",
            "Sentimiento: POS\n",
            "Confianza: 0.9928\n"
          ]
        }
      ]
    }
  ]
}