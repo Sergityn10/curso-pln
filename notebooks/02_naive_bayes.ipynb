{
  "nbformat": 4,
  "nbformat_minor": 0,
  "metadata": {
    "colab": {
      "provenance": [],
      "authorship_tag": "ABX9TyMWgd4IfqKvYsURQ4TrNsg9",
      "include_colab_link": true
    },
    "kernelspec": {
      "name": "python3",
      "display_name": "Python 3"
    },
    "language_info": {
      "name": "python"
    }
  },
  "cells": [
    {
      "cell_type": "markdown",
      "metadata": {
        "id": "view-in-github",
        "colab_type": "text"
      },
      "source": [
        "<a href=\"https://colab.research.google.com/github/cbadenes/curso-pln/blob/main/notebooks/02_naive_bayes.ipynb\" target=\"_parent\"><img src=\"https://colab.research.google.com/assets/colab-badge.svg\" alt=\"Open In Colab\"/></a>"
      ]
    },
    {
      "cell_type": "markdown",
      "source": [
        "# Clasificación de Reseñas de Restaurantes usando Naive Bayes\n",
        "\n",
        "Este notebook demuestra cómo implementar un clasificador Naive Bayes para categorizar reseñas de restaurantes según su valoración."
      ],
      "metadata": {
        "id": "U6G4V4qYHtuO"
      }
    },
    {
      "cell_type": "markdown",
      "source": [
        "## 1. Configuración del Entorno"
      ],
      "metadata": {
        "id": "D8jOPD01HycL"
      }
    },
    {
      "cell_type": "code",
      "execution_count": null,
      "metadata": {
        "id": "TNKJiCuHHsGR"
      },
      "outputs": [],
      "source": [
        "# Importar bibliotecas necesarias\n",
        "import json\n",
        "import pandas as pd\n",
        "import numpy as np\n",
        "from collections import Counter, defaultdict\n",
        "import requests\n",
        "import matplotlib.pyplot as plt"
      ]
    },
    {
      "cell_type": "markdown",
      "source": [
        "## 2. Cargar y Preparar los Datos"
      ],
      "metadata": {
        "id": "USHNnjBvH11-"
      }
    },
    {
      "cell_type": "code",
      "source": [
        "# Cargar datos desde GitHub\n",
        "url = \"https://raw.githubusercontent.com/cbadenes/curso-pln/main/datasets/valoraciones_restaurante.json\"\n",
        "response = requests.get(url)\n",
        "data = response.json()\n",
        "df = pd.DataFrame(data['reviews'])\n",
        "\n",
        "print(\"Muestra de reseñas:\")\n",
        "print(df.head())\n",
        "\n"
      ],
      "metadata": {
        "colab": {
          "base_uri": "https://localhost:8080/"
        },
        "id": "cWUMnHqcH4fp",
        "outputId": "4d720522-4263-43a9-c292-ed0bf8ed72ab"
      },
      "execution_count": null,
      "outputs": [
        {
          "output_type": "stream",
          "name": "stdout",
          "text": [
            "Muestra de reseñas:\n",
            "   id  rating                                               text\n",
            "0   1       2  Bistró La Maison: El arroz negro estaba defici...\n",
            "1   2       1  Mesón Las Grande: El entrecot estaba mediocre....\n",
            "2   3       5  Vinoteca Luna Nuevo: Los macarrones estaba inc...\n",
            "3   4       5  Asador La Moderno: La lubina estaba fantástico...\n",
            "4   5       3  Tasca Mar Real: El arroz negro estaba aceptabl...\n"
          ]
        }
      ]
    },
    {
      "cell_type": "code",
      "source": [
        "def procesar_texto(texto):\n",
        "    return texto.lower().split()\n",
        "\n",
        "def simplificar_rating(rating):\n",
        "    if rating <= 2:\n",
        "        return 'negativo'\n",
        "    elif rating == 3:\n",
        "        return 'neutral'\n",
        "    else:\n",
        "        return 'positivo'\n",
        "\n",
        "# Aplicar procesamiento de texto y simplificación de ratings\n",
        "df['palabras'] = df['text'].apply(procesar_texto)\n",
        "df['sentimiento'] = df['rating'].apply(simplificar_rating)\n",
        "\n",
        "print(\"\\nDistribución de valoraciones:\")\n",
        "print(df['rating'].value_counts().sort_index())\n",
        "\n",
        "print(\"\\nDistribución de sentimientos:\")\n",
        "print(df['sentimiento'].value_counts())\n"
      ],
      "metadata": {
        "id": "2Mu2UIiB1xnt",
        "outputId": "4fa30bb1-4a0c-4bf2-c72c-86c6b83dbc05",
        "colab": {
          "base_uri": "https://localhost:8080/"
        }
      },
      "execution_count": null,
      "outputs": [
        {
          "output_type": "stream",
          "name": "stdout",
          "text": [
            "\n",
            "Distribución de valoraciones:\n",
            "rating\n",
            "1     6\n",
            "2    19\n",
            "3    24\n",
            "4    26\n",
            "5    25\n",
            "Name: count, dtype: int64\n",
            "\n",
            "Distribución de sentimientos:\n",
            "sentimiento\n",
            "positivo    51\n",
            "negativo    25\n",
            "neutral     24\n",
            "Name: count, dtype: int64\n"
          ]
        }
      ]
    },
    {
      "cell_type": "markdown",
      "source": [
        "## 3. Dividir los datos"
      ],
      "metadata": {
        "id": "f6SfCJfyLKom"
      }
    },
    {
      "cell_type": "code",
      "source": [
        "from sklearn.model_selection import train_test_split\n",
        "\n",
        "def dividir_datos(df, train_size=0.7, val_size=0.15):\n",
        "    \"\"\"\n",
        "    Divide los datos en conjuntos de entrenamiento, validación y test\n",
        "    usando scikit-learn.\n",
        "    \"\"\"\n",
        "    # Primer split: separar el conjunto de entrenamiento\n",
        "    train_data, temp_data = train_test_split(\n",
        "        df,\n",
        "        train_size=train_size,\n",
        "        random_state=42\n",
        "    )\n",
        "\n",
        "    # Segundo split: separar validación y test del resto\n",
        "    val_ratio = val_size / (1 - train_size)\n",
        "    val_data, test_data = train_test_split(\n",
        "        temp_data,\n",
        "        train_size=val_ratio,\n",
        "        random_state=42\n",
        "    )\n",
        "\n",
        "    # Mostrar información sobre la división\n",
        "    print(\"Tamaño de los conjuntos:\")\n",
        "    print(f\"Entrenamiento: {len(train_data)} reseñas\")\n",
        "    print(f\"Validación: {len(val_data)} reseñas\")\n",
        "    print(f\"Test: {len(test_data)} reseñas\")\n",
        "\n",
        "    print(\"\\nDistribución de categorías:\")\n",
        "    print(\"\\nEntrenamiento:\")\n",
        "    print(train_data['sentimiento'].value_counts())\n",
        "    print(\"\\nValidación:\")\n",
        "    print(val_data['sentimiento'].value_counts())\n",
        "    print(\"\\nTest:\")\n",
        "    print(test_data['sentimiento'].value_counts())\n",
        "\n",
        "    return train_data, val_data, test_data\n",
        "\n",
        "# Dividir los datos\n",
        "train_data, val_data, test_data = dividir_datos(df)"
      ],
      "metadata": {
        "colab": {
          "base_uri": "https://localhost:8080/"
        },
        "id": "gMk3GSy3PZzw",
        "outputId": "7898a3e4-b87d-41aa-9cdf-02fc37570258"
      },
      "execution_count": null,
      "outputs": [
        {
          "output_type": "stream",
          "name": "stdout",
          "text": [
            "Tamaño de los conjuntos:\n",
            "Entrenamiento: 70 reseñas\n",
            "Validación: 14 reseñas\n",
            "Test: 16 reseñas\n",
            "\n",
            "Distribución de categorías:\n",
            "\n",
            "Entrenamiento:\n",
            "sentimiento\n",
            "positivo    36\n",
            "negativo    18\n",
            "neutral     16\n",
            "Name: count, dtype: int64\n",
            "\n",
            "Validación:\n",
            "sentimiento\n",
            "positivo    6\n",
            "neutral     5\n",
            "negativo    3\n",
            "Name: count, dtype: int64\n",
            "\n",
            "Test:\n",
            "sentimiento\n",
            "positivo    9\n",
            "negativo    4\n",
            "neutral     3\n",
            "Name: count, dtype: int64\n"
          ]
        }
      ]
    },
    {
      "cell_type": "markdown",
      "source": [
        "## 3. Crear Vocabulario"
      ],
      "metadata": {
        "id": "jHoqTq7XINK1"
      }
    },
    {
      "cell_type": "code",
      "source": [
        "def crear_diccionario(textos):\n",
        "    \"\"\"\n",
        "    Crea un diccionario con todas las palabras únicas en los textos\n",
        "    \"\"\"\n",
        "    todas_palabras = []\n",
        "\n",
        "    for texto in textos:\n",
        "        palabras = procesar_texto(texto)\n",
        "        todas_palabras.extend(palabras)\n",
        "\n",
        "    vocabulario = sorted(list(set(todas_palabras)))\n",
        "\n",
        "    print(f\"Tamaño del vocabulario: {len(vocabulario)} palabras\")\n",
        "    print(\"\\nPrimeras 10 palabras del vocabulario:\")\n",
        "    print(vocabulario[:10])\n",
        "\n",
        "    return vocabulario\n",
        "\n",
        "# Crear vocabulario\n",
        "vocabulario = crear_diccionario(train_data['text'])"
      ],
      "metadata": {
        "colab": {
          "base_uri": "https://localhost:8080/"
        },
        "id": "s0_aKijCIQYF",
        "outputId": "237a99e0-4356-4fa7-b9ca-1f907e253b88"
      },
      "execution_count": null,
      "outputs": [
        {
          "output_type": "stream",
          "name": "stdout",
          "text": [
            "Tamaño del vocabulario: 159 palabras\n",
            "\n",
            "Primeras 10 palabras del vocabulario:\n",
            "['aceptable.', 'acogedor', 'altos', 'ambiente', 'antigua', 'antiguo:', 'aroma', 'arroz', 'asador', 'aspectos.']\n"
          ]
        }
      ]
    },
    {
      "cell_type": "markdown",
      "source": [
        "## 4. Contar Frecuencias de Palabras por Categoría\n",
        "\n"
      ],
      "metadata": {
        "id": "fb82HcA4IdMp"
      }
    },
    {
      "cell_type": "code",
      "source": [
        "def contar_palabras_por_categoria(textos, categorias):\n",
        "    \"\"\"\n",
        "    Cuenta la frecuencia de cada palabra para cada categoría\n",
        "    \"\"\"\n",
        "    conteo_por_categoria = defaultdict(Counter)\n",
        "\n",
        "    for texto, categoria in zip(textos, categorias):\n",
        "        palabras = procesar_texto(texto)\n",
        "        conteo_por_categoria[categoria].update(palabras)\n",
        "\n",
        "    return conteo_por_categoria\n",
        "\n",
        "# Contar palabras por categoría\n",
        "conteos = contar_palabras_por_categoria(train_data['text'], train_data['sentimiento'])\n",
        "\n",
        "# Mostrar las palabras más comunes por categoría\n",
        "for categoria in conteos:\n",
        "    print(f\"\\nPalabras más comunes en reseñas {categoria}s:\")\n",
        "    print(conteos[categoria].most_common(10))"
      ],
      "metadata": {
        "colab": {
          "base_uri": "https://localhost:8080/"
        },
        "id": "BXeNdUSKIQYp",
        "outputId": "2b2c0755-cc3d-4359-82d2-ac4cc92e001d"
      },
      "execution_count": null,
      "outputs": [
        {
          "output_type": "stream",
          "name": "stdout",
          "text": [
            "\n",
            "Palabras más comunes en reseñas positivos:\n",
            "[('el', 50), ('estaba', 45), ('la', 37), ('definitivamente', 36), ('volveremos.', 36), ('muy', 29), ('fue', 21), ('los', 21), ('y', 16), ('es', 14)]\n",
            "\n",
            "Palabras más comunes en reseñas negativos:\n",
            "[('la', 24), ('el', 19), ('estaba', 18), ('no', 18), ('lo', 18), ('recomendamos.', 18), ('los', 14), ('muy', 9), ('fue', 7), ('carta', 6)]\n",
            "\n",
            "Palabras más comunes en reseñas neutrals:\n",
            "[('el', 26), ('estaba', 19), ('aceptable.', 16), ('podría', 16), ('mejorar', 16), ('en', 16), ('varios', 16), ('aspectos.', 16), ('la', 16), ('muy', 12)]\n"
          ]
        }
      ]
    },
    {
      "cell_type": "markdown",
      "source": [
        "## 5. Calcular Probabilidades ( Naive-Bayes )"
      ],
      "metadata": {
        "id": "ORzbVcVzIkf-"
      }
    },
    {
      "cell_type": "code",
      "source": [
        "def calcular_probabilidades(conteos, vocabulario):\n",
        "    \"\"\"\n",
        "    Calcula las probabilidades de cada palabra para cada categoría\n",
        "    usando el principio de Naive Bayes con suavizado Laplace\n",
        "    \"\"\"\n",
        "    probabilidades = defaultdict(dict)\n",
        "\n",
        "    # Para cada categoría\n",
        "    for categoria in conteos:\n",
        "        total_palabras = sum(conteos[categoria].values()) + len(vocabulario)\n",
        "\n",
        "        # Calcular probabilidad para cada palabra\n",
        "        for palabra in vocabulario:\n",
        "            # Suavizado Laplace: añadir 1 al conteo\n",
        "            conteo = conteos[categoria][palabra] + 1\n",
        "            probabilidades[categoria][palabra] = conteo / total_palabras\n",
        "\n",
        "    return probabilidades\n",
        "\n",
        "# Calcular probabilidades\n",
        "prob_palabras = calcular_probabilidades(conteos, vocabulario)\n",
        "\n",
        "# Mostrar ejemplos de probabilidades\n",
        "print(\"\\nEjemplos de probabilidades:\")\n",
        "palabras_ejemplo = ['impecable', 'personal', 'lento']\n",
        "for palabra in palabras_ejemplo:\n",
        "    print(f\"\\nProbabilidades para '{palabra}':\")\n",
        "    for categoria in prob_palabras:\n",
        "        print(f\"{categoria}: {prob_palabras[categoria].get(palabra, 0):.4f}\")"
      ],
      "metadata": {
        "colab": {
          "base_uri": "https://localhost:8080/"
        },
        "id": "ZSxxGxVbInV0",
        "outputId": "3707f733-77eb-40e7-8bf5-3f96ee355353"
      },
      "execution_count": null,
      "outputs": [
        {
          "output_type": "stream",
          "name": "stdout",
          "text": [
            "\n",
            "Ejemplos de probabilidades:\n",
            "\n",
            "Probabilidades para 'impecable':\n",
            "positivo: 0.0078\n",
            "negativo: 0.0019\n",
            "neutral: 0.0038\n",
            "\n",
            "Probabilidades para 'personal':\n",
            "positivo: 0.0112\n",
            "negativo: 0.0057\n",
            "neutral: 0.0075\n",
            "\n",
            "Probabilidades para 'lento':\n",
            "positivo: 0.0011\n",
            "negativo: 0.0076\n",
            "neutral: 0.0019\n"
          ]
        }
      ]
    },
    {
      "cell_type": "markdown",
      "source": [
        "## 6. Clasificar Nuevas Reseñas"
      ],
      "metadata": {
        "id": "U_6ZyRnHIyz_"
      }
    },
    {
      "cell_type": "code",
      "source": [
        "def clasificar_texto(texto, prob_palabras, prob_categorias):\n",
        "    \"\"\"\n",
        "    Clasifica un nuevo texto usando las probabilidades calculadas\n",
        "    \"\"\"\n",
        "    # Convertir texto a minúsculas y dividir en palabras\n",
        "    palabras = procesar_texto(texto)\n",
        "\n",
        "    # Calcular probabilidad para cada categoría\n",
        "    scores = {}\n",
        "    for categoria in prob_palabras:\n",
        "        # Comenzar con el logaritmo de la probabilidad de la categoría\n",
        "        score = np.log(prob_categorias[categoria])\n",
        "\n",
        "        # Multiplicar por las probabilidades de cada palabra (sumar logaritmos)\n",
        "        for palabra in palabras:\n",
        "            if palabra in prob_palabras[categoria]:\n",
        "                score += np.log(prob_palabras[categoria][palabra])\n",
        "\n",
        "        scores[categoria] = score\n",
        "\n",
        "    # Encontrar la categoría con mayor probabilidad\n",
        "    return max(scores.items(), key=lambda x: x[1])[0]\n",
        "\n",
        "# Calcular probabilidades previas de cada categoría\n",
        "total_reviews = len(train_data)\n",
        "prob_categorias = {\n",
        "    categoria: len(train_data[train_data['sentimiento'] == categoria]) / total_reviews\n",
        "    for categoria in conteos.keys()\n",
        "}\n",
        "\n",
        "# Ejemplo de uso\n",
        "nueva_resena = \"\"\"\n",
        "Restaurante Prueba: La comida estaba deliciosa y el servicio fue excelente.\n",
        "Los precios son muy razonables.\n",
        "\"\"\"\n",
        "\n",
        "prediccion = clasificar_texto(nueva_resena, prob_palabras, prob_categorias)\n",
        "print(f\"\\nReseña de prueba:\\n{nueva_resena}\")\n",
        "print(f\"Predicción: {prediccion}\")"
      ],
      "metadata": {
        "colab": {
          "base_uri": "https://localhost:8080/"
        },
        "id": "Rn4qlI4iJ8BU",
        "outputId": "41049709-0cee-4110-a194-176e4d668dd0"
      },
      "execution_count": null,
      "outputs": [
        {
          "output_type": "stream",
          "name": "stdout",
          "text": [
            "\n",
            "Reseña de prueba:\n",
            "\n",
            "Restaurante Prueba: La comida estaba deliciosa y el servicio fue excelente.\n",
            "Los precios son muy razonables.\n",
            "\n",
            "Predicción: positivo\n"
          ]
        }
      ]
    },
    {
      "cell_type": "markdown",
      "source": [
        "## 7. Evaluación"
      ],
      "metadata": {
        "id": "xbd27f3lKUy1"
      }
    },
    {
      "cell_type": "code",
      "source": [
        "import seaborn as sns\n",
        "def evaluar_modelo(df, prob_palabras, prob_categorias):\n",
        "    \"\"\"\n",
        "    Evalúa el modelo y genera una matriz de confusión\n",
        "    \"\"\"\n",
        "    # Listas para almacenar predicciones y valores reales\n",
        "    predicciones = []\n",
        "    reales = []\n",
        "\n",
        "    # Realizar predicciones\n",
        "    for _, row in df.iterrows():\n",
        "        prediccion = clasificar_texto(row['text'], prob_palabras, prob_categorias)\n",
        "        predicciones.append(prediccion)\n",
        "        reales.append(row['sentimiento'])\n",
        "\n",
        "    # Calcular precisión global\n",
        "    aciertos = sum(1 for p, r in zip(predicciones, reales) if p == r)\n",
        "    precision = aciertos / len(df)\n",
        "    print(f\"Precisión del modelo: {precision:.2%}\")\n",
        "\n",
        "    # Crear matriz de confusión\n",
        "    categorias = sorted(list(set(reales)))  # ['negativo', 'neutral', 'positivo']\n",
        "    matriz_confusion = np.zeros((len(categorias), len(categorias)))\n",
        "\n",
        "    # Llenar la matriz de confusión\n",
        "    for real, pred in zip(reales, predicciones):\n",
        "        i = categorias.index(real)\n",
        "        j = categorias.index(pred)\n",
        "        matriz_confusion[i][j] += 1\n",
        "\n",
        "    # Visualizar matriz de confusión\n",
        "    plt.figure(figsize=(10, 8))\n",
        "    sns.heatmap(matriz_confusion,\n",
        "                annot=True,\n",
        "                fmt='g',\n",
        "                cmap='Blues',\n",
        "                xticklabels=categorias,\n",
        "                yticklabels=categorias)\n",
        "    plt.title('Matriz de Confusión')\n",
        "    plt.ylabel('Valor Real')\n",
        "    plt.xlabel('Predicción')\n",
        "    plt.show()\n",
        "\n",
        "    # Calcular métricas por categoría\n",
        "    print(\"\\nMétricas por categoría:\")\n",
        "    for i, categoria in enumerate(categorias):\n",
        "        # Verdaderos positivos\n",
        "        tp = matriz_confusion[i][i]\n",
        "        # Falsos positivos (suma de la columna - verdaderos positivos)\n",
        "        fp = matriz_confusion[:, i].sum() - tp\n",
        "        # Falsos negativos (suma de la fila - verdaderos positivos)\n",
        "        fn = matriz_confusion[i, :].sum() - tp\n",
        "\n",
        "        # Calcular precisión y recall\n",
        "        precision_cat = tp / (tp + fp) if (tp + fp) > 0 else 0\n",
        "        recall_cat = tp / (tp + fn) if (tp + fn) > 0 else 0\n",
        "        f1 = 2 * (precision_cat * recall_cat) / (precision_cat + recall_cat) if (precision_cat + recall_cat) > 0 else 0\n",
        "\n",
        "        print(f\"\\nCategoría: {categoria}\")\n",
        "        print(f\"Precisión: {precision_cat:.2%}\")\n",
        "        print(f\"Recall: {recall_cat:.2%}\")\n",
        "        print(f\"F1-Score: {f1:.2%}\")\n",
        "\n",
        "# Evaluar el modelo\n",
        "evaluar_modelo(test_data, prob_palabras, prob_categorias)"
      ],
      "metadata": {
        "colab": {
          "base_uri": "https://localhost:8080/",
          "height": 1000
        },
        "id": "csU73KWxKXXP",
        "outputId": "1612ecfb-1263-4b0e-a113-728d5edb23c1"
      },
      "execution_count": null,
      "outputs": [
        {
          "output_type": "stream",
          "name": "stdout",
          "text": [
            "Precisión del modelo: 100.00%\n"
          ]
        },
        {
          "output_type": "display_data",
          "data": {
            "text/plain": [
              "<Figure size 1000x800 with 2 Axes>"
            ],
            "image/png": "[encoded data removed]"
          },
          "metadata": {}
        },
        {
          "output_type": "stream",
          "name": "stdout",
          "text": [
            "\n",
            "Métricas por categoría:\n",
            "\n",
            "Categoría: negativo\n",
            "Precisión: 100.00%\n",
            "Recall: 100.00%\n",
            "F1-Score: 100.00%\n",
            "\n",
            "Categoría: neutral\n",
            "Precisión: 100.00%\n",
            "Recall: 100.00%\n",
            "F1-Score: 100.00%\n",
            "\n",
            "Categoría: positivo\n",
            "Precisión: 100.00%\n",
            "Recall: 100.00%\n",
            "F1-Score: 100.00%\n"
          ]
        }
      ]
    },
    {
      "cell_type": "markdown",
      "source": [
        "## 9. Reseñas Ambiguas\n",
        "\n",
        "Para hacer el problema más realista y desafiante, podemos modificar algunas reseñas para que sean más ambiguas o contengan sentimientos mezclados. Aquí hay algunos ejemplos de reseñas que podríamos añadir al dataset:"
      ],
      "metadata": {
        "id": "28E2hTh7P5j_"
      }
    },
    {
      "cell_type": "code",
      "source": [
        "reseñas_ambiguas = [\n",
        "    {\n",
        "        \"id\": 101,\n",
        "        \"rating\": 4,\n",
        "        \"text\": \"Restaurante La Paradoja: La comida estaba fría y mal presentada, pero los sabores eran extraordinarios y el chef se disculpó personalmente. Los precios son altos pero vale la pena por la originalidad de los platos.\"\n",
        "    },\n",
        "    {\n",
        "        \"id\": 102,\n",
        "        \"rating\": 2,\n",
        "        \"text\": \"Bistró El Contraste: El servicio fue impecable y el local es precioso, pero la calidad de la comida fue terrible. A pesar del ambiente maravilloso, no podemos dar más que una mala valoración por lo principal: la comida.\"\n",
        "    },\n",
        "    {\n",
        "        \"id\": 103,\n",
        "        \"rating\": 3,\n",
        "        \"text\": \"Cafetería La Duda: Los pasteles son exquisitos y el café horrible. El personal es amable pero extremadamente lento. El local está limpio pero necesita renovación. No sé si recomendarlo o no.\"\n",
        "    },\n",
        "    {\n",
        "        \"id\": 104,\n",
        "        \"rating\": 5,\n",
        "        \"text\": \"Bar El Misterio: El local es pequeño y ruidoso, el servicio algo lento, pero la comida es tan espectacular que compensa todo lo demás. Los precios son excesivos aunque repetiremos sin duda.\"\n",
        "    },\n",
        "    {\n",
        "        \"id\": 105,\n",
        "        \"rating\": 1,\n",
        "        \"text\": \"Restaurante La Confusión: A pesar de la excelente ubicación y la decoración elegante, todo lo demás fue un desastre. Ni siquiera los precios económicos compensan la pésima experiencia.\"\n",
        "    }\n",
        "]\n",
        "\n",
        "# Crear DataFrame con las reseñas ambiguas\n",
        "df_ambiguo = pd.DataFrame(reseñas_ambiguas)\n",
        "\n",
        "# Asegurarnos de que tiene la misma estructura que el DataFrame original\n",
        "df_ambiguo['sentimiento'] = df_ambiguo['rating'].apply(simplificar_rating)\n",
        "\n",
        "print(\"Distribución de ratings en reseñas ambiguas:\")\n",
        "print(df_ambiguo['rating'].value_counts().sort_index())\n",
        "print(\"\\nDistribución de sentimientos:\")\n",
        "print(df_ambiguo['sentimiento'].value_counts())"
      ],
      "metadata": {
        "colab": {
          "base_uri": "https://localhost:8080/"
        },
        "id": "7x-klCsNQC-2",
        "outputId": "df5d8662-e6a9-49e1-be19-164ed7c83abb"
      },
      "execution_count": null,
      "outputs": [
        {
          "output_type": "stream",
          "name": "stdout",
          "text": [
            "Distribución de ratings en reseñas ambiguas:\n",
            "rating\n",
            "1    1\n",
            "2    1\n",
            "3    1\n",
            "4    1\n",
            "5    1\n",
            "Name: count, dtype: int64\n",
            "\n",
            "Distribución de sentimientos:\n",
            "sentimiento\n",
            "positivo    2\n",
            "negativo    2\n",
            "neutral     1\n",
            "Name: count, dtype: int64\n"
          ]
        }
      ]
    },
    {
      "cell_type": "markdown",
      "source": [
        "## 10. Evaluar Reseñas Ambiguas"
      ],
      "metadata": {
        "id": "ZMMiB4xQQjpj"
      }
    },
    {
      "cell_type": "code",
      "source": [
        "# Evaluar el modelo en las reseñas ambiguas\n",
        "print(\"\\nEvaluación del modelo en reseñas ambiguas:\")\n",
        "evaluar_modelo(df_ambiguo, prob_palabras, prob_categorias)"
      ],
      "metadata": {
        "colab": {
          "base_uri": "https://localhost:8080/",
          "height": 1000
        },
        "id": "k_33Vk3NQnb9",
        "outputId": "bf9dfae0-c0b8-4b74-c66b-b2856093944f"
      },
      "execution_count": null,
      "outputs": [
        {
          "output_type": "stream",
          "name": "stdout",
          "text": [
            "\n",
            "Evaluación del modelo en reseñas ambiguas:\n",
            "Precisión del modelo: 40.00%\n"
          ]
        },
        {
          "output_type": "display_data",
          "data": {
            "text/plain": [
              "<Figure size 1000x800 with 2 Axes>"
            ],
            "image/png": "[encoded data removed]"
          },
          "metadata": {}
        },
        {
          "output_type": "stream",
          "name": "stdout",
          "text": [
            "\n",
            "Métricas por categoría:\n",
            "\n",
            "Categoría: negativo\n",
            "Precisión: 40.00%\n",
            "Recall: 100.00%\n",
            "F1-Score: 57.14%\n",
            "\n",
            "Categoría: neutral\n",
            "Precisión: 0.00%\n",
            "Recall: 0.00%\n",
            "F1-Score: 0.00%\n",
            "\n",
            "Categoría: positivo\n",
            "Precisión: 0.00%\n",
            "Recall: 0.00%\n",
            "F1-Score: 0.00%\n"
          ]
        }
      ]
    }
  ]
}