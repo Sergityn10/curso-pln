{
 "cells": [
  {
   "metadata": {},
   "cell_type": "markdown",
   "source": "## Traducción de Inglés a Sindarin",
   "id": "3bb8d98c335e60cf"
  },
  {
   "metadata": {},
   "cell_type": "markdown",
   "source": "En este notebook vamos a entrenar los modelos Marian y T5 para que aprendan el lenguaje Sindarin. Para ellos, podemos",
   "id": "8d86d73a3c635a40"
  },
  {
   "metadata": {
    "ExecuteTime": {
     "end_time": "2025-01-19T18:33:16.091693Z",
     "start_time": "2025-01-19T18:33:15.865757Z"
    }
   },
   "cell_type": "code",
   "source": [
    "from huggingface_hub import login\n",
    "\n",
    "token = \"\"\n",
    "print(\"Hugging Face logging\")\n",
    "login(token)"
   ],
   "id": "c7ef07d4f39043fc",
   "outputs": [
    {
     "name": "stdout",
     "output_type": "stream",
     "text": [
      "Hugging Face logging\n"
     ]
    }
   ],
   "execution_count": 15
  },
  {
   "metadata": {
    "ExecuteTime": {
     "end_time": "2025-01-19T18:33:16.105199Z",
     "start_time": "2025-01-19T18:33:16.099970Z"
    }
   },
   "cell_type": "code",
   "source": [
    "import torch\n",
    "device_setup = \"cuda\" if torch.cuda.is_available() else \"cpu\"\n",
    "print(\"Using: \", device_setup)\n",
    "\n",
    "import os\n",
    "os.environ[\"TOKENIZERS_PARALLELISM\"] = \"false\""
   ],
   "id": "e3348d3243251110",
   "outputs": [
    {
     "name": "stdout",
     "output_type": "stream",
     "text": [
      "Using:  cpu\n"
     ]
    }
   ],
   "execution_count": 16
  },
  {
   "metadata": {
    "ExecuteTime": {
     "end_time": "2025-01-19T18:33:16.131277Z",
     "start_time": "2025-01-19T18:33:16.128539Z"
    }
   },
   "cell_type": "code",
   "source": [
    "from libs.mts import T5MT, MarianMT\n",
    "from libs.mts import load_pretrained_t5, load_pretrained_marian_mt"
   ],
   "id": "e2e056e7d51f64e2",
   "outputs": [],
   "execution_count": 17
  },
  {
   "metadata": {},
   "cell_type": "markdown",
   "source": [
    "## Entrenamiento de un modelo desde 0\n",
    "\n"
   ],
   "id": "cd5d4f6b84c002ce"
  },
  {
   "metadata": {},
   "cell_type": "markdown",
   "source": "### Construcción de un dataset para el entrenamiento",
   "id": "f2eb72811223aeb9"
  },
  {
   "metadata": {},
   "cell_type": "markdown",
   "source": [
    "Lo primero a realizar es preparar un conjunto de entrenamiento y otro de evaluación para la tarea de traducir de Inglés a Sindarin, para maximizar las posibilidades de obtener buenos resultados vamos a realizar un entrenamiento y evaluación con overfit. Para ello, se proporciona la función `build_datasets()`  presente en el paquete `libs.lotr_ds_builder`.\n",
    "\n",
    "Prepare dos conjuntos de datos: `train_dataset` y `eval_dataset`. Pudiendo contener el segundo elementos del primero, en caso de obtener resultados demasiado buenos habría hacer dos conjuntos de datos disjuntos."
   ],
   "id": "815e27d9c73fb8ea"
  },
  {
   "metadata": {
    "ExecuteTime": {
     "end_time": "2025-01-19T18:33:16.997211Z",
     "start_time": "2025-01-19T18:33:16.144791Z"
    }
   },
   "cell_type": "code",
   "source": [
    "from libs.lotr_ds_builder import build_datasets\n",
    "from datasets import Dataset\n",
    "\n",
    "# DONE: Utilizar la función build_datasets() y generar un traing_dataset y test_dataset de Inglés a Sindarin\n",
    "train, test = build_datasets()\n",
    "train_dataset = train['Sindarin']\n",
    "test_dataset = test['Sindarin']\n",
    "\n",
    "# DONE: Cargar los datasets usando la clase Dataset\n",
    "train_dataset = Dataset.from_dict(train_dataset)\n",
    "eval_dataset = Dataset.from_dict(test_dataset)\n",
    "\n",
    "# DONE: Mostrar la primera frase, la utilizaremos para probar los modelos\n",
    "print(\">\", train_dataset['translation'][0])"
   ],
   "id": "f2edad9214d04b3b",
   "outputs": [
    {
     "name": "stdout",
     "output_type": "stream",
     "text": [
      "{'Sindarin': 163, 'Adûnaic': 28, 'Black Speech': 26, 'Quenya': 45, 'Rohirric': 19}\n",
      "{'Sindarin': 65, 'Rohirric': 18}\n",
      "> {'en': 'Who brings to us this token of darkness?', 'fo': 'Man ammen toltha i dann hen morn?'}\n"
     ]
    }
   ],
   "execution_count": 18
  },
  {
   "metadata": {},
   "cell_type": "markdown",
   "source": "## Entrenar un modelo MarianMT",
   "id": "6e7d3541bb8ff43a"
  },
  {
   "metadata": {
    "ExecuteTime": {
     "end_time": "2025-01-19T18:33:21.044468Z",
     "start_time": "2025-01-19T18:33:17.016717Z"
    }
   },
   "cell_type": "code",
   "source": [
    "from transformers import MarianMTModel, MarianTokenizer, MarianConfig\n",
    "\n",
    "# Crear configuración para un modelo Marian en blanco\n",
    "config = MarianConfig(\n",
    "    vocab_size=32000,\n",
    "    max_position_embeddings=512,\n",
    "    encoder_layers=6,\n",
    "    decoder_layers=6,\n",
    "    encoder_attention_heads=8,\n",
    "    decoder_attention_heads=8,\n",
    "    d_model=512,\n",
    "    d_ff=2048,\n",
    "    dropout=0.1,\n",
    "    pad_token_id=0,\n",
    "    eos_token_id=1,\n",
    "    bos_token_id=2,\n",
    ")\n",
    "\n",
    "# DONE: Crear el modelo MarianMT desde cero\n",
    "marian_model_tmp = MarianMTModel(config)\n",
    "\n",
    "# Cargar el tokenizador\n",
    "marian_tokenizer_tmp = MarianTokenizer.from_pretrained(\"Helsinki-NLP/opus-mt-en-es\")\n",
    "marian_model_tmp.resize_token_embeddings(len(marian_tokenizer_tmp))\n",
    "\n",
    "# Guardar el modelo\n",
    "marian_model_tmp.save_pretrained(\"./models/trained-marian-en-sindarin\")\n",
    "marian_tokenizer_tmp.save_pretrained(\"./models/trained-marian-en-sindarin\")\n",
    "\n",
    "# Escribir una función para cargar el modelo y tokenizador\n",
    "def load_trained_marian():\n",
    "    marian_model = MarianMTModel.from_pretrained(\"./models/trained-marian-en-sindarin\")\n",
    "    marian_tokenizer = MarianTokenizer.from_pretrained(\"./models/trained-marian-en-sindarin\")\n",
    "    return marian_model, marian_tokenizer"
   ],
   "id": "32164aad639c5b43",
   "outputs": [],
   "execution_count": 19
  },
  {
   "metadata": {
    "ExecuteTime": {
     "end_time": "2025-01-19T18:36:47.372399Z",
     "start_time": "2025-01-19T18:33:21.054003Z"
    }
   },
   "cell_type": "code",
   "source": [
    "from transformers import Trainer, TrainingArguments, DataCollatorForSeq2Seq\n",
    "\n",
    "training_args = TrainingArguments(\n",
    "    output_dir=\"./models/training/trained-marian-en-sindarin\",\n",
    "    eval_strategy=\"epoch\",\n",
    "    learning_rate=2e-4,\n",
    "    per_device_train_batch_size=10,\n",
    "    gradient_accumulation_steps=4,\n",
    "    num_train_epochs=10,\n",
    "    weight_decay=0.01,\n",
    "    logging_strategy=\"steps\",\n",
    "    logging_steps=100,\n",
    "    logging_dir='./logs',\n",
    "    report_to=\"none\"\n",
    ")\n",
    "\n",
    "marian_model_trained, marian_tokenizer_trained = load_trained_marian()\n",
    "\n",
    "def preprocess_function(examples):\n",
    "    global marian_tokenizer_trained\n",
    "    inputs_lang = [example['en'] for example in examples['translation']]\n",
    "    targets_lang =  [example['fo'] for example in examples['translation']]\n",
    "\n",
    "    model_inputs = marian_tokenizer_trained(inputs_lang, text_target=targets_lang, max_length=128, truncation=True, padding=\"max_length\")\n",
    "    return model_inputs\n",
    "\n",
    "encoded_training_dataset = train_dataset.map(preprocess_function, batched=True)\n",
    "encoded_eval_dataset = eval_dataset.map(preprocess_function, batched=True)\n",
    "\n",
    "collator = DataCollatorForSeq2Seq(tokenizer=marian_tokenizer_trained, model=marian_model_trained)\n",
    "trainer = Trainer(\n",
    "    model=marian_model_trained,\n",
    "    args=training_args,\n",
    "    train_dataset=encoded_training_dataset,\n",
    "    eval_dataset=encoded_eval_dataset,\n",
    "    data_collator= collator\n",
    ")\n",
    "\n",
    "trainer.train()\n",
    "\n",
    "marian_model_trained.save_pretrained(\"./models/trained-marian-en-sindarin\")\n",
    "marian_tokenizer_trained.save_pretrained(\"./models/trained-marian-en-sindarin\")"
   ],
   "id": "6b50e19e80638d35",
   "outputs": [
    {
     "data": {
      "text/plain": [
       "Map:   0%|          | 0/163 [00:00<?, ? examples/s]"
      ],
      "application/vnd.jupyter.widget-view+json": {
       "version_major": 2,
       "version_minor": 0,
       "model_id": "eb9cb182b7434fa882ef5c75a4df9c49"
      }
     },
     "metadata": {},
     "output_type": "display_data"
    },
    {
     "data": {
      "text/plain": [
       "Map:   0%|          | 0/65 [00:00<?, ? examples/s]"
      ],
      "application/vnd.jupyter.widget-view+json": {
       "version_major": 2,
       "version_minor": 0,
       "model_id": "bf95d9f2b3154f9583df120ae52d21f6"
      }
     },
     "metadata": {},
     "output_type": "display_data"
    },
    {
     "data": {
      "text/plain": [
       "<IPython.core.display.HTML object>"
      ],
      "text/html": [
       "\n",
       "    <div>\n",
       "      \n",
       "      <progress value='40' max='40' style='width:300px; height:20px; vertical-align: middle;'></progress>\n",
       "      [40/40 03:18, Epoch 9/10]\n",
       "    </div>\n",
       "    <table border=\"1\" class=\"dataframe\">\n",
       "  <thead>\n",
       " <tr style=\"text-align: left;\">\n",
       "      <th>Epoch</th>\n",
       "      <th>Training Loss</th>\n",
       "      <th>Validation Loss</th>\n",
       "    </tr>\n",
       "  </thead>\n",
       "  <tbody>\n",
       "    <tr>\n",
       "      <td>0</td>\n",
       "      <td>No log</td>\n",
       "      <td>10.505916</td>\n",
       "    </tr>\n",
       "    <tr>\n",
       "      <td>1</td>\n",
       "      <td>No log</td>\n",
       "      <td>9.920702</td>\n",
       "    </tr>\n",
       "    <tr>\n",
       "      <td>2</td>\n",
       "      <td>No log</td>\n",
       "      <td>9.376151</td>\n",
       "    </tr>\n",
       "    <tr>\n",
       "      <td>4</td>\n",
       "      <td>No log</td>\n",
       "      <td>8.371985</td>\n",
       "    </tr>\n",
       "    <tr>\n",
       "      <td>5</td>\n",
       "      <td>No log</td>\n",
       "      <td>8.045220</td>\n",
       "    </tr>\n",
       "    <tr>\n",
       "      <td>6</td>\n",
       "      <td>No log</td>\n",
       "      <td>7.790345</td>\n",
       "    </tr>\n",
       "    <tr>\n",
       "      <td>8</td>\n",
       "      <td>No log</td>\n",
       "      <td>7.495367</td>\n",
       "    </tr>\n",
       "    <tr>\n",
       "      <td>9</td>\n",
       "      <td>No log</td>\n",
       "      <td>7.480723</td>\n",
       "    </tr>\n",
       "  </tbody>\n",
       "</table><p>"
      ]
     },
     "metadata": {},
     "output_type": "display_data"
    },
    {
     "data": {
      "text/plain": [
       "('./models/trained-marian-en-sindarin/tokenizer_config.json',\n",
       " './models/trained-marian-en-sindarin/special_tokens_map.json',\n",
       " './models/trained-marian-en-sindarin/vocab.json',\n",
       " './models/trained-marian-en-sindarin/added_tokens.json')"
      ]
     },
     "execution_count": 20,
     "metadata": {},
     "output_type": "execute_result"
    }
   ],
   "execution_count": 20
  },
  {
   "metadata": {},
   "cell_type": "markdown",
   "source": "Una vez entrenado el modelo usar el siguiente código para comprobar como traduce una frase del dataset:",
   "id": "d1fdee8d0c80d7f6"
  },
  {
   "metadata": {
    "ExecuteTime": {
     "end_time": "2025-01-19T18:36:51.521613Z",
     "start_time": "2025-01-19T18:36:47.416967Z"
    }
   },
   "cell_type": "code",
   "source": [
    "marian_model_trained = MarianMT(model_name=\"./models/trained-marian-en-sindarin\", cache_dir=\"./models/trained-marian-en-sindarin\")\n",
    "text = \"Who brings to us this token of darkness?\"\n",
    "translated_text = marian_model_trained.translate(text)\n",
    "print(\">Marian trained: \", translated_text)"
   ],
   "id": "5cb63011363e2b94",
   "outputs": [
    {
     "name": "stdout",
     "output_type": "stream",
     "text": [
      ">Marian trained:  ãùãÞnnnnnnnnnnnnnnnnnnnnnnnnnnnnnnnnnnnnnnnnnnnnnnnnnnnnnnnnnnnnnnnnnnnnnnnnnnnnnnnnnnnnnnnnnnnnnnnnnnnnnnnnnnnnnnnnnnnnnnnnnnnnnnnnnnnnnnnnnnnnnnnnnnnnnnnnnnnnnnnnnnnnnnnnnnnnnnnnnnnnnnnnnnnnnnnnnnnnnn\n"
     ]
    }
   ],
   "execution_count": 21
  },
  {
   "metadata": {},
   "cell_type": "markdown",
   "source": [
    "## Entrenar un modelo T5\n",
    "Siguiendo la explicación del notebook `mt_finetuned` entrene un modelo T5. Puede utilizar un modelo baseline y refinarlo o uno desde 0.\n"
   ],
   "id": "267a91a90aa51f56"
  },
  {
   "metadata": {
    "ExecuteTime": {
     "end_time": "2025-01-19T18:36:54.127455Z",
     "start_time": "2025-01-19T18:36:51.532634Z"
    }
   },
   "cell_type": "code",
   "source": [
    "from transformers import T5ForConditionalGeneration, T5Tokenizer, T5Config\n",
    "\n",
    "# Crear configuración para un modelo T5 en blanco\n",
    "config = T5Config(\n",
    "    vocab_size=32000,\n",
    "    d_model=512,\n",
    "    d_ff=2048,\n",
    "    num_layers=6,\n",
    "    num_heads=8,\n",
    "    dropout_rate=0.1,\n",
    "    pad_token_id=0,  # Token de padding\n",
    "    eos_token_id=1,  # Token de fin de secuencia\n",
    "    decoder_start_token_id=0,  # Token de inicio del decodificador\n",
    ")\n",
    "\n",
    "t5_model_trained = T5ForConditionalGeneration(config)\n",
    "\n",
    "t5_tokenizer_trained = T5Tokenizer.from_pretrained(\"vgaraujov/t5-base-translation-en-es\")\n",
    "\n",
    "t5_model_trained.save_pretrained(\"./models/trained-t5-en-sindarin\")\n",
    "t5_tokenizer_trained.save_pretrained(\"./models/trained-t5-en-sindarin\")\n",
    "\n",
    "def load_t5():\n",
    "    t5_model = T5ForConditionalGeneration.from_pretrained(\"./models/trained-t5-en-sindarin\")\n",
    "    t5_tokenizer = T5Tokenizer.from_pretrained(\"./models/trained-t5-en-sindarin\")\n",
    "    return t5_model, t5_tokenizer\n"
   ],
   "id": "48fefd1f03c131fb",
   "outputs": [],
   "execution_count": 22
  },
  {
   "metadata": {},
   "cell_type": "markdown",
   "source": "Utilizando el primer modelo, generar una version refinada que esté entrenada con el dataset",
   "id": "eeb6b092f20d4300"
  },
  {
   "metadata": {
    "ExecuteTime": {
     "end_time": "2025-01-19T18:38:52.010141Z",
     "start_time": "2025-01-19T18:36:54.137802Z"
    }
   },
   "cell_type": "code",
   "source": [
    "from transformers import Trainer, TrainingArguments, DataCollatorForSeq2Seq\n",
    "\n",
    "training_args = TrainingArguments(\n",
    "    output_dir=\"./models/training/trained-t5-en-sindarin\",\n",
    "    eval_strategy=\"epoch\",\n",
    "    learning_rate=2e-4,\n",
    "    per_device_train_batch_size=10,\n",
    "    gradient_accumulation_steps=4,\n",
    "    num_train_epochs=10,\n",
    "    weight_decay=0.01,\n",
    "    logging_strategy=\"steps\",\n",
    "    logging_steps=100,\n",
    "    logging_dir='./logs',\n",
    "    report_to=\"none\"\n",
    ")\n",
    "\n",
    "\n",
    "t5_model_trained, t5_tokenizer_trained = load_t5()\n",
    "\n",
    "def preprocess_function(examples):\n",
    "    global t5_tokenizer_trained\n",
    "    inputs_lang = [example['en'] for example in examples['translation']]\n",
    "    targets_lang =  [example['fo'] for example in examples['translation']]\n",
    "\n",
    "    model_inputs = t5_tokenizer_trained(inputs_lang, text_target=targets_lang, max_length=128, truncation=True, padding=\"max_length\")\n",
    "    return model_inputs\n",
    "\n",
    "encoded_training_dataset = train_dataset.map(preprocess_function, batched=True)\n",
    "encoded_eval_dataset = eval_dataset.map(preprocess_function, batched=True)\n",
    "\n",
    "collator = DataCollatorForSeq2Seq(tokenizer=t5_tokenizer_trained, model=t5_model_trained)\n",
    "trainer = Trainer(\n",
    "    model=t5_model_trained,\n",
    "    args=training_args,\n",
    "    train_dataset=encoded_training_dataset,\n",
    "    eval_dataset=encoded_eval_dataset,\n",
    "    data_collator= collator\n",
    ")\n",
    "\n",
    "trainer.train()\n",
    "\n",
    "t5_model_trained.save_pretrained(\"./models/trained-t5-en-sindarin\")\n",
    "t5_tokenizer_trained.save_pretrained(\"./models/trained-t5-en-sindarin\")"
   ],
   "id": "b47d9ab597deab9d",
   "outputs": [
    {
     "data": {
      "text/plain": [
       "Map:   0%|          | 0/163 [00:00<?, ? examples/s]"
      ],
      "application/vnd.jupyter.widget-view+json": {
       "version_major": 2,
       "version_minor": 0,
       "model_id": "4c2c73c60d3b4467a18001fd5944b2f3"
      }
     },
     "metadata": {},
     "output_type": "display_data"
    },
    {
     "data": {
      "text/plain": [
       "Map:   0%|          | 0/65 [00:00<?, ? examples/s]"
      ],
      "application/vnd.jupyter.widget-view+json": {
       "version_major": 2,
       "version_minor": 0,
       "model_id": "6370b9b735364f259f216738951cec57"
      }
     },
     "metadata": {},
     "output_type": "display_data"
    },
    {
     "data": {
      "text/plain": [
       "<IPython.core.display.HTML object>"
      ],
      "text/html": [
       "\n",
       "    <div>\n",
       "      \n",
       "      <progress value='40' max='40' style='width:300px; height:20px; vertical-align: middle;'></progress>\n",
       "      [40/40 01:53, Epoch 9/10]\n",
       "    </div>\n",
       "    <table border=\"1\" class=\"dataframe\">\n",
       "  <thead>\n",
       " <tr style=\"text-align: left;\">\n",
       "      <th>Epoch</th>\n",
       "      <th>Training Loss</th>\n",
       "      <th>Validation Loss</th>\n",
       "    </tr>\n",
       "  </thead>\n",
       "  <tbody>\n",
       "    <tr>\n",
       "      <td>0</td>\n",
       "      <td>No log</td>\n",
       "      <td>1.016089</td>\n",
       "    </tr>\n",
       "    <tr>\n",
       "      <td>1</td>\n",
       "      <td>No log</td>\n",
       "      <td>0.755466</td>\n",
       "    </tr>\n",
       "    <tr>\n",
       "      <td>2</td>\n",
       "      <td>No log</td>\n",
       "      <td>0.663211</td>\n",
       "    </tr>\n",
       "    <tr>\n",
       "      <td>4</td>\n",
       "      <td>No log</td>\n",
       "      <td>0.604478</td>\n",
       "    </tr>\n",
       "    <tr>\n",
       "      <td>5</td>\n",
       "      <td>No log</td>\n",
       "      <td>0.588803</td>\n",
       "    </tr>\n",
       "    <tr>\n",
       "      <td>6</td>\n",
       "      <td>No log</td>\n",
       "      <td>0.568696</td>\n",
       "    </tr>\n",
       "    <tr>\n",
       "      <td>8</td>\n",
       "      <td>No log</td>\n",
       "      <td>0.541742</td>\n",
       "    </tr>\n",
       "    <tr>\n",
       "      <td>9</td>\n",
       "      <td>No log</td>\n",
       "      <td>0.540030</td>\n",
       "    </tr>\n",
       "  </tbody>\n",
       "</table><p>"
      ]
     },
     "metadata": {},
     "output_type": "display_data"
    },
    {
     "data": {
      "text/plain": [
       "('./models/trained-t5-en-sindarin/tokenizer_config.json',\n",
       " './models/trained-t5-en-sindarin/special_tokens_map.json',\n",
       " './models/trained-t5-en-sindarin/spiece.model',\n",
       " './models/trained-t5-en-sindarin/added_tokens.json')"
      ]
     },
     "execution_count": 23,
     "metadata": {},
     "output_type": "execute_result"
    }
   ],
   "execution_count": 23
  },
  {
   "metadata": {},
   "cell_type": "markdown",
   "source": "Una vez entrenado el modelo usar el siguiente código para comprobar como traduce una frase del dataset:",
   "id": "cde2280231c192d3"
  },
  {
   "metadata": {
    "ExecuteTime": {
     "end_time": "2025-01-19T18:38:53.248560Z",
     "start_time": "2025-01-19T18:38:52.080587Z"
    }
   },
   "cell_type": "code",
   "source": [
    "t5_model_trained = T5MT(model_name=\"./models/trained-t5-en-sindarin\", cache_dir=\"./models/trained-t5-en-sindarin\")\n",
    "text = \"Who brings to us this token of darkness?\"\n",
    "translated_text = t5_model_trained.translate(text)\n",
    "print(\">t5 trained: \", translated_text)"
   ],
   "id": "8ccf5a83294c038e",
   "outputs": [
    {
     "name": "stdout",
     "output_type": "stream",
     "text": [
      ">t5 trained:  Annnnnnnnnnnnnnnnnnnnnnnnnnnnnnn.\n"
     ]
    }
   ],
   "execution_count": 24
  },
  {
   "metadata": {},
   "cell_type": "markdown",
   "source": "## Comparar todos los modelos usando las metricas BLEU, METEOR y ROUGE",
   "id": "d38362b7cede7913"
  },
  {
   "metadata": {
    "ExecuteTime": {
     "end_time": "2025-01-19T18:42:13.134681Z",
     "start_time": "2025-01-19T18:38:53.257362Z"
    }
   },
   "cell_type": "code",
   "source": [
    "import evaluate\n",
    "\n",
    "\n",
    "expected_results = [ [row['fo']] for row in eval_dataset['translation']]\n",
    "inputs = [row['en'] for row in eval_dataset['translation']]\n",
    "\n",
    "\n",
    "t5_trained_results = t5_model_trained.translate_batch(inputs)\n",
    "marianmt_trained_results = marian_model_trained.translate_batch(inputs)\n",
    "\n",
    "print(\"Expected Results:\", expected_results)\n",
    "print(\"T5 Translations:\", t5_trained_results)\n",
    "print(\"Marian Translations:\", marianmt_trained_results)\n",
    "\n",
    "bleu_metric = evaluate.load(\"bleu\")\n",
    "meteor_metric = evaluate.load(\"meteor\")\n",
    "rouge_metric = evaluate.load(\"rouge\")\n",
    "\n",
    "bleu_t5_trained = bleu_metric.compute(predictions=t5_trained_results, references=expected_results)\n",
    "meteor_t5_trained = meteor_metric.compute(predictions=t5_trained_results, references=expected_results)\n",
    "rouge_t5_trained = rouge_metric.compute(predictions=t5_trained_results, references=expected_results)\n",
    "\n",
    "bleu_marian_trained = bleu_metric.compute(predictions=marianmt_trained_results, references=expected_results)\n",
    "meteor_marian_trained = meteor_metric.compute(predictions=marianmt_trained_results, references=expected_results)\n",
    "rouge_marian_trained = rouge_metric.compute(predictions=marianmt_trained_results, references=expected_results)\n"
   ],
   "id": "33323ab6d28dbca2",
   "outputs": [
    {
     "name": "stdout",
     "output_type": "stream",
     "text": [
      "Expected Results: [['Hiro hyn hîdh ab ’wanath.'], ['Aragorn, nad no ennas!'], ['Man cenich?'], ['Man le trasta, Brego?'], ['Man cenich?'], ['Ú i vethed'], ['nâ i onnad.'], ['Minlû pedich nin'], ['i aur hen telitha.'], ['Ú i vethednâ i onnad.'], ['Boe bedich go Frodo.'], ['Dolen i vâd o nin.'], ['Si peliannen i vâd na dail lîn.'], ['Si boe ú-dhannathach.'], ['Ae ú-esteliach nad'], ['estelio han'], ['estelio ammen.'], ['Estelio han.'], ['Estelio han.'], ['Estelio veleth.'], ['Nach gwannatha sin?'], ['Ma nathach hi gwannathach or minuial archened?'], ['Ú-ethelithon.'], ['Estelio guru lîn ne dagor.'], ['Ethelithach.'], ['Ú-bedin o gurth ne dagor.'], ['O man pedich?'], ['Edra le men, men na guil edwen'], ['haer o auth a nîr a naeth.'], ['Tollen, i lû.'], ['I chair gwannar na Valannor. Si bado, no círar.'], ['Ah im, ú-’erin veleth lîn?'], ['Gerich veleth nîn, ada.'], ['I amar prestar aen.'], ['Han mathon ne nen.'], ['Han mathon ne chae.'], ['A han noston ned ’wilith.'], ['Mae carnen, Brego, mellon nîn.'], ['Le abdollen.'], ['Hannon le.'], ['Boe a hyn'], ['Neled heraindan caer menig.'], ['Si, beriathar hyn ammaeg na ned Edoras.'], ['Aragorn, nedin dagor hen ú-’erir ortheri.'], ['Natha daged dhaer'], ['Ú-moe edaved, Legolas'], ['Mae govannen, Haldir.'], ['A Eruchîn, ú-dano i faelas a hyn'], ['an uben tanatha le faelas!'], ['Dartho!'], ['Tangado a chadad!'], ['Faeg i-varv dîn na lanc'], ['a nu ranc!'], ['Hado i philinn!'], ['Pendraith!'], ['Na fennas!'], ['Hado ribed! Hado!'], ['Togo hon dad, Legolas!'], ['Dago hon!'], ['Dago hon!'], ['Hado i philinn!'], ['Herio!'], ['Nan barad!'], ['Nan barad!'], ['Nan barad!']]\n",
      "T5 Translations: ['Annnnnnn.', 'Annnnnnnnnnnnnnnnnnnnnnnnnnnnnnnnnnnnnnnnnnnnnnnnnnnnnnnnnnnnn.', 'Annnnnnnnnnn.', 'Annnnnnnnnn.', 'Annnnnnnnnnn.', 'Annnnnnnnn.', 'Annnnnnnnnnnn.', 'Annnnnnnnnnn.', 'Annnn.', 'Annnnnnnnnnnnnnn.', 'Annnnnnnnn.', 'Annnnnnnnnnnnnnn.', 'Annnnnnnnnnnnnn.', 'Annnnn.', 'Annnnnnnnnnnn.', 'Annnnnn.', 'Annnnn.', 'Ann.', 'Ann.', 'Ann.', 'Annnnnnnnnnnnnnnnn.', 'Annnnnnnnnnnnnnnnnnnnn.', 'Annn.', 'Annnnnnnnnn.', 'Ann.', 'Annnnnnnnnn.', 'Annnnnnnnnnnn.', 'Annnnnnnnnnnnnnnnnnnn.', 'Annnnnn.', 'Annnnnnnn.', 'Annnnnnnnnnnnnn.', 'Annnnnnnnn.', 'Annnnnnnn.', 'Annnnnnnn.', 'Annnnnnn.', 'Annnnn.', 'Annnnnnnnnnn.', 'Annnnnnnnnnnn.', 'Annnnn.', 'Annnn.', 'Annnnnnnnnnnnnnnnnnn.', 'Annnnnnnnnnn.', 'Annnnnnnnnn.', 'Annnnnnnnnnnn.', 'Annnnnnnnnnn.', 'Annnnnnnnnnnn.', 'Annnnnnn.', 'Annnnnnnnnnnnn.', 'Annnnnnnnnnnnnnnnnn.', 'Annnnnnnnnnnnnnnnn', 'Annnnnnnnnnnnnnn.', 'Annnnnnnnnnnnn.', 'Annnnnnnnnnnnnnnnnnnnnnnnnnnnn.', 'Annnnnnnnnnnnnnnnnnnnnnnnnnnnnnnnnnnnnnnnnnnnnnnnnnnnnnnnnnnnnnnnnnnnnnn.', 'Annnnnnnnnnnnnnnnnnnnnnnnnnnnnnnnnnnnnnnnnnnnnnnnnnnnnnnnnnnnn.', 'Annnnnnnnnnnnnnnnnnnnn.', 'Annnnnnnnnnnnnnnnnnnnnnnnnnnnnnnnnn.', 'Annnnnnnnnnnnnnnnnnnnnnnnnnnnnnnnnnnnnn.', 'Annnnnnnnnnnnnnnnnnnnnnnnnnnnnnnnnnnnnnnnnnnnnnnnnnnnnnnn.', 'Annnnnnnnnnnnnnnnnnnnnnnnnnnnnnnnnnnnnnnnnnnnnnnnnnnnnnnnnnnnnnnn.', 'Annnnnnnnnnnnnnnnnnnnnnnnnnnnnnnnnnnnnnnnnnnnnnnnnnnnnnnnnnnnnnnnnnnnn.', 'Annnnnnnnnnnnn.', 'Annnnnnnnnnnnnnnnnnnnnnnnnnnnnnnnnnnnnnn.', 'Annnnnnnnnnnnnnnnnnnnnnnnnnnnnnnn.', 'Annnnnnnnnnnnnnnnnnnnnnnnnnnnnnnnnnnnnnnnn.']\n",
      "Marian Translations: ['ãùãÞnnnnnnnnnnnnnnnnnnnnnnnnnnnnnnnnnnnnnnn.nnnnnnnnnnnnnnnnnnnnnnnnnnnnnnnnnnnnnnnnnnnnnnnnnnnnnnnnnnnnnnnnnnnnnnnnnnnnnnnnnnnnnnnnnnnn nnnnnnnnnnnnnnnnnnnnnnnnnnnnnnnnnnnnnnnnnnnnnnnnnnnnnnnnnnnnnnnnn', 'ãùãÞ nnnnnnnnnnnnnnnnnnnnnnnnnnnnnnnnnnnnnnnnnnnnnnnnnnnnnnnnnnnnnnnnnnnnnnnnnnnnnnnnnnnnnnnnnnnnnnnnnnnnnnnnnnnnnnnnnnnnnnnnnnnnnnnnnnnnnnnnnnnnnnnnnnnnnnnnnnnnnnnnnnnnnnnnnnnnnnnnnnnnnnnnnnnnnnnnnnnnn', 'ãùãÞnnnnnnnnnnnnnnnnnnnnnnnnnnn.nnnnn.nnnnnnnnnnnnnnnnnnnnnnnnnnnnnnnnnnnnnnnnnnnnnnnnnnnnnnnnnnnnn nnnnnnnnnnnnnnnnnnnnnnnnnnnnnnnnnnnnnnnnnn nnnnnnnnnnnnnnnnnnnnnnnnnnnnnnnnnnnnnnnnnnnnnnnnnnnnnnnnnnn', 'ãùãÞnnnnnnnnnnnnnnnnnnnnnnnnnnnnnnnnnnnnnnnnnnnnnnnnnnnnnnnnnnnnnnnnnnnnnnnnnnnnnnnnnnnnnnnnnnnnnnnnnnnnnnnnnnnnnnnnnnnnnnnnnnnnnnnnnnnnnnnnnnnnnnnnnnnnnnnnnnnnnnnnnnnnnnnnnnnnnnnnnnnnnnnnnnnnnnnnnnnnnn', 'ãùãÞnnnnnnnnnnnnnnnnnn nnnnnnnnnnnnnnnnnnnnnnnnnnnnnnnnnnnnnnnnnnnnnnnnnnnnnnnnnnnnnnnnnnnnnnnnnnnnnnnnnnnnnnnnnnnnnnnnnnnnnnnnnnnnnnnnnnnnnnnnnnnnnnnnnnnnnnnnnnnnnnnnnnnnnnnnnnnnnnnnnnnnnnnnnnnnnnnnnnn', 'ãùãÞnnnnnnnnnnnnnnnnnnnnnnnnnnnnnnnnnnnnnnnnnnnnnnnnnnnnnnnnnnnnnnnnnnnnnnnnnnnnn nnnnnnnnnnnnnnnnnnnnnnnnnnnnnnnnnnnnnnnnnnnnnnnnnnnnnnnnnnnnnnnnnnnnnnnnnnnnnnnnnnnnnnnnnnnnnnnnnnnnnnnnnnnnnnnnnnnnnnnn', 'ãùãÞnnnnnnnnnnnnnnnnnnnnnnnnnnnnnnnnnnnnnnnnnnnnnnn.nnnnnnnnnnnnnnnnnnnnnnnnnnnnnnnnnnnnnnnnnnnnnnnnnnnnnnnnnnnnnnnnnnnnnnnnnnnnnnnnnnnnnnnnnnnnnnnnnnnnnnnnnnnnnnnnnnnnnnnnnnnn.nnnnnnnnnnnnnnnnnnnnnnnnn', 'ãùãÞn nnnnnnnnnnnnnnnnnnnnnnnnnnnnnnnnnnnnnnnnnnnnnnnnnnnnnnnnnnnnnnnnnnnnnnnnnnnnn nnnnnnnnnnnnnnnnnnnnnnnnnnnnnnnnnnnnnnnnnnnnnnnnnnnnnnnnnnnnnnnnnnnnnnnnnnnnnnnnnnnnnnnnnnnnnnnnnnnnnnnnnnnnnnnnnnnnnn', 'ãùãÞnnnnnnnnnnnnnnnnnnn.nnnnnnnnnnnnnnnnnnnnnnnnnnnnnnnnnnnnnnnnnnnnnnnnnnnnnnnnnnnnn nnnnnnnnnnnnnnnnnnnnnnnnnnnnnnnnnnnnnnnnnnnnnnnnnnnnnnnnnnnnnnnnnnnnnnnnnnnnnnnnnnnnnnnnnnnnnnnnnnnnnnnnnnnnnnnnnnnn', 'ãùãÞnnnnnnnnnnnnnnnnnnnnnnnnnnn.nnnnn nnnnnnnnnnnnnnnnnnnnnnnnnnnnnnnnnnnnnnnnnnnnnnnnnnnnnnnnnnnnnnnnnnnnnnnnnnnnnnnnnnnnnnnnnnnnnnnnnnnnnnnnnnnnn.nnnnnnnnnnnnnnnnnnnnnnnnnnnnnnnn nnnnnnnnnnnnnnnnnnnn.', 'ãùãÞnnnnnnnnnnnnnnnnnnnnnnnnnnnnnnn nnnnnnnnnnnnnnnnnnnnnnnnnnnnnnnnnnnnnnnnnnnnnnnnnnnnnnnnnnnnnnnnnnnnnnnnnnnnnnnnnnnnnnnnnnnnnnnnnnnnnnnnnnnnnnnnnnnnnnnnnnnnnnnnnnnnnnnnnnnnnnnnnnnnnnnnnnnnnnnnnnnnnn', 'ãùãÞnnnnnnnnnnnnnnnnnnnnnnnnnnnnnnnnnnnnnnnnnnnnnnnnnnnnnnnnnnnnnnnnnnnnnnnnnnn nnnnnnnnnnnnnnnnnnnnnnnnnnnnnnnnnnnnnnnnnnnnnnnnnnnnnnnnnnnnnnnnnnnnnnnnnnnnnnnnnnnnnnnnnnnnnnnnnnnnnnnnnnnnnnnnnnnnnnnnnn', 'ãùãÞnnnnnnnnnnnnnnnnn.nnnnnnnnnnnnnnnnnnnnnnnnnnnnnnnnnnnnnnnnnnnnnnnnnnnnnnnnnnnnnnnnnnnnnnnnnnnnnnnnnnnnnnnnnnnnnnnnnnnnnnnnnnnnnnnnnnnnnnnnnnnnnnnnnnnnnnnnnnnnnnnnnnnnnnnnnnnnnnnnnnnnnnnnnnnnnnnnnnnn', 'ãùãÞnnnnnnnnnnnnnnnnnnnnnnnnnnnnnnnnnnnnnnnnnnnnnnnnnnnnnnnnnnnnnnnnnnnnnnnnnnnnnnnnnnnnnnnnnnnnnnnnnnnnnnnnnnnnnnnnnnnnnnnnnnnnnnnnnnnnnnnnnnnnnnnnnnnnnnnnnnnnnnnnnnnnnnnnnnnnnnnnnnnnnnnnnnnnnnnnnnnnnn', 'ãùãÞnnnnnnnnnnnnnnnnnnnnnnnnnnnnnnnnnnnnnnnnnn nnnnnnnnnnnnnnnnnnnnnnnnnnnnnnnnnnnnnnnnnnnnnnnnnnnnnnnnnnnnnnnnnnnnnnnnnnnnnnnnnnnnnnnnnnnnnnnnnnnnnnnnnnnnnnnnnnnnnnnnnnnnnnnnnnnnnnnnnnnnnnnnnnnnnnnnnnn', 'ãùãÞnnnnnnnnnnnnnnnnnnnnnnnnnnn.nnnnnnnnnnnnnnnnnnnnnnnnnnnnnnnnnnnnnnnnnnnnnnnnnnnnnnnnnnnnnnnnnnnnnnnnnnnnnnnnnnnnnnnnnnnnnnnnnnnnnnnnnnnnnnnnnnnnnnnnnnnnnnnnnnnnnnnnnnnnnnnnnnnn nnnnnnnnnnnnn.nnnnnnn', 'ãùãÞnnnnnnnnnnnnnnnnnnnnnnnnnnnnnnnnnnnnnnnnnnn nnnnnnnnnnnnnnnnnnnnnnnnnnnnnnnnnnnnnnnnnnnnnnnnnnnnnnnnnnnnnnnnnnnnnnnnnnnnnnnnnnnnnnnnnnnnnnnnnnnnnnnnnn nnnnnnnnnnnnnnnnnnnnnnnnnnnnnnnnnnnnnnnnnnnnnnn', 'ãùãÞnnnnnnnnnnnnnnnnnnnnnnnnnnnn.nnnnnnnnnnnnnnnnnnnnnnn nnnnnnnnnnnnnnnnnnnnnnnnnnnnnnnnnnnnnnnnnnnnnnnnnnnnnnnnnnnnnnnnnnnnnnnnnnnnnnnnnnnnnnnnnnnnnnnnnnnnnnnnnnnnnnnnnnnnnnnnnnn nnnnnnnnnnnnnnnnnnnnn', 'ãùãÞn nnnnnnnnnnnnnnnnnnnnnnnnnnnnnnnnnnnnnnnnnnnnnnnnnnnnnnnnnnnnnnnnnnnnnnnnnnnnnnnnnn.nnnnnnnnnnnnnnnnnnnnnnnnnnnnnnnnnnnnnnnnnnnnnnnnnnnnnnn nnnnnnnnnnnnnnnnnnnnnnnnnnnnnnnnnnnnnnnnnnnnnnnnnnnnnnnnn', 'ãùãÞnnnnnnnnnnnnnnnnnnnnnnnnnnnnnnnnnnnnnnnnnnnnnnnnnnnnnnnnnnnnnnnnnnnnnnnnnnnnnnnnnnnnnnnnnnnnnnnnnnnnn nnnnnnnnnnnnnnnnnnnnnnnnnnnnnnnnnnnnnnnnnnnnnnn nnnnnnnnnnnnnnnnnnnnnnnnnnnnnnnnnnnnnnnnnnnnnnnn', 'ãùãÞnnnnnnnnnnnnnnnnnnnnn.nnnnnnnnnnnnnnnnnnnnnnnnnnnnnnnnnnnnnnnnnnnnnnnnnnnnnnnnnnnnnnnnnnnnn nnnnnnnnnnnnnnnnnnnnnnnnnnnnnnnnnnnnnnnnnnnnnnnnnnnnnnnnnnnnnnnnnnnnnnnnnnnnnnnnnnnnnnnnnnnnnnnnnnnnnnnnnn', 'ãùãÞnnnnnnnnnnnnnnnnnnnnnnnnnnnnnnnnnnnnnnnnnnnnnnnnnnnnnnnnnnnnnnnnnnnnnnnnnnnnnnnnnnnnnnnnnnnnnnnnnnnnnnnnnnnnnnnnnnnnnnnnnnnnnnnnnnnnnnnnnnnnnnnnnnnnnnnnnnnnnnnnnnnnnnnnnnnnnnnnnnnnnnnnnnnnnnnnnnnnnn', 'ãùãÞnnnnnnnnnnnnnnnnnnnnnnnnnnnnnnnnnnnnnnnnnnnnnnnnnnnnnnnnnnnnnnnnnnnnnnnnnnnnnnnnnnnnnnnnnnnnnnnnnnnnnnnnnnnnnnnnnnnnnnnnnnnnnnnnnnnnnnnnnnnnnnnnnnnnnnnnnnnnnnnnnnnnnnnnnnnnnnnnnnnnnnnnnnnnnnnnnnnnnn', 'ãùãÞnnnnnnnnnnnnnnnnnnnnnnnnnnnnnnnnnnnnnnnnnnnnnnnnnnnnnnnnnnnnnnnnnnnnnnnnnnnnnnnnnnnnnnnnnnnnnnnnnnnnnnnnnnnnnnnnnnnnnnnnnnnnnnnnnnnnnnnnnnnnnnnnnnnnnnnnnnnnnnnnnnnnnnnnnnnnnnnnnn.nnnnnnnnnnnnnnnnnnn', 'ãùãÞ nnnnnnnnnnnnnnnnnnnnnnnnnnnnnnnnnnnnnnnnnnnnnnnnnnnnnnnnnnnnnnnnnnnnnnnnnnnnnnnnnnnnnnnnnnnnnnnnnnnnnnnnnnnnnnnnnnnnnnnnnnnnnnnnnnnnnnnnnnnnnnnnnnnnnnnnnnnnnnnnnnnnnnnnnnnnnnnnnnnnnnnnnnnnnnnnnnnnn', 'ãùãÞnnnnnnnnnnnnnnnnnnnnnnnnnnnnnnnnnnnnnnnnnnnnnnnnnnnnnnnnnnnnnnnnnnnnnnnnnnnnnnnnnnnnnnnnnnnnnnnnnnnnnnnnnnnnnnnnnnnnnnnnnnnnnnnnnnnnnnnnnnnnnnnnnnnnnnnnnnnnnnnnnnnnnnnnnnnnnnnnnnnnnnnnnnnnnnnnnnnnnn', 'ãùãÞ nnnnnnnnnnnnnnnnnnnnnnnnnnnnnnnnnnnnnnn.nnnnnnnnnnnnnnnnnnnnnnnnnnnnnnnnnnnnnnnnnnnnnnnnnnnnnnnnnnnnnnnnnnnnnnnnnnnnnnnnnnnnnnnnnnnnnnnnnnnnnnnnnnnnnnnnnnnnnnnnnnnnnnnnnnnnnnnnnnnnnnnnnnnnnnnnnnnnn', 'ãùãÞnnnnnnnnnnnnnnnnnnnnnnnnnnnnnnnnnnnnnnnnnnnnnnnnnnnnnnnnnnnnnnnnnnnnnnnnnnnnnnnnnn nnnnnnnnnnnnnnnnnnnnnnnnnnnnnnnnnnnnnnnnnnnnnnnnnnnnnnnnnnnnnnnnnnnnnnnnn nnnnnnnnnnnnnnnnnnnnnnnnnnnnnnnnnnnnnnnnn', 'ãùãÞnnnnnnnnnnnnnnnnnnnnnnnnnnnnnnnnnnnnnnnnnnnnnnnnnnnnnnnnnnnnnnnnnnnnnnnnnnnnnnnnnnnnnnnnnnnnn.nnnnnnnnnnnnnnnnnnnnnnnnnnnnnnnnnnnnnnnnnnnnnnnnnnnnnnnnnnnnnnnnnnnnnnnnnnnnnnnnnnnnnnnnnnnnnnnnnnnnnnnn', 'ãùãÞnnnnnnnnnnnnnnnnnnnnnnnnnnnnnnnnnnnnnnnnnnnnnnnnnnnnnnnnnnnnnnnnnnnnnnnnnnnnnnnnnnnnnnnnnnnnnnnnnnnnnnnnnnnnnnnnnnnnnnnnnnnnnnnnnnnnnnnnnnnnnnnnnnnnnnnnnnnnnnn.nnnnnnnnnnnnnnnnnnnnnnnnnnnnnnnnnnnnnn', 'ãùãÞnnnnnnnnnnnnnnnnnnnnnnnnnnnnnnnnnnnnnnnnnnnnnnnnnnnnnnnnnnnnnnnnnnnnnnnnnnnnnnnnnnnnnnnnnnnnnnnnnnnnnnnnnnnnnnnnnnnnnnnnnnnnnnnnnnnnnnnnnnnnnnnnnnnnnnnnnnnnnn.nnnnnnnnnnnnnnnnnnnnnnnnnnnnnnnnnnnnnnn', 'ãùãÞnnnnnnnnnnnnnnnnnnnnnnnnnnnnnnn.nnnnnnnnnnnnnnnnnnnnnnnnnnnnnnnnnnnnnnnnnnnnnnnnnnnnnnnnnnnnnnnnnnnnnnnnnnnnnnnnnnnnnnnnnnnnnnnnnnnnnnnnnnnnnnnnnnnnnnnnnnnn.nnnnnnnnnnnnnnnnnnnnnnnnnnnnnnnnnnnnnnnnn', 'ãùãÞ nnnnnnnnnnnnnnnnnnnnnnnnnnnnnnnnnnnnnnnnnnnnnnnnnnnnnnnnnnnnnnnnnnnnnnnnnnnnnnnnnnnnnnnnnnnnnnnnnnnnnnnnnnnnnnnnnnnnnnnnnnnnnnnnnnnnnnnnnnnnnnnnnnnn.nnnnnnnnnnnnnnnnnnnnnnnnnnnnnnnnnnnnnnnnnnnnnnnn', 'ãùãÞnnnnnnnnnnnnnnnnnnnnnnnnnnnnnnnnnnnnnnnnnnnnnnnnnn.nnnnnnnnnnn.nnnnnnnnnnnnnnnnnnnnnnnnnnnnnnnnnnnnnnnnnnnnnnnnnnnnnnnnnnnnnnnnnnnnnnnnnnnnnnnnnnnnnnnnnnnnnnnnnnnnnnnnnnnnnnnnnnnnnnnnnnnnnnnn nnnnnn', 'ãùãÞn nnnnnnnnnnnnnnnnnnnnnnnnnnnnnnnnnnnnnnnnnnnnnnnnnnnnnnnnnnnnnnnnnnnnnnnnnnnnnnnnnnnnnnnnnnnnnnnnnnnnnnnnnnnnnnnnnnnnnnnnnnnnnnnnnnnnnnnnnnnnnnnnnnnnnnnnn nnnnnnnnnnnnnnnnnnnnnnnnnnnnnnnnnnnnnnnnnn', 'ãùãÞn nnnnnnnnnnnnnnnnnnnnnnnnnnnnnnnnnnnnnnnnnnnnnnnnnnnnnnnnnnnnnnnnnnnnnnnnnnnnnnnnnnnnnnnnnnnnnnnnnnnnnnnnnnnnnnnnnnnnnnnnnnnnnnnnnnnnnnnnnnnnnnnnnnnnnthannnnnnnnnnnnnnnnnnnnnnnnnnnnnnnnnnnnnnnnnnnnnn', 'ãùãÞnnnnnnnnnnnnnnnnnnnnnnnnnnnnnnnnnnnnnnnnnnnnnnnnnnnnnnnnnnnnnnnnnnnnnnnnnnnnnnnnnnnnnnnnnnnnnnn.nnnnnnnnnnnnnnnnnnnnnnnnnnnnnnnnnnnnnnnnnnnnnnnnnnnnnnnnnnnnnnnnnnnnnnnnnnnnnnnnnnnnnnnnnnnnnnnnnnnnnn', 'ãùãÞnnnnnnnnnnnnnnnnnnnnnnnnnnnnnnnnnnnnnnnnnnnnnnnnnnnnnnnnnnnnnnnnnnnnnnnnnnnnn nnnnnnnnnnnnnnnnnnnnnnnnnnnnnnnnnnnnnnnnnnnnnnnnnnnnnnnnnnnnnnnnnnnnnnnnnnnnnnnnnnnnnnnnnnnnnnnnnnnnnnnnnnnnnnnnnnnnnnnn', 'ãùãÞnnnnnnnnnnnnnnnnnnnnnnnnnnnnnnnnnnnnnnnnnnnnnnnnnnnnnnnnnnnnnnnnnnnnnnnnnnnnnnnnnnnnnnnnnnnnnnnnnnnnnnnnnnn.nnnnnnnnnnnnnnnnnnnnnnnnnnnnnnnnnnnnnnnnnnnnnnnnnnnnn nnnnnnnnnnnnnnnnnnnnnnnnnnnnnnnnnnnn', 'ãùãÞnnnnnnnnnnnnnnnnnnnnnnnnnnnnnnnnnnn nnnnnnnnnnnnnnnnnnnnn nnnnn.nnnnnnnnnnnnnnnnnnnnnnnnnnnnnnnnnnnnnnnnnnnnnnnnnnnnnnnnnnnnnnnnnnnnnnnnnnnnnnnnnnnnnnnnnnnnnnnnnnnnnnnnnnnnnnnnnnnnnnnnnnnnnnnnnnnnnn', 'ãùãÞnnnnnnnnnnnnnnnnnnnnnnnnnnnnnnnnnnnnnnnnnnnnnnnnnnnnnnnnnnnnnnnnnnnnnn.nnnnnnnnnnnnnnnnnnnnnnnnnnnnnnnnnnnnnnnnnnnnnnnnnnnnnnnnnnnnnnnnnnnnnnnnnnnnnnnnnnnnnnnnnnnnnnnnnnnnnnnnnnn.nnnnnnnnnnnnnnnnnnn', 'ãùãÞnnnnnnnnnnnnnnnnnnnnnnnnnnnnnnnnnnnnnnnnnnnnnnnnnnnnnnnnnnnnnnnnnnnnnnnnnnnnnnnnnnnnnnnnnnnnnnnnnnnnnnnnnnnnnnnnnnnnnnnnnn.nnnnnnnnnnnnnnnnnnnnnnnnnnnnnnnnnnnnnnnnnnnnnnnnnnnnnnnnn nnnnnnnnnnnnnnnnn', 'ãùãÞnnnnnnnnnnnnnnnnnnnnnnnnnnnnnnnnnnnnnnnnnnnnnnnnnnnnnnnnnnnnnnnnnnnnnnnnnnnnnnnnnnnnnnnnnnnnnnnnnnnnnnnnnnnnnnnnnnnnnnnnnnnnnnnnnnnnnnnnnnnnnnnnnnnnnnnnnnnnnnnnnnnnnnnnnnnnnnnnnnnnn.nnnn.nnnnnnnnnnn', 'ãùãÞnnnnnnnnnnnnnnnnnnnnnnnnnnnnnnnnnnnnnnnnnnnnnnnnnnnnnnnnnnnnnnnnnnnnnnnnnnnnnnnnnnnnnnnnnnnnnnnnnnnnnnnnnnnnnnnnnnnnnnnnnnnnnnnnnnnnnnnnnnnnnnnnnnnnnnnnnnnn nnnnnnnnnnnnnnnnnnnnnnnnnnnnnnnnnnnnnnnnn', 'ãùãÞ  nnnnnnnnnnnnnnnnnnnnnnnnnnnnnnnnnnnnnnnnnnnnnnnnnnnnnnnnnnnnnnnnnnnnnnnnnnnnnnnnnnnnnnnnnnnnnnnnnnnnnnnnnnnnnnnnnnnnnnnnnnnnnnnnnnnnnnnnnnnnnnnnnnnnnnnnnnnnnnnnnnnnnnnnnnnnnnnnnnnnnnnnnnnnnnnnnnnn', 'ãùãÞnnnnnnnnnnnnnnnnnnnnnnnnnnnnnnnnnnnnnnnnnnnnnnnnnnnnnnnnnnnnnnnnnnnnnnnnnnnnnnnnnnnn.nnnnnnnnnn nnnnnnnnnnnnnnnnnnnnnnnnnnnnnnnnnnnnnn nnnnnnnnnnnnnnnnnnnnnnnnnnnnnnnnnnnnnnnnnnnnnnnnnnnnnnnnnnnnnnn', 'ãùãÞnnnnnnnnnnnnnnnnnnnnnnnnnnnnnnnnnnnnnnnnnnnnnnnnnnnnnnnnnnnnnnnnnnnnnnnnnnnnnnnnnnnnnnnnnnnnnnnnnnnnnnnnnnnnnnnnnnnnnnnnnnnnnnnnnnnnnnnnnnnnnnnnnnnnnnnnnnnnnnnnnnnnnnnnnnnnnnnnnnnnnnnnnnnnnnnnnnnnnn', 'ãùãÞnnnnnnnnnnnnnnnnnnnnnnnnnnnnnnnnnnnnnnnnnnnnnnn nnnnnnnnnnnnnnnnnnnnnnnnnnnnnnnnnnnnnnnnnnnnnnnnnnnnnnnnnnnnnnnnnnnnnnnnnnnnnnnnnnnnnnnnnnnnnnnnnnnnnnnnnnnnnnnnnnnnnnnnnnnnnnnnnnnnnnnnnnnnnnnnnnnnnn', 'ãùãÞnnnnnnnnnnnnnnnnnnnnnnnnnnnnnnnnnnnnnnnnnnnnnnnnnnnnnnnnnnnnnnnnnnnnnnnnnnnnnnnnnnnnnnnnnnnnnnnnnnnnnnnnnnnnnnnnnnnnnnnnnnnnnnnnnnnnnnnnnnnnnnnnnnnnnn nnnnnnnnnnnnnnnnnnnnnnnnnnnnnnnnnnnnnnnnnnnnnnn', 'ãùãÞ  nnnnnnnnnnnnnnnnnnnnnnnnnnnnnnnnnnnnnnnnnnnnnnnnnnnnnnnnnnnnnnnnnnnnnnnnnnnnnnnnnnnnnnnnnnnnnnnnnnnnnnnnnnnnnnnnnnnnnnnnnnn nnnnnnnnnnnnnnnnnnnnnnnnnnnnnnnnnnnnnnnnnnnnnnnnnnnnnnnnnnnnnnnnnnnnnnnn', 'ãùãÞnnnnnnnnnnnnnnnnnnnnnnnnnnnnnnnnnnnnnnnnnnnnnnnnnn.nnnnnnnnnnnnnnnnnnnnnnnnnnnnnnnnnnnnnnnnnnnnnnnnnnnnnnnnnnnnnnnnnnnnnnnnnnnnnnnnnnnnnnnnnnnnnnnnnnnnnnnnnnnnnnnnnnnnnnnnnnnnnnnnnnnnnnnnnnnnnnnnnnn', 'ãùãÞnnnnnnnnnnnnnnnnnnnnnnnnnnnnnnnnnnnnnnnnnnnnnnnnnnnnnnnnnnnnnnnnnnnnnnn nnnnnnnnnnnnnnnnnnnnnnnnnnnnnnnnnnnnnnnnnnnnnnnnnnnnnnnnnnnnnnnnnnnnnnnnnnnnnnnnnnnnnnnnnnnnnnnnnnnnnnnnnnnnnnnnnnnnnnnnnnnnnn', 'ãùãÞnnnnnnnnnnnnnnnnnnnnnnnnnnnnnnnnnnnnnnnnnnnnnnnnnnnnnnnnnnnnnnnnnnnnnnnnnnnnnnnnnnnnnnnnnnnnnnnnnnnnnnnnnnnnnnnnnnnnnnnnnnnnnnnnnnn.nnnnnnnnnnnnnnnnnnnnnnnnnnnnnnnnnnnnnnnnnnnnnnnnnnnnn nnnnnnnnnnnn', 'ãùãÞnnnnnnnnnnnnnnnnnnnnnnnnnnnnnnnnnnnnnnnnnnnnnnnnnnnnnnnnnnnnnnnnnnnnnnnnnnnnnnnnnnnnnnnnnnnnnnnnnnnnnnnnnnnnnnnnnnnnnnnnnnnnnnnnnnnnnnnnnnnnnnnnnnnnnnnnnnnnnnnnnnnnnnnnnnnnnnnnnnnnnnnnnnnnnnnnnnnnnn', 'ãùãÞnnnnnnnnnnnnnnnnnnnnnnnnnnnnnnnnnnnnnnnnnnnnnnnnnnnnnnnnnnnnnnnnnnnnnnnnnnnnnnnnnnnnnnnnnnnnnnnnnnnnnnnnnnn nnnnnnnnnnnnnnnnnnnnnnnnnnnnnnnnnnnnnnnnnnnnnnnnnnnnnnnnnnnnnnnnnnnnnnnnnnnnnnnnnnnnnnnnnn', 'ãùãÞn nnnnnnnnnnnnnnnnnnnnnnnnnnnnnnnnnnnnnnnnnnnnnnnnnnnnnnnnnnnnnnnnnnnnnnnnnnnnnnnnnnnn nnnnnnnnnnnnnn nnnnnnnnnnnnnnnnnnnnnnnnnnnnnnnnnnnnnnnnnnnnnnnnnnnnnnnnnnnnnnnnnnnnnnnnnnnnnnnnnnnnnnnnnnnnnnnn', 'ãùãÞ nnnnnnnnnnnnnnnnnnnnnnn.nnn.nnnnnnnnnnnnnnnnnnnnnnnnnnnnnnnnnnnnnnnnnnnnnnnnnnnnnnnnnnnnnnnnnnnnnnnnnnnnnnnnnnnnnnnnnnnnnnnnnnnnnnnnnnnnnnnnnnnnnnnnnnnnnnnnnnnnnnnnnnnnnnnnnnnnnnnnnnnnnnnnnnnnnnnnn', 'ãùãÞnn nnnnnnnnnnnnnnnnnnnnnnnnnnnnnnnnnnnnnnnnnnnnnnnnnnnnnnnnnnnnnnnnnnnnnnnnnnnnnnnnnnnnnnnnnnnnnnnnnnnnnnnnnnnnnnnnnnnnnnnnnnnnnnnnnnnnnnnnnnnnnnnnnnnnnnnnnnnnnnnnnnnnnnnnnnnnnnnnnnnnnnnnnnnnnnnnnnn', 'ãùãÞnnnnnnnnnnnnnnnnnnnnnnnnnnnnnnnnnnnnnnnnnnnnnnnnnnnnnnnnnnnnnnnnnnnnnnnnnnnnnnnnnnnnnnnnnnnnnnnnnnnnnnnnnnnnnnnnnnnnnnnnnnnnnnnnnnnnnnnnnnnnnnnnnnnnnnnnnnnnnnnnnnnnnnnnnnnnnnnnnnnnnnnnnnnnnnnnnnnnnn', 'ãùãÞnnnnnnnnnnnnnnnnnnnnnnnnnnnnnnnnnnnnnnnnnnnnnnnnnnnnnnn.nnnnnnnnnnnnnnnnnnnnnnnnnnnnnnnnnnnnnnnnnnnnnnnnnnnnnnnnnnnnnnnnnnnnnnnnnnnnnnnnnnnnnnnnnnnnnnnnnnnnnnnnnnnnnnnnnnnnnnnnnnnnnnnnnnnnnnnnnnnnnn', 'ãùãÞnnnnnnnnnnnnnnnnnnnnnnnnnnnnnnnnnnnnnnnnnnnnnnnnn nnnnnnnnnnnnnnnnnnnnnnnnnnnnnnnnnnnnnnnnnnnnnnnnnnnnnnnnnnnnnnnnnnnnnnnnnnnnnnnnnn nnnnnnnnnnnnnnnnnnnnnnnnnnnnnnnnnnnnnnnnnnnnnnnnnnnnnnnnnnnnnnnnn', 'ãùãÞ nnnnnnnnnnnnnnnnnnnnnnnnnnnnnnnnnnnnnnnnnnnnnnnnnnnnnnnnnnnnnnnnnnnnnnnnnnnnnnnnnnnnnnnnnnnnnnnnnnnnnnnnnnnnnnnnnnnnnnnnnnnnnnnnnnnnnnnnnnnnnnnnnnnnnnnnnnnnnnnnnnnnnnnnnnnnnnnnnnnnnnnnnnnnnnnnnnnnn', 'ãùãÞnnnnnnnnnnnnnnnnnnnnnnnnnnnnnnnnnnnnnnnnnnnnnnnnnnnnnnnnnnnnnnnnnnnnnnnnnnnnnnnnnnnnnnnnnnnnnnnnnnnnnnnnnnnnnnnnnnnnnnnnnnnnnnnnnnnnnnnnnnnnnnnnnnnnnnnnnnnnnnnnnnnnnnnnnnnnnnnnnnnnnnnn.nnnnnnnnnnnnn', 'ãùãÞnnnnnnnnnnnnnnnnnnnnnnnnnnnnnnnnnnnnnnnnnnnnn.nnnnnnnnnnnnnnnnnnnnnnnnnnnnnnnnnnnnnnnnnnnnnnnnnnnnnnnnnnnnnn nnnnnnnnnnnnnnnnnnnnnnnnnnnnnnnnnnnnnnnnnnnnnnnnnnnnnnnnnnnnnnnnnnnnnnnnnnnnnnnnnnnnnnnnn', 'ãùãÞnnnnnnnnnnnnnnnnnnnnnnnnnnnnnnnnnnnnnnnnnnnnnnnnnnnnnnnnnnnnnnnnnnnnnnnnnnnnnnnnnnnnnnnn.nnnnnnnnnnnnnnnnnnnnnnnnnnnnnnnnnnnnnnnnnnnnnnnnnnnnnnnnnnnnnnnnnnnnnnnnnnnnnnnnnnnnnnn nnnnnnnnnnnnnnnnnnnnn']\n"
     ]
    },
    {
     "name": "stderr",
     "output_type": "stream",
     "text": [
      "[nltk_data] Downloading package wordnet to\n",
      "[nltk_data]     /Users/andreacimmino/nltk_data...\n",
      "[nltk_data]   Package wordnet is already up-to-date!\n",
      "[nltk_data] Downloading package punkt_tab to\n",
      "[nltk_data]     /Users/andreacimmino/nltk_data...\n",
      "[nltk_data]   Package punkt_tab is already up-to-date!\n",
      "[nltk_data] Downloading package omw-1.4 to\n",
      "[nltk_data]     /Users/andreacimmino/nltk_data...\n",
      "[nltk_data]   Package omw-1.4 is already up-to-date!\n"
     ]
    }
   ],
   "execution_count": 25
  },
  {
   "metadata": {
    "ExecuteTime": {
     "end_time": "2025-01-19T18:42:13.797227Z",
     "start_time": "2025-01-19T18:42:13.159505Z"
    }
   },
   "cell_type": "code",
   "source": [
    "import matplotlib.pyplot as plt\n",
    "\n",
    "# Sustituye estos valores por los resultados reales\n",
    "scores_t5 = {\n",
    "    \"BLEU\": bleu_t5_trained['bleu'],\n",
    "    \"METEOR\": meteor_t5_trained[\"meteor\"],\n",
    "    \"ROUGE-1\": rouge_t5_trained[\"rouge1\"],\n",
    "    \"ROUGE-2\": rouge_t5_trained[\"rouge2\"],\n",
    "    \"ROUGE-L\": rouge_t5_trained[\"rougeL\"]\n",
    "}\n",
    "\n",
    "scores_marian = {\n",
    "    \"BLEU\": bleu_marian_trained[\"bleu\"],\n",
    "    \"METEOR\": meteor_marian_trained[\"meteor\"],\n",
    "    \"ROUGE-1\": rouge_marian_trained[\"rouge1\"],\n",
    "    \"ROUGE-2\": rouge_marian_trained[\"rouge2\"],\n",
    "    \"ROUGE-L\": rouge_marian_trained[\"rougeL\"],\n",
    "}\n",
    "\n",
    "# Crear gráfico\n",
    "labels = list(scores_t5.keys())\n",
    "t5_values = list(scores_t5.values())\n",
    "marian_values = list(scores_marian.values())\n",
    "\n",
    "x = range(len(labels))\n",
    "\n",
    "plt.figure(figsize=(10, 6))\n",
    "plt.bar(x, t5_values, width=0.4, label=\"T5\", align=\"center\")\n",
    "plt.bar([i + 0.4 for i in x], marian_values, width=0.4, label=\"MarianMT\", align=\"center\")\n",
    "\n",
    "# Configurar etiquetas y leyenda\n",
    "plt.xticks([i + 0.2 for i in x], labels)\n",
    "plt.xlabel(\"Métricas\")\n",
    "plt.ylabel(\"Puntaje\")\n",
    "plt.title(\"Comparación de Métricas entre T5 y MarianMT\")\n",
    "plt.legend()"
   ],
   "id": "5fb81492ed6ea467",
   "outputs": [
    {
     "data": {
      "text/plain": [
       "<matplotlib.legend.Legend at 0x24cc048d0>"
      ]
     },
     "execution_count": 26,
     "metadata": {},
     "output_type": "execute_result"
    },
    {
     "data": {
      "text/plain": [
       "<Figure size 1000x600 with 1 Axes>"
      ],
      "image/png": "[encoded data removed]"
     },
     "metadata": {},
     "output_type": "display_data"
    }
   ],
   "execution_count": 26
  }
 ],
 "metadata": {
  "kernelspec": {
   "display_name": "Python 3",
   "language": "python",
   "name": "python3"
  },
  "language_info": {
   "codemirror_mode": {
    "name": "ipython",
    "version": 2
   },
   "file_extension": ".py",
   "mimetype": "text/x-python",
   "name": "python",
   "nbconvert_exporter": "python",
   "pygments_lexer": "ipython2",
   "version": "2.7.6"
  }
 },
 "nbformat": 4,
 "nbformat_minor": 5
}
