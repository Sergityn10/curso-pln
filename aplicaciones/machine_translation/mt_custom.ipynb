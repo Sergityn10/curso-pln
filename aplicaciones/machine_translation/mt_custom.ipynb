{
 "cells": [
  {
   "metadata": {},
   "cell_type": "markdown",
   "source": "## Traducción de Inglés a Sindarin",
   "id": "3bb8d98c335e60cf"
  },
  {
   "metadata": {},
   "cell_type": "markdown",
   "source": "En este notebook vamos a entrenar los modelos Marian y T5 para que aprendan el lenguaje Sindarin. Para ellos, podemos",
   "id": "8d86d73a3c635a40"
  },
  {
   "metadata": {},
   "cell_type": "code",
   "source": [
    "from huggingface_hub import login\n",
    "\n",
    "token = \"\"\n",
    "print(\"Hugging Face logging\")\n",
    "login(token)"
   ],
   "id": "c7ef07d4f39043fc",
   "outputs": [],
   "execution_count": null
  },
  {
   "metadata": {},
   "cell_type": "code",
   "source": [
    "import torch\n",
    "device_setup = \"cuda\" if torch.cuda.is_available() else \"cpu\"\n",
    "print(\"Using: \", device_setup)\n",
    "\n",
    "import os\n",
    "os.environ[\"TOKENIZERS_PARALLELISM\"] = \"false\""
   ],
   "id": "e3348d3243251110",
   "outputs": [],
   "execution_count": null
  },
  {
   "metadata": {},
   "cell_type": "code",
   "source": [
    "from libs.mts import T5MT, MarianMT\n",
    "from libs.mts import load_pretrained_t5, load_pretrained_marian_mt"
   ],
   "id": "e2e056e7d51f64e2",
   "outputs": [],
   "execution_count": null
  },
  {
   "metadata": {},
   "cell_type": "markdown",
   "source": "## Entrenamiento/Refinamiento de un modelo\n",
   "id": "cd5d4f6b84c002ce"
  },
  {
   "metadata": {},
   "cell_type": "markdown",
   "source": "### Construcción de un dataset para el entrenamiento",
   "id": "f2eb72811223aeb9"
  },
  {
   "metadata": {},
   "cell_type": "markdown",
   "source": [
    "Lo primero a realizar es preparar un conjunto de entrenamiento y otro de evaluación para la tarea de traducir de Inglés a Sindarin, para maximizar las posibilidades de obtener buenos resultados vamos a realizar un entrenamiento y evaluación con overfit. Para ello, se proporciona la función `build_datasets()`  presente en el paquete `libs.lotr_ds_builder`.\n",
    "\n",
    "Prepare dos conjuntos de datos: `train_dataset` y `eval_dataset`. Pudiendo contener el segundo elementos del primero, en caso de obtener resultados demasiado buenos habría hacer dos conjuntos de datos disjuntos."
   ],
   "id": "815e27d9c73fb8ea"
  },
  {
   "metadata": {},
   "cell_type": "code",
   "source": [
    "from libs.lotr_ds_builder import build_datasets\n",
    "from datasets import Dataset\n",
    "\n",
    "# TODO: Utilizar la función build_datasets() y generar un traing_dataset y test_dataset de Inglés a Sindarin\n",
    "\n",
    "# TODO: Cargar los datasets usando la clase Dataset\n",
    "\n",
    "# TODO: Mostrar la primera frase, la utilizaremos para probar los modelos\n"
   ],
   "id": "f2edad9214d04b3b",
   "outputs": [],
   "execution_count": null
  },
  {
   "metadata": {},
   "cell_type": "markdown",
   "source": "## Entrenar un modelo MarianMT",
   "id": "6e7d3541bb8ff43a"
  },
  {
   "metadata": {},
   "cell_type": "markdown",
   "source": "Siguiendo la explicación del notebook `mt_finetuned` entrene un modelo Marian. Puede utilizar un modelo baseline y refinarlo o uno desde 0.",
   "id": "816f8821b79d7a6b"
  },
  {
   "metadata": {},
   "cell_type": "code",
   "source": [
    "# TODO: Crear el modelo MarianMT desde cero o refinar uno existente\n",
    "\n",
    "# TODO: Entrenar el modelo\n",
    "\n",
    "# TODO: Guardar el modelo en \"./models/trained-marian-en-sindarin\"\n"
   ],
   "id": "32164aad639c5b43",
   "outputs": [],
   "execution_count": null
  },
  {
   "metadata": {},
   "cell_type": "markdown",
   "source": "Una vez entrenado el modelo usar el siguiente código para comprobar como traduce una frase del dataset:",
   "id": "843e6c95b25556e3"
  },
  {
   "metadata": {},
   "cell_type": "code",
   "source": [
    "marian_model_trained = MarianMT(model_name=\"./models/trained-marian-en-sindarin\", cache_dir=\"./models/trained-marian-en-sindarin\")\n",
    "text = \"Who brings to us this token of darkness?\"\n",
    "translated_text = marian_model_trained.translate(text)\n",
    "print(\">Marian trained: \", translated_text)"
   ],
   "id": "5cb63011363e2b94",
   "outputs": [],
   "execution_count": null
  },
  {
   "metadata": {},
   "cell_type": "markdown",
   "source": "## Entrenar un modelo T5\n",
   "id": "267a91a90aa51f56"
  },
  {
   "metadata": {},
   "cell_type": "markdown",
   "source": "Siguiendo la explicación del notebook `mt_finetuned` entrene un modelo T5. Puede utilizar un modelo baseline y refinarlo o uno desde 0.",
   "id": "a2ea069317aa4d82"
  },
  {
   "metadata": {},
   "cell_type": "code",
   "source": [
    "# TODO: Crear el modelo MarianMT desde cero o refinar uno existente\n",
    "\n",
    "# TODO: Entrenar el modelo\n",
    "\n",
    "# TODO: Guardar el modelo en \"./models/trained-t5-en-sindarin\"\n"
   ],
   "id": "48fefd1f03c131fb",
   "outputs": [],
   "execution_count": null
  },
  {
   "metadata": {},
   "cell_type": "markdown",
   "source": "Utilizando el primer modelo, generar una version refinada que esté entrenada con el dataset",
   "id": "eeb6b092f20d4300"
  },
  {
   "metadata": {},
   "cell_type": "code",
   "source": [
    "t5_trained_model = T5MT(model_name=\"./models/trained-t5-en-sindarin\", cache_dir=\"./models/trained-t5-en-sindarin\")\n",
    "text = \"Who brings to us this token of darkness?\"\n",
    "translated_text = t5_trained_model.translate(text)\n",
    "print(\">Marian trained: \", translated_text)"
   ],
   "id": "8ccf5a83294c038e",
   "outputs": [],
   "execution_count": null
  },
  {
   "metadata": {},
   "cell_type": "markdown",
   "source": "## Comparar todos los modelos usando las metricas BLEU, METEOR y ROUGE",
   "id": "d38362b7cede7913"
  },
  {
   "metadata": {},
   "cell_type": "code",
   "source": "# TODO: cacular los valores de las distintas métricas para los dos modelos",
   "id": "33323ab6d28dbca2",
   "outputs": [],
   "execution_count": null
  },
  {
   "metadata": {},
   "cell_type": "code",
   "source": [
    "import matplotlib.pyplot as plt\n",
    "\n",
    "scores_t5 = {\n",
    "    # TODO: incluir scores\n",
    "}\n",
    "\n",
    "scores_marian = {\n",
    "    # TODO: incluir scores\n",
    "}\n",
    "\n",
    "# Crear gráfico\n",
    "labels = list(scores_t5.keys())\n",
    "t5_values = list(scores_t5.values())\n",
    "marian_values = list(scores_marian.values())\n",
    "\n",
    "x = range(len(labels))\n",
    "\n",
    "plt.figure(figsize=(10, 6))\n",
    "plt.bar(x, t5_values, width=0.4, label=\"T5\", align=\"center\")\n",
    "plt.bar([i + 0.4 for i in x], marian_values, width=0.4, label=\"MarianMT\", align=\"center\")\n",
    "\n",
    "# Configurar etiquetas y leyenda\n",
    "plt.xticks([i + 0.2 for i in x], labels)\n",
    "plt.xlabel(\"Métricas\")\n",
    "plt.ylabel(\"Puntaje\")\n",
    "plt.title(\"Comparación de Métricas entre T5 y MarianMT\")\n",
    "plt.legend()"
   ],
   "id": "5fb81492ed6ea467",
   "outputs": [],
   "execution_count": null
  }
 ],
 "metadata": {
  "kernelspec": {
   "display_name": "Python 3",
   "language": "python",
   "name": "python3"
  },
  "language_info": {
   "codemirror_mode": {
    "name": "ipython",
    "version": 2
   },
   "file_extension": ".py",
   "mimetype": "text/x-python",
   "name": "python",
   "nbconvert_exporter": "python",
   "pygments_lexer": "ipython2",
   "version": "2.7.6"
  }
 },
 "nbformat": 4,
 "nbformat_minor": 5
}
