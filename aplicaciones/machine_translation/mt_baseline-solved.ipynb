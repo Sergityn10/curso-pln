{
 "cells": [
  {
   "metadata": {},
   "cell_type": "markdown",
   "source": [
    "# Uso de modelos para traducción\n",
    "## Machine Translation\n",
    "\n"
   ],
   "id": "8a77807f92f26ee"
  },
  {
   "metadata": {},
   "cell_type": "markdown",
   "source": "En este notebook vamos a usar diversos modelos para la traducción automática entre idiomas",
   "id": "233f4109de972cc8"
  },
  {
   "metadata": {
    "ExecuteTime": {
     "end_time": "2025-01-19T16:04:58.063743Z",
     "start_time": "2025-01-19T16:04:57.873845Z"
    }
   },
   "cell_type": "code",
   "source": [
    "from huggingface_hub import login\n",
    "token = \"\"\n",
    "print(\"Hugging Face logging\")\n",
    "login(token)"
   ],
   "id": "763042b074e946dd",
   "outputs": [
    {
     "name": "stdout",
     "output_type": "stream",
     "text": [
      "Hugging Face logging\n"
     ]
    }
   ],
   "execution_count": 109
  },
  {
   "metadata": {
    "ExecuteTime": {
     "end_time": "2025-01-19T16:04:58.076921Z",
     "start_time": "2025-01-19T16:04:58.070602Z"
    }
   },
   "cell_type": "code",
   "source": [
    "import torch\n",
    "device_setup = \"cuda\" if torch.cuda.is_available() else \"cpu\"\n",
    "print(\"Using: \", device_setup)\n",
    "\n",
    "import os\n",
    "os.environ[\"TOKENIZERS_PARALLELISM\"] = \"false\""
   ],
   "id": "9db7f0f108ac5411",
   "outputs": [
    {
     "name": "stdout",
     "output_type": "stream",
     "text": [
      "Using:  cpu\n"
     ]
    }
   ],
   "execution_count": 110
  },
  {
   "metadata": {},
   "cell_type": "markdown",
   "source": "Para simplificar el uso de los distintos modelos, vamos a definir una clase abstracta que implementaremos con los distintos modelos que veamos:",
   "id": "b4e5819f30d7b926"
  },
  {
   "metadata": {
    "ExecuteTime": {
     "end_time": "2025-01-19T16:04:58.107661Z",
     "start_time": "2025-01-19T16:04:58.104247Z"
    }
   },
   "cell_type": "code",
   "source": [
    "from abc import ABC, abstractmethod\n",
    "\n",
    "class AbstractMT(ABC):\n",
    "\n",
    "    @abstractmethod\n",
    "    def translate(self, text, do_sample=True, temperature=0.1):\n",
    "        pass\n",
    "\n",
    "\n",
    "    def translate_batch(self, texts, do_sample=True, temperature=0.1):\n",
    "        return [self.translate(text, do_sample=do_sample, temperature=temperature) for text in texts]\n"
   ],
   "id": "f270d4a5ca221b35",
   "outputs": [],
   "execution_count": 111
  },
  {
   "metadata": {},
   "cell_type": "markdown",
   "source": "## Modelos entrenados inglés-español",
   "id": "4b6a2f5be8ae37d5"
  },
  {
   "metadata": {},
   "cell_type": "markdown",
   "source": [
    "En [Hugging Face](https://huggingface.co/models) existen multiples modelos, entre los cuales, modelos orientados a machine translation. Entre los más utilizados encontramos:\n",
    "\n",
    "* MarianMT: es un modelo especializado para traducción automática, para nuestro problema vamos a usar la versión preentrenada para inglés a español `Helsinki-NLP/opus-mt-en-es`.\n",
    "* T5: es un modelo versátil preentrenado para varias tareas, incluyendo traducción. Para nuestro problema vamos a utilizar la versión más ligera `t5-small`."
   ],
   "id": "c50f76c8250f09f2"
  },
  {
   "metadata": {},
   "cell_type": "markdown",
   "source": "### Modelo MarianMT\n",
   "id": "826b3dcd4edc8eaa"
  },
  {
   "metadata": {},
   "cell_type": "markdown",
   "source": "Para cargar un modelo MarianMt utilizaremos el método estático de la clase con el mismo nombre `MarianMTModel.from_pretrained` indicando el nombre del modelo, que en este caso es [Helsinki-NLP/opus-mt-en-es](https://huggingface.co/Helsinki-NLP/opus-mt-en-es) y los parámetro `cache_dir` y `local_files_only` que sirven para que la primera vez se descargue el modelo y las posteriores ejecuciones se hagan usando el modelo descargado en lugar de volver a descargarlo  en cada ejecución.",
   "id": "2e2d64a0158fd879"
  },
  {
   "metadata": {
    "ExecuteTime": {
     "end_time": "2025-01-19T16:05:00.624244Z",
     "start_time": "2025-01-19T16:04:58.119808Z"
    }
   },
   "cell_type": "code",
   "source": [
    "from transformers import MarianTokenizer, MarianMTModel\n",
    "\n",
    "def load_pretrained_marian_mt():\n",
    "    global device_setup\n",
    "    marian_model = MarianMTModel.from_pretrained(\"Helsinki-NLP/opus-mt-en-es\", cache_dir=\"./models/pretrained_marian_en-es\", local_files_only=False).to(device_setup)\n",
    "    marian_tokenizer = MarianTokenizer.from_pretrained(\"Helsinki-NLP/opus-mt-en-es\", cache_dir=\"./models/pretrained_marian_en-es\", local_files_only=False)\n",
    "    return marian_model, marian_tokenizer\n",
    "\n",
    "marian_model, marian_tokenizer = load_pretrained_marian_mt()\n",
    "\n",
    "text = \"On the table, there were a good number of topics\"\n",
    "inputs = marian_tokenizer(text, return_tensors=\"pt\")\n",
    "translated_tokens = marian_model.generate(**inputs, do_sample=False, temperature=1.0)\n",
    "translated_text = marian_tokenizer.decode(translated_tokens[0], skip_special_tokens=True)\n",
    "print(translated_text)"
   ],
   "id": "5da641c9d42b7170",
   "outputs": [
    {
     "name": "stdout",
     "output_type": "stream",
     "text": [
      "Sobre la mesa, había un buen número de temas\n"
     ]
    }
   ],
   "execution_count": 112
  },
  {
   "metadata": {},
   "cell_type": "markdown",
   "source": [
    "Notese que para utilizar el modelo, tenemos que pasar las entradas por el tokenizador y por el modelo. Para pasarla por el modelo utilizamos el método `.generate()` que posee varios parámetros interesantes:\n",
    "\n",
    "* `do_sample` indica si el modelo debe muestrear probabilidades de las palabras posibles en cada paso, en lugar de elegir únicamente la palabra con la probabilidad más alta (modo greedy). Si valor es False (predeterminado)no se hace ningún muestreo y el modelo selecciona la palabra con la probabilidad más alta en cada paso (modo greedy o beam search). En cambio, si su valor es True se hacen muestreos según las probabilidades de las palabras posibles, lo que permite generar salidas más variadas. Es decir, utilizando `do_sample=False` se obtienen traducciones más deterministas y consistentes, en cambio, usando `do_sample=True` se obtienen resultados más creativos o variados, pero menos deterministas.\n",
    "* `temperature` escala las probabilidades de las palabras generadas por el modelo, controlando la \"aleatoriedad\" del muestreo. Puede tomar los siguientes valores: un valor mayor a 1.0 aumenta la diversidad favoreciendo palabras menos probables; un valor menor a 1.0 reduce la diversidad, concentrándose en palabras más probables; un valor de 1.0 (predeterminado) utiliza las probabilidades originales del modelo. Por lo tanto, cuando `do_sample=False`, este parámetro no tiene efecto (porque no hay muestreo). Por el contrario, si `do_sample=True` regula la aleatoriedad en las generaciones.\n",
    "* `num_beams` activa el beam search, una técnica que explora múltiples caminos en paralelo para encontrar la secuencia más probable. Puede tomar distintos valores: `num_beams=1` (predeterminado) indica un modo de operación greedy; `num_beams>1` indica el número de caminos a explorar. Este parámetro puede mejorar la calidad de las generaciones a costa de mayor tiempo de cómputo si se aumenta su valor."
   ],
   "id": "a96fde84b259c121"
  },
  {
   "metadata": {},
   "cell_type": "markdown",
   "source": "Usando el código anterior, vamos a empaquetarlo en una clase hija de AbstractMT",
   "id": "2e9c3f99cee7b2da"
  },
  {
   "metadata": {
    "ExecuteTime": {
     "end_time": "2025-01-19T16:05:00.641490Z",
     "start_time": "2025-01-19T16:05:00.638011Z"
    }
   },
   "cell_type": "code",
   "source": [
    "class MarianMT(AbstractMT):\n",
    "\n",
    "    def __init__(self, model_name=\"Helsinki-NLP/opus-mt-en-es\", cache_dir=\"./models/opus-mt-en-es\"):\n",
    "        global device_setup\n",
    "        self.model = MarianMTModel.from_pretrained(model_name, cache_dir=cache_dir).to(device_setup)\n",
    "        self.tokenizer = MarianTokenizer.from_pretrained(model_name, cache_dir=cache_dir)\n",
    "\n",
    "\n",
    "    def translate(self, text, do_sample=True, temperature=0.1):\n",
    "        global device_setup\n",
    "        # Tokenizar la entrada\n",
    "        inputs_tokenized = self.tokenizer(text, return_tensors=\"pt\", padding=True, truncation=True).to(device_setup)\n",
    "        # Traducir\n",
    "        translated_tokens = self.model.generate(**inputs_tokenized, max_length=200, do_sample=do_sample,  temperature=temperature)\n",
    "        # Decodificar salida\n",
    "        return self.tokenizer.decode(translated_tokens[0], skip_special_tokens=True)\n"
   ],
   "id": "d72aea2b0332abdf",
   "outputs": [],
   "execution_count": 113
  },
  {
   "metadata": {},
   "cell_type": "markdown",
   "source": [
    "#### Tarea MTB1\n",
    "Usar la clase `MarianMT` para traducir la frase  \"On the table, there were a good number of topics\""
   ],
   "id": "ce98b620112722cd"
  },
  {
   "metadata": {
    "ExecuteTime": {
     "end_time": "2025-01-19T16:05:03.237720Z",
     "start_time": "2025-01-19T16:05:00.652446Z"
    }
   },
   "cell_type": "code",
   "source": [
    "mariam_mt = MarianMT()\n",
    "text = \"On the table, there were a good number of topics\"\n",
    "\n",
    "# DONE: traducir la frase e imprimirla por pantalla\n",
    "translated_text = mariam_mt.translate(text)\n",
    "print(translated_text)"
   ],
   "id": "787da9e92e7e9258",
   "outputs": [
    {
     "name": "stdout",
     "output_type": "stream",
     "text": [
      "Sobre la mesa, había un buen número de temas\n"
     ]
    }
   ],
   "execution_count": 114
  },
  {
   "metadata": {},
   "cell_type": "markdown",
   "source": [
    "#### Tarea MTB2\n",
    "Usar la clase `MarianMT` para traducir el array de frases"
   ],
   "id": "743f0d09c7f77609"
  },
  {
   "metadata": {
    "ExecuteTime": {
     "end_time": "2025-01-19T16:05:04.010333Z",
     "start_time": "2025-01-19T16:05:03.264701Z"
    }
   },
   "cell_type": "code",
   "source": [
    "texts = [\"On the table, there were a good number of topics\", \"manners maketh the man\"]\n",
    "\n",
    "# DONE: traducir las frases e imprimirlas por pantalla\n",
    "translated_text = mariam_mt.translate_batch(texts)\n",
    "print(translated_text)"
   ],
   "id": "c088f94396e1c5b4",
   "outputs": [
    {
     "name": "stdout",
     "output_type": "stream",
     "text": [
      "['Sobre la mesa, había un buen número de temas', 'los modales hacen al hombre']\n"
     ]
    }
   ],
   "execution_count": 115
  },
  {
   "metadata": {},
   "cell_type": "markdown",
   "source": [
    "#### Tarea MTB3\n",
    "\n",
    "Cambiar los parámetros `do_sample=True` y probar `temperature` con valores como 0.1, 0.7, 0.5, 1, 1.5, 2.0, 4.0, 8.0 para que el modelo haga traducciones o generaciones lo menos deterministas posible, es decir, produzca alucinaciones."
   ],
   "id": "d415f2fecaab454"
  },
  {
   "metadata": {
    "ExecuteTime": {
     "end_time": "2025-01-19T16:05:14.112704Z",
     "start_time": "2025-01-19T16:05:04.023168Z"
    }
   },
   "cell_type": "code",
   "source": [
    "text = \"On the table, there were a good number of topics\"\n",
    "# DONE: Para cada una de las temperaturas generar una traducción de la frase\n",
    "temperatures = [0.1, 0.7, 0.5, 1, 1.5, 2.0, 4.0, 8.0]\n",
    "for temperature in temperatures:\n",
    "    translated_text = mariam_mt.translate(text, temperature=temperature)\n",
    "    print(\"Translation (t=\",temperature,\"): \",translated_text)"
   ],
   "id": "26ccabd2fb263e",
   "outputs": [
    {
     "name": "stdout",
     "output_type": "stream",
     "text": [
      "Translation (t= 0.1 ):  Sobre la mesa, había un buen número de temas\n",
      "Translation (t= 0.7 ):  Sobre la mesa, había un buen número de temas\n",
      "Translation (t= 0.5 ):  Sobre la mesa, había un buen número de temas\n",
      "Translation (t= 1 ):  Sobre la mesa, había un buen número de temas\n",
      "Translation (t= 1.5 ):  Sobre la mesa, había un buen número de temas\n",
      "Translation (t= 2.0 ):  Sobre la mesa, había un buen número de temas\n",
      "Translation (t= 4.0 ):  En el turno de oradores, el público había muy diversos temas a abordar\n",
      "Translation (t= 8.0 ):  Una vez presentados, muchos serán temas importantes del debate de orientación entre estos países en torno, al cual también es necesario poner fin de modo preciso a las situaciones conflictivo de sus regiones nacionales. La Unión se basará a este respecto para facilitarles una evaluación de los objetivos\n"
     ]
    }
   ],
   "execution_count": 116
  },
  {
   "metadata": {},
   "cell_type": "markdown",
   "source": "Repita el mismo código para la frase `manners maketh the man`",
   "id": "1fef91e0227da244"
  },
  {
   "metadata": {
    "ExecuteTime": {
     "end_time": "2025-01-19T16:05:18.117298Z",
     "start_time": "2025-01-19T16:05:14.126965Z"
    }
   },
   "cell_type": "code",
   "source": [
    "text = \"manners maketh the man\"\n",
    "# DONE: Para cada una de las temperaturas generar una traducción de la frase\n",
    "temperatures = [0.1, 0.7, 0.5, 1, 1.5, 2.0, 4.0, 8.0]\n",
    "for temperature in temperatures:\n",
    "    translated_text = mariam_mt.translate(text, temperature=temperature)\n",
    "    print(\"Translation (t=\",temperature,\"): \",translated_text)"
   ],
   "id": "d871d27b11277ae",
   "outputs": [
    {
     "name": "stdout",
     "output_type": "stream",
     "text": [
      "Translation (t= 0.1 ):  los modales hacen al hombre\n",
      "Translation (t= 0.7 ):  los modales hacen al hombre\n",
      "Translation (t= 0.5 ):  los modales hacen al hombre\n",
      "Translation (t= 1 ):  modales hacen al hombre\n",
      "Translation (t= 1.5 ):  los modales hacen al hombre\n",
      "Translation (t= 2.0 ):  los modales le hacen al hombre\n",
      "Translation (t= 4.0 ):  maneras de hacer de un hombre\n",
      "Translation (t= 8.0 ):  las actitudes de hacer Dios...\n"
     ]
    }
   ],
   "execution_count": 117
  },
  {
   "metadata": {},
   "cell_type": "markdown",
   "source": "### Modelo T5",
   "id": "8d7f876922cfc2e5"
  },
  {
   "metadata": {},
   "cell_type": "markdown",
   "source": "Para cargar un modelo T5 utilizaremos el método estático de la clase con el mismo nombre `T5ForConditionalgeneration.from_pretrained` indicando el nombre del modelo, que en este caso es [t5-small](https://huggingface.co/google-t5/t5-small) y los parámetro `cache_dir` y `local_files_only` que sirven para que la primera vez se descargue el modelo y las posteriores ejecuciones se hagan usando el modelo descargado en lugar de volver a descargarlo en cada ejecución. Además del modelo small, existen variantes más complejas y pesadas, como el [t5-base](https://huggingface.co/google-t5/t5-base) o el [t5-large](https://huggingface.co/google-t5/t5-large).",
   "id": "36f71e9888a3e470"
  },
  {
   "metadata": {
    "ExecuteTime": {
     "end_time": "2025-01-19T16:05:20.528658Z",
     "start_time": "2025-01-19T16:05:18.128270Z"
    }
   },
   "cell_type": "code",
   "source": [
    "from transformers import T5Tokenizer, T5ForConditionalGeneration\n",
    "\n",
    "def load_pretrained_t5():\n",
    "    global device_setup\n",
    "    # También existen t5-base o t5-large\n",
    "    t5_model = T5ForConditionalGeneration.from_pretrained(\"vgaraujov/t5-base-translation-en-es\", cache_dir=\"./models/pretrained_t5_en-es\", local_files_only=False).to(device_setup)\n",
    "    t5_tokenizer = T5Tokenizer.from_pretrained(\"vgaraujov/t5-base-translation-en-es\", cache_dir=\"./models/pretrained_t5_en-es\", local_files_only=False)\n",
    "    return t5_model, t5_tokenizer\n",
    "\n",
    "t5_model, t5_tokenizer = load_pretrained_t5()\n",
    "\n",
    "text = \"On the table, there were a good number of topics\"\n",
    "inputs = t5_tokenizer(text, return_tensors=\"pt\")\n",
    "translated_tokens = t5_model.generate(**inputs, do_sample=False, max_length=200, temperature=1.0)\n",
    "translated_text = t5_tokenizer.decode(translated_tokens[0], skip_special_tokens=True)\n",
    "print(translated_text)"
   ],
   "id": "fbc121e30a2defb3",
   "outputs": [
    {
     "name": "stdout",
     "output_type": "stream",
     "text": [
      "En la mesa, hubo un buen número de temas.\n"
     ]
    }
   ],
   "execution_count": 118
  },
  {
   "metadata": {},
   "cell_type": "markdown",
   "source": [
    "#### Tarea MB4\n",
    "\n",
    "Igual que antes, para facilitar el uso del modelo vamos a empaquetar el código anterior en una clase llamada `T5MT`. Cree dicha clase en la siguiente celda"
   ],
   "id": "620e529b65984d71"
  },
  {
   "metadata": {
    "ExecuteTime": {
     "end_time": "2025-01-19T16:05:20.553137Z",
     "start_time": "2025-01-19T16:05:20.549382Z"
    }
   },
   "cell_type": "code",
   "source": [
    "from transformers import T5Tokenizer, T5ForConditionalGeneration\n",
    "\n",
    "class T5MT(AbstractMT):\n",
    "\n",
    "    def __init__(self, model_name=\"vgaraujov/t5-base-translation-en-es\", cache_dir=\"./models/t5-base-translation-en-es\"):\n",
    "        global device_setup\n",
    "        self.model = T5ForConditionalGeneration.from_pretrained(model_name, cache_dir=cache_dir, local_files_only=False).to(device_setup)\n",
    "\n",
    "        self.tokenizer = T5Tokenizer.from_pretrained(model_name, cache_dir=cache_dir, local_files_only=False)\n",
    "\n",
    "\n",
    "    def translate(self, text, do_sample=True, temperature=0.1):\n",
    "        global device_setup\n",
    "        # Tokenizar la entrada\n",
    "        inputs_tokenized = self.tokenizer(text, padding=True, truncation=True, return_tensors=\"pt\").to(device_setup)\n",
    "        # Traducir\n",
    "        translated_tokens = self.model.generate(**inputs_tokenized, max_length=200, do_sample=do_sample, temperature=temperature)\n",
    "        # Decodificar salida\n",
    "        return self.tokenizer.decode(translated_tokens[0], skip_special_tokens=True)\n"
   ],
   "id": "d29f1b056740516e",
   "outputs": [],
   "execution_count": 119
  },
  {
   "metadata": {
    "ExecuteTime": {
     "end_time": "2025-01-19T16:05:22.422297Z",
     "start_time": "2025-01-19T16:05:20.556790Z"
    }
   },
   "cell_type": "code",
   "source": [
    "t5_mt = T5MT()\n",
    "\n",
    "text = \"On the table, there were a good number of topics\"\n",
    "translated_text = t5_mt.translate(text)\n",
    "print(translated_text)"
   ],
   "id": "7bafd4abb0db7a6e",
   "outputs": [
    {
     "name": "stdout",
     "output_type": "stream",
     "text": [
      "En la mesa, hubo un buen número de temas.\n"
     ]
    }
   ],
   "execution_count": 120
  },
  {
   "metadata": {
    "ExecuteTime": {
     "end_time": "2025-01-19T16:05:23.099220Z",
     "start_time": "2025-01-19T16:05:22.435211Z"
    }
   },
   "cell_type": "code",
   "source": [
    "texts = [\"On the table, there were a good number of topics\", \"manners maketh the man\"]\n",
    "translated_text = t5_mt.translate_batch(texts)\n",
    "print(translated_text)"
   ],
   "id": "bf1cf0f97ca0daa3",
   "outputs": [
    {
     "name": "stdout",
     "output_type": "stream",
     "text": [
      "['En la mesa, hubo un buen número de temas.', 'hace el modo de hacer el método.']\n"
     ]
    }
   ],
   "execution_count": 121
  },
  {
   "metadata": {},
   "cell_type": "markdown",
   "source": [
    "#### Tarea MTB5\n",
    "\n",
    "Cambiar los parámetros `do_sample=True` y probar `temperature` con valores como 0.1, 0.7, 0.5, 1, 1.5, 2.0, 4.0, 8.0 para que el modelo haga traducciones o generaciones lo menos deterministas posible, es decir, produzca alucinaciones.\n"
   ],
   "id": "be4e6c773946b808"
  },
  {
   "metadata": {
    "ExecuteTime": {
     "end_time": "2025-01-19T16:05:36.760357Z",
     "start_time": "2025-01-19T16:05:23.110536Z"
    }
   },
   "cell_type": "code",
   "source": [
    "text = \"On the table, there were a good number of topics\"\n",
    "# DONE: Para cada una de las temperaturas generar una traducción de la frase\n",
    "temperatures = [0.1, 0.7, 0.5, 1, 1.5, 2.0, 4.0, 8.0]\n",
    "for temperature in temperatures:\n",
    "    translated_text = t5_mt.translate(text, temperature=temperature)\n",
    "    print(\"Translation (t=\",temperature,\"): \",translated_text)"
   ],
   "id": "870ecfec2f7a8b7c",
   "outputs": [
    {
     "name": "stdout",
     "output_type": "stream",
     "text": [
      "Translation (t= 0.1 ):  En la mesa, hubo un buen número de temas.\n",
      "Translation (t= 0.7 ):  En la mesa hubo un buen número de temas.\n",
      "Translation (t= 0.5 ):  En la mesa, hubo una buena cantidad de temas.\n",
      "Translation (t= 1 ):  En las mesa había una buena cantidad de temas.\n",
      "Translation (t= 1.5 ):  Se puede visualizar esta sección cuando haces clic aquí.\n",
      "Translation (t= 2.0 ):  En el a o sobre el resultado del teta o, como máximo que se pueda, es r. n es por una cuestión: \"\"Cr. en oro... por ejemplo yo he puesto un gráfico a uno cuando un artista sabe: cuando usted escribe c doc y ve el archivo capo (en su forma cpu o su propio código\"... de su amigo m piè el caneo por ser del color amarillo atendiero al mundo?\", en efecto se han puesto algunos números con lbpp abajo).\n",
      "Translation (t= 4.0 ):  Pero después fue mucho más difícil decidirlo porque es posible a largo rato encontrar clushboard con esa variable. Incluso cuando llegó finalmente me documenté sobre myShi©xil hall -, por donde es importante saber las personas donde los hay anytélico en ese orden mientras se tratara -..., y ya veremos la posibilidad para cambiar los nombres cuando nos vea que un profesor trabaja contigo lo antes. Entonces es una verdadera delicia descubrir a los investigadores para saber todo eso.Lo que puedes consultar en el Tutorial 2 cuando vea: 'EliveThit!/ o más y no veo un resumen\" (sha\n",
      "Translation (t= 8.0 ):  Daw Happy Newsleafder meashal idnometryd text upto 8 to 10th p:10 pr/22.00 waren menus attrógena(as incomplex!mmp...entrama al word property nov to 3 hop yes hare en.evr (instrumentaring'l sequelle) semprisied seppositert(Otherwilver.design no190 mack for effique no 1 arm motel of mace warnow,\n"
     ]
    }
   ],
   "execution_count": 122
  },
  {
   "metadata": {},
   "cell_type": "markdown",
   "source": "Repita el mismo código para la frase `manners maketh the man`",
   "id": "de7000129537927e"
  },
  {
   "metadata": {
    "ExecuteTime": {
     "end_time": "2025-01-19T16:05:46.901555Z",
     "start_time": "2025-01-19T16:05:36.790245Z"
    }
   },
   "cell_type": "code",
   "source": [
    "text = \"manners maketh the man\"\n",
    "# DONE: Para cada una de las temperaturas generar una traducción de la frase\n",
    "temperatures =[0.1, 0.7, 0.5, 1, 1.5, 2.0, 4.0, 8.0]\n",
    "for temperature in temperatures:\n",
    "    translated_text = t5_mt.translate(text, temperature=temperature)\n",
    "    print(\"Translation (t=\",temperature,\"): \",translated_text)"
   ],
   "id": "4a8ad8864ad5062b",
   "outputs": [
    {
     "name": "stdout",
     "output_type": "stream",
     "text": [
      "Translation (t= 0.1 ):  hace el modo de hacer el modo.\n",
      "Translation (t= 0.7 ):  maneras hacen el método.\n",
      "Translation (t= 0.5 ):  hace el modo de hacer el modo.\n",
      "Translation (t= 1 ):  hace ese tipo de formas.\n",
      "Translation (t= 1.5 ):  forma los géneros del hombre.\n",
      "Translation (t= 2.0 ):  El caso es que cada vez de más razón del juicio le dio sentido a su religión que había recibido en relación no de origen religioso de su propia madre, la única parte a quien está sometido como ser humano o quien éste utiliza (consenada) por haber tenido un interés legítimo en sus hijos. Mientras tanto, la historia hablada del Islam de nuevo resulta completamente opuesta al principio del mundo a pesar de nuestra forma particular por sí presente (1937-66). El resto se halla aquí donde nos han asignado las preguntas específicas y es muy posible aplicar estos cambios de los bienes por sí sólo las respuestas son que son consideradas\n",
      "Translation (t= 4.0 ):  tiene que tratar los negocios o establecer objetivos y tomar estrategias efectivas al costo?\n",
      "Translation (t= 8.0 ):  hacer con el objetivo establecer cómo realizar los contratos ms simples. Todos con estos acuerdo era algo totalmente opuesto de hacerlo valer el c}o está dando paso si estos cambios los modifica....ay que, cada dày y el paquete termina despues o están endugado es daga o al c) se crean a no da nico (ver iii y pai...ao o coverlo.ef I es la diftita de A.Ei y otras leyes al igual o muy ahi, make nam'ia\" (terror por vez lega, que el om, o cualquier costo\n"
     ]
    }
   ],
   "execution_count": 123
  },
  {
   "metadata": {},
   "cell_type": "markdown",
   "source": [
    "#### Tarea conjunta de la clase MTB3: ¿Qué modelo es mejor?\n",
    "\n",
    "Justificar que modelo de los anteriores traduce mejor, ¿Qué prueba numérica sustenta la respuesta? ¿Es una justificación reproducible y objetiva?"
   ],
   "id": "1e4068a0e6ed6a4d"
  },
  {
   "metadata": {},
   "cell_type": "markdown",
   "source": "### Comparación de modelos",
   "id": "3d4a60285622e9c4"
  },
  {
   "metadata": {},
   "cell_type": "markdown",
   "source": [
    "Para comparar modelos, es necesario calcular métricas objetivas y reproducibles. Estas métricas normalmente dependen de un `gold-standard`, la verdad absoluta, lo que nos permite para una entrada ver si el modelo es capaz de generar una salida tal y como el `gold-standard` indica. Sin embargo, para problemas más difusos como la traducción las métricas normalmente no son simples. En particular, para la traducción se suelen utilizar tres métricas: BLEU (Bilingual Evaluation Understudy), METEOR (Metric for Evaluation of Translation with Explicit ORdering), y ROUGE (Recall-Oriented Understudy for Gisting Evaluation).\n",
    "\n",
    "* **BLEU** mide la similitud entre una traducción generada y la esperada. Para ello, calcula la similitud usando ngrams (unigramas, bigramas, etc.) entre la salida obtenida y la esperada (presente en el `gold-standard`); además, penaliza las salidas muy cortas. El resultado de esta métrica es un valor porcentual donde a mayor valor se considera que más **precisa** es la traducción. Una limitación conocida es que tiende a favorecer las traducciones literales por el uso de ngrams.\n",
    "\n",
    "* **METEOR** es una métrica similar a **BLEU** pero que se centra en evaluar la similitud con sinonimias, stemming y coincidencias exactas. Esto hace que sea menos sensible a las traducciones literales y más flexible con traducciones menos literales. Internamente, esta métrica calcula precisión, recall y un F1 ajustado. Su resultado es un valor de 0 a 1, donde a mayor valor mejor es la traducción. Una limitación conocida es que es computacionalmente más costoso de **BLEU**, lo que lo hace menos usado que **BLEU** o **ROUGE**.\n",
    "\n",
    "* **ROUGE** evalúa la calidad de la traducción comparando la salida generada con la del `gold-standard` usado en resúmenes automáticos (n-grams y la longitud de las subsecuencias comunes). Tiene tres variantes principales: `ROUGE-1` compara unigramas, `ROUGE-2` compara bigramas, `ROUGE-L` compara la subsecuencia común más larga. Su resultado es un valor entre 0 y 1, donde a mayor valor mejor es la traducción; normalmente esta métrica se asocia al **recall**. Como limitaciones conocidas, esta metrica es insensible a la sinonimia o variaciones semánticas, además, penaliza traducciones \"creativas\".\n",
    "\n",
    "Para calcular estas métricas vamos a hacer uso del paquete `evaluate`"
   ],
   "id": "27ff7d499250b1c5"
  },
  {
   "metadata": {},
   "cell_type": "markdown",
   "source": [
    "#### Tarea MTB5\n",
    "\n",
    "Cargue en una variable el dataset de `okezieowen/english_to_spanish` y almacénelo en la carpeta `./data/okezieowen`. Despúes, prepare un conjunto de testing que contenga 50 frases del dataset. No \"baraje\" las frases del dataset ni utilice ningún `seed`."
   ],
   "id": "7e5800309287e57b"
  },
  {
   "metadata": {
    "ExecuteTime": {
     "end_time": "2025-01-19T16:05:50.790987Z",
     "start_time": "2025-01-19T16:05:46.913469Z"
    }
   },
   "cell_type": "code",
   "source": [
    "from datasets import load_dataset\n",
    "\n",
    "# Carga y preparación del dataset\n",
    "dataset = load_dataset(\"okezieowen/english_to_spanish\", split=\"train\", cache_dir=\"./data/okezieowen\")\n",
    "split_dataset = dataset.train_test_split(test_size=50)\n",
    "eval_dataset = split_dataset['test']\n",
    "\n",
    "# Imprimir el tamaño del dataset\n",
    "print(\"Evaluation size: \", len(eval_dataset))\n",
    "print(eval_dataset)"
   ],
   "id": "bfc7ac6d2ee28c2",
   "outputs": [
    {
     "name": "stdout",
     "output_type": "stream",
     "text": [
      "Evaluation size:  50\n",
      "Dataset({\n",
      "    features: ['English', 'Spanish'],\n",
      "    num_rows: 50\n",
      "})\n"
     ]
    }
   ],
   "execution_count": 124
  },
  {
   "metadata": {},
   "cell_type": "markdown",
   "source": "Antes de poder aplicar las métricas, necesitamos construir el código que usando el dataset, genere una variable con los resultados esperados y, por otro lado, genere las salidas de cada modelo.",
   "id": "357545a20e8542a3"
  },
  {
   "metadata": {
    "ExecuteTime": {
     "end_time": "2025-01-19T16:07:35.409631Z",
     "start_time": "2025-01-19T16:05:50.801507Z"
    }
   },
   "cell_type": "code",
   "source": [
    "expected_results = [ [row['Spanish']] for row in eval_dataset]\n",
    "inputs = [row['English'] for row in eval_dataset]\n",
    "\n",
    "# Traducir todas las frases del dataset\n",
    "results = {}\n",
    "results['t5'] = t5_mt.translate_batch(inputs)\n",
    "results['marian'] = mariam_mt.translate_batch(inputs)"
   ],
   "id": "2b6ec2cacd1d56c",
   "outputs": [],
   "execution_count": 125
  },
  {
   "metadata": {},
   "cell_type": "markdown",
   "source": "#### Evaluación de modelos",
   "id": "daf2ca10be2a0c40"
  },
  {
   "metadata": {
    "ExecuteTime": {
     "end_time": "2025-01-19T16:07:41.386687Z",
     "start_time": "2025-01-19T16:07:35.449565Z"
    }
   },
   "cell_type": "code",
   "source": [
    "import evaluate\n",
    "\n",
    "bleu_metric = evaluate.load(\"bleu\")\n",
    "meteor_metric = evaluate.load(\"meteor\")\n",
    "rouge_metric = evaluate.load(\"rouge\")\n",
    "\n",
    "bleu_t5 = bleu_metric.compute(predictions=results['t5'], references=expected_results)\n",
    "meteor_t5 = meteor_metric.compute(predictions=results['t5'], references=expected_results)\n",
    "rouge_t5 = rouge_metric.compute(predictions=results['t5'], references=expected_results)\n",
    "\n",
    "bleu_marian = bleu_metric.compute(predictions=results['marian'], references=expected_results)\n",
    "meteor_marian = meteor_metric.compute(predictions=results['marian'], references=expected_results)\n",
    "rouge_marian = rouge_metric.compute(predictions=results['marian'], references=expected_results)\n",
    "\n",
    "print(\"Metric -- T5 -- MarianMT \\n\")\n",
    "print(\"BLEU --- \",bleu_t5['bleu'], \" --- \", bleu_marian['bleu'])\n",
    "print(\"METEOR --- \",meteor_t5['meteor'], \" --- \", meteor_marian['meteor'])\n",
    "print(\"ROUGE1 --- \",rouge_t5['rouge1'], \" --- \", rouge_marian['rouge1'])\n",
    "print(\"ROUGE2 --- \",rouge_t5['rouge2'], \" --- \", rouge_marian['rouge2'])\n",
    "print(\"ROUGEL --- \",rouge_t5['rougeL'], \" --- \", rouge_marian['rougeL'])\n"
   ],
   "id": "afe2264654e373b8",
   "outputs": [
    {
     "name": "stderr",
     "output_type": "stream",
     "text": [
      "[nltk_data] Downloading package wordnet to\n",
      "[nltk_data]     /Users/andreacimmino/nltk_data...\n",
      "[nltk_data]   Package wordnet is already up-to-date!\n",
      "[nltk_data] Downloading package punkt_tab to\n",
      "[nltk_data]     /Users/andreacimmino/nltk_data...\n",
      "[nltk_data]   Package punkt_tab is already up-to-date!\n",
      "[nltk_data] Downloading package omw-1.4 to\n",
      "[nltk_data]     /Users/andreacimmino/nltk_data...\n",
      "[nltk_data]   Package omw-1.4 is already up-to-date!\n"
     ]
    },
    {
     "name": "stdout",
     "output_type": "stream",
     "text": [
      "Metric -- T5 -- MarianMT \n",
      "\n",
      "BLEU ---  0.08480977395119682  ---  0.12849741290514652\n",
      "METEOR ---  0.2550992212894294  ---  0.28337185022799155\n",
      "ROUGE1 ---  0.3028264169817082  ---  0.3170069845008637\n",
      "ROUGE2 ---  0.1338360796291669  ---  0.16232887484398814\n",
      "ROUGEL ---  0.2658900882323646  ---  0.2808151371701235\n"
     ]
    }
   ],
   "execution_count": 126
  },
  {
   "metadata": {
    "ExecuteTime": {
     "end_time": "2025-01-19T16:07:41.514238Z",
     "start_time": "2025-01-19T16:07:41.389570Z"
    }
   },
   "cell_type": "code",
   "source": [
    "import matplotlib.pyplot as plt\n",
    "\n",
    "scores_t5 = {\n",
    "    \"BLEU\": bleu_t5['bleu'],\n",
    "    \"METEOR\": meteor_t5[\"meteor\"],\n",
    "    \"ROUGE-1\": rouge_t5[\"rouge1\"],\n",
    "    \"ROUGE-2\": rouge_t5[\"rouge2\"],\n",
    "    \"ROUGE-L\": rouge_t5[\"rougeL\"]\n",
    "}\n",
    "\n",
    "scores_marian = {\n",
    "    \"BLEU\": bleu_marian[\"bleu\"],\n",
    "    \"METEOR\": meteor_marian[\"meteor\"],\n",
    "    \"ROUGE-1\": rouge_marian[\"rouge1\"],\n",
    "    \"ROUGE-2\": rouge_marian[\"rouge2\"],\n",
    "    \"ROUGE-L\": rouge_marian[\"rougeL\"],\n",
    "}\n",
    "\n",
    "# Crear gráfico\n",
    "labels = list(scores_t5.keys())\n",
    "t5_values = list(scores_t5.values())\n",
    "marian_values = list(scores_marian.values())\n",
    "\n",
    "x = range(len(labels))\n",
    "\n",
    "plt.figure(figsize=(10, 6))\n",
    "plt.bar(x, t5_values, width=0.4, label=\"T5\", align=\"center\")\n",
    "plt.bar([i + 0.4 for i in x], marian_values, width=0.4, label=\"MarianMT\", align=\"center\")\n",
    "\n",
    "# Configurar etiquetas y leyenda\n",
    "plt.xticks([i + 0.2 for i in x], labels)\n",
    "plt.xlabel(\"Métricas\")\n",
    "plt.ylabel(\"Puntaje\")\n",
    "plt.title(\"Comparación de Métricas entre T5 y MarianMT\")\n",
    "plt.legend()"
   ],
   "id": "d261e0332c7bd645",
   "outputs": [
    {
     "data": {
      "text/plain": [
       "<matplotlib.legend.Legend at 0x1d81c8250>"
      ]
     },
     "execution_count": 127,
     "metadata": {},
     "output_type": "execute_result"
    },
    {
     "data": {
      "text/plain": [
       "<Figure size 1000x600 with 1 Axes>"
      ],
      "image/png": "[encoded data removed]"
     },
     "metadata": {},
     "output_type": "display_data"
    }
   ],
   "execution_count": 127
  },
  {
   "metadata": {},
   "cell_type": "markdown",
   "source": "Como se puede observar los resultados no son muy buenos, esto se debe a la naturaleza juridica del dataset que estamos usando. Veamos un ejemplo en particular:",
   "id": "6395a4156a0d66bd"
  },
  {
   "metadata": {
    "ExecuteTime": {
     "end_time": "2025-01-19T16:07:43.451747Z",
     "start_time": "2025-01-19T16:07:41.525268Z"
    }
   },
   "cell_type": "code",
   "source": [
    "expected_output = \"Su Señoría, si así lo desea, podrá plantear esta cuestión en ese momento, es decir, el jueves antes de que se presente el informe.\"\n",
    "text = \"That is precisely the time when you may, if you wish, raise this question, i.e. on Thursday prior to the start of the presentation of the report.\"\n",
    "print(\"Oringinal text: \", text)\n",
    "print(\"Marian translation: \", mariam_mt.translate(text))\n",
    "print(\"T5 translation: \", t5_mt.translate(text))\n",
    "print(\"Expected: \", expected_output)"
   ],
   "id": "f3862434bf0b5004",
   "outputs": [
    {
     "name": "stdout",
     "output_type": "stream",
     "text": [
      "Oringinal text:  That is precisely the time when you may, if you wish, raise this question, i.e. on Thursday prior to the start of the presentation of the report.\n",
      "Marian translation:  Es precisamente el momento en que, si lo desea, puede plantear esta cuestión, es decir, el jueves antes del comienzo de la presentación del informe.\n",
      "T5 translation:  Es precisamente cuando usted puede, si lo desea, formular esta pregunta, es decir, el jueves antes del comienzo de la presentación del informe.\n",
      "Expected:  Su Señoría, si así lo desea, podrá plantear esta cuestión en ese momento, es decir, el jueves antes de que se presente el informe.\n"
     ]
    }
   ],
   "execution_count": 128
  }
 ],
 "metadata": {
  "kernelspec": {
   "display_name": "Python 3",
   "language": "python",
   "name": "python3"
  },
  "language_info": {
   "codemirror_mode": {
    "name": "ipython",
    "version": 2
   },
   "file_extension": ".py",
   "mimetype": "text/x-python",
   "name": "python",
   "nbconvert_exporter": "python",
   "pygments_lexer": "ipython2",
   "version": "2.7.6"
  }
 },
 "nbformat": 4,
 "nbformat_minor": 5
}
