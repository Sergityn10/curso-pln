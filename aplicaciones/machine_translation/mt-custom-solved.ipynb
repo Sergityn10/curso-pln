{
 "cells": [
  {
   "metadata": {},
   "cell_type": "markdown",
   "source": "## Traducción de Inglés a Sindarin",
   "id": "3bb8d98c335e60cf"
  },
  {
   "metadata": {},
   "cell_type": "markdown",
   "source": "Funciones listas para traducir una frase o una traducción en bloque:",
   "id": "8d86d73a3c635a40"
  },
  {
   "metadata": {},
   "cell_type": "code",
   "source": [
    "import torch\n",
    "\n",
    "from huggingface_hub import login\n",
    "\n",
    "token = \"\"\n",
    "print(\"Hugging Face logging\")\n",
    "login(token)\n",
    "\n",
    "def translate(text, model, tokenizer, do_sample=False, temperature=1.0):\n",
    "    inputs = tokenizer(text, return_tensors=\"pt\", padding=True, truncation=True)\n",
    "    translated_tokens = model.generate(**inputs, do_sample=do_sample, temperature=temperature)\n",
    "    translated_text = tokenizer.decode(translated_tokens[0], skip_special_tokens=True)\n",
    "    return translated_text\n",
    "\n",
    "def translate_batch(texts, model, tokenizer, batch_size=32, do_sample=False, temperature=1.0):\n",
    "    translations = []\n",
    "    model.eval()  # Asegurarse de estar en modo inferencia\n",
    "    device = \"cuda\" if torch.cuda.is_available() else \"cpu\"  # Usar GPU si está disponible\n",
    "    model.to(device)\n",
    "\n",
    "    with torch.no_grad():  # Deshabilitar gradientes para inferencia\n",
    "        for i in range(0, len(texts), batch_size):\n",
    "            batch_texts = texts[i:i+batch_size]\n",
    "            inputs = tokenizer(batch_texts, return_tensors=\"pt\", truncation=True, max_length=90, padding=True).to(device)\n",
    "            translated_tokens = model.generate(**inputs, do_sample=do_sample, temperature=temperature)\n",
    "            translations.extend(tokenizer.batch_decode(translated_tokens, skip_special_tokens=True))\n",
    "\n",
    "    return translations"
   ],
   "id": "6bf8a033aaf43756",
   "outputs": [],
   "execution_count": null
  },
  {
   "metadata": {},
   "cell_type": "markdown",
   "source": "Preparar un conjunto de entrenamiento y otro de evaluación para la tarea de traducir de Inglés a Sindarin, para maximizar las posibilidades de obtener buenos resultados vamos a realizar un entrenamiento y evaluación con overfit. Para ello, prepare un",
   "id": "815e27d9c73fb8ea"
  },
  {
   "metadata": {},
   "cell_type": "code",
   "source": [
    "from libs.lotr_ds_builder import build_datasets\n",
    "from datasets import Dataset\n",
    "\n",
    "# TODO: Utilizar la función build_datasets() y generar un traing_dataset y test_dataset de Inglés a Sindarin\n",
    "train, test = build_datasets()\n",
    "train_dataset = train['Sindarin']\n",
    "test_dataset = test['Sindarin']\n",
    "\n",
    "# TODO: Cargar los datasets usando la clase Dataset\n",
    "train_dataset = Dataset.from_dict(train_dataset)\n",
    "eval_dataset = Dataset.from_dict(test_dataset)\n",
    "\n",
    "# DONE: Mostrar la primera frase, la utilizaremos para probar los modelos\n",
    "print(\">\", train_dataset['translation'][0])"
   ],
   "id": "f2edad9214d04b3b",
   "outputs": [],
   "execution_count": null
  },
  {
   "metadata": {},
   "cell_type": "markdown",
   "source": "## Entrenar un modelo MarianMT",
   "id": "6e7d3541bb8ff43a"
  },
  {
   "metadata": {},
   "cell_type": "code",
   "source": [
    "from transformers import MarianMTModel, MarianTokenizer, MarianConfig\n",
    "\n",
    "# Crear configuración para un modelo Marian en blanco\n",
    "config = MarianConfig(\n",
    "    vocab_size=32000,  # Tamaño del vocabulario (ajústalo según tu caso)\n",
    "    max_position_embeddings=512,\n",
    "    encoder_layers=6,\n",
    "    decoder_layers=6,\n",
    "    encoder_attention_heads=8,\n",
    "    decoder_attention_heads=8,\n",
    "    d_model=512,\n",
    "    d_ff=2048,\n",
    "    dropout=0.1,\n",
    "    pad_token_id=0,\n",
    "    eos_token_id=1,\n",
    "    bos_token_id=2,\n",
    ")\n",
    "\n",
    "# Crear el modelo MarianMT desde cero\n",
    "marian_model_trained = MarianMTModel(config)\n",
    "\n",
    "# Crear un tokenizador vacío (puedes cargar o definir tu propio vocabulario)\n",
    "marian_tokenizer_trained = MarianTokenizer.from_pretrained(\"Helsinki-NLP/opus-mt-en-es\")\n",
    "marian_model_trained.resize_token_embeddings(len(marian_tokenizer_trained))\n",
    "\n",
    "\n",
    "marian_model_trained.save_pretrained(\"./models/trained-marian-en-sindarin\")\n",
    "# Ajustar el tamaño del vocabulario del modelo Marian para que coincida con el tokenizador\n",
    "marian_tokenizer_trained.save_pretrained(\"./models/trained-marian-en-sindarin\")\n",
    "\n",
    "def load_trained_marian():\n",
    "    marian_model = MarianMTModel.from_pretrained(\"./models/trained-marian-en-sindarin\")\n",
    "    marian_tokenizer = MarianTokenizer.from_pretrained(\"./models/trained-marian-en-sindarin\")\n",
    "    return marian_model, marian_tokenizer\n",
    "\n"
   ],
   "id": "32164aad639c5b43",
   "outputs": [
    {
     "name": "stderr",
     "output_type": "stream",
     "text": [
      "The new embeddings will be initialized from a multivariate normal distribution that has old embeddings' mean and covariance. As described in this article: https://nlp.stanford.edu/~johnhew/vocab-expansion.html. To disable this, use `mean_resizing=False`\n"
     ]
    }
   ],
   "execution_count": 4
  },
  {
   "metadata": {
    "ExecuteTime": {
     "end_time": "2024-12-26T18:03:50.483695Z",
     "start_time": "2024-12-26T18:02:02.215059Z"
    }
   },
   "cell_type": "code",
   "source": [
    "from transformers import Trainer, TrainingArguments, DataCollatorForSeq2Seq\n",
    "\n",
    "training_args = TrainingArguments(\n",
    "    output_dir=\"./models/training/trained-marian-en-sindarin\",\n",
    "    eval_strategy=\"epoch\",\n",
    "    learning_rate=2e-4,\n",
    "    per_device_train_batch_size=10,\n",
    "    gradient_accumulation_steps=4,\n",
    "    num_train_epochs=5,\n",
    "    weight_decay=0.01,\n",
    "    logging_strategy=\"steps\",\n",
    "    logging_steps=100,\n",
    "    logging_dir='./logs',\n",
    "    report_to=\"none\"\n",
    ")\n",
    "\n",
    "marian_model_trained, marian_tokenizer_trained = load_trained_marian()\n",
    "\n",
    "def preprocess_function(examples):\n",
    "    global marian_tokenizer_trained\n",
    "    inputs_lang = [example['en'] for example in examples['translation']]\n",
    "    targets_lang =  [example['fo'] for example in examples['translation']]\n",
    "\n",
    "    model_inputs = marian_tokenizer_trained(inputs_lang, text_target=targets_lang, max_length=128, truncation=True, padding=\"max_length\")\n",
    "    return model_inputs\n",
    "\n",
    "encoded_training_dataset = train_dataset.map(preprocess_function, batched=True)\n",
    "encoded_eval_dataset = eval_dataset.map(preprocess_function, batched=True)\n",
    "\n",
    "collator = DataCollatorForSeq2Seq(tokenizer=marian_tokenizer_trained, model=marian_model_trained)\n",
    "trainer = Trainer(\n",
    "    model=marian_model_trained,\n",
    "    args=training_args,\n",
    "    train_dataset=encoded_training_dataset,\n",
    "    eval_dataset=encoded_eval_dataset,\n",
    "    data_collator= collator\n",
    ")\n",
    "\n",
    "trainer.train()\n",
    "\n",
    "marian_model_trained.save_pretrained(\"./models/trained-marian-en-sindarin\")\n",
    "marian_tokenizer_trained.save_pretrained(\"./models/trained-marian-en-sindarin\")\n",
    "\n",
    "marian_trained_model, marian_trained_tokenizer = load_trained_marian()\n",
    "text = \"Who brings to us this token of darkness?\"\n",
    "translated_text = translate(text, marian_trained_model, marian_trained_tokenizer)\n",
    "print(\">Marian trained: \", translated_text)"
   ],
   "id": "6b50e19e80638d35",
   "outputs": [
    {
     "name": "stderr",
     "output_type": "stream",
     "text": [
      "Map: 100%|██████████| 163/163 [00:00<00:00, 3219.44 examples/s]\n",
      "Map: 100%|██████████| 65/65 [00:00<00:00, 6618.51 examples/s]\n"
     ]
    },
    {
     "data": {
      "text/plain": [
       "<IPython.core.display.HTML object>"
      ],
      "text/html": [
       "\n",
       "    <div>\n",
       "      \n",
       "      <progress value='20' max='20' style='width:300px; height:20px; vertical-align: middle;'></progress>\n",
       "      [20/20 01:38, Epoch 4/5]\n",
       "    </div>\n",
       "    <table border=\"1\" class=\"dataframe\">\n",
       "  <thead>\n",
       " <tr style=\"text-align: left;\">\n",
       "      <th>Epoch</th>\n",
       "      <th>Training Loss</th>\n",
       "      <th>Validation Loss</th>\n",
       "    </tr>\n",
       "  </thead>\n",
       "  <tbody>\n",
       "    <tr>\n",
       "      <td>0</td>\n",
       "      <td>No log</td>\n",
       "      <td>10.531179</td>\n",
       "    </tr>\n",
       "    <tr>\n",
       "      <td>1</td>\n",
       "      <td>No log</td>\n",
       "      <td>10.038422</td>\n",
       "    </tr>\n",
       "    <tr>\n",
       "      <td>2</td>\n",
       "      <td>No log</td>\n",
       "      <td>9.661125</td>\n",
       "    </tr>\n",
       "    <tr>\n",
       "      <td>4</td>\n",
       "      <td>No log</td>\n",
       "      <td>9.324840</td>\n",
       "    </tr>\n",
       "  </tbody>\n",
       "</table><p>"
      ]
     },
     "metadata": {},
     "output_type": "display_data"
    },
    {
     "name": "stderr",
     "output_type": "stream",
     "text": [
      "/Users/andreacimmino/PycharmProjects/PythonProject/.venv/lib/python3.11/site-packages/transformers/generation/utils.py:1375: UserWarning: Using the model-agnostic default `max_length` (=20) to control the generation length. We recommend setting `max_new_tokens` to control the maximum length of the generation.\n",
      "  warnings.warn(\n"
     ]
    },
    {
     "name": "stdout",
     "output_type": "stream",
     "text": [
      ">Marian trained:  ãùãÞnnnnnnnnnnnnnnnnnn\n"
     ]
    }
   ],
   "execution_count": 5
  },
  {
   "metadata": {},
   "cell_type": "markdown",
   "source": [
    "## Entrenar un modelo T5\n",
    "Utilizar un modelo T5 en blanco y entrenarlo enteramente con el dataset inglés-sindarin."
   ],
   "id": "267a91a90aa51f56"
  },
  {
   "metadata": {
    "ExecuteTime": {
     "end_time": "2024-12-26T18:03:52.372276Z",
     "start_time": "2024-12-26T18:03:50.643206Z"
    }
   },
   "cell_type": "code",
   "source": [
    "from transformers import T5ForConditionalGeneration, T5Tokenizer, T5Config\n",
    "\n",
    "# Crear configuración para un modelo T5 en blanco\n",
    "config = T5Config(\n",
    "    vocab_size=32000,\n",
    "    d_model=512,\n",
    "    d_ff=2048,\n",
    "    num_layers=6,\n",
    "    num_heads=8,\n",
    "    dropout_rate=0.1,\n",
    "    pad_token_id=0,  # Token de padding\n",
    "    eos_token_id=1,  # Token de fin de secuencia\n",
    "    decoder_start_token_id=0,  # Token de inicio del decodificador\n",
    ")\n",
    "\n",
    "t5_model_trained = T5ForConditionalGeneration(config)\n",
    "\n",
    "t5_tokenizer_trained = T5Tokenizer.from_pretrained(\"vgaraujov/t5-base-translation-en-es\")\n",
    "\n",
    "t5_model_trained.save_pretrained(\"./models/trained-t5-en-sindarin\")\n",
    "t5_tokenizer_trained.save_pretrained(\"./models/trained-t5-en-sindarin\")\n",
    "\n",
    "def load_t5():\n",
    "    t5_model = T5ForConditionalGeneration.from_pretrained(\"./models/trained-t5-en-sindarin\")\n",
    "    t5_tokenizer = T5Tokenizer.from_pretrained(\"./models/trained-t5-en-sindarin\")\n",
    "    return t5_model, t5_tokenizer\n"
   ],
   "id": "48fefd1f03c131fb",
   "outputs": [],
   "execution_count": 6
  },
  {
   "metadata": {},
   "cell_type": "markdown",
   "source": "Utilizando el primer modelo, generar una version refinada que esté entrenada con el dataset",
   "id": "eeb6b092f20d4300"
  },
  {
   "metadata": {
    "ExecuteTime": {
     "end_time": "2024-12-26T18:04:53.691049Z",
     "start_time": "2024-12-26T18:03:52.376966Z"
    }
   },
   "cell_type": "code",
   "source": [
    "from transformers import Trainer, TrainingArguments, DataCollatorForSeq2Seq\n",
    "\n",
    "training_args = TrainingArguments(\n",
    "    output_dir=\"./models/training/trained-t5-en-sindarin\",\n",
    "    eval_strategy=\"epoch\",\n",
    "    learning_rate=2e-4,\n",
    "    per_device_train_batch_size=10,\n",
    "    gradient_accumulation_steps=4,\n",
    "    num_train_epochs=5,\n",
    "    weight_decay=0.01,\n",
    "    logging_strategy=\"steps\",\n",
    "    logging_steps=100,\n",
    "    logging_dir='./logs',\n",
    "    report_to=\"none\"\n",
    ")\n",
    "\n",
    "\n",
    "# TODO: Cargar y entrear el modelo `./models/trained-t5-en-sindarin`\n",
    "t5_model_trained, t5_tokenizer_trained = load_t5()\n",
    "\n",
    "def preprocess_function(examples):\n",
    "    global t5_tokenizer_trained\n",
    "    inputs_lang = [example['en'] for example in examples['translation']]\n",
    "    targets_lang =  [example['fo'] for example in examples['translation']]\n",
    "\n",
    "    model_inputs = t5_tokenizer_trained(inputs_lang, text_target=targets_lang, max_length=128, truncation=True, padding=\"max_length\")\n",
    "    return model_inputs\n",
    "\n",
    "encoded_training_dataset = train_dataset.map(preprocess_function, batched=True)\n",
    "encoded_eval_dataset = eval_dataset.map(preprocess_function, batched=True)\n",
    "\n",
    "collator = DataCollatorForSeq2Seq(tokenizer=t5_tokenizer_trained, model=t5_model_trained)\n",
    "trainer = Trainer(\n",
    "    model=t5_model_trained,\n",
    "    args=training_args,\n",
    "    train_dataset=encoded_training_dataset,\n",
    "    eval_dataset=encoded_eval_dataset,\n",
    "    data_collator= collator\n",
    ")\n",
    "\n",
    "trainer.train()\n",
    "\n",
    "t5_model_trained.save_pretrained(\"./models/trained-t5-en-es\")\n",
    "t5_tokenizer_trained.save_pretrained(\"./models/trained-t5-en-es\")\n",
    "\n",
    "\n",
    "t5_trained_model, t5_trained_tokenizer = load_t5()\n",
    "text = \"Who brings to us this token of darkness?\"\n",
    "translated_text = translate(text, t5_trained_model, t5_trained_tokenizer)\n",
    "print(\">Marian trained: \", translated_text)"
   ],
   "id": "b47d9ab597deab9d",
   "outputs": [
    {
     "name": "stderr",
     "output_type": "stream",
     "text": [
      "Map: 100%|██████████| 163/163 [00:00<00:00, 2950.40 examples/s]\n",
      "Map: 100%|██████████| 65/65 [00:00<00:00, 6097.60 examples/s]\n",
      "Passing a tuple of `past_key_values` is deprecated and will be removed in Transformers v4.48.0. You should pass an instance of `EncoderDecoderCache` instead, e.g. `past_key_values=EncoderDecoderCache.from_legacy_cache(past_key_values)`.\n"
     ]
    },
    {
     "data": {
      "text/plain": [
       "<IPython.core.display.HTML object>"
      ],
      "text/html": [
       "\n",
       "    <div>\n",
       "      \n",
       "      <progress value='20' max='20' style='width:300px; height:20px; vertical-align: middle;'></progress>\n",
       "      [20/20 00:55, Epoch 4/5]\n",
       "    </div>\n",
       "    <table border=\"1\" class=\"dataframe\">\n",
       "  <thead>\n",
       " <tr style=\"text-align: left;\">\n",
       "      <th>Epoch</th>\n",
       "      <th>Training Loss</th>\n",
       "      <th>Validation Loss</th>\n",
       "    </tr>\n",
       "  </thead>\n",
       "  <tbody>\n",
       "    <tr>\n",
       "      <td>0</td>\n",
       "      <td>No log</td>\n",
       "      <td>0.989416</td>\n",
       "    </tr>\n",
       "    <tr>\n",
       "      <td>1</td>\n",
       "      <td>No log</td>\n",
       "      <td>0.776430</td>\n",
       "    </tr>\n",
       "    <tr>\n",
       "      <td>2</td>\n",
       "      <td>No log</td>\n",
       "      <td>0.702716</td>\n",
       "    </tr>\n",
       "    <tr>\n",
       "      <td>4</td>\n",
       "      <td>No log</td>\n",
       "      <td>0.646415</td>\n",
       "    </tr>\n",
       "  </tbody>\n",
       "</table><p>"
      ]
     },
     "metadata": {},
     "output_type": "display_data"
    },
    {
     "name": "stderr",
     "output_type": "stream",
     "text": [
      "/Users/andreacimmino/PycharmProjects/PythonProject/.venv/lib/python3.11/site-packages/transformers/generation/utils.py:1375: UserWarning: Using the model-agnostic default `max_length` (=20) to control the generation length. We recommend setting `max_new_tokens` to control the maximum length of the generation.\n",
      "  warnings.warn(\n"
     ]
    },
    {
     "name": "stdout",
     "output_type": "stream",
     "text": [
      ">Marian trained:  \n"
     ]
    }
   ],
   "execution_count": 7
  },
  {
   "metadata": {},
   "cell_type": "markdown",
   "source": "## Comparar todos los modelos usando las metricas BLEU, METEOR y ROUGE",
   "id": "d38362b7cede7913"
  },
  {
   "metadata": {
    "ExecuteTime": {
     "end_time": "2024-12-26T18:05:05.546804Z",
     "start_time": "2024-12-26T18:04:53.728518Z"
    }
   },
   "cell_type": "code",
   "source": [
    "import evaluate\n",
    "\n",
    "\n",
    "expected_results = [ [row['fo']] for row in eval_dataset['translation']]\n",
    "inputs = [row['en'] for row in eval_dataset['translation']]\n",
    "\n",
    "# TODO: calcular las metricas y guardarlas respectivamente en bleu_t5_trained, meteor_t5_trained, rouge_t5_trained y las equivalentes para marian\n",
    "t5_trained_results = translate_batch(inputs, t5_trained_model, t5_trained_tokenizer, do_sample=True, temperature=1.2)\n",
    "marianmt_trained_results = translate_batch(inputs, marian_trained_model, marian_trained_tokenizer)\n",
    "\n",
    "print(\"Expected Results:\", expected_results)\n",
    "print(\"T5 Translations:\", t5_trained_results)\n",
    "print(\"Marian Translations:\", marianmt_trained_results)\n",
    "\n",
    "bleu_metric = evaluate.load(\"bleu\")\n",
    "meteor_metric = evaluate.load(\"meteor\")\n",
    "rouge_metric = evaluate.load(\"rouge\")\n",
    "\n",
    "bleu_t5_trained = bleu_metric.compute(predictions=t5_trained_results, references=expected_results)\n",
    "meteor_t5_trained = meteor_metric.compute(predictions=t5_trained_results, references=expected_results)\n",
    "rouge_t5_trained = rouge_metric.compute(predictions=t5_trained_results, references=expected_results)\n",
    "\n",
    "bleu_marian_trained = bleu_metric.compute(predictions=marianmt_trained_results, references=expected_results)\n",
    "meteor_marian_trained = meteor_metric.compute(predictions=marianmt_trained_results, references=expected_results)\n",
    "rouge_marian_trained = rouge_metric.compute(predictions=marianmt_trained_results, references=expected_results)\n"
   ],
   "id": "33323ab6d28dbca2",
   "outputs": [
    {
     "name": "stdout",
     "output_type": "stream",
     "text": [
      "Expected Results: [['Hiro hyn hîdh ab ’wanath.'], ['Aragorn, nad no ennas!'], ['Man cenich?'], ['Man le trasta, Brego?'], ['Man cenich?'], ['Ú i vethed'], ['nâ i onnad.'], ['Minlû pedich nin'], ['i aur hen telitha.'], ['Ú i vethednâ i onnad.'], ['Boe bedich go Frodo.'], ['Dolen i vâd o nin.'], ['Si peliannen i vâd na dail lîn.'], ['Si boe ú-dhannathach.'], ['Ae ú-esteliach nad'], ['estelio han'], ['estelio ammen.'], ['Estelio han.'], ['Estelio han.'], ['Estelio veleth.'], ['Nach gwannatha sin?'], ['Ma nathach hi gwannathach or minuial archened?'], ['Ú-ethelithon.'], ['Estelio guru lîn ne dagor.'], ['Ethelithach.'], ['Ú-bedin o gurth ne dagor.'], ['O man pedich?'], ['Edra le men, men na guil edwen'], ['haer o auth a nîr a naeth.'], ['Tollen, i lû.'], ['I chair gwannar na Valannor. Si bado, no círar.'], ['Ah im, ú-’erin veleth lîn?'], ['Gerich veleth nîn, ada.'], ['I amar prestar aen.'], ['Han mathon ne nen.'], ['Han mathon ne chae.'], ['A han noston ned ’wilith.'], ['Mae carnen, Brego, mellon nîn.'], ['Le abdollen.'], ['Hannon le.'], ['Boe a hyn'], ['Neled heraindan caer menig.'], ['Si, beriathar hyn ammaeg na ned Edoras.'], ['Aragorn, nedin dagor hen ú-’erir ortheri.'], ['Natha daged dhaer'], ['Ú-moe edaved, Legolas'], ['Mae govannen, Haldir.'], ['A Eruchîn, ú-dano i faelas a hyn'], ['an uben tanatha le faelas!'], ['Dartho!'], ['Tangado a chadad!'], ['Faeg i-varv dîn na lanc'], ['a nu ranc!'], ['Hado i philinn!'], ['Pendraith!'], ['Na fennas!'], ['Hado ribed! Hado!'], ['Togo hon dad, Legolas!'], ['Dago hon!'], ['Dago hon!'], ['Hado i philinn!'], ['Herio!'], ['Nan barad!'], ['Nan barad!'], ['Nan barad!']]\n",
      "T5 Translations: ['Esteban demostraba demostraba demostraba demostraba demostraba demostraba demostraba demostraba demostraba demostraba demostrabaLlega Ahí Ahí Ahí Ahí isleño caravana', 'animaciones sometido sometido sometido sometido sometido sometido = ratitoMen controlada controlada controlada combat combat combatárseleárseleársele', 'Ensayo Ensayo cubren cubren cubren cubren cubren cubren cubren cubren cubren cubren cubren cubren cubren cubrenmplemplemple', 'Origin Origin bebidas cansado cansado cansado cansado cansadoguard[8] abundantes abundantes abundantes abundantes abundantesRAMRAMRAMRAM', '(20 (20 (20 (20 (20 (20 adquirir Com Com Com Com Com Com Esteban Esteban agred agred agred agred', 'burgués burgués transpira cerr cerr cerr cerr cerr cerr cerr cerr cerr cerr demostraba demostraba demostraba demostraba demostraba demostraba', 'recibíanportportportport habitantes habitantes habitantes habitantes Manu mani u u u demostraba demostraba demostraba demostraba demostraba', 'traumática traumática traumática traumáticanriquenriquenrique verbo verbo verbo verbo verbo isla isla isla isla isla isla recuadro', 'echaba a a a a a a Otra Otracaueísta quieran quieran quieran nutricionista nutricionista nutricionista nutricionista nutricionista', 'Dinero Dinero Dinero Dinero Dineroexpediexpediexpediexpediexpediexpediexpediexpediexpediexpediexpediexpediexpediexpedi', 'animaciones animaciones preguntaron preguntaron preguntaron preguntaron preguntaron preguntaron preguntaron preguntaron preguntaron preguntaron preguntaron preguntaron estudiando violencia violencia nominada Muhammad', 'cebolla cebolla ambiguo ambiguodio 2009 2009 futbolística Bah Bah Bah Bah Bah Bah Bah Bah Bah Bah Bah', 'combine combine combine combine combine combine combine combine combine combine combine ahorr ahorr ahorr ahorr ahorr ahorr High manera', 'asegúrate asegúrate asegúrate asegúrate corresponsal Otraththth treintena treintenatoriatoriatoria #1 #1 voto Muhammad Muhammad', 'Esteban Estebanuanuanuanuanuanuanuanuanuanuan llegado llegado llegado goles suprimir suprimir suprimir', 'Jacinto royal royal royal royal royal royal royal hacen hacen hacen insurgente Otrabastante verán ponerte ponerte iPad iPad', 'inquebrantable inquebrantable inquebrantable inquebrantable inquebrantable inquebrantable reyes reyes haremos haremos haremos haremos haremos haremos haremos haremos haremos haremos haremos', 'basarse Rojas Rojas suaves afectada cólera Muhammad Muhammad afectada afectada afectada Rojas Rojas Rojas falló Lima Lima Lima Lima', 'Rojas influyen vuelven vuelven vuelven BOE BOE BOE BOE BOE Chiqui Chiqui Chiqui derecho derecho derecho derecho Recuerde Recuerde', 'mecánicas mecánicas incluimos controlada 1913 1913 1913 1913 1913 1913 1913 profecía profecía precipitación precipitación precipitación precipitación precipitación (1)', 'bl pérdidas Economía Presta tipología tipología reposar reposar ayudarles ayudarles ayudarles ayudarles ayudarles ayudarles aeropuerto alérgica alérgica alérgica alérgica', 'Dinero corredores corredores corredores emula desesper innovaciones mantener mantener mantener mantener mantener autonomía Option Option Option Option Optionridge', 'Otra Otra Sexta mantén mantén dominación dominación dominación dominación dominación dominación dominación dominación dominación dominación ancho Inmigración', 'cuarto cuarto cuarto cuarto cuarto cuarto esguince sentamos sentamos sentamos sentamos procedimientos procedimientos procedimientos PER L L L L', 'FECFECFEC Sexta Sexta Sexta Sexta Sexta Sexta Sexta Sexta importación importación importación quien inactivo inactivo templado', 'conciencia conciencia purificación Cord Cord Cord Cord Administrativo Administrativo Administrativo tóxico noreste suman sumanballballballball', 'disfrutado tipología tipología tipología tipología Secretaría tipología tipología metí puntualizó puntualizó puntualizó puntualizó puntualizó puntualizó puntualizó puntualizó puntualizó puntualizó', 'expediexpedi alérgica alérgica alérgica alérgica alérgica alérgica alérgica alérgica alérgica alérgica alérgica alérgicaPuedo contenida contenida contenida personalizable', 'ESP rodean rodean Simula Simula Simula repleto repleto repleto repleto repleto repleto repleto repleto repleto repleto repleto querer', 'incluimos incluimos incluimosphiphiphiphiphiphiphiphiphiphiphiphiphi estropea estropea estropea', 'aclaró aclaró incluyó incluyó incluyó 1958 alcista alcista alcista alcista convención organizó organizó organizó puebl puebl puebl incomprensión incomprensión', 'encabezó encabezókovkovkov generadas generadas generadas eliminado ancho vende prioridad prioridad prioridad prioridad prioridad prioridad prioridad científicos', 'FECFECFECFECFECAMTúTúTúTúTúTú reggae reggae reggae reggae reggae Ring Ring', 'Presidenta Entertainment Entertainment Entertainment Entertainment Entertainment Entertainment Entertainment Entertainment Entertainment Entertainment Entertainment Entertainment influenciado influenciado Option Option decisivo decisivo', 'prestan prestan ocasionar ocasionar ocasionar ocasionar ocasionar autonómica autonómica autonómica clásicos clásicos clásicos clásicos clásicos clásicos conocieron ocasionar ocasionar', 'Otra Otra Otra Otra Otra princesa princesa princesa princesaDóndeDóndeDónde factible factible royal royal royal royal royal', 'Ganadería Ganadería Ganadería GanaderíaITAITAITAITA infinitamente Sistema mostraron mostraron mostraron mostraron mostraron mostraron miniserie miniserie miniserie', 'infarto internas internas internas concertación Esteban Esteban Esteban Esteban Esteban reyes reyes reyes hace policías policías policías policías policías', 'WiFi WiFi WiFi WiFi WiFi WiFi WiFi nominada amerita amerita amerita ameritaridgeridgeridgeridge WiFi WiFi WiFi', 'controlada Garantiza Garantiza Garantiza Garantiza Garantizavolvióvolvióvolvióvolvióvolvióvolvióvolvióvolvió divide divide liberalización liberalización liberalización', 'interrogatorio Solidaria Solidaria hacíamos hacíamos Simula viernes viernes viernes viernes viernes reposar reposar reposar reposar reposar reposar reposar reposar', 'Dinero auténtico decisivo decisivo decisivo decisivo Kyle Kyle Kyle Kyle Kyle Kyle Kyle Kyle Vizcarra Vizcarra responde responde responde', 'Otra Otra esclarecer esclarecer esclarecer esclarecer esclarecer esclarecer incluyó incluyó incluyó Otra íbamos manejan manejan manejan Otra Otra íbamos', 'Origin Origin cebolla cebolla cebolla cebolla confusión cajones cajones cajones devotos devotos devotos explicarlo amorosa Permíta Permíta Permíta chica', 'Jacinto Jacintobuscabuscabuscabuscabuscabuscabuscabuscabuscabusca fluctuaciones fluctuaciones fluctuaciones fluctuaciones fluctuaciones fluctuaciones fluctuaciones', 'ataca ataca Option Option Option Option Option Option Option Option Option terriblemente terriblemente terriblemente terriblemente terriblemente nominada nominada nominada', 'Noviembre Noviembre cansado Option Option Option aristócrata orígenes orígenes orígenes orígenes orígenes orígenes rendido Pienso Pienso Pienso Pienso Pienso', 'repleto ético construí construí construí construí construí construí construígicogicogicogicogicogicogicogico chanc reconocible', 'Dinero compartido alérgica alérgica alérgica alérgica alérgica alérgica alérgica alérgica alérgica dignidad Dibujo Dibujo Dibujo Dibujo Dibujo Dibujo Dibujo', 'FECFECFEC Kyle KyleSeráSerá prioridad gobernante gobernante gobernante gobernante beneficiados beneficiados beneficiados beneficiados beneficiados beneficiados beneficiados', 'repleto repleto repleto repleto repleto repleto cajita cajita cajita cajita cajita acuerd músculo músculo comprando comprando hacen Af', 'expediexpediexpediexpediexpediexpedi empa Netanyahu Netanyahu lleve lleve lleveridgeridgeridgeridgeridgeridgeridge', 'razas razas milagrosa milagrosa Cruci Cruci Cruci Cruci Cruci Cruci Cruci Cruci Cruci Cruci Cruci Cruci echaba echaba echaba', 'animaciones audiovisual cansaáceasáceasphi Hizo dominicana dominicana dominicana dominicana desmayaregistrregistrregistr fisico fisico fisico', 'animaciones 2012. 2012. 2012. monoplaza monoplaza monoplaza monoplaza monoplaza monoplaza monoplazaGUI apuesta apuesta apuesta apuesta apuesta apuesta comerciales', 'marmarmar navideñafiliafiliafiliafiliafiliafiliafiliafiliafiliafiliafiliafiliafiliafiliafilia', 'controlada podrían paramilitares adiós7.47.47.4 panteón Consultado demostraba Atenas convento convento convento demostraba demostraba demostraba demostraba', 'aspiraciones aspiraciones timbre hacen hacen reggae reggae reggae reggae reggae reggae reggae reggae reggae reggae reggae reggae reggae reggae', 'lidadlidad quién demostraba demostraba demostraba demostraba demostraba demostraba demostraba demostraba demostraba modesta modesta modesta modesta profecía ratito ratito', 'repudiolidad Sinaloa Sinaloa Sinaloa peques peques furiosa furiosa 29 29 sumerge sumerge sumerge sumerge sumerge sumerge sumerge sumerge', 'Simula Simula Simula Simula Simula Simula Simula Simula Simula Simula Simula Simula Simularry pague pague Douglas metímodelo', 'repleto repleto repleto repleto repleto concluir concluir concluir concluir echaba dureza Bermúdez Bermúdez Bermúdez Bermúdez Bermúdez Bermúdez Bermúdez Bermúdez', 'isla isla isla isla cebollajínjínkovkovkovkov vicisitudes vicisitudes>> preguntaron preguntaron preguntaron300', 'reservas reservas reservas reservasalguien demostraba demostraba demostraba consistirá consistirá consistirá Comandante Comandante Comandante prioridad prioridadCom Hierrojín', 'rryrryrry consolidar consolidar consolidar consolidarfiliafiliafiliafiliafilia muuuy muuuy muuuy muuuy muuuy muuuy muuuy']\n",
      "Marian Translations: ['ãùãÞnnnnnnnnnnnnnnnnnn', 'ãùãÞnnnnnnnnnnnnnnnnnn', 'ãùãÞnnnnnnnnnnnnnnnnnn', 'ãùãÞnnnnnnnnnnnnnnnnnn', 'ãùãÞnnnnnnnnnnnnnnnnnn', 'ãùãÞnnnnnnnnnnnnnnnnnn', 'ãùãÞnnnnnnnnnnnnnnnnnn', 'ãùãÞnnnnnnnnnnnnnnnnnn', 'ãùãÞnnnnnnnnnnnnnnnnnn', 'ãùãÞnnnnnnnnnnnnnnnnnn', 'ãùãÞnnnnnnnnnnnnnnnnnn', 'ãùãÞnnnnnnnnnnnnnnnnnn', 'ãùãÞnnnnnnnnnnnnnnnnnn', 'ãùãÞnnnnnnnnnnnnnnnnnn', 'ãùãÞnnnnnnnnnnnnnnnnnn', 'ãùãÞnnnnnnnnnnnnnnnnnn', 'ãùãÞnnnnnnnnnnnnnnnnnn', 'ãùãÞnnnnnnnnnnnnnnnnnn', 'ãùãÞnnnnnnnnnnnnnnnnnn', 'ãùãÞnnnnnnnnnnnnnnnnnn', 'ãùãÞnnnnnnnnnnnnnnnnnn', 'ãùãÞnnnnnnnnnnnnnnnnnn', 'ãùãÞnnnnnnnnnnnnnnnnnn', 'ãùãÞnnnnnnnnnnnnnnnnnn', 'ãùãÞnnnnnnnnnnnnnnnnnn', 'ãùãÞnnnnnnnnnnnnnnnnnn', 'ãùãÞnnnnnnnnnnnnnnnnnn', 'ãùãÞnnnnnnnnnnnnnnnnnn', 'ãùãÞnnnnnnnnnnnnnnnnnn', 'ãùãÞnnnnnnnnnnnnnnnnnn', 'ãùãÞnnnnnnnnnnnnnnnnnn', 'ãùãÞnnnnnnnnnnnnnnnnnn', 'ãùãÞnnnnnnnnnnnnnnnnnn', 'ãùãÞnnnnnnnnnnnnnnnnnn', 'ãùãÞnnnnnnnnnnnnnnnnnn', 'ãùãÞnnnnnnnnnnnnnnnnnn', 'ãùãÞnnnnnnnnnnnnnnnnnn', 'ãùãÞnnnnnnnnnnnnnnnnnn', 'ãùãÞnnnnnnnnnnnnnnnnnn', 'ãùãÞnnnnnnnnnnnnnnnnnn', 'ãùãÞnnnnnnnnnnnnnnnnnn', 'ãùãÞnnnnnnnnnnnnnnnnnn', 'ãùãÞnnnnnnnnnnnnnnnnnn', 'ãùãÞnnnnnnnnnnnnnnnnnn', 'ãùãÞnnnnnnnnnnnnnnnnnn', 'ãùãÞnnnnnnnnnnnnnnnnnn', 'ãùãÞnnnnnnnnnnnnnnnnnn', 'ãùãÞnnnnnnnnnnnnnnnnnn', 'ãùãÞnnnnnnnnnnnnnnnnnn', 'ãùãÞnnnnnnnnnnnnnnnnnn', 'ãùãÞnnnnnnnnnnnnnnnnnn', 'ãùãÞnnnnnnnnnnnnnnnnnn', 'ãùãÞnnnnnnnnnnnnnnnnnn', 'ãùãÞnnnnnnnnnnnnnnnnnn', 'ãùãÞnnnnnnnnnnnnnnnnnn', 'ãùãÞnnnnnnnnnnnnnnnnnn', 'ãùãÞnnnnnnnnnnnnnnnnnn', 'ãùãÞnnnnnnnnnnnnnnnnnn', 'ãùãÞnnnnnnnnnnnnnnnnnn', 'ãùãÞnnnnnnnnnnnnnnnnnn', 'ãùãÞnnnnnnnnnnnnnnnnnn', 'ãùãÞnnnnnnnnnnnnnnnnnn', 'ãùãÞnnnnnnnnnnnnnnnnnn', 'ãùãÞnnnnnnnnnnnnnnnnnn', 'ãùãÞnnnnnnnnnnnnnnnnnn']\n"
     ]
    },
    {
     "name": "stderr",
     "output_type": "stream",
     "text": [
      "[nltk_data] Downloading package wordnet to\n",
      "[nltk_data]     /Users/andreacimmino/nltk_data...\n",
      "[nltk_data]   Package wordnet is already up-to-date!\n",
      "[nltk_data] Downloading package punkt_tab to\n",
      "[nltk_data]     /Users/andreacimmino/nltk_data...\n",
      "[nltk_data]   Package punkt_tab is already up-to-date!\n",
      "[nltk_data] Downloading package omw-1.4 to\n",
      "[nltk_data]     /Users/andreacimmino/nltk_data...\n",
      "[nltk_data]   Package omw-1.4 is already up-to-date!\n"
     ]
    }
   ],
   "execution_count": 8
  },
  {
   "metadata": {
    "ExecuteTime": {
     "end_time": "2024-12-26T18:05:08.913506Z",
     "start_time": "2024-12-26T18:05:05.550760Z"
    }
   },
   "cell_type": "code",
   "source": [
    "import matplotlib.pyplot as plt\n",
    "\n",
    "# Sustituye estos valores por los resultados reales\n",
    "scores_t5 = {\n",
    "    \"BLEU\": bleu_t5_trained['bleu'],\n",
    "    \"METEOR\": meteor_t5_trained[\"meteor\"],\n",
    "    \"ROUGE-1\": rouge_t5_trained[\"rouge1\"],\n",
    "    \"ROUGE-2\": rouge_t5_trained[\"rouge2\"],\n",
    "    \"ROUGE-L\": rouge_t5_trained[\"rougeL\"]\n",
    "}\n",
    "\n",
    "scores_marian = {\n",
    "    \"BLEU\": bleu_marian_trained[\"bleu\"],\n",
    "    \"METEOR\": meteor_marian_trained[\"meteor\"],\n",
    "    \"ROUGE-1\": rouge_marian_trained[\"rouge1\"],\n",
    "    \"ROUGE-2\": rouge_marian_trained[\"rouge2\"],\n",
    "    \"ROUGE-L\": rouge_marian_trained[\"rougeL\"],\n",
    "}\n",
    "\n",
    "# Crear gráfico\n",
    "labels = list(scores_t5.keys())\n",
    "t5_values = list(scores_t5.values())\n",
    "marian_values = list(scores_marian.values())\n",
    "\n",
    "x = range(len(labels))\n",
    "\n",
    "plt.figure(figsize=(10, 6))\n",
    "plt.bar(x, t5_values, width=0.4, label=\"T5\", align=\"center\")\n",
    "plt.bar([i + 0.4 for i in x], marian_values, width=0.4, label=\"MarianMT\", align=\"center\")\n",
    "\n",
    "# Configurar etiquetas y leyenda\n",
    "plt.xticks([i + 0.2 for i in x], labels)\n",
    "plt.xlabel(\"Métricas\")\n",
    "plt.ylabel(\"Puntaje\")\n",
    "plt.title(\"Comparación de Métricas entre T5 y MarianMT\")\n",
    "plt.legend()"
   ],
   "id": "5fb81492ed6ea467",
   "outputs": [
    {
     "data": {
      "text/plain": [
       "<matplotlib.legend.Legend at 0x2445e05d0>"
      ]
     },
     "execution_count": 9,
     "metadata": {},
     "output_type": "execute_result"
    },
    {
     "data": {
      "text/plain": [
       "<Figure size 1000x600 with 1 Axes>"
      ],
      "image/png": "[encoded data removed]"
     },
     "metadata": {},
     "output_type": "display_data"
    }
   ],
   "execution_count": 9
  }
 ],
 "metadata": {
  "kernelspec": {
   "display_name": "Python 3",
   "language": "python",
   "name": "python3"
  },
  "language_info": {
   "codemirror_mode": {
    "name": "ipython",
    "version": 2
   },
   "file_extension": ".py",
   "mimetype": "text/x-python",
   "name": "python",
   "nbconvert_exporter": "python",
   "pygments_lexer": "ipython2",
   "version": "2.7.6"
  }
 },
 "nbformat": 4,
 "nbformat_minor": 5
}
