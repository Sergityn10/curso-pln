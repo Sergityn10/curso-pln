{
 "cells": [
  {
   "metadata": {},
   "cell_type": "markdown",
   "source": "# Machine Translation datasets\n",
   "id": "2e34e1a83be710ef"
  },
  {
   "metadata": {},
   "cell_type": "markdown",
   "source": "### Datasets listos para su uso",
   "id": "b082ed08d9a82151"
  },
  {
   "metadata": {},
   "cell_type": "markdown",
   "source": [
    "En [Hugging Face](https://huggingface.co/datasets) hay multiples datasets listos para su uso. Para el caso particular de la traducción de idiomas (Machine Translation) podemos filtrar los datasets que se ajusten a nuestra necesidad. Por ejemplo, vamos [a utilizar un dataset](https://huggingface.co/datasets/Iker/Document-Translation-en-es) que se define como:\n",
    "*\"Este conjunto de datos contiene 10533 artículos de noticias de [ELiRF/dacsa](https://huggingface.co/datasets/ELiRF/dacsa) traducidos del español al inglés utilizando GPT-3.5-turbo. El conjunto de datos está pensado para entrenar un modelo de traducción de textos del inglés al español y viceversa. El conjunto de datos también es útil para evaluar modelos de traducción automática a nivel de documento.\"*\n",
    "A continuación vemos como se puede descargar dicho dataset desde hugging face y dividirlo en dos conjuntos, de entrenamiento y de pruebas/validación."
   ],
   "id": "58bf256538ce4d92"
  },
  {
   "metadata": {},
   "cell_type": "markdown",
   "source": [
    "#### (Des)Cargar un dataset\n",
    "El método `load_dataset` se utiliza para cargar datasets del catálogo de Hugging Face o desde fuentes locales. Este método soporta varios parámetros que permiten personalizar cómo se carga el dataset."
   ],
   "id": "db10212bcd1485ff"
  },
  {
   "metadata": {
    "collapsed": true,
    "ExecuteTime": {
     "end_time": "2024-12-26T17:01:43.673604Z",
     "start_time": "2024-12-26T17:01:39.573451Z"
    }
   },
   "cell_type": "code",
   "source": [
    "from datasets import load_dataset\n",
    "\n",
    "dataset = load_dataset(\"Iker/Document-Translation-en-es\", split=\"train\")\n",
    "\n",
    "print(\"Tipo de dato: \", type(dataset))\n",
    "print(\"Tamaño del dataset: \", len(dataset))\n",
    "print(\"--- Conjunto de pruebas ---\")\n",
    "print(dataset)"
   ],
   "id": "initial_id",
   "outputs": [
    {
     "name": "stderr",
     "output_type": "stream",
     "text": [
      "/Users/andreacimmino/Desktop/UEX/Sesion1_MT/.venv/lib/python3.11/site-packages/tqdm/auto.py:21: TqdmWarning: IProgress not found. Please update jupyter and ipywidgets. See https://ipywidgets.readthedocs.io/en/stable/user_install.html\n",
      "  from .autonotebook import tqdm as notebook_tqdm\n"
     ]
    },
    {
     "name": "stdout",
     "output_type": "stream",
     "text": [
      "Tipo de dato:  <class 'datasets.arrow_dataset.Dataset'>\n",
      "Tamaño del dataset:  10533\n",
      "--- Conjunto de pruebas ---\n",
      "Dataset({\n",
      "    features: ['es', 'en', 'id'],\n",
      "    num_rows: 10533\n",
      "})\n"
     ]
    }
   ],
   "execution_count": 2
  },
  {
   "metadata": {
    "ExecuteTime": {
     "end_time": "2024-12-26T17:01:43.857037Z",
     "start_time": "2024-12-26T17:01:43.697638Z"
    }
   },
   "cell_type": "code",
   "source": [
    "print(\"--- Primera fila es ---\")\n",
    "print(dataset[\"es\"][0])"
   ],
   "id": "45bc25d563c11808",
   "outputs": [
    {
     "name": "stdout",
     "output_type": "stream",
     "text": [
      "--- Primera fila es ---\n",
      "Liquidada ya la legislatura sin apenas usarla y a sólo unos días de que, con la disolución de las Cortes el lunes y la convocatoria electoral del 10 de noviembre, todo vuelva a empezar, en el Congreso se especulaba este miércoles ya con victorias y derrotas. Quién mejorará su resultado, quién se desangrará. Los socialistas perfilan su llamada a la movilización con el estandarte de que les \"han arrebatado\" el Gobierno sin que existiera una alternativa real. No darán tregua a Unidas Podemos y culparán del fracaso de las negociaciones para formar un nuevo Ejecutivo a la intransigencia de Pablo Iglesias. Por sus altas pretensiones, por su rechazo a la coalición cuando se le ofreció. El PSOE sale \"a ampliar su apoyo\" el 10-N. Por su izquierda, con quienes no han entendido el empeño de Iglesias de entrar en el Gobierno. Pero por ese flanco ya han ganado casi todo lo posible, por eso, su ataque en ese flanco está orientado en resultar más apetecibles por su derecha. Apelará al voto \"del sentido común, la moderación, a la necesidad de estabilidad y gobernabilidad\". Irá a por los desencantados con Albert Rivera. Y a por ellos se lanzará también el PP. Los populares entienden que en una repetición electoral les beneficia el voto útil y su propuesta de reunificación del centro derecha bajo la marca España Suma. Y ellos, además, no han flirteado a última hora con una posible abstención a la investidura de Sánchez. Se reivindican como el PP, serio, previsible. El PSOE pretende convencer a los votantes de centro de Ciudadanos, los que recelan del giro a la derecha, los que no escucharon en la campaña que Rivera nunca facilitaría un Gobierno de Pedro Sánchez o no quisieron creerlo. El debate interno que se ha saldado con la marcha de dirigentes como Toni Roldán y Francisco de la Torre tiene su reflejo en los sondeos. Casi la mitad de los votantes de Ciudadanos no sabe si volverá a respaldarlo, según las encuestas. Alrededor de dos millones de votos a la intemperie. Un 45% de su electorado. Ésas son las cuentas de los dos grandes partidos. Hasta Ciudadanos admite que 35% de sus votos (más de un millón y medio) no se decantará hasta la última semana. Fuentes socialistas explicaban este miércoles que \"ahí está la pelea, el gran caladero\". Piensan que a Rivera le ha resultado inoperante el movimiento \"electoralista\" de las últimas horas hacia la abstención porque, opinan, no cala lo suficiente para convencer al votante moderado. Y que no será creíble que defienda ahora que él trató de sacar a España del bloqueo. En esa tesis sujetan que no podrá recuperar electorado de centro. Con el discurso muy volcado en este espacio, el PSOE prosigue su alejamiento de ERC -este miércoles Pedro Sánchez apuntó a un nuevo 155 si se violenta la Constitución- y refuerza también parte de la actitud combativa con Podemos. Fuentes del partido sostiene que el mensaje de que no han cedido a las pretensiones de Iglesias aunque haya supuesto que no haya Gobierno, les sirve para armar de razones a su electorado tradicional pero también para seducir al de Ciudadanos. \"¿Dónde está la alianza con populistas y separatistas? ¿Dónde está la banda a la que aludía Rivera?. Y un último argumento vale a los socialistas para combatir tanto a Iglesias como a Rivera: \"Los nuevos partidos no han traído nada distinto\" y \"mucha gente empieza a relacionar fragmentación con inestabilidad y bloqueo\". Tanto PP como PSOE apuntan a un \"refuerzo\" el 10-N de los partidos tradicionales, a una revalorización de lo que denominan la \"masa madre\". El PP no era partidario de la repetición electoral, pero, ante los hechos consumados y a tenor de las encuestas, se decanta por el optimismo: \"Ahora todo puede ir a mejor\", aseguran en Génova, donde están convencidos de que el electorado de centroderecha basculará hacia el voto útil. De ahí que hayan puesto el foco en recuperar los votantes que se fueron a Ciudadanos en abril. La mitad de los indecisos del electorado naranja -en torno a un millón de personas- es susceptible de \"volver a la casa madre\", opinan en el PP. Por eso el PP va a insistir constantemente en la idea de la confluencia electoral con Ciudadanos, bajo la marca España Suma. En su reunión con Rivera en la noche del lunes, Casado ya sacó el tema. Y vio a Rivera \"algo más dialogante\", según las mismas fuentes. Aunque Cs rechaza por completo la coalición, los populares tienen esperanzas en que pueda producirse en el Senado. Por eso tratarán de abrir una negociación formal con los dirigentes naranjas. En el PP quieren redoblar su apuesta por la economía, como contrapunto a Ciudadanos, que no tiene apenas experiencia de gestión. En los albores de una nueva crisis, los populares quieren rearmarse en el flanco económico, y para ello celebrarán una convención en las próximas semanas. En este punto y en su respuesta ante el Brexit, el PP considera que puede arañarle mucho electorado a Ciudadanos, por su mayor \"perfil institucional\". Los populares creen que le llevan la delantera a Ciudadanos porque han demostrado ser \"la única alternativa\" a Sánchez, y el único partido que no ha \"coqueteado\" con darle apoyo. Casado ha planeado \"no entrar a la refriega con Rivera ni con Vox\", pero quiere pescar en ambos caladeros. Intentará desplazar a Ciudadanos hacia el centroizquierda. \"Hay otro millón de votantes que dudan PSOE-Ciudadanos y podrían oscilar\", aseguran en Génova.\n"
     ]
    }
   ],
   "execution_count": 3
  },
  {
   "metadata": {
    "ExecuteTime": {
     "end_time": "2024-12-26T17:01:43.979976Z",
     "start_time": "2024-12-26T17:01:43.867495Z"
    }
   },
   "cell_type": "code",
   "source": [
    "print(\"--- Primera fila en ---\")\n",
    "print(dataset[\"en\"][0])"
   ],
   "id": "968050f78fb39e2",
   "outputs": [
    {
     "name": "stdout",
     "output_type": "stream",
     "text": [
      "--- Primera fila en ---\n",
      "The legislature is already over, barely used, and just a few days away from, with the dissolution of the Chambers on Monday and the electoral call for November 10, everything starting over, in Congress, on Wednesday speculation was already rife about victories and defeats. Who will improve their result, who will bleed out. The Socialists outline their call to mobilization with the banner that the Government has been \"snatched\" from them without there being a real alternative. They will not give respite to Unidas Podemos and will blame the failure of the negotiations to form a new Government on Pablo Iglesias' intransigence. Due to their high demands, due to their refusal of the coalition when it was offered to them. The PSOE is \"aiming to increase their support\" on 10-N. To their left, with those who have not understood Iglesias' insistence on entering the Government. But through that flank, they have already won almost all that is possible, that's why their attack on that flank is aimed at becoming more appealing to their right. They will appeal to the vote of \"common sense, moderation, the need for stability and governability\". They will go after those disillusioned with Albert Rivera. The PP will also go after them. The Popular Party understands that in a repeat election, the useful vote benefits them and their proposal for the reunification of the center-right under the brand \"Spain Suma\". Moreover, they did not flirt at the last minute with a possible abstention in Sánchez's investiture. They reclaim themselves as the serious, predictable PP. The PSOE aims to convince the center voters of Ciudadanos, those who are wary of the right turn, those who did not hear during the campaign that Rivera would never facilitate a Government with Pedro Sánchez or did not want to believe it. The internal debate that ended with the departure of leaders like Toni Roldán and Francisco de la Torre is reflected in the polls. Almost half of Ciudadanos' voters do not know if they will support it again, according to polls. Around two million votes in the open. 45% of their electorate. These are the calculations of the two major parties. Even Ciudadanos admits that 35% of its votes (more than one and a half million) will not be decided until the last week. Socialist sources explained on Wednesday that \"that's where the fight is, the big fishing ground.\" They think that Rivera's \"electioneering\" move towards abstention in recent hours has been ineffective because, in their opinion, it does not resonate enough to convince the moderate voter. And that it will not be believable for him to now argue that he tried to get Spain out of the deadlock. They believe that he will not be able to recover center voters. With a speech focused on this space, the PSOE continues to distance itself from ERC -this Wednesday Pedro Sánchez pointed to a new application of Article 155 if the Constitution is violated- and also reinforces some of the combative attitude with Podemos. Party sources maintain that the message that they did not give in to Iglesias' demands despite the fact that it meant no government, serves them to arm their traditional electorate with reasons but also to seduce Ciudadanos' voters. \"Where is the alliance with populists and separatists? Where is the gang to which Rivera referred?\". And one last argument is useful for the Socialists to combat both Iglesias and Rivera: \"The new parties have not brought anything different\" and \"many people are starting to relate fragmentation with instability and deadlock\". Both the PP and the PSOE point to a \"strengthening\" on November 10 of the traditional parties, a revaluation of what they call the \"mother bulk\". The PP was not in favor of a repeat election, but, faced with the facts and according to the polls, they lean towards optimism: \"Now everything can get better,\" they state at Génova, where they are convinced that the center-right electorate will swing towards the useful vote. That's why they have focused on regaining the voters who went to Ciudadanos in April. According to the PP, half of the undecided in the orange electorate -around a million people- are likely to \"return to the mother house\". That's why the PP will constantly insist on the idea of electoral convergence with Ciudadanos, under the brand \"Spain Suma\". In their meeting with Rivera on Monday night, Casado already brought up the topic. And he saw Rivera as \"somewhat more open to dialogue\", according to the same sources. Although Cs completely rejects the coalition, the Popular Party hopes that it could take place in the Senate. That's why they will try to open formal negotiations with the orange leaders. The PP wants to double down on their commitment to the economy, as a counterpoint to Ciudadanos, which has little management experience. At the dawn of a new crisis, the Popular Party wants to strengthen itself economically, and for this, they will hold a convention in the coming weeks. At this point and in their response to Brexit, the PP believes it could win over many Ciudadanos voters due to their greater \"institutional profile\". They believe they are ahead of Ciudadanos because they have proven to be \"the only alternative\" to Sánchez, the only party that has not \"flirted\" with supporting him. Casado has planned to \"not enter into the fray with Rivera or Vox\", but wants to fish in both ponds. They will try to move Ciudadanos towards the center-left. \"There is another million of voters who fluctuate between PSOE-Ciudadanos and could swing,\" they say at Génova.\n"
     ]
    }
   ],
   "execution_count": 4
  },
  {
   "metadata": {},
   "cell_type": "markdown",
   "source": "Existen diferentes parámetros que se pueden especificar que es importante conocer:",
   "id": "e57ced1968de705e"
  },
  {
   "metadata": {},
   "cell_type": "markdown",
   "source": [
    "##### Parámetro split\n",
    "\n",
    "El parámetro `split` especifica qué parte del dataset se quiere cargar. Normalmente, toma como valor `train` para indicar datos de entrenamiento, `test` para indicar datos de prueba y `validation` para indicar datos de validación (si el dataset tiene esta partición); además de otros valores menos frecuentes."
   ],
   "id": "f4a7eb3a12666c27"
  },
  {
   "metadata": {
    "ExecuteTime": {
     "end_time": "2024-12-26T17:01:59.631295Z",
     "start_time": "2024-12-26T17:01:43.985869Z"
    }
   },
   "cell_type": "code",
   "source": [
    "def load_ds(name, split_type):\n",
    "    try:\n",
    "        ds = load_dataset(name, split=split_type)\n",
    "        print(name, \" tamaño del dataset de \",split_type,\" \", len(ds))\n",
    "    except Exception as e:\n",
    "        print(e)\n",
    "\n",
    "# Prueba con dataset Iker/Document-Translation-en-es\n",
    "load_ds(\"Iker/Document-Translation-en-es\", split_type=\"train\")\n",
    "load_ds(\"Iker/Document-Translation-en-es\", split_type=\"test\")\n",
    "load_ds(\"Iker/Document-Translation-en-es\", split_type=\"validation\")\n",
    "# Prueba con dataset de imdb\n",
    "load_ds(\"imdb\", split_type=\"train\")\n",
    "load_ds(\"imdb\", split_type=\"test\")\n",
    "load_ds(\"imdb\", split_type=\"validation\")"
   ],
   "id": "df41ff130ab0f322",
   "outputs": [
    {
     "name": "stdout",
     "output_type": "stream",
     "text": [
      "Iker/Document-Translation-en-es  tamaño del dataset de  train   10533\n",
      "Unknown split \"test\". Should be one of ['train'].\n",
      "Unknown split \"validation\". Should be one of ['train'].\n",
      "imdb  tamaño del dataset de  train   25000\n",
      "imdb  tamaño del dataset de  test   25000\n",
      "Unknown split \"validation\". Should be one of ['train', 'test', 'unsupervised'].\n"
     ]
    }
   ],
   "execution_count": 5
  },
  {
   "metadata": {},
   "cell_type": "markdown",
   "source": [
    "Como se puede observar, el valor de `split` depende de como se ha preparado el dataset. En el caso de `Iker/Document-Translation-en-es` solo hay un split de training mientras que en `imdb` existe de training, test, pero no de validación y en su lugar existe uno llamado `unsupervised`.\n",
    "\n",
    "Además, se pueden crear subconjuntos personalizados añadiendo los carácteres `[]` al conjunto de `split`"
   ],
   "id": "41c13aff62e4ce73"
  },
  {
   "metadata": {
    "ExecuteTime": {
     "end_time": "2024-12-26T17:02:00.805766Z",
     "start_time": "2024-12-26T17:01:59.642452Z"
    }
   },
   "cell_type": "code",
   "source": [
    "# Cargar solo el 10% de los datos de entrenamiento\n",
    "subset_dataset = load_dataset(\"Iker/Document-Translation-en-es\", split=\"train[:10%]\")\n",
    "print(\"Tamaño del subset (10% de entrenamiento): \", len(subset_dataset))"
   ],
   "id": "60ab6d58bacfb3d2",
   "outputs": [
    {
     "name": "stdout",
     "output_type": "stream",
     "text": [
      "Tamaño del subset (10% de entrenamiento):  1053\n"
     ]
    }
   ],
   "execution_count": 6
  },
  {
   "metadata": {
    "ExecuteTime": {
     "end_time": "2024-12-26T17:02:02.003154Z",
     "start_time": "2024-12-26T17:02:00.819090Z"
    }
   },
   "cell_type": "code",
   "source": [
    "# Cargar ejemplos desde el índice 100 hasta el 200\n",
    "range_dataset = load_dataset(\"Iker/Document-Translation-en-es\", split=\"train[100:200]\")\n",
    "print(\"Tamaño del subset (índices 100-200): \", len(range_dataset))"
   ],
   "id": "70516dc09fd6413c",
   "outputs": [
    {
     "name": "stdout",
     "output_type": "stream",
     "text": [
      "Tamaño del subset (índices 100-200):  100\n"
     ]
    }
   ],
   "execution_count": 7
  },
  {
   "metadata": {},
   "cell_type": "markdown",
   "source": "Además se pueden combinar distintas particiones:",
   "id": "1251b1d6cc82baa5"
  },
  {
   "metadata": {
    "ExecuteTime": {
     "end_time": "2024-12-26T17:02:05.394994Z",
     "start_time": "2024-12-26T17:02:02.016204Z"
    }
   },
   "cell_type": "code",
   "source": [
    "# Combinar datos de entrenamiento y prueba\n",
    "combined_dataset = load_dataset(\"imdb\", split=\"train+test\")\n",
    "print(\"Tamaño del dataset combinado: \",len(combined_dataset))"
   ],
   "id": "3b861ce2b24e4e1d",
   "outputs": [
    {
     "name": "stdout",
     "output_type": "stream",
     "text": [
      "Tamaño del dataset combinado:  50000\n"
     ]
    }
   ],
   "execution_count": 8
  },
  {
   "metadata": {},
   "cell_type": "markdown",
   "source": [
    "##### Parámetro `cache_dir`\n",
    "\n",
    "Este parámetro es *especialmente importante para datasets grandes* ya que permite guardar una copia del dataset en local para poder utilizarlo a posteriori sin tener que volver a descargarlo."
   ],
   "id": "f55db27a57d82156"
  },
  {
   "metadata": {
    "ExecuteTime": {
     "end_time": "2024-12-26T17:02:06.556007Z",
     "start_time": "2024-12-26T17:02:05.414837Z"
    }
   },
   "cell_type": "code",
   "source": [
    "import os\n",
    "\n",
    "print(\"Existe dataset: \", os.path.exists(\"./data/iker\"))\n",
    "# Almacenar el dataset en un directorio específico\n",
    "cached_dataset = load_dataset(\"Iker/Document-Translation-en-es\", split=\"train\", cache_dir=\"./data/iker\")\n",
    "print(\"Existe dataset: \", os.path.exists(\"./data/iker\"))"
   ],
   "id": "85f8046f693ab4c1",
   "outputs": [
    {
     "name": "stdout",
     "output_type": "stream",
     "text": [
      "Existe dataset:  True\n",
      "Existe dataset:  True\n"
     ]
    }
   ],
   "execution_count": 9
  },
  {
   "metadata": {},
   "cell_type": "markdown",
   "source": "Si el fragmento anterior se ejecuta dos veces, la segunda se ve como el dataset ya no es descargado.",
   "id": "becf1417c48da598"
  },
  {
   "metadata": {},
   "cell_type": "markdown",
   "source": [
    "##### Parámetro `data_files`\n",
    "\n",
    "Este parámetro se utiliza para indicar como dataset un fichero local el cuál será cargado. Los datasets locales  puede estar escritos en diversos formatos: `csv`, `json`, o `parquet`."
   ],
   "id": "1189d358cf7780e1"
  },
  {
   "metadata": {
    "ExecuteTime": {
     "end_time": "2024-12-26T17:06:44.358982Z",
     "start_time": "2024-12-26T17:06:43.887552Z"
    }
   },
   "cell_type": "code",
   "source": [
    "# Cargar un dataset desde un archivo CSV local\n",
    "local_dataset = load_dataset(\"csv\", data_files={\"train\": \"./provided/sample-ds.csv\", \"test\": \"./provided/sample-ds.csv\"}, split=\"train\")\n",
    "print(f\"Tamaño del dataset local: {len(local_dataset)}\")"
   ],
   "id": "46cb1f9cf2bda3e",
   "outputs": [
    {
     "name": "stderr",
     "output_type": "stream",
     "text": [
      "Generating train split: 30 examples [00:00, 1246.22 examples/s]\n",
      "Generating test split: 30 examples [00:00, 7915.27 examples/s]"
     ]
    },
    {
     "name": "stdout",
     "output_type": "stream",
     "text": [
      "Tamaño del dataset local: 30\n"
     ]
    },
    {
     "name": "stderr",
     "output_type": "stream",
     "text": [
      "\n"
     ]
    }
   ],
   "execution_count": 13
  },
  {
   "metadata": {},
   "cell_type": "markdown",
   "source": [
    "#### Cargar un dataset desde memoria\n",
    "\n",
    "Por último, es posible cargar un dataset desde una variable que tengamos en el código. Para ello se usa el método estático `Dataset.from_dict()` que carga un diccionario de python."
   ],
   "id": "68bdb45d442e0f9a"
  },
  {
   "metadata": {
    "ExecuteTime": {
     "end_time": "2024-12-26T17:03:38.984447Z",
     "start_time": "2024-12-26T17:03:38.927641Z"
    }
   },
   "cell_type": "code",
   "source": [
    "from datasets import Dataset\n",
    "import io\n",
    "\n",
    "# Importante el formato del dic !\n",
    "raw_dataset_json = { \"translations\": [\n",
    "    {\"español\": \"Hola, ¿cómo estás?\", \"latin\": \"Salve, quid agis?\"},\n",
    "    {\"español\": \"Buenos días\", \"latin\": \"Bonum mane\"},\n",
    "    {\"español\": \"Buenas noches\", \"latin\": \"Bonum nocte\"},\n",
    "    {\"español\": \"Gracias por tu ayuda\", \"latin\": \"Gratias tibi ago pro auxilio tuo\"},\n",
    "    {\"español\": \"¿Dónde está la biblioteca?\", \"latin\": \"Ubi est bibliotheca?\"},\n",
    "    {\"español\": \"Tengo hambre\", \"latin\": \"Esurio\"},\n",
    "    {\"español\": \"Tengo sed\", \"latin\": \"Sitiens sum\"},\n",
    "    {\"español\": \"Me gusta leer libros\", \"latin\": \"Libros legere mihi placet\"},\n",
    "    {\"español\": \"¿Cuánto cuesta esto?\", \"latin\": \"Quanti constat hoc?\"},\n",
    "    {\"español\": \"Por favor, repítelo\", \"latin\": \"Quaeso, iterum dic\"},\n",
    "    {\"español\": \"Disculpa, no entiendo\", \"latin\": \"Ignosce, non intellego\"},\n",
    "    {\"español\": \"Mi nombre es Juan\", \"latin\": \"Nomen meum est Ioannes\"},\n",
    "    {\"español\": \"Feliz cumpleaños\", \"latin\": \"Felix natalis\"},\n",
    "    {\"español\": \"Hasta luego\", \"latin\": \"Vale\"},\n",
    "    {\"español\": \"Estoy perdido\", \"latin\": \"Erravi\"},\n",
    "    {\"español\": \"¿Puedes ayudarme?\", \"latin\": \"Potesne me adiuvare?\"},\n",
    "    {\"español\": \"¿Cuál es tu nombre?\", \"latin\": \"Quod est nomen tuum?\"},\n",
    "    {\"español\": \"Estoy aprendiendo latín\", \"latin\": \"Disco latinam linguam\"},\n",
    "    {\"español\": \"Es un placer conocerte\", \"latin\": \"Placuit mihi te convenire\"},\n",
    "    {\"español\": \"Lo siento mucho\", \"latin\": \"Multum doleo\"},\n",
    "    {\"español\": \"Estoy cansado\", \"latin\": \"Fessus sum\"},\n",
    "    {\"español\": \"Vengo de España\", \"latin\": \"Ex Hispania venio\"},\n",
    "    {\"español\": \"Me gusta mucho la música\", \"latin\": \"Musica mihi multum placet\"},\n",
    "    {\"español\": \"Quiero ir al mercado\", \"latin\": \"Volo ire ad forum\"},\n",
    "    {\"español\": \"Estoy buscando un restaurante\", \"latin\": \"Quaero tabernam cauponiam\"},\n",
    "    {\"español\": \"¿Hablas español?\", \"latin\": \"Loquerisne Hispanice?\"},\n",
    "    {\"español\": \"Hoy es un buen día\", \"latin\": \"Hodie est dies bonus\"},\n",
    "    {\"español\": \"Estoy de acuerdo contigo\", \"latin\": \"Assentior tibi\"},\n",
    "    {\"español\": \"La comida está deliciosa\", \"latin\": \"Cibus est deliciosus\"},\n",
    "    {\"español\": \"Quiero aprender más\", \"latin\": \"Volo plus discere\"}\n",
    "    ]\n",
    "}\n",
    "\n",
    "# Load the dataset from the JSON buffer\n",
    "dataset = Dataset.from_dict(raw_dataset_json)\n",
    "\n",
    "# Print the dataset\n",
    "print(dataset)\n",
    "split_dataset = dataset.train_test_split(train_size=0.5, shuffle=True, seed=42)\n",
    "\n",
    "train_dataset = split_dataset['train']\n",
    "eval_dataset = split_dataset['test']\n",
    "\n",
    "print(\"Tamaño del conjunto de entrenamiento: \", len(train_dataset))\n",
    "print(\"Tamaño del conjunto de prueba: \", len(eval_dataset))\n",
    "print(\"Tamaño total: \", len(eval_dataset) + len(train_dataset))"
   ],
   "id": "31632a350dffb94b",
   "outputs": [
    {
     "name": "stdout",
     "output_type": "stream",
     "text": [
      "Dataset({\n",
      "    features: ['translations'],\n",
      "    num_rows: 30\n",
      "})\n",
      "Tamaño del conjunto de entrenamiento:  15\n",
      "Tamaño del conjunto de prueba:  15\n",
      "Tamaño total:  30\n"
     ]
    }
   ],
   "execution_count": 11
  },
  {
   "metadata": {},
   "cell_type": "markdown",
   "source": "#### Preparar un dataset para entrenar y evaluar/validar",
   "id": "b577bac42bed8dd0"
  },
  {
   "metadata": {},
   "cell_type": "markdown",
   "source": [
    "Haciendo uso del método `train_test_split` que possen los objetos de tipo `dataset` se pueden generar los datasets para el entrenamiento y la validación. Es importante conocer algunos parámetros:\n",
    "* `test_size` y `train_size` sirven para indicar el tamaño del conjunto de evaluación/validación y de entrenamiento respectivamente. Aceptan un valor `n` que indica el procentaje de ejemplos (`n<1.0`) o el número exacto a usar (`n>1`)\n",
    "* shuffle: Determina si los datos deben barajarse antes de dividirlos. Si shuffle=True (por defecto), los datos se distribuyen aleatoriamente entre los subconjuntos. Si es False, los datos se dividen en su orden original.\n",
    "* seed: Establece la semilla para la aleatoriedad del barajado. Esto permite reproducir divisiones consistentes en diferentes ejecuciones al usar el mismo valor de semilla.\n"
   ],
   "id": "bdcb538a1fc5eae6"
  },
  {
   "metadata": {
    "ExecuteTime": {
     "end_time": "2024-12-26T17:03:45.582182Z",
     "start_time": "2024-12-26T17:03:44.032630Z"
    }
   },
   "cell_type": "code",
   "source": [
    "from datasets import load_dataset\n",
    "\n",
    "dataset = load_dataset(\"Iker/Document-Translation-en-es\", split=\"train\", cache_dir=\"./data/iker\")\n",
    "split_dataset = dataset.train_test_split(train_size=0.5, shuffle=True, seed=42)\n",
    "train_dataset = split_dataset['train']\n",
    "eval_dataset = split_dataset['test']\n",
    "\n",
    "print(\"Tamaño del conjunto de entrenamiento: \", len(train_dataset))\n",
    "print(\"Tamaño del conjunto de prueba: \", len(eval_dataset))\n",
    "print(\"Tamaño total: \", len(eval_dataset) + len(train_dataset))\n"
   ],
   "id": "13af4f2eed636f2b",
   "outputs": [
    {
     "name": "stdout",
     "output_type": "stream",
     "text": [
      "Tamaño del conjunto de entrenamiento:  5266\n",
      "Tamaño del conjunto de prueba:  5267\n",
      "Tamaño total:  10533\n"
     ]
    }
   ],
   "execution_count": 12
  },
  {
   "metadata": {},
   "cell_type": "markdown",
   "source": [
    "#### Tarea DS1\n",
    "\n",
    "Buscar el dataset `okezieowen/english_to_spanish` en hugging face para poder ser usado para traducción (machine translation) entre inglés y español. Escribir el código python necesario para que usando dicho dataset se genere un conjunto de entrenamiento y otro de evaluación/validación. Además, hacer que dicho dataset se guarde en cache local bajo la carpeta `./data/`\n",
    "\n"
   ],
   "id": "4c5c44d4634e4b3a"
  },
  {
   "metadata": {},
   "cell_type": "code",
   "outputs": [],
   "execution_count": null,
   "source": "",
   "id": "cae782d2d87d833e"
  },
  {
   "metadata": {},
   "cell_type": "markdown",
   "source": [
    "### Construir un dataset\n",
    "\n"
   ],
   "id": "162ef62d29d39806"
  },
  {
   "metadata": {},
   "cell_type": "markdown",
   "source": [
    "Para construir un dataset orientado a la traducción, sabemos que necesitamos construir un `dict` de python donde tengamos una estructura:\n",
    "````\n",
    "{ \"translations\" : [\n",
    "  { \"l1\" : \"...\", \"l2\" : \"....\", ... }\n",
    " ] }\n",
    "````\n",
    "Donde `li` es el idioma en el que está codificada la frase"
   ],
   "id": "bcb71026b5d01f57"
  },
  {
   "metadata": {},
   "cell_type": "markdown",
   "source": [
    "#### Tarea DS2\n",
    "\n",
    "Construir un dataset para los idiomas del señor de los anillos utilizando [los subtitulos de las películas del señor de los anillos](https://github.com/howa003/complete-elvish-lotr-subtitles). Preferiblemente, el dataset tiene que por lo menos contener el idioma [Sindarin](https://es.wikipedia.org/wiki/Sindarin#:~:text=El%20sindarin%20(llamado%20tambi%C3%A9n%20%C3%A9lfico,hablada%20en%20la%20Tierra%20Media) (Élfico Gris).\n",
    "\n"
   ],
   "id": "af900d4f4ac1165d"
  },
  {
   "metadata": {},
   "cell_type": "code",
   "outputs": [],
   "execution_count": null,
   "source": "",
   "id": "9c7c0745b55be73f"
  },
  {
   "metadata": {},
   "cell_type": "markdown",
   "source": "Una posible solución *out of the box* se encuentra implementada en el fichero `./libs/sindarin_builder.py`",
   "id": "c795ec111494d329"
  },
  {
   "metadata": {
    "ExecuteTime": {
     "end_time": "2024-12-26T17:02:06.912192Z",
     "start_time": "2024-12-24T16:08:07.410457Z"
    }
   },
   "cell_type": "code",
   "source": [
    "from libs.lotr_ds_builder import build_datasets\n",
    "\n",
    "train, test = build_datasets()\n",
    "print(train.keys())\n",
    "print(train['Sindarin'])"
   ],
   "id": "7ebaa4330d1b509e",
   "outputs": [
    {
     "name": "stdout",
     "output_type": "stream",
     "text": [
      "{'Sindarin': 163, 'Adûnaic': 28, 'Black Speech': 26, 'Quenya': 45, 'Rohirric': 19}\n",
      "{'Sindarin': 65, 'Rohirric': 18}\n",
      "dict_keys(['Sindarin', 'Adûnaic', 'Black Speech', 'Quenya', 'Rohirric'])\n",
      "{'translation': [{'en': 'Who brings to us this token of darkness?', 'sin': 'Man ammen toltha i dann hen morn?'}, {'en': 'Will now fall, will be.', 'sin': 'Si dannatha, nauva.'}, {'en': 'Hold positions!', 'sin': 'Tangado haid!'}, {'en': 'Release the arrows!', 'sin': 'Leithio i philinn!'}, {'en': 'O Queen beyond the Western Seas', 'sin': 'Rîn athar annún-aearath'}, {'en': 'light to us', 'sin': 'calad ammen'}, {'en': 'who wander', 'sin': 'i reniar'}, {'en': 'amid the tree-woven lands of Middle-earth.', 'sin': \"mi 'aladhremmin Ennorath.\"}, {'en': 'O Elbereth Star-kindler', 'sin': 'A Elbereth Gilthoniel'}, {'en': 'your eyes and breath shining like jewels.', 'sin': 'i chin a thûl lín míriel.'}, {'en': 'Tinúviel elven-fair', 'sin': 'Tinúviel elvanui'}, {'en': 'immortal maiden elven-wise', 'sin': 'elleth alfirin edhelhael'}, {'en': 'about him cast her night-dark hair', 'sin': 'o hon ring finnil fuinui'}, {'en': 'and arms like silver.', 'sin': 'a renc gelebrin.'}, {'en': 'Tinuviel the elven-fair', 'sin': 'Tinuviel elvanui'}, {'en': 'I Arwen, I come to help you.', 'sin': 'Im Arwen, Telin le thaed.'}, {'en': 'Listen to my word, come back to the light.', 'sin': 'Lasto beth nîn, tolo dan nan galad.'}, {'en': 'immortal maiden.', 'sin': 'elleth alfirin.'}, {'en': 'Stay with the Hobbits. I will send horses for you.', 'sin': 'Dartho guin Beriain. Rych le ad tolthathon.'}, {'en': 'I will take him! I am the swifter rider.', 'sin': 'Hon mabathon! Rochon ellint im.'}, {'en': 'The road is too dangerous.', 'sin': 'Andelu i ven.'}, {'en': 'Frodo is dying. If I cross the river', 'sin': 'Frodo fîr. Ae athradon i hîr'}, {'en': 'the power of my people will protect him.', 'sin': 'tûr gwaith nîn beriatha hon.'}, {'en': 'As you wish.', 'sin': 'Be iest lîn.'}, {'en': 'Ride fast Asfaloth, ride fast!', 'sin': 'Noro lim Asfaloth, noro lim!'}, {'en': 'Ride fast Asfaloth!', 'sin': 'Noro lim Asfaloth!'}, {'en': 'Waters of the Misty Mountains, listen to the great word!', 'sin': 'Nîn o Chithaeglir, lasto beth daer!'}, {'en': 'Flow waters of Loudwater against the Ringwraiths!', 'sin': 'Rimmo nîn Bruinen dan in Ulaer!'}, {'en': 'Waters of the Misty Mountains, listen to the great word!', 'sin': 'Nîn o Chithaeglir, lasto beth daer!'}, {'en': 'Flow waters of Loudwater against the Ringwraiths!', 'sin': 'Rimmo nîn Bruinen dan in Ulaer!'}, {'en': 'Hear my voice. Come back to the light.', 'sin': 'Lasto beth nîn. Tolo dan nan galad.'}, {'en': 'The shadow does not hold sway yet, Aragorn.', 'sin': 'A si i-Dhúath ú-orthor, Aragorn.'}, {'en': 'Not over you, not over me.', 'sin': 'Ú or le a ú or nin.'}, {'en': 'Do you remember when we first met?', 'sin': 'Renich i lú i erui govannem?'}, {'en': 'I thought I had strayed into a dream.', 'sin': 'Nauthannen i ned ôl reniannen.'}, {'en': 'Long years have passed.', 'sin': 'Gwenwin in enninath.'}, {'en': 'You did not wear the troubles you carry now.', 'sin': \"Ú-'arnech in naeth i si celich.\"}, {'en': 'Do you remember what I told you?', 'sin': 'Renich i beth i pennen?'}, {'en': 'Sit down, Legolas.', 'sin': 'Havo dad, Legolas.'}, {'en': 'Hope, you are your father’s son', 'sin': 'Estel, le iôn adar lín'}, {'en': 'not your mother’s child.', 'sin': 'û iôn naneth lín.'}, {'en': 'She wanted to protect her child.', 'sin': 'Anirne hene beriad i chên lîn.'}, {'en': 'She thought in Rivendell you would be safe.', 'sin': 'Ned Imladris nauthant e le beriathar aen.'}, {'en': 'Sleep Redhorn, Be still! Lie Still!', 'sin': 'Losto Caradhras, Sedho! Hodo!'}, {'en': 'Hold your Wrath!', 'sin': \"Nuitho i 'Ruith!\"}, {'en': 'Gate of the elves, open now for me!', 'sin': 'Annon Edhellen edro hi ammen!'}, {'en': 'Doorway of the Dwarf-folk, listen to the word of my tongue.', 'sin': 'Fennas Nogothrim, lasto beth lammen.'}, {'en': 'Friend.', 'sin': 'Mellon.'}, {'en': 'Who brings to us this token of darkness?', 'sin': 'Man ammen toltha i dann hen morn?'}, {'en': 'Will now fall, will be.', 'sin': 'Si dannatha, nauva.'}, {'en': 'Welcome, Legolas son of Thranduil.', 'sin': 'Mae govannen, Legolas Thranduilion.'}, {'en': 'Our fellowship stands in your debt, Haldir of Lórien.', 'sin': 'Govannas vîn gwennen le, Haldir o Lórien.'}, {'en': 'Oh, Aragorn of the Dúnedain', 'sin': 'A Aragorn in Dúnedain'}, {'en': 'you are known to us.', 'sin': 'istannen le ammen.'}, {'en': 'We need your protection. The road is too dangerous!', 'sin': 'Boe ammen veriad lîn. Andelu i ven!'}, {'en': 'I wish we may come with you.', 'sin': 'Merin le telim.'}, {'en': 'We need your support!', 'sin': 'Boe ammen i dulu lîn!'}, {'en': 'I wish we may come with you.', 'sin': 'Merin le telim.'}, {'en': 'The road is too dangerous!', 'sin': 'Andelu i ven!'}, {'en': 'The bonds cut', 'sin': 'In gwidh ristennin'}, {'en': 'the spirit broken.', 'sin': 'i fae narchannen.'}, {'en': 'The Flame of Anor out', 'sin': 'I Lach Anor ed'}, {'en': 'left this world.', 'sin': 'ardhon gwannen.'}, {'en': 'Mithrandir, o Pilgrim Grey', 'sin': 'Mithrandir, o Randir Vithren'}, {'en': 'you will not journey', 'sin': 'ú-reniathach'}, {'en': 'the world green.', 'sin': 'i amar galen.'}, {'en': 'The journey of you in darkness stopped.', 'sin': 'I reniad lín ne môr nuithannen.'}, {'en': 'You are being tracked.', 'sin': 'Le aphadar aen.'}, {'en': 'For her love', 'sin': 'Am meleth dîn'}, {'en': 'the gift of life of Arwen will fade.', 'sin': 'I ant e guil Arwen Undómiel pígatha.'}, {'en': 'I wish that she endures', 'sin': 'Aníron i e broniatha'}, {'en': 'even if we separate beyond the limits of this world.', 'sin': 'Ad ae periatham athar i methid en-amar hen.'}, {'en': 'I wish that she sails to Valinor.', 'sin': 'Aníron i e círatha na Valinor.'}, {'en': 'There is much you have yet to do', 'sin': 'Nadath nâ i moe cerich'}, {'en': 'but', 'sin': 'dan'}, {'en': 'we shall not meet again, Elessar.', 'sin': \"ú-'eveditham, Elessar.\"}, {'en': 'Star I saw rise high in', 'sin': 'Ngîl cennin firiel vi'}, {'en': 'sky of evening.', 'sin': 'menel aduial.'}, {'en': 'It hung like jewel', 'sin': 'Glingant sui mîr'}, {'en': 'shining softly.', 'sin': 'síliel mae.'}, {'en': 'Star I saw fading  in', 'sin': 'Ngîl cennin firiel vi'}, {'en': 'sky of evening.', 'sin': 'menel aduial.'}, {'en': 'Dark the darkness.', 'sin': 'Dúr i fuin.'}, {'en': 'Yearning softly.', 'sin': 'Naenol mae.'}, {'en': 'Father.', 'sin': 'Ada.'}, {'en': 'For what might have been.', 'sin': 'An i ú nathant.'}, {'en': 'For what never was.', 'sin': 'An i naun ului.'}, {'en': 'For life, long lived.', 'sin': 'A chuil, anann cuiannen.'}, {'en': 'For love, half-given.', 'sin': 'A meleth, perónen.'}, {'en': 'Father', 'sin': 'Ada'}, {'en': 'I gave hope to Men.', 'sin': 'Ónen i-Estel Edain.'}, {'en': 'I have kept', 'sin': 'Ú-chebin'}, {'en': 'no hope for me.', 'sin': 'Estel anim.'}, {'en': 'Thank you.', 'sin': 'Hannon le.'}, {'en': 'Tinúviel', 'sin': 'Tinúviel'}, {'en': 'the elven-fair', 'sin': 'elvanui'}, {'en': 'immortal maiden elven-wise.', 'sin': 'elleth alfirin edhelhael.'}, {'en': 'The sea calls us to home.', 'sin': 'I Aear cân ven na mar.'}, {'en': 'May they find peace after death.', 'sin': 'Hiro hyn hîdh ab ’wanath.'}, {'en': 'A thing to be there!', 'sin': 'Aragorn, nad no ennas!'}, {'en': 'What do you see?', 'sin': 'Man cenich?'}, {'en': 'What troubles you, Brego?', 'sin': 'Man le trasta, Brego?'}, {'en': 'What did you see?', 'sin': 'Man cenich?'}, {'en': 'Not the end', 'sin': 'Ú i vethed'}, {'en': 'it is the beginning.', 'sin': 'nâ i onnad.'}, {'en': 'Once you told me', 'sin': 'Minlû pedich nin'}, {'en': 'this day will-come.', 'sin': 'i aur hen telitha.'}, {'en': 'Not the endit is the beginning.', 'sin': 'Ú i vethednâ i onnad.'}, {'en': 'It is necessary you go with Frodo.', 'sin': 'Boe bedich go Frodo.'}, {'en': 'Hidden the path is from me.', 'sin': 'Dolen i vâd o nin.'}, {'en': 'The way is already spread before your feet.', 'sin': 'Si peliannen i vâd na dail lîn.'}, {'en': 'Now it-is-necessary you-don’t-fall.', 'sin': 'Si boe ú-dhannathach.'}, {'en': 'If you trust not things', 'sin': 'Ae ú-esteliach nad'}, {'en': 'trust this', 'sin': 'estelio han'}, {'en': 'trust us.', 'sin': 'estelio ammen.'}, {'en': 'Trust this.', 'sin': 'Estelio han.'}, {'en': 'Trust this.', 'sin': 'Estelio han.'}, {'en': 'Trust love.', 'sin': 'Estelio veleth.'}, {'en': 'Are you going to leave in such way?', 'sin': 'Nach gwannatha sin?'}, {'en': 'You would depart after the stars fade - unseen?', 'sin': 'Ma nathach hi gwannathach or minuial archened?'}, {'en': 'I will not return.', 'sin': 'Ú-ethelithon.'}, {'en': 'Trust in your skill in battle.', 'sin': 'Estelio guru lîn ne dagor.'}, {'en': 'You will return.', 'sin': 'Ethelithach.'}, {'en': 'I don’t speak about death in battle.', 'sin': 'Ú-bedin o gurth ne dagor.'}, {'en': 'About what you speak?', 'sin': 'O man pedich?'}, {'en': 'A path is opened for you, a path to another life', 'sin': 'Edra le men, men na guil edwen'}, {'en': 'far from war and weeping and woe.', 'sin': 'haer o auth a nîr a naeth.'}, {'en': 'Come, it is time.', 'sin': 'Tollen, i lû.'}, {'en': 'The ships depart to Valinor. Now go, before they sail.', 'sin': 'I chair gwannar na Valannor. Si bado, no círar.'}, {'en': 'And I, I-have-not love your?', 'sin': 'Ah im, ú-’erin veleth lîn?'}, {'en': 'You-have my love, father.', 'sin': 'Gerich veleth nîn, ada.'}, {'en': 'The world is changed.', 'sin': 'I amar prestar aen.'}, {'en': 'I feel it in the water.', 'sin': 'Han mathon ne nen.'}, {'en': 'I feel it in the earth.', 'sin': 'Han mathon ne chae.'}, {'en': 'I smell it in the air.', 'sin': 'A han noston ned ’wilith.'}, {'en': 'Well done, Brego, my friend.', 'sin': 'Mae carnen, Brego, mellon nîn.'}, {'en': 'You’re late.', 'sin': 'Le abdollen.'}, {'en': 'Thank you.', 'sin': 'Hannon le.'}, {'en': 'And they should be', 'sin': 'Boe a hyn'}, {'en': 'Three hundredagainst ten thousand.', 'sin': 'Neled heraindan caer menig.'}, {'en': 'Here they-will-defend them-selves sharper than at Edoras.', 'sin': 'Si, beriathar hyn ammaeg na ned Edoras.'}, {'en': 'Aragorn, in this battle they can not win.', 'sin': 'Aragorn, nedin dagor hen ú-’erir ortheri.'}, {'en': 'It will be great slaying.', 'sin': 'Natha daged dhaer'}, {'en': 'There is nothing to forgive, Legolas.', 'sin': 'Ú-moe edaved, Legolas'}, {'en': 'Well-met, Haldir.', 'sin': 'Mae govannen, Haldir.'}, {'en': 'O Children-of-Eru, don’t show mercy to them', 'sin': 'A Eruchîn, ú-dano i faelas a hyn'}, {'en': 'for nobody will show you mercy!', 'sin': 'an uben tanatha le faelas!'}, {'en': 'Hold!', 'sin': 'Dartho!'}, {'en': 'Prepare to fire!', 'sin': 'Tangado a chadad!'}, {'en': 'Their armour is poor below the neck', 'sin': 'Faeg i-varv dîn na lanc'}, {'en': 'and under arm!', 'sin': 'a nu ranc!'}, {'en': 'Release the arrows!', 'sin': 'Hado i philinn!'}, {'en': 'Ladders!', 'sin': 'Pendraith!'}, {'en': 'To gateway!', 'sin': 'Na fennas!'}, {'en': 'Hurl to flow! Hurl!', 'sin': 'Hado ribed! Hado!'}, {'en': 'Bring him down, Legolas!', 'sin': 'Togo hon dad, Legolas!'}, {'en': 'Kill him!', 'sin': 'Dago hon!'}, {'en': 'Kill him!', 'sin': 'Dago hon!'}, {'en': 'Release the arrows!', 'sin': 'Hado i philinn!'}, {'en': 'Charge!', 'sin': 'Herio!'}, {'en': 'To tower!', 'sin': 'Nan barad!'}, {'en': 'To tower!', 'sin': 'Nan barad!'}, {'en': 'To tower!', 'sin': 'Nan barad!'}]}\n"
     ]
    }
   ],
   "execution_count": 3
  }
 ],
 "metadata": {
  "kernelspec": {
   "display_name": "Python 3",
   "language": "python",
   "name": "python3"
  },
  "language_info": {
   "codemirror_mode": {
    "name": "ipython",
    "version": 2
   },
   "file_extension": ".py",
   "mimetype": "text/x-python",
   "name": "python",
   "nbconvert_exporter": "python",
   "pygments_lexer": "ipython2",
   "version": "2.7.6"
  }
 },
 "nbformat": 4,
 "nbformat_minor": 5
}
