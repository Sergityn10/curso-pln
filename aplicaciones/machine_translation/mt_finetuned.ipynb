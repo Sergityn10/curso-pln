{
 "cells": [
  {
   "metadata": {},
   "cell_type": "markdown",
   "source": [
    "# Ajuste fino de modelos para traducción\n",
    "## Machine Translation\n",
    "\n"
   ],
   "id": "8a77807f92f26ee"
  },
  {
   "metadata": {},
   "cell_type": "markdown",
   "source": "En este notebook vamos a usar diversos modelos para la traducción automática entre idiomas y vamos a realizar un ajuste fino",
   "id": "233f4109de972cc8"
  },
  {
   "metadata": {
    "ExecuteTime": {
     "end_time": "2025-01-19T17:01:37.675821Z",
     "start_time": "2025-01-19T17:01:36.963841Z"
    }
   },
   "cell_type": "code",
   "source": [
    "from huggingface_hub import login\n",
    "token = \"\"\n",
    "print(\"Hugging Face logging\")\n",
    "login(token)"
   ],
   "id": "763042b074e946dd",
   "outputs": [
    {
     "name": "stdout",
     "output_type": "stream",
     "text": [
      "Hugging Face logging\n"
     ]
    }
   ],
   "execution_count": 1
  },
  {
   "metadata": {
    "ExecuteTime": {
     "end_time": "2025-01-19T17:01:39.286033Z",
     "start_time": "2025-01-19T17:01:37.683546Z"
    }
   },
   "cell_type": "code",
   "source": [
    "import torch\n",
    "device_setup = \"cuda\" if torch.cuda.is_available() else \"cpu\"\n",
    "print(\"Using: \", device_setup)\n",
    "\n",
    "import os\n",
    "os.environ[\"TOKENIZERS_PARALLELISM\"] = \"false\""
   ],
   "id": "9db7f0f108ac5411",
   "outputs": [
    {
     "name": "stdout",
     "output_type": "stream",
     "text": [
      "Using:  cpu\n"
     ]
    }
   ],
   "execution_count": 2
  },
  {
   "metadata": {},
   "cell_type": "markdown",
   "source": "Para simplificar el uso de los distintos modelos hemos creado el fichero `./libs/mts` que contiene las clases `MarianMT` y `T5MT` del notebook anterior, así como las funciones `load_pretrained_t5` y `load_pretrained_marian_mt`.",
   "id": "b4e5819f30d7b926"
  },
  {
   "metadata": {
    "ExecuteTime": {
     "end_time": "2025-01-19T17:01:40.482333Z",
     "start_time": "2025-01-19T17:01:39.409911Z"
    }
   },
   "cell_type": "code",
   "source": [
    "from libs.mts import T5MT, MarianMT\n",
    "from libs.mts import load_pretrained_t5, load_pretrained_marian_mt"
   ],
   "id": "40393a5ca9cc3fca",
   "outputs": [],
   "execution_count": 3
  },
  {
   "metadata": {},
   "cell_type": "markdown",
   "source": "## Modelos refinados inglés-español",
   "id": "42d265218c93a2ad"
  },
  {
   "metadata": {},
   "cell_type": "markdown",
   "source": "Cuando se usan modelos, otra opción, es utilizar un modelo preentrenado y refinarlos con un nuevo conjunto de entrenamiento. Para ello podemos usar los modelos anteriores y volverlos a entrenar con las clases `TrainerArguments`y `Trainer`.",
   "id": "d96c1e073d8a535"
  },
  {
   "metadata": {},
   "cell_type": "markdown",
   "source": [
    "`TrainingArguments` es una clase que codifica los parámetros que se aplicarán durante el entrenamiento del modelo, o su refinamiento si el modelo ya está entrenado. Recibe ciertos argumentos que es importante conocer:\n",
    "\n",
    "* `output_dir` indica en que directorio se guardará los resultados del entrenamiento, los checkpoints, y los logs.\n",
    "* `eval_strategy` indica cuándo se realizará la evaluación durante el entrenamiento, su resultado nos da una idea de como el modelo está aprendiendo. Puede tomar como valor `no`, si no se desea realiza evaluación alguna, `epoch` si se desea realizar una evaluación después de cada época o `steps` si se desea realizar la evaluación después de un número específico de pasos (requiere `eval_steps`).\n",
    "* `eval_steps` recibe un número entero que indica el número de pasos entre evaluaciones\n",
    "* `num_train_epochs` indica el número de épocas de entrenamiento\n",
    "* `save_strategy` indica cada cuantas epocas se guarda el modelo. Puede tomar como valor `no` (no se guardan checkpoints), `epoch` (guarda después de cada época) y `steps` (guarda después de un número específico de pasos).\n",
    "* `learning_rate` indica la tasa de aprendizaje para el optimizador. Un valor típico es `5e-5`.\n",
    "* `per_device_train_batch_size` tamaño del lote (batch) durante el entrenamiento. Si se usan múltiples GPUs, este valor se multiplica por el número de dispositivos.\n"
   ],
   "id": "12aae9ebc5447cc9"
  },
  {
   "metadata": {
    "ExecuteTime": {
     "end_time": "2025-01-19T17:01:41.533664Z",
     "start_time": "2025-01-19T17:01:40.491267Z"
    }
   },
   "cell_type": "code",
   "source": [
    "from transformers import Trainer, TrainingArguments, DataCollatorForSeq2Seq\n",
    "\n",
    "training_args = TrainingArguments(\n",
    "    output_dir=\"./models/training/refined-t5-en-es\",\n",
    "    eval_strategy=\"epoch\",\n",
    "    learning_rate=2e-4,\n",
    "    per_device_train_batch_size=10,\n",
    "    gradient_accumulation_steps=4,\n",
    "    num_train_epochs=3,\n",
    "    weight_decay=0.01,\n",
    "    logging_strategy=\"steps\",\n",
    "    logging_steps=100,\n",
    "    logging_dir='./logs',\n",
    "    report_to=\"none\"\n",
    ")\n"
   ],
   "id": "2bcd0452158c01",
   "outputs": [],
   "execution_count": 4
  },
  {
   "metadata": {},
   "cell_type": "markdown",
   "source": [
    "`Trainer` es la clase encargada de, usando los argumentos de entrenamiento, refinar un modelo. Sin embargo necesita recibir un conjunto de parámetros complejo:\n",
    "\n",
    "* `model` el modelo a entrenar\n",
    "* `args` los argumentos de entrenamiento resultado de crear un objeto `TrainingArguments`\n",
    "* `train_dataset` el dataset de entrenamiento ya tokenizado\n",
    "* `test_dataset` el dataset de evaluación/validación ya tokenizado\n",
    "* `data_collator` una instancia de la clase `DataCollatorForSeq2Seq`\n",
    "\n",
    "A continuación podemos ver un fragmento de código para el modelo t5 y MarianMT"
   ],
   "id": "e7ec6c7e7173bba1"
  },
  {
   "metadata": {},
   "cell_type": "markdown",
   "source": "### Refinando un modelo T5",
   "id": "ce07cf96dabc5bb2"
  },
  {
   "metadata": {
    "ExecuteTime": {
     "end_time": "2025-01-19T17:03:44.029944Z",
     "start_time": "2025-01-19T17:01:41.540585Z"
    }
   },
   "cell_type": "code",
   "source": [
    "from datasets import load_dataset\n",
    "import os\n",
    "\n",
    "# Descarga y división del dataset\n",
    "dataset = load_dataset(\"Iker/Document-Translation-en-es\", split=\"train\", cache_dir=\"./data/iker\")\n",
    "split_dataset = dataset.train_test_split(train_size=50, test_size=50)\n",
    "train_dataset = split_dataset[\"train\"]\n",
    "eval_dataset = split_dataset[\"test\"]\n",
    "\n",
    "# Carga del modelo baseline\n",
    "t5_model, t5_tokenizer = load_pretrained_t5()\n",
    "\n",
    "def preprocess_function(examples):\n",
    "    global t5_tokenizer\n",
    "    inputs_lang = examples['en']\n",
    "    targets_lang =  examples['es']\n",
    "\n",
    "    model_inputs = t5_tokenizer(inputs_lang, text_target=targets_lang, max_length=128, truncation=True, padding=\"max_length\")\n",
    "    return model_inputs\n",
    "\n",
    "# Preparación de los datos para evaluación y entrenamiento\n",
    "encoded_training_dataset = train_dataset.map(preprocess_function, batched=True)\n",
    "encoded_eval_dataset = eval_dataset.map(preprocess_function, batched=True)\n",
    "\n",
    "# Preparar el Trainer\n",
    "collator = DataCollatorForSeq2Seq(tokenizer=t5_tokenizer, model=t5_model)\n",
    "trainer = Trainer(\n",
    "    model=t5_model,\n",
    "    args=training_args,\n",
    "    train_dataset=encoded_training_dataset,\n",
    "    eval_dataset=encoded_eval_dataset,\n",
    "    data_collator= collator\n",
    ")\n",
    "\n",
    "# Refinar el modelo\n",
    "if not os.path.exists(\"./models/refined-t5-en-es\"):\n",
    "    trainer.train()\n",
    "\n",
    "# Guardar el modelo y el tokenizador después del entrenamiento\n",
    "t5_model.save_pretrained(\"./models/refined-t5-en-es\")\n",
    "t5_tokenizer.save_pretrained(\"./models/refined-t5-en-es\")"
   ],
   "id": "fefa4f613ea0f67d",
   "outputs": [
    {
     "data": {
      "text/plain": [
       "config.json:   0%|          | 0.00/813 [00:00<?, ?B/s]"
      ],
      "application/vnd.jupyter.widget-view+json": {
       "version_major": 2,
       "version_minor": 0,
       "model_id": "9166b031b4674b9b9a6a341d337f44b2"
      }
     },
     "metadata": {},
     "output_type": "display_data"
    },
    {
     "data": {
      "text/plain": [
       "pytorch_model.bin:   0%|          | 0.00/990M [00:00<?, ?B/s]"
      ],
      "application/vnd.jupyter.widget-view+json": {
       "version_major": 2,
       "version_minor": 0,
       "model_id": "bf97ae3200e444abbf878e6bd2bc8125"
      }
     },
     "metadata": {},
     "output_type": "display_data"
    },
    {
     "data": {
      "text/plain": [
       "generation_config.json:   0%|          | 0.00/117 [00:00<?, ?B/s]"
      ],
      "application/vnd.jupyter.widget-view+json": {
       "version_major": 2,
       "version_minor": 0,
       "model_id": "451d6571b1c44a1c8f399b6ec5dc07be"
      }
     },
     "metadata": {},
     "output_type": "display_data"
    },
    {
     "data": {
      "text/plain": [
       "tokenizer_config.json:   0%|          | 0.00/2.37k [00:00<?, ?B/s]"
      ],
      "application/vnd.jupyter.widget-view+json": {
       "version_major": 2,
       "version_minor": 0,
       "model_id": "b2c2eb7a054b416398d922c4b7afb7c2"
      }
     },
     "metadata": {},
     "output_type": "display_data"
    },
    {
     "data": {
      "text/plain": [
       "spiece.model:   0%|          | 0.00/837k [00:00<?, ?B/s]"
      ],
      "application/vnd.jupyter.widget-view+json": {
       "version_major": 2,
       "version_minor": 0,
       "model_id": "d7c6291d4adb40f5b08ab3c35eae1d59"
      }
     },
     "metadata": {},
     "output_type": "display_data"
    },
    {
     "data": {
      "text/plain": [
       "special_tokens_map.json:   0%|          | 0.00/2.20k [00:00<?, ?B/s]"
      ],
      "application/vnd.jupyter.widget-view+json": {
       "version_major": 2,
       "version_minor": 0,
       "model_id": "83b94c7014b64c24ac5a93d8d5ee979e"
      }
     },
     "metadata": {},
     "output_type": "display_data"
    },
    {
     "data": {
      "text/plain": [
       "Map:   0%|          | 0/50 [00:00<?, ? examples/s]"
      ],
      "application/vnd.jupyter.widget-view+json": {
       "version_major": 2,
       "version_minor": 0,
       "model_id": "6e8829ba8aef4ac2a513d15096ae3c9d"
      }
     },
     "metadata": {},
     "output_type": "display_data"
    },
    {
     "data": {
      "text/plain": [
       "Map:   0%|          | 0/50 [00:00<?, ? examples/s]"
      ],
      "application/vnd.jupyter.widget-view+json": {
       "version_major": 2,
       "version_minor": 0,
       "model_id": "e936d032136346c1a3708e422f4807d2"
      }
     },
     "metadata": {},
     "output_type": "display_data"
    },
    {
     "data": {
      "text/plain": [
       "model.safetensors:   0%|          | 0.00/990M [00:00<?, ?B/s]"
      ],
      "application/vnd.jupyter.widget-view+json": {
       "version_major": 2,
       "version_minor": 0,
       "model_id": "6760805e12f34fcc9728bb7a8ca9aebc"
      }
     },
     "metadata": {},
     "output_type": "display_data"
    },
    {
     "name": "stderr",
     "output_type": "stream",
     "text": [
      "Passing a tuple of `past_key_values` is deprecated and will be removed in Transformers v4.48.0. You should pass an instance of `EncoderDecoderCache` instead, e.g. `past_key_values=EncoderDecoderCache.from_legacy_cache(past_key_values)`.\n"
     ]
    },
    {
     "data": {
      "text/plain": [
       "<IPython.core.display.HTML object>"
      ],
      "text/html": [
       "\n",
       "    <div>\n",
       "      \n",
       "      <progress value='3' max='3' style='width:300px; height:20px; vertical-align: middle;'></progress>\n",
       "      [3/3 01:12, Epoch 2/3]\n",
       "    </div>\n",
       "    <table border=\"1\" class=\"dataframe\">\n",
       "  <thead>\n",
       " <tr style=\"text-align: left;\">\n",
       "      <th>Epoch</th>\n",
       "      <th>Training Loss</th>\n",
       "      <th>Validation Loss</th>\n",
       "    </tr>\n",
       "  </thead>\n",
       "  <tbody>\n",
       "    <tr>\n",
       "      <td>0</td>\n",
       "      <td>No log</td>\n",
       "      <td>2.423346</td>\n",
       "    </tr>\n",
       "    <tr>\n",
       "      <td>1</td>\n",
       "      <td>No log</td>\n",
       "      <td>2.383200</td>\n",
       "    </tr>\n",
       "    <tr>\n",
       "      <td>2</td>\n",
       "      <td>No log</td>\n",
       "      <td>2.366487</td>\n",
       "    </tr>\n",
       "  </tbody>\n",
       "</table><p>"
      ]
     },
     "metadata": {},
     "output_type": "display_data"
    },
    {
     "data": {
      "text/plain": [
       "('./models/refined-t5-en-es/tokenizer_config.json',\n",
       " './models/refined-t5-en-es/special_tokens_map.json',\n",
       " './models/refined-t5-en-es/spiece.model',\n",
       " './models/refined-t5-en-es/added_tokens.json')"
      ]
     },
     "execution_count": 5,
     "metadata": {},
     "output_type": "execute_result"
    }
   ],
   "execution_count": 5
  },
  {
   "metadata": {},
   "cell_type": "markdown",
   "source": "A continuación probamos el modelo refinado. Para ello, cargarlo en un objeto de tipo `T5M5` indicando el `model_name` y `cache_dir` como `./models/refined-t5-en-es`",
   "id": "2e883407fafa6dd4"
  },
  {
   "metadata": {
    "ExecuteTime": {
     "end_time": "2025-01-19T17:03:49.271162Z",
     "start_time": "2025-01-19T17:03:46.037232Z"
    }
   },
   "cell_type": "code",
   "source": [
    "t5_model_refined = T5MT(model_name=\"./models/refined-t5-en-es\", cache_dir=\"./models/refined-t5-en-es\")\n",
    "\n",
    "texts = [\"On the table, there were a good number of topics\", \"manners maketh the man\"]\n",
    "translated_text = t5_model_refined.translate_batch(texts)\n",
    "print(\">T5 refined: \", translated_text)"
   ],
   "id": "b3b2492891074810",
   "outputs": [
    {
     "name": "stdout",
     "output_type": "stream",
     "text": [
      ">T5 refined:  ['En la mesa, hubo un buen número de temas.', 'hace el modo de hacer el modo.']\n"
     ]
    }
   ],
   "execution_count": 6
  },
  {
   "metadata": {},
   "cell_type": "markdown",
   "source": "Vemos que la salida es la esperada",
   "id": "3a8f470ee8e26dab"
  },
  {
   "metadata": {},
   "cell_type": "markdown",
   "source": "### Refinando un modelo MarianMT",
   "id": "440c674334916f30"
  },
  {
   "metadata": {},
   "cell_type": "markdown",
   "source": "Reutilizando el código del modelo T5, vamos a refinar el modelo MarianMT utilizando los mismos datos que para el T5. Es importante que el modelo se guarde en `./models/refined-marian-en-es`",
   "id": "12665b8a42bd3990"
  },
  {
   "metadata": {
    "ExecuteTime": {
     "end_time": "2025-01-19T17:04:32.104759Z",
     "start_time": "2025-01-19T17:03:49.289829Z"
    }
   },
   "cell_type": "code",
   "source": [
    "from transformers import Trainer, TrainingArguments, DataCollatorForSeq2Seq\n",
    "import warnings\n",
    "\n",
    "warnings.filterwarnings(\"ignore\")\n",
    "\n",
    "training_args = TrainingArguments(\n",
    "    output_dir=\"./models/training/refined-marian-en-es\",\n",
    "    eval_strategy=\"epoch\",\n",
    "    learning_rate=2e-4,\n",
    "    per_device_train_batch_size=10,\n",
    "    gradient_accumulation_steps=4,\n",
    "    num_train_epochs=3,\n",
    "    weight_decay=0.01,\n",
    "    logging_strategy=\"steps\",\n",
    "    logging_steps=100,\n",
    "    logging_dir='./logs',\n",
    "    report_to=\"none\"\n",
    ")\n",
    "\n",
    "\n",
    "# Descarga y división del dataset\n",
    "#dataset = load_dataset(\"Iker/Document-Translation-en-es\", split=\"train\", cache_dir=\"./data/iker\")\n",
    "#split_dataset = dataset.train_test_split(train_size=50, test_size=50)\n",
    "#train_dataset = split_dataset[\"train\"]\n",
    "#eval_dataset = split_dataset[\"test\"]\n",
    "\n",
    "\n",
    "# Carga del modelo baseline\n",
    "marian_model, marian_tokenizer = load_pretrained_marian_mt()\n",
    "\n",
    "def preprocess_function(examples):\n",
    "    global marian_tokenizer\n",
    "    inputs_lang = examples['en']\n",
    "    targets_lang =  examples['es']\n",
    "\n",
    "    model_inputs = marian_tokenizer(inputs_lang, text_target=targets_lang, max_length=128, truncation=True, padding=\"max_length\")\n",
    "    return model_inputs\n",
    "\n",
    "\n",
    "# Preparación de los datos para evaluación y entrenamiento\n",
    "encoded_training_dataset = train_dataset.map(preprocess_function, batched=True)\n",
    "encoded_eval_dataset = eval_dataset.map(preprocess_function, batched=True)\n",
    "\n",
    "\n",
    "# Preparar el Trainer\n",
    "collator = DataCollatorForSeq2Seq(tokenizer=marian_tokenizer, model=marian_model)\n",
    "trainer = Trainer(\n",
    "    model=marian_model,\n",
    "    args=training_args,\n",
    "    train_dataset=encoded_training_dataset,\n",
    "    eval_dataset=encoded_eval_dataset,\n",
    "    data_collator= collator\n",
    ")\n",
    "\n",
    "\n",
    "# Refinar el modelo\n",
    "if not os.path.exists(\"./models/refined-marian-en-es\"):\n",
    "    trainer.train()\n",
    "\n",
    "# Guardar el modelo y el tokenizador después del entrenamiento\n",
    "marian_model.save_pretrained(\"./models/refined-marian-en-es\")\n",
    "marian_tokenizer.save_pretrained(\"./models/refined-marian-en-es\")"
   ],
   "id": "fe6e5dd430314193",
   "outputs": [
    {
     "data": {
      "text/plain": [
       "config.json:   0%|          | 0.00/1.47k [00:00<?, ?B/s]"
      ],
      "application/vnd.jupyter.widget-view+json": {
       "version_major": 2,
       "version_minor": 0,
       "model_id": "5d8fda684c6b4369a5af042232bb9cb6"
      }
     },
     "metadata": {},
     "output_type": "display_data"
    },
    {
     "data": {
      "text/plain": [
       "pytorch_model.bin:   0%|          | 0.00/312M [00:00<?, ?B/s]"
      ],
      "application/vnd.jupyter.widget-view+json": {
       "version_major": 2,
       "version_minor": 0,
       "model_id": "2931a964287745bd86c3dcf125eb8097"
      }
     },
     "metadata": {},
     "output_type": "display_data"
    },
    {
     "data": {
      "text/plain": [
       "generation_config.json:   0%|          | 0.00/293 [00:00<?, ?B/s]"
      ],
      "application/vnd.jupyter.widget-view+json": {
       "version_major": 2,
       "version_minor": 0,
       "model_id": "76897952f5b4461681b4ed482e7ada7b"
      }
     },
     "metadata": {},
     "output_type": "display_data"
    },
    {
     "data": {
      "text/plain": [
       "tokenizer_config.json:   0%|          | 0.00/44.0 [00:00<?, ?B/s]"
      ],
      "application/vnd.jupyter.widget-view+json": {
       "version_major": 2,
       "version_minor": 0,
       "model_id": "f5a4ecc57639481c8c3b5484d0b6ca1e"
      }
     },
     "metadata": {},
     "output_type": "display_data"
    },
    {
     "data": {
      "text/plain": [
       "source.spm:   0%|          | 0.00/802k [00:00<?, ?B/s]"
      ],
      "application/vnd.jupyter.widget-view+json": {
       "version_major": 2,
       "version_minor": 0,
       "model_id": "7e29b5dab83749bbb0a8228cbdcbf086"
      }
     },
     "metadata": {},
     "output_type": "display_data"
    },
    {
     "data": {
      "text/plain": [
       "target.spm:   0%|          | 0.00/826k [00:00<?, ?B/s]"
      ],
      "application/vnd.jupyter.widget-view+json": {
       "version_major": 2,
       "version_minor": 0,
       "model_id": "ae747f8c98f74c57bc6751e1033a152b"
      }
     },
     "metadata": {},
     "output_type": "display_data"
    },
    {
     "data": {
      "text/plain": [
       "model.safetensors:   0%|          | 0.00/312M [00:00<?, ?B/s]"
      ],
      "application/vnd.jupyter.widget-view+json": {
       "version_major": 2,
       "version_minor": 0,
       "model_id": "594bc590e49347cbb509e1629e04ef52"
      }
     },
     "metadata": {},
     "output_type": "display_data"
    },
    {
     "data": {
      "text/plain": [
       "vocab.json:   0%|          | 0.00/1.59M [00:00<?, ?B/s]"
      ],
      "application/vnd.jupyter.widget-view+json": {
       "version_major": 2,
       "version_minor": 0,
       "model_id": "3a2c375aa35b442996d8b97cfb2fd8b1"
      }
     },
     "metadata": {},
     "output_type": "display_data"
    },
    {
     "data": {
      "text/plain": [
       "Map:   0%|          | 0/50 [00:00<?, ? examples/s]"
      ],
      "application/vnd.jupyter.widget-view+json": {
       "version_major": 2,
       "version_minor": 0,
       "model_id": "b4e173814fc747099aee70408aec4e0b"
      }
     },
     "metadata": {},
     "output_type": "display_data"
    },
    {
     "data": {
      "text/plain": [
       "Map:   0%|          | 0/50 [00:00<?, ? examples/s]"
      ],
      "application/vnd.jupyter.widget-view+json": {
       "version_major": 2,
       "version_minor": 0,
       "model_id": "6dac21cf57b54ad590c61c4621ff5afe"
      }
     },
     "metadata": {},
     "output_type": "display_data"
    },
    {
     "data": {
      "text/plain": [
       "<IPython.core.display.HTML object>"
      ],
      "text/html": [
       "\n",
       "    <div>\n",
       "      \n",
       "      <progress value='3' max='3' style='width:300px; height:20px; vertical-align: middle;'></progress>\n",
       "      [3/3 00:13, Epoch 2/3]\n",
       "    </div>\n",
       "    <table border=\"1\" class=\"dataframe\">\n",
       "  <thead>\n",
       " <tr style=\"text-align: left;\">\n",
       "      <th>Epoch</th>\n",
       "      <th>Training Loss</th>\n",
       "      <th>Validation Loss</th>\n",
       "    </tr>\n",
       "  </thead>\n",
       "  <tbody>\n",
       "    <tr>\n",
       "      <td>0</td>\n",
       "      <td>No log</td>\n",
       "      <td>1.125747</td>\n",
       "    </tr>\n",
       "    <tr>\n",
       "      <td>1</td>\n",
       "      <td>No log</td>\n",
       "      <td>1.128466</td>\n",
       "    </tr>\n",
       "    <tr>\n",
       "      <td>2</td>\n",
       "      <td>No log</td>\n",
       "      <td>1.186703</td>\n",
       "    </tr>\n",
       "  </tbody>\n",
       "</table><p>"
      ]
     },
     "metadata": {},
     "output_type": "display_data"
    },
    {
     "data": {
      "text/plain": [
       "('./models/refined-marian-en-es/tokenizer_config.json',\n",
       " './models/refined-marian-en-es/special_tokens_map.json',\n",
       " './models/refined-marian-en-es/vocab.json',\n",
       " './models/refined-marian-en-es/source.spm',\n",
       " './models/refined-marian-en-es/target.spm',\n",
       " './models/refined-marian-en-es/added_tokens.json')"
      ]
     },
     "execution_count": 7,
     "metadata": {},
     "output_type": "execute_result"
    }
   ],
   "execution_count": 7
  },
  {
   "metadata": {},
   "cell_type": "markdown",
   "source": "A continuación probamos el modelo refinado. Para ello, cargarlo en un objeto de tipo `MarianMT` indicando el `model_name` y `cache_dir` como `./models/refined-marian-en-es`",
   "id": "4091cc28921a2386"
  },
  {
   "metadata": {
    "ExecuteTime": {
     "end_time": "2025-01-19T17:04:34.488933Z",
     "start_time": "2025-01-19T17:04:32.116865Z"
    }
   },
   "cell_type": "code",
   "source": [
    "marian_model_refined = MarianMT(model_name=\"./models/refined-marian-en-es\", cache_dir=\"./models/refined-marian-en-es\")\n",
    "\n",
    "texts = [\"On the table, there were a good number of topics\", \"manners maketh the man\"]\n",
    "translated_text = marian_model_refined.translate_batch(texts)\n",
    "print(\">T5 refined: \", translated_text)"
   ],
   "id": "a331f4fc8dd4bdc9",
   "outputs": [
    {
     "name": "stdout",
     "output_type": "stream",
     "text": [
      ">T5 refined:  ['En la mesa, había un buen número de temas', 'los modales hacen al hombre']\n"
     ]
    }
   ],
   "execution_count": 8
  },
  {
   "metadata": {},
   "cell_type": "markdown",
   "source": "Una vez más vemos que los resultados son los esperados.",
   "id": "8194d205f811258a"
  },
  {
   "metadata": {},
   "cell_type": "markdown",
   "source": "### Comparación de modelos preentrenados vs refinados",
   "id": "26fef9121c474f15"
  },
  {
   "metadata": {},
   "cell_type": "markdown",
   "source": "Para comparar la efectividad de los modelos baseline y refinados, vamos a usar el dataset `okezieowen/english_to_spanish` de la misma manera que en el notebook anterior.",
   "id": "dd8828462b4557e9"
  },
  {
   "metadata": {
    "ExecuteTime": {
     "end_time": "2025-01-19T17:04:36.608438Z",
     "start_time": "2025-01-19T17:04:34.504250Z"
    }
   },
   "cell_type": "code",
   "source": [
    "from datasets import load_dataset\n",
    "\n",
    "# Preparación de los datos\n",
    "dataset = load_dataset(\"okezieowen/english_to_spanish\", split=\"train\", cache_dir=\"./data/okezieowen\")\n",
    "split_dataset = dataset.train_test_split(test_size=50)\n",
    "eval_dataset = split_dataset['test']\n",
    "\n",
    "# Vista previa de los datos\n",
    "print(\"Evaluation size: \", len(eval_dataset))\n",
    "print(eval_dataset)"
   ],
   "id": "e7a9ca9c23700f14",
   "outputs": [
    {
     "name": "stdout",
     "output_type": "stream",
     "text": [
      "Evaluation size:  50\n",
      "Dataset({\n",
      "    features: ['English', 'Spanish'],\n",
      "    num_rows: 50\n",
      "})\n"
     ]
    }
   ],
   "execution_count": 9
  },
  {
   "metadata": {
    "ExecuteTime": {
     "end_time": "2025-01-19T17:09:20.676944Z",
     "start_time": "2025-01-19T17:04:36.623459Z"
    }
   },
   "cell_type": "code",
   "source": [
    "t5_mt = T5MT()\n",
    "marian_mt = MarianMT()\n",
    "\n",
    "expected_results = [ [row['Spanish']] for row in eval_dataset]\n",
    "inputs = [row['English'] for row in eval_dataset]\n",
    "\n",
    "# Evaluamos el modelo T5 y Marian baseline\n",
    "results = {}\n",
    "results['t5'] = t5_mt.translate_batch(inputs)\n",
    "results['marian'] = marian_mt.translate_batch(inputs)\n",
    "\n",
    "# Evaluamos el modelo T5 y Marian refinados\n",
    "results['t5_refined'] = t5_model_refined.translate_batch(inputs)\n",
    "results['marian_refined'] = marian_model_refined.translate_batch(inputs)"
   ],
   "id": "ca7702217c504767",
   "outputs": [
    {
     "data": {
      "text/plain": [
       "config.json:   0%|          | 0.00/813 [00:00<?, ?B/s]"
      ],
      "application/vnd.jupyter.widget-view+json": {
       "version_major": 2,
       "version_minor": 0,
       "model_id": "f461c37566fe4d189256594358dd5144"
      }
     },
     "metadata": {},
     "output_type": "display_data"
    },
    {
     "data": {
      "text/plain": [
       "pytorch_model.bin:   0%|          | 0.00/990M [00:00<?, ?B/s]"
      ],
      "application/vnd.jupyter.widget-view+json": {
       "version_major": 2,
       "version_minor": 0,
       "model_id": "27fba450813d49cb8ccfbfc2f23040e1"
      }
     },
     "metadata": {},
     "output_type": "display_data"
    },
    {
     "data": {
      "text/plain": [
       "generation_config.json:   0%|          | 0.00/117 [00:00<?, ?B/s]"
      ],
      "application/vnd.jupyter.widget-view+json": {
       "version_major": 2,
       "version_minor": 0,
       "model_id": "e9ae9625c4604de08dba93e2b60d5441"
      }
     },
     "metadata": {},
     "output_type": "display_data"
    },
    {
     "data": {
      "text/plain": [
       "tokenizer_config.json:   0%|          | 0.00/2.37k [00:00<?, ?B/s]"
      ],
      "application/vnd.jupyter.widget-view+json": {
       "version_major": 2,
       "version_minor": 0,
       "model_id": "dec314784a40482cab5992db762c9959"
      }
     },
     "metadata": {},
     "output_type": "display_data"
    },
    {
     "data": {
      "text/plain": [
       "spiece.model:   0%|          | 0.00/837k [00:00<?, ?B/s]"
      ],
      "application/vnd.jupyter.widget-view+json": {
       "version_major": 2,
       "version_minor": 0,
       "model_id": "b8e5afac2c92479296ef97b1d40dcb4e"
      }
     },
     "metadata": {},
     "output_type": "display_data"
    },
    {
     "data": {
      "text/plain": [
       "special_tokens_map.json:   0%|          | 0.00/2.20k [00:00<?, ?B/s]"
      ],
      "application/vnd.jupyter.widget-view+json": {
       "version_major": 2,
       "version_minor": 0,
       "model_id": "399d1932789e4cf3956cd4e63e147d9b"
      }
     },
     "metadata": {},
     "output_type": "display_data"
    },
    {
     "data": {
      "text/plain": [
       "config.json:   0%|          | 0.00/1.47k [00:00<?, ?B/s]"
      ],
      "application/vnd.jupyter.widget-view+json": {
       "version_major": 2,
       "version_minor": 0,
       "model_id": "8b49c41cf4ca4af2aa0043355df23ec9"
      }
     },
     "metadata": {},
     "output_type": "display_data"
    },
    {
     "data": {
      "text/plain": [
       "pytorch_model.bin:   0%|          | 0.00/312M [00:00<?, ?B/s]"
      ],
      "application/vnd.jupyter.widget-view+json": {
       "version_major": 2,
       "version_minor": 0,
       "model_id": "12031a0d915b428d895962e1b388b817"
      }
     },
     "metadata": {},
     "output_type": "display_data"
    },
    {
     "data": {
      "text/plain": [
       "model.safetensors:   0%|          | 0.00/990M [00:00<?, ?B/s]"
      ],
      "application/vnd.jupyter.widget-view+json": {
       "version_major": 2,
       "version_minor": 0,
       "model_id": "7de44bf2899646978e6ed5c71ad6956a"
      }
     },
     "metadata": {},
     "output_type": "display_data"
    },
    {
     "data": {
      "text/plain": [
       "generation_config.json:   0%|          | 0.00/293 [00:00<?, ?B/s]"
      ],
      "application/vnd.jupyter.widget-view+json": {
       "version_major": 2,
       "version_minor": 0,
       "model_id": "fdcc2225f7594639a79021e292b67a35"
      }
     },
     "metadata": {},
     "output_type": "display_data"
    },
    {
     "data": {
      "text/plain": [
       "tokenizer_config.json:   0%|          | 0.00/44.0 [00:00<?, ?B/s]"
      ],
      "application/vnd.jupyter.widget-view+json": {
       "version_major": 2,
       "version_minor": 0,
       "model_id": "13f24a82193a4a7693943fc4ccec1bc0"
      }
     },
     "metadata": {},
     "output_type": "display_data"
    },
    {
     "data": {
      "text/plain": [
       "source.spm:   0%|          | 0.00/802k [00:00<?, ?B/s]"
      ],
      "application/vnd.jupyter.widget-view+json": {
       "version_major": 2,
       "version_minor": 0,
       "model_id": "52324fd125534684bb4b2dd03c02c571"
      }
     },
     "metadata": {},
     "output_type": "display_data"
    },
    {
     "data": {
      "text/plain": [
       "target.spm:   0%|          | 0.00/826k [00:00<?, ?B/s]"
      ],
      "application/vnd.jupyter.widget-view+json": {
       "version_major": 2,
       "version_minor": 0,
       "model_id": "16a9dfb530d74c3490fb375625b78778"
      }
     },
     "metadata": {},
     "output_type": "display_data"
    },
    {
     "data": {
      "text/plain": [
       "model.safetensors:   0%|          | 0.00/312M [00:00<?, ?B/s]"
      ],
      "application/vnd.jupyter.widget-view+json": {
       "version_major": 2,
       "version_minor": 0,
       "model_id": "1563f40245d34989a9048ba4aa16e8c9"
      }
     },
     "metadata": {},
     "output_type": "display_data"
    },
    {
     "data": {
      "text/plain": [
       "vocab.json:   0%|          | 0.00/1.59M [00:00<?, ?B/s]"
      ],
      "application/vnd.jupyter.widget-view+json": {
       "version_major": 2,
       "version_minor": 0,
       "model_id": "3902ff9b40d344cda6814b16f7555b9f"
      }
     },
     "metadata": {},
     "output_type": "display_data"
    }
   ],
   "execution_count": 10
  },
  {
   "metadata": {
    "ExecuteTime": {
     "end_time": "2025-01-19T17:09:28.275102Z",
     "start_time": "2025-01-19T17:09:20.707294Z"
    }
   },
   "cell_type": "code",
   "source": [
    "import matplotlib.pyplot as plt\n",
    "import evaluate\n",
    "\n",
    "\n",
    "bleu_metric = evaluate.load(\"bleu\")\n",
    "meteor_metric = evaluate.load(\"meteor\")\n",
    "rouge_metric = evaluate.load(\"rouge\")\n",
    "\n",
    "\n",
    "bleu_t5 = bleu_metric.compute(predictions=results['t5'], references=expected_results)\n",
    "meteor_t5 = meteor_metric.compute(predictions=results['t5'], references=expected_results)\n",
    "rouge_t5 = rouge_metric.compute(predictions=results['t5'], references=expected_results)\n",
    "\n",
    "bleu_marian = bleu_metric.compute(predictions=results['marian'], references=expected_results)\n",
    "meteor_marian = meteor_metric.compute(predictions=results['marian'], references=expected_results)\n",
    "rouge_marian = rouge_metric.compute(predictions=results['marian'], references=expected_results)\n",
    "\n",
    "\n",
    "bleu_t5_refined = bleu_metric.compute(predictions=results['t5_refined'], references=expected_results)\n",
    "meteor_t5_refined = meteor_metric.compute(predictions=results['t5_refined'], references=expected_results)\n",
    "rouge_t5_refined = rouge_metric.compute(predictions=results['t5_refined'], references=expected_results)\n",
    "\n",
    "bleu_marian_refined = bleu_metric.compute(predictions=results['marian_refined'], references=expected_results)\n",
    "meteor_marian_refined = meteor_metric.compute(predictions=results['marian_refined'], references=expected_results)\n",
    "rouge_marian_refined = rouge_metric.compute(predictions=results['marian_refined'], references=expected_results)\n",
    "\n",
    "\n",
    "\n",
    "# Sustituye estos valores por los resultados reales\n",
    "scores_t5 = {\n",
    "    \"BLEU\": bleu_t5['bleu'],\n",
    "    \"METEOR\": meteor_t5[\"meteor\"],\n",
    "    \"ROUGE-1\": rouge_t5[\"rouge1\"],\n",
    "    \"ROUGE-2\": rouge_t5[\"rouge2\"],\n",
    "    \"ROUGE-L\": rouge_t5[\"rougeL\"]\n",
    "}\n",
    "\n",
    "scores_marian = {\n",
    "    \"BLEU\": bleu_marian[\"bleu\"],\n",
    "    \"METEOR\": meteor_marian[\"meteor\"],\n",
    "    \"ROUGE-1\": rouge_marian[\"rouge1\"],\n",
    "    \"ROUGE-2\": rouge_marian[\"rouge2\"],\n",
    "    \"ROUGE-L\": rouge_marian[\"rougeL\"],\n",
    "}\n",
    "\n",
    "scores_t5_refined = {\n",
    "    \"BLEU\": bleu_t5_refined['bleu'],\n",
    "    \"METEOR\": meteor_t5_refined[\"meteor\"],\n",
    "    \"ROUGE-1\": rouge_t5_refined[\"rouge1\"],\n",
    "    \"ROUGE-2\": rouge_t5_refined[\"rouge2\"],\n",
    "    \"ROUGE-L\": rouge_t5_refined[\"rougeL\"]\n",
    "}\n",
    "\n",
    "\n",
    "scores_marian_refined = {\n",
    "    \"BLEU\": bleu_marian_refined[\"bleu\"],\n",
    "    \"METEOR\": meteor_marian_refined[\"meteor\"],\n",
    "    \"ROUGE-1\": rouge_marian_refined[\"rouge1\"],\n",
    "    \"ROUGE-2\": rouge_marian_refined[\"rouge2\"],\n",
    "    \"ROUGE-L\": rouge_marian_refined[\"rougeL\"],\n",
    "}\n",
    "\n",
    "\n",
    "# Crear gráfico\n",
    "labels = list(scores_t5.keys())\n",
    "t5_values = list(scores_t5.values())\n",
    "marian_values = list(scores_marian.values())\n",
    "t5_values_refined = list(scores_t5_refined.values())\n",
    "marian_values_refined = list(scores_marian_refined.values())\n",
    "\n",
    "x = range(len(labels))\n",
    "bar_width = 0.2  # Reducimos el ancho de las barras para que estén más juntas\n",
    "\n",
    "plt.figure(figsize=(12, 6))\n",
    "plt.bar([i - bar_width * 1.5 for i in x], t5_values, width=bar_width, label=\"T5\", align=\"center\")\n",
    "plt.bar([i - bar_width * 0.5 for i in x], marian_values, width=bar_width, label=\"MarianMT\", align=\"center\")\n",
    "plt.bar([i + bar_width * 0.5 for i in x], t5_values_refined, width=bar_width, label=\"T5Refined\", align=\"center\")\n",
    "plt.bar([i + bar_width * 1.5 for i in x], marian_values_refined, width=bar_width, label=\"MarianMTRefined\", align=\"center\")\n",
    "\n",
    "# Configurar etiquetas y leyenda\n",
    "plt.xticks(x, labels)\n",
    "plt.xlabel(\"Métricas\")\n",
    "plt.ylabel(\"Puntaje\")\n",
    "plt.title(\"Comparación de Métricas entre T5 y MarianMT (pretrained vs refined)\")\n",
    "plt.legend()\n",
    "\n",
    "# Mostrar el gráfico\n",
    "plt.tight_layout()\n",
    "plt.show()"
   ],
   "id": "caf1dcbb9f4653ab",
   "outputs": [
    {
     "name": "stderr",
     "output_type": "stream",
     "text": [
      "[nltk_data] Downloading package wordnet to\n",
      "[nltk_data]     /Users/andreacimmino/nltk_data...\n",
      "[nltk_data]   Package wordnet is already up-to-date!\n",
      "[nltk_data] Downloading package punkt_tab to\n",
      "[nltk_data]     /Users/andreacimmino/nltk_data...\n",
      "[nltk_data]   Package punkt_tab is already up-to-date!\n",
      "[nltk_data] Downloading package omw-1.4 to\n",
      "[nltk_data]     /Users/andreacimmino/nltk_data...\n",
      "[nltk_data]   Package omw-1.4 is already up-to-date!\n"
     ]
    },
    {
     "data": {
      "text/plain": [
       "<Figure size 1200x600 with 1 Axes>"
      ],
      "image/png": "[encoded data removed]"
     },
     "metadata": {},
     "output_type": "display_data"
    }
   ],
   "execution_count": 11
  },
  {
   "metadata": {},
   "cell_type": "markdown",
   "source": [
    "#### Tarea MB7 comentar los resultados obtenidos\n",
    "¿Cómo es eso posible? ¿En que puede influenciar el dataset utilizado?"
   ],
   "id": "dc090f9dfd620e95"
  },
  {
   "metadata": {},
   "cell_type": "markdown",
   "source": [
    "## Modelos sin entrenamiento previo (tabula rasa)\n",
    "\n"
   ],
   "id": "b3e781674b566c12"
  },
  {
   "metadata": {},
   "cell_type": "markdown",
   "source": "Para utilizar modelos sin entrenamiento previo, o bien disponemos de uno existente que no haya sido entrenado, o en nuestro caso tenemos que resetear los pesos internos de los modelos generando una configuración nueva incial del encoder y decoder.",
   "id": "f1f3e71071f094a2"
  },
  {
   "metadata": {},
   "cell_type": "markdown",
   "source": "### Entrenando un modelo MarianMt desde 0",
   "id": "b19975e0d6deed09"
  },
  {
   "metadata": {
    "ExecuteTime": {
     "end_time": "2025-01-19T17:09:32.173169Z",
     "start_time": "2025-01-19T17:09:28.280025Z"
    }
   },
   "cell_type": "code",
   "source": [
    "from transformers import MarianMTModel, MarianTokenizer, MarianConfig\n",
    "\n",
    "# Crear configuración para un modelo Marian en blanco\n",
    "config = MarianConfig(\n",
    "    vocab_size=32000,  # Tamaño del vocabulario (ajústalo según tu caso)\n",
    "    max_position_embeddings=512,\n",
    "    encoder_layers=6,\n",
    "    decoder_layers=6,\n",
    "    encoder_attention_heads=8,\n",
    "    decoder_attention_heads=8,\n",
    "    d_model=512,\n",
    "    d_ff=2048,\n",
    "    dropout=0.1,\n",
    "    pad_token_id=0,\n",
    "    eos_token_id=1,\n",
    "    bos_token_id=2,\n",
    ")\n",
    "\n",
    "# Crear el modelo MarianMT desde cero\n",
    "marian_model_trained = MarianMTModel(config)\n",
    "\n",
    "# Crear un tokenizador vacío\n",
    "marian_tokenizer_trained = MarianTokenizer.from_pretrained(\"Helsinki-NLP/opus-mt-en-es\")\n",
    "marian_model_trained.resize_token_embeddings(len(marian_tokenizer_trained))\n",
    "\n",
    "# Guardamos el modelo\n",
    "marian_model_trained.save_pretrained(\"./models/trained-marian-en-es\")\n",
    "marian_tokenizer_trained.save_pretrained(\"./models/trained-marian-en-es\")"
   ],
   "id": "e1e19b99530160e7",
   "outputs": [
    {
     "name": "stderr",
     "output_type": "stream",
     "text": [
      "The new embeddings will be initialized from a multivariate normal distribution that has old embeddings' mean and covariance. As described in this article: https://nlp.stanford.edu/~johnhew/vocab-expansion.html. To disable this, use `mean_resizing=False`\n"
     ]
    },
    {
     "data": {
      "text/plain": [
       "('./models/trained-marian-en-es/tokenizer_config.json',\n",
       " './models/trained-marian-en-es/special_tokens_map.json',\n",
       " './models/trained-marian-en-es/vocab.json',\n",
       " './models/trained-marian-en-es/source.spm',\n",
       " './models/trained-marian-en-es/target.spm',\n",
       " './models/trained-marian-en-es/added_tokens.json')"
      ]
     },
     "execution_count": 12,
     "metadata": {},
     "output_type": "execute_result"
    }
   ],
   "execution_count": 12
  },
  {
   "metadata": {},
   "cell_type": "markdown",
   "source": "A continuación vamos a probar a usar el modelo guardado",
   "id": "422cae789d07ef3f"
  },
  {
   "metadata": {
    "ExecuteTime": {
     "end_time": "2025-01-19T17:09:41.671856Z",
     "start_time": "2025-01-19T17:09:32.188637Z"
    }
   },
   "cell_type": "code",
   "source": [
    "marian_model_trained = MarianMT(model_name=\"./models/trained-marian-en-es\", cache_dir=\"./models/trained-marian-en-es\")\n",
    "\n",
    "texts = [\"On the table, there were a good number of topics\", \"manners maketh the man\"]\n",
    "translated_text = marian_model_trained.translate_batch(texts)\n",
    "print(\">T5 refined: \", translated_text)"
   ],
   "id": "3431416937ef6491",
   "outputs": [
    {
     "name": "stdout",
     "output_type": "stream",
     "text": [
      ">T5 refined:  ['ãùãÞ Gla Pacto disfrutar Multi Multitir Marthadragon compacto1998 injection injectionagency Gene Hispanic youth extradition extradition extradition theme enfrentar enfrentar planets planets planets humanitaria causadas 45 planets Roger Roger Roger letras letras enfrentar letras concludes concludes pot enfrentar enfrentar enfrentar enfrentar enfrentar enfrentar enfrentar enfrentar enfrentar enfrentar enfrentar enfrentar analytical beneficiaries pot Athens Athensdiscriminatory mon mon mon22 Formas2222discriminatory swap enfrentar enfrentar enfrentar consorcio consorcio FAOWHOWHO Upper comentarios Canta estamosIvoire2222 disminuirtrip Sport Sport Kol Kol Kol\\u0e0022 called called called called called called called called called called called called FAO FAO frequentref instrucción called1.0 called called called called called called delitos\\u0e00 Impuestos Impuestos Impuestos Alicia Aliciaadas delitos delitos movilidad Alicia Alicia [1] [1] [1] [1] [1] [1] [1] [1] [1] delitos delitos experimento delitos delitos delitos delitos sufrió desigualdad atrás atrás Gun Gun detención operated operated Banco instrucción instrucción instrucción instrucción instrucción Officer materiales materiales materiales instrucciónIvoire librar acero Note Note Fo Karen rebelión rebelión rebelión Joe borrado delitosIvoire trestrial dependientes Banco Bancoeredered materiales materiales dependientes dependientes dependientes dependientes fui fui fui fui interés interésnatural', 'ãùãÞ Surgery Bay custody dependientesdragondragondragondragon Millennium imperio imperio imperio imperio injectionDO extradition extradition extradition Dennis Dennis Amnesty Presidenta histórico gritar gritar imperio imperio belleza charla charla charla Sport ruling Panamaadas2222 concludes charla enfrentar enfrentar enfrentar enfrentar enfrentar enfrentar enfrentar enfrentar enfrentar enfrentar enfrentar distance distance enfrentar enfrentar grupo grupo extraordinarios hacerlo Fines Fines Fines Formas Formas22 swapitiesHU avanzando avanzando avanzando operated FAO FAO FAO FAO FAO FAO Kol estamos22 reaffirmedud creative Impuestos05 analytical Laguna Laguna Granting called called calledget coordinada FAO called called called called salvaje materiales acquisition FAO FAO plays instrucción instrucción Granting called called called called causadas called delitos delitos delitos análisis Here Impuestos plum materiales materiales delitos delitos delitos materiales rock delitos delitos delitos delitos delitos delitos delitos delitos delitos delitos delitos delitos delitos delitos delitos delitos sufrió called called called rebelión rocket instrucción instrucción instrucción instrucción Organismos instrucción instrucción Banco instrucción instrucción delitos delitos utter materiales materiales materiales propaganda propaganda propaganda propaganda Karen rebelión rebeliónborotrialtrialerederedered apariencia HP correlación acero evaluations FAO FAO materiales dependientes dependientes fui fui Blu estatus challenged Valencia Valencia Valencia interés']\n"
     ]
    }
   ],
   "execution_count": 13
  },
  {
   "metadata": {},
   "cell_type": "markdown",
   "source": "Como vemos el resultado ya no es algo coherente, ahora vamos a proceder a entrenarlo.",
   "id": "aea948c012d16e49"
  },
  {
   "metadata": {},
   "cell_type": "markdown",
   "source": "#### Generando un nuevo modelo \"tabula rasa\"",
   "id": "f4f80688c590004"
  },
  {
   "metadata": {
    "ExecuteTime": {
     "end_time": "2025-01-19T17:09:41.688852Z",
     "start_time": "2025-01-19T17:09:41.686199Z"
    }
   },
   "cell_type": "code",
   "source": [
    "def load_trained_marian():\n",
    "    marian_model = MarianMTModel.from_pretrained(\"./models/trained-marian-en-es\")\n",
    "    marian_tokenizer = MarianTokenizer.from_pretrained(\"./models/trained-marian-en-es\")\n",
    "    return marian_model, marian_tokenizer\n"
   ],
   "id": "9a33ab0b5bd93070",
   "outputs": [],
   "execution_count": 14
  },
  {
   "metadata": {},
   "cell_type": "markdown",
   "source": "#### Entrenando el modelo",
   "id": "f5e2350e5fc72edf"
  },
  {
   "metadata": {
    "ExecuteTime": {
     "end_time": "2025-01-19T17:19:10.058710Z",
     "start_time": "2025-01-19T17:09:41.705165Z"
    }
   },
   "cell_type": "code",
   "source": [
    "from transformers import Trainer, TrainingArguments, DataCollatorForSeq2Seq\n",
    "\n",
    "training_args = TrainingArguments(\n",
    "    output_dir=\"./models/training/trained-marian-en-es\",\n",
    "    eval_strategy=\"epoch\",\n",
    "    learning_rate=2e-4,\n",
    "    per_device_train_batch_size=10,\n",
    "    gradient_accumulation_steps=4,\n",
    "    num_train_epochs=5,\n",
    "    weight_decay=0.01,\n",
    "    logging_strategy=\"steps\",\n",
    "    logging_steps=100,\n",
    "    logging_dir='./logs',\n",
    "    report_to=\"none\"\n",
    ")\n",
    "\n",
    "# Descarga y división del dataset\n",
    "#dataset = load_dataset(\"Iker/Document-Translation-en-es\", split=\"train\", cache_dir=\"./data/iker\")\n",
    "#split_dataset = dataset.train_test_split(train_size=1000, test_size=50)\n",
    "#train_dataset = split_dataset[\"train\"]\n",
    "#eval_dataset = split_dataset[\"test\"]\n",
    "\n",
    "# Carga del modelo baseline\n",
    "marian_model_trained, marian_tokenizer_trained = load_trained_marian()\n",
    "\n",
    "def preprocess_function(examples):\n",
    "    global marian_tokenizer_trained\n",
    "    inputs_lang = examples['en']\n",
    "    targets_lang =  examples['es']\n",
    "\n",
    "    model_inputs = marian_tokenizer_trained(inputs_lang, text_target=targets_lang, max_length=128, truncation=True, padding=\"max_length\")\n",
    "    return model_inputs\n",
    "\n",
    "# Preparación de los datos para evaluación y entrenamiento\n",
    "encoded_training_dataset = train_dataset.map(preprocess_function, batched=True)\n",
    "encoded_eval_dataset = eval_dataset.map(preprocess_function, batched=True)\n",
    "\n",
    "# Preparar el Trainer\n",
    "collator = DataCollatorForSeq2Seq(tokenizer=marian_tokenizer_trained, model=marian_model_trained)\n",
    "trainer = Trainer(\n",
    "    model=marian_model_trained,\n",
    "    args=training_args,\n",
    "    train_dataset=encoded_training_dataset,\n",
    "    eval_dataset=encoded_eval_dataset,\n",
    "    data_collator= collator\n",
    ")\n",
    "\n",
    "# Refinar el modelo\n",
    "trainer.train()\n",
    "\n",
    "# Guardar el modelo y el tokenizador después del entrenamiento\n",
    "marian_model_trained.save_pretrained(\"./models/trained-marian-en-es\")\n",
    "marian_tokenizer_trained.save_pretrained(\"./models/trained-marian-en-es\")\n"
   ],
   "id": "bd26e8292998a9c4",
   "outputs": [
    {
     "data": {
      "text/plain": [
       "<IPython.core.display.HTML object>"
      ],
      "text/html": [
       "\n",
       "    <div>\n",
       "      \n",
       "      <progress value='125' max='125' style='width:300px; height:20px; vertical-align: middle;'></progress>\n",
       "      [125/125 09:16, Epoch 5/5]\n",
       "    </div>\n",
       "    <table border=\"1\" class=\"dataframe\">\n",
       "  <thead>\n",
       " <tr style=\"text-align: left;\">\n",
       "      <th>Epoch</th>\n",
       "      <th>Training Loss</th>\n",
       "      <th>Validation Loss</th>\n",
       "    </tr>\n",
       "  </thead>\n",
       "  <tbody>\n",
       "    <tr>\n",
       "      <td>1</td>\n",
       "      <td>No log</td>\n",
       "      <td>8.137140</td>\n",
       "    </tr>\n",
       "    <tr>\n",
       "      <td>2</td>\n",
       "      <td>No log</td>\n",
       "      <td>7.611825</td>\n",
       "    </tr>\n",
       "    <tr>\n",
       "      <td>3</td>\n",
       "      <td>No log</td>\n",
       "      <td>7.693851</td>\n",
       "    </tr>\n",
       "    <tr>\n",
       "      <td>4</td>\n",
       "      <td>8.662000</td>\n",
       "      <td>7.889685</td>\n",
       "    </tr>\n",
       "    <tr>\n",
       "      <td>5</td>\n",
       "      <td>8.662000</td>\n",
       "      <td>7.987017</td>\n",
       "    </tr>\n",
       "  </tbody>\n",
       "</table><p>"
      ]
     },
     "metadata": {},
     "output_type": "display_data"
    },
    {
     "data": {
      "text/plain": [
       "('./models/trained-marian-en-es/tokenizer_config.json',\n",
       " './models/trained-marian-en-es/special_tokens_map.json',\n",
       " './models/trained-marian-en-es/vocab.json',\n",
       " './models/trained-marian-en-es/added_tokens.json')"
      ]
     },
     "execution_count": 15,
     "metadata": {},
     "output_type": "execute_result"
    }
   ],
   "execution_count": 15
  },
  {
   "metadata": {},
   "cell_type": "markdown",
   "source": "Una vez más, probamos el modelo:",
   "id": "92bd05e522b9144a"
  },
  {
   "metadata": {
    "ExecuteTime": {
     "end_time": "2025-01-19T17:19:17.627340Z",
     "start_time": "2025-01-19T17:19:10.110897Z"
    }
   },
   "cell_type": "code",
   "source": [
    "marian_model_trained = MarianMT(model_name=\"./models/trained-marian-en-es\", cache_dir=\"./models/trained-marian-en-es\")\n",
    "\n",
    "texts = [\"On the table, there were a good number of topics\", \"manners maketh the man\"]\n",
    "translated_text = marian_model_trained.translate_batch(texts)\n",
    "print(\">T5 refined: \", translated_text)"
   ],
   "id": "e33e0ca89ab7787a",
   "outputs": [
    {
     "name": "stdout",
     "output_type": "stream",
     "text": [
      ">T5 refined:  ['ãùãÞ de de de de de de de de de de de de de de de de de de de de de de de de de de de de de de de de de de de de de de de de de de de de de de de de de de de de de de de de de de de de de de de de de de de de de de de de de de de de, de de de de de de de de, de de de de de de de de, de de de de de de de de de de de de de de de de de de de de de de de de de, de de de de de de de de de de de de,, de de de de de de, de de de de de de de de de de de de de de de de de de de de de de de de de de de de de de de de de de de de de de de de de de de de de de de de de de de de de de de de', 'ãùãÞ de de de de de de de de de de de de de de de de de de de de de de de de de de de de de de de de, de de de de de de de de de de de de de de de de de de de de de de de de de de de de de de de de de de de de de de de de de de de la de de de de de de de de de de de de de de de de de de de de de de de de de, de de de de de, de de de de de de de de de de, de de de de de de, de de de de de de, de de de de de de de de de de de de de de de de de, de de de de de de de de de de de de de de de de de de de de de de de de de de de de de de de de de el de de de de de de de de de de, de']\n"
     ]
    }
   ],
   "execution_count": 16
  },
  {
   "metadata": {},
   "cell_type": "markdown",
   "source": "### Entrenando un modelo T5 desde 0",
   "id": "a2e3a3cfae777ab8"
  },
  {
   "metadata": {},
   "cell_type": "markdown",
   "source": "#### Generando un nuevo modelo \"tabula rasa\"",
   "id": "53e038df8087e901"
  },
  {
   "metadata": {
    "ExecuteTime": {
     "end_time": "2025-01-19T17:19:19.565752Z",
     "start_time": "2025-01-19T17:19:17.630638Z"
    }
   },
   "cell_type": "code",
   "source": [
    "from transformers import T5ForConditionalGeneration, T5Tokenizer, T5Config\n",
    "\n",
    "# Crear configuración para un modelo T5 en blanco\n",
    "config = T5Config(\n",
    "    vocab_size=32000,\n",
    "    d_model=512,\n",
    "    d_ff=2048,\n",
    "    num_layers=6,\n",
    "    num_heads=8,\n",
    "    dropout_rate=0.1,\n",
    "    pad_token_id=0,  # Token de padding\n",
    "    eos_token_id=1,  # Token de fin de secuencia\n",
    "    decoder_start_token_id=0,  # Token de inicio del decodificador\n",
    ")\n",
    "\n",
    "t5_model_trained = T5ForConditionalGeneration(config)\n",
    "\n",
    "t5_tokenizer_trained = T5Tokenizer.from_pretrained(\"vgaraujov/t5-base-translation-en-es\")\n",
    "\n",
    "t5_model_trained.save_pretrained(\"./models/trained-t5-en-es\")\n",
    "t5_tokenizer_trained.save_pretrained(\"./models/trained-t5-en-es\")\n",
    "\n",
    "def load_trained_t5():\n",
    "    t5_model = T5ForConditionalGeneration.from_pretrained(\"./models/trained-t5-en-es\")\n",
    "    t5_tokenizer = T5Tokenizer.from_pretrained(\"./models/trained-t5-en-es\")\n",
    "    return t5_model, t5_tokenizer\n"
   ],
   "id": "e4c521071be8e582",
   "outputs": [],
   "execution_count": 17
  },
  {
   "metadata": {},
   "cell_type": "markdown",
   "source": "#### Entrenando el modelo",
   "id": "7d94db1efdeb4bd1"
  },
  {
   "metadata": {},
   "cell_type": "markdown",
   "source": [
    "#### Tarea MB8\n",
    "\n",
    "Completar el siguiente código para entrenar el modelo T5"
   ],
   "id": "252b5ea0ecd607f"
  },
  {
   "metadata": {
    "ExecuteTime": {
     "end_time": "2025-01-19T17:24:58.868130Z",
     "start_time": "2025-01-19T17:19:19.578614Z"
    }
   },
   "cell_type": "code",
   "source": [
    "from transformers import Trainer, TrainingArguments, DataCollatorForSeq2Seq\n",
    "\n",
    "training_args = TrainingArguments(\n",
    "    output_dir=\"./models/training/trained-t5-en-es\",\n",
    "    eval_strategy=\"epoch\",\n",
    "    learning_rate=2e-4,\n",
    "    per_device_train_batch_size=10,\n",
    "    gradient_accumulation_steps=4,\n",
    "    num_train_epochs=5,\n",
    "    weight_decay=0.01,\n",
    "    logging_strategy=\"steps\",\n",
    "    logging_steps=100,\n",
    "    logging_dir='./logs',\n",
    "    report_to=\"none\"\n",
    ")\n",
    "\n",
    "'''\n",
    "# Descarga y división del dataset\n",
    "dataset = load_dataset(\"Iker/Document-Translation-en-es\", split=\"train\", cache_dir=\"./data/iker\")\n",
    "split_dataset = dataset.train_test_split(train_size=1000, test_size=50)\n",
    "train_dataset = split_dataset[\"train\"]\n",
    "eval_dataset = split_dataset[\"test\"]\n",
    "'''\n",
    "\n",
    "# Carga del modelo baseline\n",
    "t5_model_trained, t5_tokenizer_trained = load_trained_t5()\n",
    "\n",
    "def preprocess_function(examples):\n",
    "    global t5_tokenizer_trained\n",
    "    inputs_lang = examples['en']\n",
    "    targets_lang =  examples['es']\n",
    "\n",
    "    model_inputs = t5_tokenizer_trained(inputs_lang, text_target=targets_lang, max_length=128, truncation=True, padding=\"max_length\")\n",
    "    return model_inputs\n",
    "\n",
    "# Preparación de los datos para evaluación y entrenamiento\n",
    "encoded_training_dataset = train_dataset.map(preprocess_function, batched=True)\n",
    "encoded_eval_dataset = eval_dataset.map(preprocess_function, batched=True)\n",
    "\n",
    "# Preparar el Trainer\n",
    "collator = DataCollatorForSeq2Seq(tokenizer=t5_tokenizer_trained, model=t5_model_trained)\n",
    "trainer = Trainer(\n",
    "    model=t5_model_trained,\n",
    "    args=training_args,\n",
    "    train_dataset=encoded_training_dataset,\n",
    "    eval_dataset=encoded_eval_dataset,\n",
    "    data_collator= collator\n",
    ")\n",
    "\n",
    "# Refinar el modelo\n",
    "trainer.train()\n",
    "\n",
    "# Guardar el modelo y el tokenizador después del entrenamiento\n",
    "t5_model_trained.save_pretrained(\"./models/trained-t5-en-es\")\n",
    "t5_tokenizer_trained.save_pretrained(\"./models/trained-t5-en-es\")\n"
   ],
   "id": "ed5f5e20e9872de7",
   "outputs": [
    {
     "name": "stderr",
     "output_type": "stream",
     "text": [
      "Using the latest cached version of the dataset since Iker/Document-Translation-en-es couldn't be found on the Hugging Face Hub\n",
      "WARNING:datasets.load:Using the latest cached version of the dataset since Iker/Document-Translation-en-es couldn't be found on the Hugging Face Hub\n",
      "Found the latest cached dataset configuration 'default' at data/iker/Iker___document-translation-en-es/default/0.0.0/4f6ede8020b7c03ea59c348df00e028f66ba82a0 (last modified on Sun Jan 19 18:04:06 2025).\n",
      "WARNING:datasets.packaged_modules.cache.cache:Found the latest cached dataset configuration 'default' at data/iker/Iker___document-translation-en-es/default/0.0.0/4f6ede8020b7c03ea59c348df00e028f66ba82a0 (last modified on Sun Jan 19 18:04:06 2025).\n"
     ]
    },
    {
     "data": {
      "text/plain": [
       "Map:   0%|          | 0/1000 [00:00<?, ? examples/s]"
      ],
      "application/vnd.jupyter.widget-view+json": {
       "version_major": 2,
       "version_minor": 0,
       "model_id": "b9708f5c40de4afd966c7db5ffe70887"
      }
     },
     "metadata": {},
     "output_type": "display_data"
    },
    {
     "data": {
      "text/plain": [
       "Map:   0%|          | 0/50 [00:00<?, ? examples/s]"
      ],
      "application/vnd.jupyter.widget-view+json": {
       "version_major": 2,
       "version_minor": 0,
       "model_id": "f8e554bcc4f244b7ab639ba195a4820f"
      }
     },
     "metadata": {},
     "output_type": "display_data"
    },
    {
     "data": {
      "text/plain": [
       "<IPython.core.display.HTML object>"
      ],
      "text/html": [
       "\n",
       "    <div>\n",
       "      \n",
       "      <progress value='125' max='125' style='width:300px; height:20px; vertical-align: middle;'></progress>\n",
       "      [125/125 05:29, Epoch 5/5]\n",
       "    </div>\n",
       "    <table border=\"1\" class=\"dataframe\">\n",
       "  <thead>\n",
       " <tr style=\"text-align: left;\">\n",
       "      <th>Epoch</th>\n",
       "      <th>Training Loss</th>\n",
       "      <th>Validation Loss</th>\n",
       "    </tr>\n",
       "  </thead>\n",
       "  <tbody>\n",
       "    <tr>\n",
       "      <td>1</td>\n",
       "      <td>No log</td>\n",
       "      <td>8.653187</td>\n",
       "    </tr>\n",
       "    <tr>\n",
       "      <td>2</td>\n",
       "      <td>No log</td>\n",
       "      <td>8.375385</td>\n",
       "    </tr>\n",
       "    <tr>\n",
       "      <td>3</td>\n",
       "      <td>No log</td>\n",
       "      <td>8.273010</td>\n",
       "    </tr>\n",
       "    <tr>\n",
       "      <td>4</td>\n",
       "      <td>8.500100</td>\n",
       "      <td>8.206021</td>\n",
       "    </tr>\n",
       "    <tr>\n",
       "      <td>5</td>\n",
       "      <td>8.500100</td>\n",
       "      <td>8.185229</td>\n",
       "    </tr>\n",
       "  </tbody>\n",
       "</table><p>"
      ]
     },
     "metadata": {},
     "output_type": "display_data"
    },
    {
     "data": {
      "text/plain": [
       "('./models/trained-t5-en-es/tokenizer_config.json',\n",
       " './models/trained-t5-en-es/special_tokens_map.json',\n",
       " './models/trained-t5-en-es/spiece.model',\n",
       " './models/trained-t5-en-es/added_tokens.json')"
      ]
     },
     "execution_count": 18,
     "metadata": {},
     "output_type": "execute_result"
    }
   ],
   "execution_count": 18
  },
  {
   "metadata": {},
   "cell_type": "markdown",
   "source": "Probamos el modelo entrenado:",
   "id": "cf17c6b427011b4a"
  },
  {
   "metadata": {
    "ExecuteTime": {
     "end_time": "2025-01-19T17:26:12.572318Z",
     "start_time": "2025-01-19T17:26:07.561341Z"
    }
   },
   "cell_type": "code",
   "source": [
    "t5_model_trained = T5MT(model_name=\"./models/trained-t5-en-es\", cache_dir=\"./models/trained-t5-en-es\")\n",
    "\n",
    "texts = [\"On the table, there were a good number of topics\", \"manners maketh the man\"]\n",
    "translated_text = t5_model_trained.translate_batch(texts)\n",
    "print(\">T5 refined: \", translated_text)"
   ],
   "id": "5e1c6e733cba35ad",
   "outputs": [
    {
     "name": "stdout",
     "output_type": "stream",
     "text": [
      ">T5 refined:  ['El de la. El El. El El. El. El El. El del del del del del del del del del del del del del del del del del del del del del del del del del la que el que el que el que el que el que el que el que el que el que el que el que el que el que el que el que el que el que el que el que el que el que el que el que el que el que el que el que el que el que el que el que el que el que el que el que el que el que el que el que el que el que el que el que el que el que el que el que el que el que el que el que el que el que el que el que el que el que el que el que el que el que el que el que el que el que el que el que el que el que el que el que el que el', 'El de la. El El El El El. El. El. El. El. El El El de la que el que el que el que el que el que el que el que el que se ha ha ha ha ha ha ha que el que el que el que el que el que el que el que el que el que el que el que el que el que el que el que el que el que el que el que el que el que el que el que el que el que el que el que el que el que el que el que el que el que el que el que el que el que el que el que el que el que el que la que el que el que el que el que el que el que el que el que el que el que el que el que el que la que el que el que el que el que el que el que el que el que el que el que el que el']\n"
     ]
    }
   ],
   "execution_count": 21
  },
  {
   "metadata": {},
   "cell_type": "markdown",
   "source": "### Evaluando todos los modelos",
   "id": "1c953f8fc50cdd09"
  },
  {
   "metadata": {
    "ExecuteTime": {
     "end_time": "2025-01-19T17:30:35.380634Z",
     "start_time": "2025-01-19T17:26:19.862621Z"
    }
   },
   "cell_type": "code",
   "source": [
    "import matplotlib.pyplot as plt\n",
    "\n",
    "t5_trained_results = t5_model_trained.translate_batch(inputs)\n",
    "marianmt_trained_results = marian_model_trained.translate_batch(inputs)\n",
    "\n",
    "bleu_metric = evaluate.load(\"bleu\")\n",
    "meteor_metric = evaluate.load(\"meteor\")\n",
    "rouge_metric = evaluate.load(\"rouge\")\n",
    "\n",
    "bleu_t5_trained = bleu_metric.compute(predictions=t5_trained_results, references=expected_results)\n",
    "meteor_t5_trained = meteor_metric.compute(predictions=t5_trained_results, references=expected_results)\n",
    "rouge_t5_trained = rouge_metric.compute(predictions=t5_trained_results, references=expected_results)\n",
    "\n",
    "bleu_marian_trained = bleu_metric.compute(predictions=marianmt_trained_results, references=expected_results)\n",
    "meteor_marian_trained = meteor_metric.compute(predictions=marianmt_trained_results, references=expected_results)\n",
    "rouge_marian_trained = rouge_metric.compute(predictions=marianmt_trained_results, references=expected_results)\n",
    "\n",
    "# Sustituye estos valores por los resultados reales\n",
    "scores_t5 = {\n",
    "    \"BLEU\": bleu_t5['bleu'],\n",
    "    \"METEOR\": meteor_t5[\"meteor\"],\n",
    "    \"ROUGE-1\": rouge_t5[\"rouge1\"],\n",
    "    \"ROUGE-2\": rouge_t5[\"rouge2\"],\n",
    "    \"ROUGE-L\": rouge_t5[\"rougeL\"]\n",
    "}\n",
    "\n",
    "scores_marian = {\n",
    "    \"BLEU\": bleu_marian[\"bleu\"],\n",
    "    \"METEOR\": meteor_marian[\"meteor\"],\n",
    "    \"ROUGE-1\": rouge_marian[\"rouge1\"],\n",
    "    \"ROUGE-2\": rouge_marian[\"rouge2\"],\n",
    "    \"ROUGE-L\": rouge_marian[\"rougeL\"],\n",
    "}\n",
    "\n",
    "scores_t5_refined = {\n",
    "    \"BLEU\": bleu_t5_refined['bleu'],\n",
    "    \"METEOR\": meteor_t5_refined[\"meteor\"],\n",
    "    \"ROUGE-1\": rouge_t5_refined[\"rouge1\"],\n",
    "    \"ROUGE-2\": rouge_t5_refined[\"rouge2\"],\n",
    "    \"ROUGE-L\": rouge_t5_refined[\"rougeL\"]\n",
    "}\n",
    "\n",
    "\n",
    "scores_marian_refined = {\n",
    "    \"BLEU\": bleu_marian_refined[\"bleu\"],\n",
    "    \"METEOR\": meteor_marian_refined[\"meteor\"],\n",
    "    \"ROUGE-1\": rouge_marian_refined[\"rouge1\"],\n",
    "    \"ROUGE-2\": rouge_marian_refined[\"rouge2\"],\n",
    "    \"ROUGE-L\": rouge_marian_refined[\"rougeL\"],\n",
    "}\n",
    "\n",
    "scores_t5_trained = {\n",
    "    \"BLEU\": bleu_t5_trained['bleu'],\n",
    "    \"METEOR\": meteor_t5_trained[\"meteor\"],\n",
    "    \"ROUGE-1\": rouge_t5_trained[\"rouge1\"],\n",
    "    \"ROUGE-2\": rouge_t5_trained[\"rouge2\"],\n",
    "    \"ROUGE-L\": rouge_t5_trained[\"rougeL\"]\n",
    "}\n",
    "\n",
    "\n",
    "scores_marian_trained = {\n",
    "    \"BLEU\": bleu_marian_trained[\"bleu\"],\n",
    "    \"METEOR\": meteor_marian_trained[\"meteor\"],\n",
    "    \"ROUGE-1\": rouge_marian_trained[\"rouge1\"],\n",
    "    \"ROUGE-2\": rouge_marian_trained[\"rouge2\"],\n",
    "    \"ROUGE-L\": rouge_marian_trained[\"rougeL\"],\n",
    "}\n",
    "\n",
    "\n",
    "# Crear gráfico\n",
    "labels = list(scores_t5.keys())\n",
    "t5_values = list(scores_t5.values())\n",
    "marian_values = list(scores_marian.values())\n",
    "t5_values_refined = list(scores_t5_refined.values())\n",
    "marian_values_refined = list(scores_marian_refined.values())\n",
    "t5_values_trained = list(scores_t5_trained.values())\n",
    "marian_values_trained= list(scores_marian_trained.values())\n",
    "\n",
    "x = range(len(labels))\n",
    "bar_width = 0.15  # Ajustar el ancho de las barras\n",
    "\n",
    "# Crear gráfico\n",
    "plt.figure(figsize=(12, 6))\n",
    "\n",
    "plt.bar([i - 2 * bar_width for i in x], t5_values, width=bar_width, label=\"T5\")\n",
    "plt.bar([i - bar_width for i in x], marian_values, width=bar_width, label=\"MarianMT\")\n",
    "plt.bar(x, t5_values_refined, width=bar_width, label=\"T5Refined\")\n",
    "plt.bar([i + bar_width for i in x], marian_values_refined, width=bar_width, label=\"MarianMTRefined\")\n",
    "plt.bar([i + 2 * bar_width for i in x], t5_values_trained, width=bar_width, label=\"T5Trained\")\n",
    "plt.bar([i + 3 * bar_width for i in x], marian_values_trained, width=bar_width, label=\"MarianMTTrained\")\n",
    "\n",
    "# Configurar etiquetas y leyenda\n",
    "plt.xticks(x, labels)\n",
    "plt.xlabel(\"Métricas\")\n",
    "plt.ylabel(\"Puntaje\")\n",
    "plt.title(\"Comparación de Métricas entre T5 y MarianMT (pretrained vs refined vs trained)\")\n",
    "plt.legend()\n",
    "plt.tight_layout()\n",
    "\n",
    "plt.show()"
   ],
   "id": "fb2253e20fd92d44",
   "outputs": [
    {
     "name": "stderr",
     "output_type": "stream",
     "text": [
      "[nltk_data] Downloading package wordnet to\n",
      "[nltk_data]     /Users/andreacimmino/nltk_data...\n",
      "[nltk_data]   Package wordnet is already up-to-date!\n",
      "[nltk_data] Downloading package punkt_tab to\n",
      "[nltk_data]     /Users/andreacimmino/nltk_data...\n",
      "[nltk_data]   Package punkt_tab is already up-to-date!\n",
      "[nltk_data] Downloading package omw-1.4 to\n",
      "[nltk_data]     /Users/andreacimmino/nltk_data...\n",
      "[nltk_data]   Package omw-1.4 is already up-to-date!\n"
     ]
    },
    {
     "data": {
      "text/plain": [
       "<Figure size 1200x600 with 1 Axes>"
      ],
      "image/png": "[encoded data removed]"
     },
     "metadata": {},
     "output_type": "display_data"
    }
   ],
   "execution_count": 22
  },
  {
   "metadata": {},
   "cell_type": "markdown",
   "source": [
    "#### Tarea MB9\n",
    "Comentar los resultados obtenidos, ¿Por qué los modelos entrenados no tienen un buen *performance*? ¿Puede un modelo mal entrenado obtener resultados evaluables?"
   ],
   "id": "56ef7f7b4c3b0cca"
  }
 ],
 "metadata": {
  "kernelspec": {
   "display_name": "Python 3",
   "language": "python",
   "name": "python3"
  },
  "language_info": {
   "codemirror_mode": {
    "name": "ipython",
    "version": 2
   },
   "file_extension": ".py",
   "mimetype": "text/x-python",
   "name": "python",
   "nbconvert_exporter": "python",
   "pygments_lexer": "ipython2",
   "version": "2.7.6"
  }
 },
 "nbformat": 4,
 "nbformat_minor": 5
}
